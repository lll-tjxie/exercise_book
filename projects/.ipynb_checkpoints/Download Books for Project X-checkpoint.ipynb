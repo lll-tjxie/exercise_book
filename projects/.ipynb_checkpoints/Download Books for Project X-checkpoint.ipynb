{
 "cells": [
  {
   "cell_type": "code",
   "execution_count": 2,
   "metadata": {
    "collapsed": true
   },
   "outputs": [],
   "source": [
    "import requests"
   ]
  },
  {
   "cell_type": "code",
   "execution_count": 5,
   "metadata": {
    "collapsed": false
   },
   "outputs": [
    {
     "name": "stdout",
     "output_type": "stream",
     "text": [
      "Failed for  1679\n"
     ]
    }
   ],
   "source": [
    "base_url = 'http://www.gutenberg.org/cache/epub/'\n",
    "for book_id in range(1679,1680):\n",
    "    url = base_url  + str(book_id) + '/' + 'pg' + str(book_id) + '.txt'\n",
    "    r = requests.get(url)\n",
    "    if r.status_code == requests.codes.ok:\n",
    "        with open('pg' + str(book_id) + '.txt', 'w') as f:\n",
    "                f.write(r.text)\n",
    "                print \"Done\"\n",
    "    else:\n",
    "        print 'Failed for ', book_id"
   ]
  },
  {
   "cell_type": "code",
   "execution_count": null,
   "metadata": {
    "collapsed": true
   },
   "outputs": [],
   "source": []
  }
 ],
 "metadata": {
  "kernelspec": {
   "display_name": "Python 2",
   "language": "python",
   "name": "python2"
  },
  "language_info": {
   "codemirror_mode": {
    "name": "ipython",
    "version": 2
   },
   "file_extension": ".py",
   "mimetype": "text/x-python",
   "name": "python",
   "nbconvert_exporter": "python",
   "pygments_lexer": "ipython2",
   "version": "2.7.12"
  }
 },
 "nbformat": 4,
 "nbformat_minor": 0
}
