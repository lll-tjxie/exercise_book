{
 "cells": [
  {
   "cell_type": "code",
   "execution_count": 1,
   "metadata": {
    "collapsed": false,
    "scrolled": true
   },
   "outputs": [],
   "source": [
    "% matplotlib inline\n",
    "import datetime\n",
    "import numpy as np\n",
    "import pandas as pd"
   ]
  },
  {
   "cell_type": "code",
   "execution_count": 2,
   "metadata": {
    "collapsed": false
   },
   "outputs": [
    {
     "data": {
      "text/html": [
       "<div>\n",
       "<table border=\"1\" class=\"dataframe\">\n",
       "  <thead>\n",
       "    <tr style=\"text-align: right;\">\n",
       "      <th></th>\n",
       "      <th>Date</th>\n",
       "      <th>Store Number</th>\n",
       "      <th>City</th>\n",
       "      <th>Zip Code</th>\n",
       "      <th>County Number</th>\n",
       "      <th>County</th>\n",
       "      <th>Category</th>\n",
       "      <th>Category Name</th>\n",
       "      <th>Vendor Number</th>\n",
       "      <th>Item Number</th>\n",
       "      <th>Item Description</th>\n",
       "      <th>Bottle Volume (ml)</th>\n",
       "      <th>State Bottle Cost</th>\n",
       "      <th>State Bottle Retail</th>\n",
       "      <th>Bottles Sold</th>\n",
       "      <th>Sale (Dollars)</th>\n",
       "      <th>Volume Sold (Liters)</th>\n",
       "      <th>Volume Sold (Gallons)</th>\n",
       "    </tr>\n",
       "  </thead>\n",
       "  <tbody>\n",
       "    <tr>\n",
       "      <th>0</th>\n",
       "      <td>11/04/2015</td>\n",
       "      <td>3717</td>\n",
       "      <td>SUMNER</td>\n",
       "      <td>50674</td>\n",
       "      <td>9.0</td>\n",
       "      <td>Bremer</td>\n",
       "      <td>1051100.0</td>\n",
       "      <td>APRICOT BRANDIES</td>\n",
       "      <td>55</td>\n",
       "      <td>54436</td>\n",
       "      <td>Mr. Boston Apricot Brandy</td>\n",
       "      <td>750</td>\n",
       "      <td>$4.50</td>\n",
       "      <td>$6.75</td>\n",
       "      <td>12</td>\n",
       "      <td>$81.00</td>\n",
       "      <td>9.0</td>\n",
       "      <td>2.38</td>\n",
       "    </tr>\n",
       "    <tr>\n",
       "      <th>1</th>\n",
       "      <td>03/02/2016</td>\n",
       "      <td>2614</td>\n",
       "      <td>DAVENPORT</td>\n",
       "      <td>52807</td>\n",
       "      <td>82.0</td>\n",
       "      <td>Scott</td>\n",
       "      <td>1011100.0</td>\n",
       "      <td>BLENDED WHISKIES</td>\n",
       "      <td>395</td>\n",
       "      <td>27605</td>\n",
       "      <td>Tin Cup</td>\n",
       "      <td>750</td>\n",
       "      <td>$13.75</td>\n",
       "      <td>$20.63</td>\n",
       "      <td>2</td>\n",
       "      <td>$41.26</td>\n",
       "      <td>1.5</td>\n",
       "      <td>0.40</td>\n",
       "    </tr>\n",
       "    <tr>\n",
       "      <th>2</th>\n",
       "      <td>02/11/2016</td>\n",
       "      <td>2106</td>\n",
       "      <td>CEDAR FALLS</td>\n",
       "      <td>50613</td>\n",
       "      <td>7.0</td>\n",
       "      <td>Black Hawk</td>\n",
       "      <td>1011200.0</td>\n",
       "      <td>STRAIGHT BOURBON WHISKIES</td>\n",
       "      <td>65</td>\n",
       "      <td>19067</td>\n",
       "      <td>Jim Beam</td>\n",
       "      <td>1000</td>\n",
       "      <td>$12.59</td>\n",
       "      <td>$18.89</td>\n",
       "      <td>24</td>\n",
       "      <td>$453.36</td>\n",
       "      <td>24.0</td>\n",
       "      <td>6.34</td>\n",
       "    </tr>\n",
       "    <tr>\n",
       "      <th>3</th>\n",
       "      <td>02/03/2016</td>\n",
       "      <td>2501</td>\n",
       "      <td>AMES</td>\n",
       "      <td>50010</td>\n",
       "      <td>85.0</td>\n",
       "      <td>Story</td>\n",
       "      <td>1071100.0</td>\n",
       "      <td>AMERICAN COCKTAILS</td>\n",
       "      <td>395</td>\n",
       "      <td>59154</td>\n",
       "      <td>1800 Ultimate Margarita</td>\n",
       "      <td>1750</td>\n",
       "      <td>$9.50</td>\n",
       "      <td>$14.25</td>\n",
       "      <td>6</td>\n",
       "      <td>$85.50</td>\n",
       "      <td>10.5</td>\n",
       "      <td>2.77</td>\n",
       "    </tr>\n",
       "    <tr>\n",
       "      <th>4</th>\n",
       "      <td>08/18/2015</td>\n",
       "      <td>3654</td>\n",
       "      <td>BELMOND</td>\n",
       "      <td>50421</td>\n",
       "      <td>99.0</td>\n",
       "      <td>Wright</td>\n",
       "      <td>1031080.0</td>\n",
       "      <td>VODKA 80 PROOF</td>\n",
       "      <td>297</td>\n",
       "      <td>35918</td>\n",
       "      <td>Five O'clock Vodka</td>\n",
       "      <td>1750</td>\n",
       "      <td>$7.20</td>\n",
       "      <td>$10.80</td>\n",
       "      <td>12</td>\n",
       "      <td>$129.60</td>\n",
       "      <td>21.0</td>\n",
       "      <td>5.55</td>\n",
       "    </tr>\n",
       "  </tbody>\n",
       "</table>\n",
       "</div>"
      ],
      "text/plain": [
       "         Date  Store Number         City Zip Code  County Number      County  \\\n",
       "0  11/04/2015          3717       SUMNER    50674            9.0      Bremer   \n",
       "1  03/02/2016          2614    DAVENPORT    52807           82.0       Scott   \n",
       "2  02/11/2016          2106  CEDAR FALLS    50613            7.0  Black Hawk   \n",
       "3  02/03/2016          2501         AMES    50010           85.0       Story   \n",
       "4  08/18/2015          3654      BELMOND    50421           99.0      Wright   \n",
       "\n",
       "    Category              Category Name  Vendor Number  Item Number  \\\n",
       "0  1051100.0           APRICOT BRANDIES             55        54436   \n",
       "1  1011100.0           BLENDED WHISKIES            395        27605   \n",
       "2  1011200.0  STRAIGHT BOURBON WHISKIES             65        19067   \n",
       "3  1071100.0         AMERICAN COCKTAILS            395        59154   \n",
       "4  1031080.0             VODKA 80 PROOF            297        35918   \n",
       "\n",
       "            Item Description  Bottle Volume (ml) State Bottle Cost  \\\n",
       "0  Mr. Boston Apricot Brandy                 750             $4.50   \n",
       "1                    Tin Cup                 750            $13.75   \n",
       "2                   Jim Beam                1000            $12.59   \n",
       "3    1800 Ultimate Margarita                1750             $9.50   \n",
       "4         Five O'clock Vodka                1750             $7.20   \n",
       "\n",
       "  State Bottle Retail  Bottles Sold Sale (Dollars)  Volume Sold (Liters)  \\\n",
       "0               $6.75            12         $81.00                   9.0   \n",
       "1              $20.63             2         $41.26                   1.5   \n",
       "2              $18.89            24        $453.36                  24.0   \n",
       "3              $14.25             6         $85.50                  10.5   \n",
       "4              $10.80            12        $129.60                  21.0   \n",
       "\n",
       "   Volume Sold (Gallons)  \n",
       "0                   2.38  \n",
       "1                   0.40  \n",
       "2                   6.34  \n",
       "3                   2.77  \n",
       "4                   5.55  "
      ]
     },
     "execution_count": 2,
     "metadata": {},
     "output_type": "execute_result"
    }
   ],
   "source": [
    "df = pd.read_csv(\"Iowa_Liquor_sales_sample_10pct.csv\")\n",
    "df.head()"
   ]
  },
  {
   "cell_type": "code",
   "execution_count": 3,
   "metadata": {
    "collapsed": false
   },
   "outputs": [
    {
     "data": {
      "text/plain": [
       "71"
      ]
     },
     "execution_count": 3,
     "metadata": {},
     "output_type": "execute_result"
    }
   ],
   "source": [
    "df['Category Name'].nunique()"
   ]
  },
  {
   "cell_type": "markdown",
   "metadata": {},
   "source": [
    "# Clean Data"
   ]
  },
  {
   "cell_type": "code",
   "execution_count": 4,
   "metadata": {
    "collapsed": false,
    "scrolled": true
   },
   "outputs": [
    {
     "data": {
      "text/html": [
       "<div>\n",
       "<table border=\"1\" class=\"dataframe\">\n",
       "  <thead>\n",
       "    <tr style=\"text-align: right;\">\n",
       "      <th></th>\n",
       "      <th>Date</th>\n",
       "      <th>Store Number</th>\n",
       "      <th>City</th>\n",
       "      <th>Zip Code</th>\n",
       "      <th>County Number</th>\n",
       "      <th>County</th>\n",
       "      <th>Category</th>\n",
       "      <th>Vendor Number</th>\n",
       "      <th>Item Number</th>\n",
       "      <th>Bottle Volume (ml)</th>\n",
       "      <th>State Bottle Cost</th>\n",
       "      <th>State Bottle Retail</th>\n",
       "      <th>Bottles Sold</th>\n",
       "      <th>Sale (Dollars)</th>\n",
       "      <th>Volume Sold (Liters)</th>\n",
       "    </tr>\n",
       "  </thead>\n",
       "  <tbody>\n",
       "    <tr>\n",
       "      <th>0</th>\n",
       "      <td>11/04/2015</td>\n",
       "      <td>3717</td>\n",
       "      <td>SUMNER</td>\n",
       "      <td>50674</td>\n",
       "      <td>9.0</td>\n",
       "      <td>Bremer</td>\n",
       "      <td>1051100.0</td>\n",
       "      <td>55</td>\n",
       "      <td>54436</td>\n",
       "      <td>750</td>\n",
       "      <td>$4.50</td>\n",
       "      <td>$6.75</td>\n",
       "      <td>12</td>\n",
       "      <td>$81.00</td>\n",
       "      <td>9.0</td>\n",
       "    </tr>\n",
       "    <tr>\n",
       "      <th>1</th>\n",
       "      <td>03/02/2016</td>\n",
       "      <td>2614</td>\n",
       "      <td>DAVENPORT</td>\n",
       "      <td>52807</td>\n",
       "      <td>82.0</td>\n",
       "      <td>Scott</td>\n",
       "      <td>1011100.0</td>\n",
       "      <td>395</td>\n",
       "      <td>27605</td>\n",
       "      <td>750</td>\n",
       "      <td>$13.75</td>\n",
       "      <td>$20.63</td>\n",
       "      <td>2</td>\n",
       "      <td>$41.26</td>\n",
       "      <td>1.5</td>\n",
       "    </tr>\n",
       "    <tr>\n",
       "      <th>2</th>\n",
       "      <td>02/11/2016</td>\n",
       "      <td>2106</td>\n",
       "      <td>CEDAR FALLS</td>\n",
       "      <td>50613</td>\n",
       "      <td>7.0</td>\n",
       "      <td>Black Hawk</td>\n",
       "      <td>1011200.0</td>\n",
       "      <td>65</td>\n",
       "      <td>19067</td>\n",
       "      <td>1000</td>\n",
       "      <td>$12.59</td>\n",
       "      <td>$18.89</td>\n",
       "      <td>24</td>\n",
       "      <td>$453.36</td>\n",
       "      <td>24.0</td>\n",
       "    </tr>\n",
       "    <tr>\n",
       "      <th>3</th>\n",
       "      <td>02/03/2016</td>\n",
       "      <td>2501</td>\n",
       "      <td>AMES</td>\n",
       "      <td>50010</td>\n",
       "      <td>85.0</td>\n",
       "      <td>Story</td>\n",
       "      <td>1071100.0</td>\n",
       "      <td>395</td>\n",
       "      <td>59154</td>\n",
       "      <td>1750</td>\n",
       "      <td>$9.50</td>\n",
       "      <td>$14.25</td>\n",
       "      <td>6</td>\n",
       "      <td>$85.50</td>\n",
       "      <td>10.5</td>\n",
       "    </tr>\n",
       "    <tr>\n",
       "      <th>4</th>\n",
       "      <td>08/18/2015</td>\n",
       "      <td>3654</td>\n",
       "      <td>BELMOND</td>\n",
       "      <td>50421</td>\n",
       "      <td>99.0</td>\n",
       "      <td>Wright</td>\n",
       "      <td>1031080.0</td>\n",
       "      <td>297</td>\n",
       "      <td>35918</td>\n",
       "      <td>1750</td>\n",
       "      <td>$7.20</td>\n",
       "      <td>$10.80</td>\n",
       "      <td>12</td>\n",
       "      <td>$129.60</td>\n",
       "      <td>21.0</td>\n",
       "    </tr>\n",
       "  </tbody>\n",
       "</table>\n",
       "</div>"
      ],
      "text/plain": [
       "         Date  Store Number         City Zip Code  County Number      County  \\\n",
       "0  11/04/2015          3717       SUMNER    50674            9.0      Bremer   \n",
       "1  03/02/2016          2614    DAVENPORT    52807           82.0       Scott   \n",
       "2  02/11/2016          2106  CEDAR FALLS    50613            7.0  Black Hawk   \n",
       "3  02/03/2016          2501         AMES    50010           85.0       Story   \n",
       "4  08/18/2015          3654      BELMOND    50421           99.0      Wright   \n",
       "\n",
       "    Category  Vendor Number  Item Number  Bottle Volume (ml)  \\\n",
       "0  1051100.0             55        54436                 750   \n",
       "1  1011100.0            395        27605                 750   \n",
       "2  1011200.0             65        19067                1000   \n",
       "3  1071100.0            395        59154                1750   \n",
       "4  1031080.0            297        35918                1750   \n",
       "\n",
       "  State Bottle Cost State Bottle Retail  Bottles Sold Sale (Dollars)  \\\n",
       "0             $4.50               $6.75            12         $81.00   \n",
       "1            $13.75              $20.63             2         $41.26   \n",
       "2            $12.59              $18.89            24        $453.36   \n",
       "3             $9.50              $14.25             6         $85.50   \n",
       "4             $7.20              $10.80            12        $129.60   \n",
       "\n",
       "   Volume Sold (Liters)  \n",
       "0                   9.0  \n",
       "1                   1.5  \n",
       "2                  24.0  \n",
       "3                  10.5  \n",
       "4                  21.0  "
      ]
     },
     "execution_count": 4,
     "metadata": {},
     "output_type": "execute_result"
    }
   ],
   "source": [
    "del df['Item Description']\n",
    "del df['Category Name']\n",
    "del df['Volume Sold (Gallons)']\n",
    "\n",
    "df.head()\n",
    "\n",
    "\n",
    "#df.drop(axis=1, labels=['Item Description','Category Name','Item Description'])"
   ]
  },
  {
   "cell_type": "code",
   "execution_count": 5,
   "metadata": {
    "collapsed": false
   },
   "outputs": [
    {
     "data": {
      "text/plain": [
       "Date                     object\n",
       "Store Number              int64\n",
       "City                     object\n",
       "Zip Code                 object\n",
       "County Number           float64\n",
       "County                   object\n",
       "Category                float64\n",
       "Vendor Number             int64\n",
       "Item Number               int64\n",
       "Bottle Volume (ml)        int64\n",
       "State Bottle Cost        object\n",
       "State Bottle Retail      object\n",
       "Bottles Sold              int64\n",
       "Sale (Dollars)           object\n",
       "Volume Sold (Liters)    float64\n",
       "dtype: object"
      ]
     },
     "execution_count": 5,
     "metadata": {},
     "output_type": "execute_result"
    }
   ],
   "source": [
    "df.dtypes"
   ]
  },
  {
   "cell_type": "code",
   "execution_count": 6,
   "metadata": {
    "collapsed": false
   },
   "outputs": [
    {
     "data": {
      "text/plain": [
       "Date                     object\n",
       "Store Number              int64\n",
       "City                     object\n",
       "Zip Code                 object\n",
       "County Number           float64\n",
       "County                   object\n",
       "Category                float64\n",
       "Vendor Number             int64\n",
       "Item Number               int64\n",
       "Bottle Volume (ml)        int64\n",
       "State Bottle Cost       float64\n",
       "State Bottle Retail     float64\n",
       "Bottles Sold              int64\n",
       "Sale (Dollars)          float64\n",
       "Volume Sold (Liters)    float64\n",
       "dtype: object"
      ]
     },
     "execution_count": 6,
     "metadata": {},
     "output_type": "execute_result"
    }
   ],
   "source": [
    "\"\"\"\n",
    "def dollars_to_float(x):\n",
    "    if type(x) != type(''):\n",
    "        return x\n",
    "    if x[0] == '$':\n",
    "        x = x[1:]\n",
    "    return float(x)\n",
    "\n",
    "df['State_Bottle_Cost'] = df['State Bottle Cost'].map(dollar_to_float)\n",
    "......\n",
    "\"\"\"\n",
    "cols = [\"State Bottle Cost\", \"State Bottle Retail\", \"Sale (Dollars)\"]\n",
    "for col in cols:\n",
    "    df[col] = df[col].apply(lambda x: float(x[1:]))\n",
    "df.dtypes"
   ]
  },
  {
   "cell_type": "code",
   "execution_count": 7,
   "metadata": {
    "collapsed": false
   },
   "outputs": [
    {
     "data": {
      "text/html": [
       "<div>\n",
       "<table border=\"1\" class=\"dataframe\">\n",
       "  <thead>\n",
       "    <tr style=\"text-align: right;\">\n",
       "      <th></th>\n",
       "      <th>Date</th>\n",
       "      <th>Store Number</th>\n",
       "      <th>City</th>\n",
       "      <th>Zip Code</th>\n",
       "      <th>County Number</th>\n",
       "      <th>County</th>\n",
       "      <th>Category</th>\n",
       "      <th>Vendor Number</th>\n",
       "      <th>Item Number</th>\n",
       "      <th>Bottle Volume (ml)</th>\n",
       "      <th>State Bottle Cost</th>\n",
       "      <th>State Bottle Retail</th>\n",
       "      <th>Bottles Sold</th>\n",
       "      <th>Sale (Dollars)</th>\n",
       "      <th>Volume Sold (Liters)</th>\n",
       "    </tr>\n",
       "  </thead>\n",
       "  <tbody>\n",
       "    <tr>\n",
       "      <th>0</th>\n",
       "      <td>2015-11-04</td>\n",
       "      <td>3717</td>\n",
       "      <td>SUMNER</td>\n",
       "      <td>50674</td>\n",
       "      <td>9.0</td>\n",
       "      <td>Bremer</td>\n",
       "      <td>1051100.0</td>\n",
       "      <td>55</td>\n",
       "      <td>54436</td>\n",
       "      <td>750</td>\n",
       "      <td>4.50</td>\n",
       "      <td>6.75</td>\n",
       "      <td>12</td>\n",
       "      <td>81.00</td>\n",
       "      <td>9.0</td>\n",
       "    </tr>\n",
       "    <tr>\n",
       "      <th>1</th>\n",
       "      <td>2016-03-02</td>\n",
       "      <td>2614</td>\n",
       "      <td>DAVENPORT</td>\n",
       "      <td>52807</td>\n",
       "      <td>82.0</td>\n",
       "      <td>Scott</td>\n",
       "      <td>1011100.0</td>\n",
       "      <td>395</td>\n",
       "      <td>27605</td>\n",
       "      <td>750</td>\n",
       "      <td>13.75</td>\n",
       "      <td>20.63</td>\n",
       "      <td>2</td>\n",
       "      <td>41.26</td>\n",
       "      <td>1.5</td>\n",
       "    </tr>\n",
       "    <tr>\n",
       "      <th>2</th>\n",
       "      <td>2016-02-11</td>\n",
       "      <td>2106</td>\n",
       "      <td>CEDAR FALLS</td>\n",
       "      <td>50613</td>\n",
       "      <td>7.0</td>\n",
       "      <td>Black Hawk</td>\n",
       "      <td>1011200.0</td>\n",
       "      <td>65</td>\n",
       "      <td>19067</td>\n",
       "      <td>1000</td>\n",
       "      <td>12.59</td>\n",
       "      <td>18.89</td>\n",
       "      <td>24</td>\n",
       "      <td>453.36</td>\n",
       "      <td>24.0</td>\n",
       "    </tr>\n",
       "    <tr>\n",
       "      <th>3</th>\n",
       "      <td>2016-02-03</td>\n",
       "      <td>2501</td>\n",
       "      <td>AMES</td>\n",
       "      <td>50010</td>\n",
       "      <td>85.0</td>\n",
       "      <td>Story</td>\n",
       "      <td>1071100.0</td>\n",
       "      <td>395</td>\n",
       "      <td>59154</td>\n",
       "      <td>1750</td>\n",
       "      <td>9.50</td>\n",
       "      <td>14.25</td>\n",
       "      <td>6</td>\n",
       "      <td>85.50</td>\n",
       "      <td>10.5</td>\n",
       "    </tr>\n",
       "    <tr>\n",
       "      <th>4</th>\n",
       "      <td>2015-08-18</td>\n",
       "      <td>3654</td>\n",
       "      <td>BELMOND</td>\n",
       "      <td>50421</td>\n",
       "      <td>99.0</td>\n",
       "      <td>Wright</td>\n",
       "      <td>1031080.0</td>\n",
       "      <td>297</td>\n",
       "      <td>35918</td>\n",
       "      <td>1750</td>\n",
       "      <td>7.20</td>\n",
       "      <td>10.80</td>\n",
       "      <td>12</td>\n",
       "      <td>129.60</td>\n",
       "      <td>21.0</td>\n",
       "    </tr>\n",
       "  </tbody>\n",
       "</table>\n",
       "</div>"
      ],
      "text/plain": [
       "        Date  Store Number         City Zip Code  County Number      County  \\\n",
       "0 2015-11-04          3717       SUMNER    50674            9.0      Bremer   \n",
       "1 2016-03-02          2614    DAVENPORT    52807           82.0       Scott   \n",
       "2 2016-02-11          2106  CEDAR FALLS    50613            7.0  Black Hawk   \n",
       "3 2016-02-03          2501         AMES    50010           85.0       Story   \n",
       "4 2015-08-18          3654      BELMOND    50421           99.0      Wright   \n",
       "\n",
       "    Category  Vendor Number  Item Number  Bottle Volume (ml)  \\\n",
       "0  1051100.0             55        54436                 750   \n",
       "1  1011100.0            395        27605                 750   \n",
       "2  1011200.0             65        19067                1000   \n",
       "3  1071100.0            395        59154                1750   \n",
       "4  1031080.0            297        35918                1750   \n",
       "\n",
       "   State Bottle Cost  State Bottle Retail  Bottles Sold  Sale (Dollars)  \\\n",
       "0               4.50                 6.75            12           81.00   \n",
       "1              13.75                20.63             2           41.26   \n",
       "2              12.59                18.89            24          453.36   \n",
       "3               9.50                14.25             6           85.50   \n",
       "4               7.20                10.80            12          129.60   \n",
       "\n",
       "   Volume Sold (Liters)  \n",
       "0                   9.0  \n",
       "1                   1.5  \n",
       "2                  24.0  \n",
       "3                  10.5  \n",
       "4                  21.0  "
      ]
     },
     "execution_count": 7,
     "metadata": {},
     "output_type": "execute_result"
    }
   ],
   "source": [
    "df[\"Date\"] = pd.to_datetime(df[\"Date\"], format=\"%m/%d/%Y\")\n",
    "df.head()"
   ]
  },
  {
   "cell_type": "code",
   "execution_count": 8,
   "metadata": {
    "collapsed": false
   },
   "outputs": [
    {
     "data": {
      "text/plain": [
       "Date                    False\n",
       "Store Number            False\n",
       "City                    False\n",
       "Zip Code                False\n",
       "County Number            True\n",
       "County                   True\n",
       "Category                 True\n",
       "Vendor Number           False\n",
       "Item Number             False\n",
       "Bottle Volume (ml)      False\n",
       "State Bottle Cost       False\n",
       "State Bottle Retail     False\n",
       "Bottles Sold            False\n",
       "Sale (Dollars)          False\n",
       "Volume Sold (Liters)    False\n",
       "dtype: bool"
      ]
     },
     "execution_count": 8,
     "metadata": {},
     "output_type": "execute_result"
    }
   ],
   "source": [
    "df.isnull().any()"
   ]
  },
  {
   "cell_type": "code",
   "execution_count": 9,
   "metadata": {
    "collapsed": false,
    "scrolled": true
   },
   "outputs": [
    {
     "data": {
      "text/plain": [
       "False    270887\n",
       "True         68\n",
       "Name: Category, dtype: int64"
      ]
     },
     "execution_count": 9,
     "metadata": {},
     "output_type": "execute_result"
    }
   ],
   "source": [
    "df.Category.isnull().value_counts()"
   ]
  },
  {
   "cell_type": "code",
   "execution_count": 10,
   "metadata": {
    "collapsed": false
   },
   "outputs": [
    {
     "data": {
      "text/plain": [
       "Date                    False\n",
       "Store Number            False\n",
       "City                    False\n",
       "Zip Code                False\n",
       "County Number           False\n",
       "County                  False\n",
       "Category                False\n",
       "Vendor Number           False\n",
       "Item Number             False\n",
       "Bottle Volume (ml)      False\n",
       "State Bottle Cost       False\n",
       "State Bottle Retail     False\n",
       "Bottles Sold            False\n",
       "Sale (Dollars)          False\n",
       "Volume Sold (Liters)    False\n",
       "dtype: bool"
      ]
     },
     "execution_count": 10,
     "metadata": {},
     "output_type": "execute_result"
    }
   ],
   "source": [
    "df.dropna(inplace=True)\n",
    "df.isnull().any()"
   ]
  },
  {
   "cell_type": "code",
   "execution_count": 11,
   "metadata": {
    "collapsed": false
   },
   "outputs": [
    {
     "data": {
      "text/html": [
       "<div>\n",
       "<table border=\"1\" class=\"dataframe\">\n",
       "  <thead>\n",
       "    <tr style=\"text-align: right;\">\n",
       "      <th></th>\n",
       "      <th>Date</th>\n",
       "      <th>Store Number</th>\n",
       "      <th>City</th>\n",
       "      <th>Zip Code</th>\n",
       "      <th>County Number</th>\n",
       "      <th>County</th>\n",
       "      <th>Category</th>\n",
       "      <th>Vendor Number</th>\n",
       "      <th>Item Number</th>\n",
       "      <th>Bottle Volume (ml)</th>\n",
       "      <th>State Bottle Cost</th>\n",
       "      <th>State Bottle Retail</th>\n",
       "      <th>Bottles Sold</th>\n",
       "      <th>Sale (Dollars)</th>\n",
       "      <th>Volume Sold (Liters)</th>\n",
       "    </tr>\n",
       "  </thead>\n",
       "  <tbody>\n",
       "    <tr>\n",
       "      <th>0</th>\n",
       "      <td>2015-11-04</td>\n",
       "      <td>3717</td>\n",
       "      <td>SUMNER</td>\n",
       "      <td>50674</td>\n",
       "      <td>9</td>\n",
       "      <td>Bremer</td>\n",
       "      <td>1051100</td>\n",
       "      <td>55</td>\n",
       "      <td>54436</td>\n",
       "      <td>750</td>\n",
       "      <td>4.50</td>\n",
       "      <td>6.75</td>\n",
       "      <td>12</td>\n",
       "      <td>81.00</td>\n",
       "      <td>9.0</td>\n",
       "    </tr>\n",
       "    <tr>\n",
       "      <th>1</th>\n",
       "      <td>2016-03-02</td>\n",
       "      <td>2614</td>\n",
       "      <td>DAVENPORT</td>\n",
       "      <td>52807</td>\n",
       "      <td>82</td>\n",
       "      <td>Scott</td>\n",
       "      <td>1011100</td>\n",
       "      <td>395</td>\n",
       "      <td>27605</td>\n",
       "      <td>750</td>\n",
       "      <td>13.75</td>\n",
       "      <td>20.63</td>\n",
       "      <td>2</td>\n",
       "      <td>41.26</td>\n",
       "      <td>1.5</td>\n",
       "    </tr>\n",
       "    <tr>\n",
       "      <th>2</th>\n",
       "      <td>2016-02-11</td>\n",
       "      <td>2106</td>\n",
       "      <td>CEDAR FALLS</td>\n",
       "      <td>50613</td>\n",
       "      <td>7</td>\n",
       "      <td>Black Hawk</td>\n",
       "      <td>1011200</td>\n",
       "      <td>65</td>\n",
       "      <td>19067</td>\n",
       "      <td>1000</td>\n",
       "      <td>12.59</td>\n",
       "      <td>18.89</td>\n",
       "      <td>24</td>\n",
       "      <td>453.36</td>\n",
       "      <td>24.0</td>\n",
       "    </tr>\n",
       "    <tr>\n",
       "      <th>3</th>\n",
       "      <td>2016-02-03</td>\n",
       "      <td>2501</td>\n",
       "      <td>AMES</td>\n",
       "      <td>50010</td>\n",
       "      <td>85</td>\n",
       "      <td>Story</td>\n",
       "      <td>1071100</td>\n",
       "      <td>395</td>\n",
       "      <td>59154</td>\n",
       "      <td>1750</td>\n",
       "      <td>9.50</td>\n",
       "      <td>14.25</td>\n",
       "      <td>6</td>\n",
       "      <td>85.50</td>\n",
       "      <td>10.5</td>\n",
       "    </tr>\n",
       "    <tr>\n",
       "      <th>4</th>\n",
       "      <td>2015-08-18</td>\n",
       "      <td>3654</td>\n",
       "      <td>BELMOND</td>\n",
       "      <td>50421</td>\n",
       "      <td>99</td>\n",
       "      <td>Wright</td>\n",
       "      <td>1031080</td>\n",
       "      <td>297</td>\n",
       "      <td>35918</td>\n",
       "      <td>1750</td>\n",
       "      <td>7.20</td>\n",
       "      <td>10.80</td>\n",
       "      <td>12</td>\n",
       "      <td>129.60</td>\n",
       "      <td>21.0</td>\n",
       "    </tr>\n",
       "  </tbody>\n",
       "</table>\n",
       "</div>"
      ],
      "text/plain": [
       "        Date  Store Number         City Zip Code  County Number      County  \\\n",
       "0 2015-11-04          3717       SUMNER    50674              9      Bremer   \n",
       "1 2016-03-02          2614    DAVENPORT    52807             82       Scott   \n",
       "2 2016-02-11          2106  CEDAR FALLS    50613              7  Black Hawk   \n",
       "3 2016-02-03          2501         AMES    50010             85       Story   \n",
       "4 2015-08-18          3654      BELMOND    50421             99      Wright   \n",
       "\n",
       "   Category  Vendor Number  Item Number  Bottle Volume (ml)  \\\n",
       "0   1051100             55        54436                 750   \n",
       "1   1011100            395        27605                 750   \n",
       "2   1011200             65        19067                1000   \n",
       "3   1071100            395        59154                1750   \n",
       "4   1031080            297        35918                1750   \n",
       "\n",
       "   State Bottle Cost  State Bottle Retail  Bottles Sold  Sale (Dollars)  \\\n",
       "0               4.50                 6.75            12           81.00   \n",
       "1              13.75                20.63             2           41.26   \n",
       "2              12.59                18.89            24          453.36   \n",
       "3               9.50                14.25             6           85.50   \n",
       "4               7.20                10.80            12          129.60   \n",
       "\n",
       "   Volume Sold (Liters)  \n",
       "0                   9.0  \n",
       "1                   1.5  \n",
       "2                  24.0  \n",
       "3                  10.5  \n",
       "4                  21.0  "
      ]
     },
     "execution_count": 11,
     "metadata": {},
     "output_type": "execute_result"
    }
   ],
   "source": [
    "df[\"County Number\"] = df[\"County Number\"].apply(lambda x: int(x))\n",
    "df[\"Category\"] = df[\"Category\"].apply(lambda x: int(x))\n",
    "df.head()"
   ]
  },
  {
   "cell_type": "markdown",
   "metadata": {},
   "source": [
    "# Filter the Data"
   ]
  },
  {
   "cell_type": "code",
   "execution_count": 12,
   "metadata": {
    "collapsed": false,
    "scrolled": true
   },
   "outputs": [
    {
     "data": {
      "text/html": [
       "<div>\n",
       "<table border=\"1\" class=\"dataframe\">\n",
       "  <thead>\n",
       "    <tr>\n",
       "      <th></th>\n",
       "      <th>Store Number</th>\n",
       "      <th colspan=\"2\" halign=\"left\">Date</th>\n",
       "    </tr>\n",
       "    <tr>\n",
       "      <th></th>\n",
       "      <th></th>\n",
       "      <th>amin</th>\n",
       "      <th>amax</th>\n",
       "    </tr>\n",
       "  </thead>\n",
       "  <tbody>\n",
       "    <tr>\n",
       "      <th>0</th>\n",
       "      <td>2106</td>\n",
       "      <td>2015-01-08</td>\n",
       "      <td>2016-03-31</td>\n",
       "    </tr>\n",
       "    <tr>\n",
       "      <th>1</th>\n",
       "      <td>2113</td>\n",
       "      <td>2015-01-07</td>\n",
       "      <td>2016-03-23</td>\n",
       "    </tr>\n",
       "    <tr>\n",
       "      <th>2</th>\n",
       "      <td>2130</td>\n",
       "      <td>2015-01-08</td>\n",
       "      <td>2016-03-31</td>\n",
       "    </tr>\n",
       "    <tr>\n",
       "      <th>3</th>\n",
       "      <td>2152</td>\n",
       "      <td>2015-01-08</td>\n",
       "      <td>2016-02-25</td>\n",
       "    </tr>\n",
       "    <tr>\n",
       "      <th>4</th>\n",
       "      <td>2178</td>\n",
       "      <td>2015-01-07</td>\n",
       "      <td>2016-03-30</td>\n",
       "    </tr>\n",
       "  </tbody>\n",
       "</table>\n",
       "</div>"
      ],
      "text/plain": [
       "  Store Number       Date           \n",
       "                     amin       amax\n",
       "0         2106 2015-01-08 2016-03-31\n",
       "1         2113 2015-01-07 2016-03-23\n",
       "2         2130 2015-01-08 2016-03-31\n",
       "3         2152 2015-01-08 2016-02-25\n",
       "4         2178 2015-01-07 2016-03-30"
      ]
     },
     "execution_count": 12,
     "metadata": {},
     "output_type": "execute_result"
    }
   ],
   "source": [
    "dates = df.groupby([\"Store Number\"], as_index = False)\n",
    "dates = dates.agg({\"Date\": [np.min, np.max]})\n",
    "dates.head()\n"
   ]
  },
  {
   "cell_type": "code",
   "execution_count": 13,
   "metadata": {
    "collapsed": false
   },
   "outputs": [
    {
     "data": {
      "text/html": [
       "<div>\n",
       "<table border=\"1\" class=\"dataframe\">\n",
       "  <thead>\n",
       "    <tr style=\"text-align: right;\">\n",
       "      <th></th>\n",
       "      <th>Date</th>\n",
       "      <th>Store Number</th>\n",
       "      <th>City</th>\n",
       "      <th>Zip Code</th>\n",
       "      <th>County Number</th>\n",
       "      <th>County</th>\n",
       "      <th>Category</th>\n",
       "      <th>Vendor Number</th>\n",
       "      <th>Item Number</th>\n",
       "      <th>Bottle Volume (ml)</th>\n",
       "      <th>State Bottle Cost</th>\n",
       "      <th>State Bottle Retail</th>\n",
       "      <th>Bottles Sold</th>\n",
       "      <th>Sale (Dollars)</th>\n",
       "      <th>Volume Sold (Liters)</th>\n",
       "    </tr>\n",
       "  </thead>\n",
       "  <tbody>\n",
       "    <tr>\n",
       "      <th>0</th>\n",
       "      <td>2015-11-04</td>\n",
       "      <td>3717</td>\n",
       "      <td>SUMNER</td>\n",
       "      <td>50674</td>\n",
       "      <td>9</td>\n",
       "      <td>Bremer</td>\n",
       "      <td>1051100</td>\n",
       "      <td>55</td>\n",
       "      <td>54436</td>\n",
       "      <td>750</td>\n",
       "      <td>4.50</td>\n",
       "      <td>6.75</td>\n",
       "      <td>12</td>\n",
       "      <td>81.00</td>\n",
       "      <td>9.0</td>\n",
       "    </tr>\n",
       "    <tr>\n",
       "      <th>1</th>\n",
       "      <td>2016-03-02</td>\n",
       "      <td>2614</td>\n",
       "      <td>DAVENPORT</td>\n",
       "      <td>52807</td>\n",
       "      <td>82</td>\n",
       "      <td>Scott</td>\n",
       "      <td>1011100</td>\n",
       "      <td>395</td>\n",
       "      <td>27605</td>\n",
       "      <td>750</td>\n",
       "      <td>13.75</td>\n",
       "      <td>20.63</td>\n",
       "      <td>2</td>\n",
       "      <td>41.26</td>\n",
       "      <td>1.5</td>\n",
       "    </tr>\n",
       "    <tr>\n",
       "      <th>2</th>\n",
       "      <td>2016-02-11</td>\n",
       "      <td>2106</td>\n",
       "      <td>CEDAR FALLS</td>\n",
       "      <td>50613</td>\n",
       "      <td>7</td>\n",
       "      <td>Black Hawk</td>\n",
       "      <td>1011200</td>\n",
       "      <td>65</td>\n",
       "      <td>19067</td>\n",
       "      <td>1000</td>\n",
       "      <td>12.59</td>\n",
       "      <td>18.89</td>\n",
       "      <td>24</td>\n",
       "      <td>453.36</td>\n",
       "      <td>24.0</td>\n",
       "    </tr>\n",
       "    <tr>\n",
       "      <th>3</th>\n",
       "      <td>2016-02-03</td>\n",
       "      <td>2501</td>\n",
       "      <td>AMES</td>\n",
       "      <td>50010</td>\n",
       "      <td>85</td>\n",
       "      <td>Story</td>\n",
       "      <td>1071100</td>\n",
       "      <td>395</td>\n",
       "      <td>59154</td>\n",
       "      <td>1750</td>\n",
       "      <td>9.50</td>\n",
       "      <td>14.25</td>\n",
       "      <td>6</td>\n",
       "      <td>85.50</td>\n",
       "      <td>10.5</td>\n",
       "    </tr>\n",
       "    <tr>\n",
       "      <th>4</th>\n",
       "      <td>2015-08-18</td>\n",
       "      <td>3654</td>\n",
       "      <td>BELMOND</td>\n",
       "      <td>50421</td>\n",
       "      <td>99</td>\n",
       "      <td>Wright</td>\n",
       "      <td>1031080</td>\n",
       "      <td>297</td>\n",
       "      <td>35918</td>\n",
       "      <td>1750</td>\n",
       "      <td>7.20</td>\n",
       "      <td>10.80</td>\n",
       "      <td>12</td>\n",
       "      <td>129.60</td>\n",
       "      <td>21.0</td>\n",
       "    </tr>\n",
       "  </tbody>\n",
       "</table>\n",
       "</div>"
      ],
      "text/plain": [
       "        Date  Store Number         City Zip Code  County Number      County  \\\n",
       "0 2015-11-04          3717       SUMNER    50674              9      Bremer   \n",
       "1 2016-03-02          2614    DAVENPORT    52807             82       Scott   \n",
       "2 2016-02-11          2106  CEDAR FALLS    50613              7  Black Hawk   \n",
       "3 2016-02-03          2501         AMES    50010             85       Story   \n",
       "4 2015-08-18          3654      BELMOND    50421             99      Wright   \n",
       "\n",
       "   Category  Vendor Number  Item Number  Bottle Volume (ml)  \\\n",
       "0   1051100             55        54436                 750   \n",
       "1   1011100            395        27605                 750   \n",
       "2   1011200             65        19067                1000   \n",
       "3   1071100            395        59154                1750   \n",
       "4   1031080            297        35918                1750   \n",
       "\n",
       "   State Bottle Cost  State Bottle Retail  Bottles Sold  Sale (Dollars)  \\\n",
       "0               4.50                 6.75            12           81.00   \n",
       "1              13.75                20.63             2           41.26   \n",
       "2              12.59                18.89            24          453.36   \n",
       "3               9.50                14.25             6           85.50   \n",
       "4               7.20                10.80            12          129.60   \n",
       "\n",
       "   Volume Sold (Liters)  \n",
       "0                   9.0  \n",
       "1                   1.5  \n",
       "2                  24.0  \n",
       "3                  10.5  \n",
       "4                  21.0  "
      ]
     },
     "execution_count": 13,
     "metadata": {},
     "output_type": "execute_result"
    }
   ],
   "source": [
    "opened_early = datetime.datetime(2015,1,15)\n",
    "opened_late = datetime.datetime(2015,12,15)\n",
    "mask = (dates['Date', 'amin'] < opened_early) & (dates['Date', 'amax'] > opened_late)\n",
    "good_stores = dates[mask][\"Store Number\"]\n",
    "df = df[df[\"Store Number\"].isin(good_stores)]\n",
    "df.head()"
   ]
  },
  {
   "cell_type": "markdown",
   "metadata": {},
   "source": [
    "# Compute New Columns and Tables"
   ]
  },
  {
   "cell_type": "code",
   "execution_count": 14,
   "metadata": {
    "collapsed": false
   },
   "outputs": [
    {
     "data": {
      "text/html": [
       "<div>\n",
       "<table border=\"1\" class=\"dataframe\">\n",
       "  <thead>\n",
       "    <tr style=\"text-align: right;\">\n",
       "      <th></th>\n",
       "      <th>Date</th>\n",
       "      <th>Store Number</th>\n",
       "      <th>City</th>\n",
       "      <th>Zip Code</th>\n",
       "      <th>County Number</th>\n",
       "      <th>County</th>\n",
       "      <th>Category</th>\n",
       "      <th>Vendor Number</th>\n",
       "      <th>Item Number</th>\n",
       "      <th>Bottle Volume (ml)</th>\n",
       "      <th>State Bottle Cost</th>\n",
       "      <th>State Bottle Retail</th>\n",
       "      <th>Bottles Sold</th>\n",
       "      <th>Sale (Dollars)</th>\n",
       "      <th>Volume Sold (Liters)</th>\n",
       "      <th>Margin</th>\n",
       "      <th>Price per bottle</th>\n",
       "      <th>Price per Liter</th>\n",
       "    </tr>\n",
       "  </thead>\n",
       "  <tbody>\n",
       "    <tr>\n",
       "      <th>0</th>\n",
       "      <td>2015-11-04</td>\n",
       "      <td>3717</td>\n",
       "      <td>SUMNER</td>\n",
       "      <td>50674</td>\n",
       "      <td>9</td>\n",
       "      <td>Bremer</td>\n",
       "      <td>1051100</td>\n",
       "      <td>55</td>\n",
       "      <td>54436</td>\n",
       "      <td>750</td>\n",
       "      <td>4.50</td>\n",
       "      <td>6.75</td>\n",
       "      <td>12</td>\n",
       "      <td>81.00</td>\n",
       "      <td>9.0</td>\n",
       "      <td>27.00</td>\n",
       "      <td>9.000000</td>\n",
       "      <td>6.75</td>\n",
       "    </tr>\n",
       "    <tr>\n",
       "      <th>1</th>\n",
       "      <td>2016-03-02</td>\n",
       "      <td>2614</td>\n",
       "      <td>DAVENPORT</td>\n",
       "      <td>52807</td>\n",
       "      <td>82</td>\n",
       "      <td>Scott</td>\n",
       "      <td>1011100</td>\n",
       "      <td>395</td>\n",
       "      <td>27605</td>\n",
       "      <td>750</td>\n",
       "      <td>13.75</td>\n",
       "      <td>20.63</td>\n",
       "      <td>2</td>\n",
       "      <td>41.26</td>\n",
       "      <td>1.5</td>\n",
       "      <td>13.76</td>\n",
       "      <td>27.506667</td>\n",
       "      <td>20.63</td>\n",
       "    </tr>\n",
       "    <tr>\n",
       "      <th>2</th>\n",
       "      <td>2016-02-11</td>\n",
       "      <td>2106</td>\n",
       "      <td>CEDAR FALLS</td>\n",
       "      <td>50613</td>\n",
       "      <td>7</td>\n",
       "      <td>Black Hawk</td>\n",
       "      <td>1011200</td>\n",
       "      <td>65</td>\n",
       "      <td>19067</td>\n",
       "      <td>1000</td>\n",
       "      <td>12.59</td>\n",
       "      <td>18.89</td>\n",
       "      <td>24</td>\n",
       "      <td>453.36</td>\n",
       "      <td>24.0</td>\n",
       "      <td>151.20</td>\n",
       "      <td>18.890000</td>\n",
       "      <td>18.89</td>\n",
       "    </tr>\n",
       "    <tr>\n",
       "      <th>3</th>\n",
       "      <td>2016-02-03</td>\n",
       "      <td>2501</td>\n",
       "      <td>AMES</td>\n",
       "      <td>50010</td>\n",
       "      <td>85</td>\n",
       "      <td>Story</td>\n",
       "      <td>1071100</td>\n",
       "      <td>395</td>\n",
       "      <td>59154</td>\n",
       "      <td>1750</td>\n",
       "      <td>9.50</td>\n",
       "      <td>14.25</td>\n",
       "      <td>6</td>\n",
       "      <td>85.50</td>\n",
       "      <td>10.5</td>\n",
       "      <td>28.50</td>\n",
       "      <td>8.142857</td>\n",
       "      <td>14.25</td>\n",
       "    </tr>\n",
       "    <tr>\n",
       "      <th>4</th>\n",
       "      <td>2015-08-18</td>\n",
       "      <td>3654</td>\n",
       "      <td>BELMOND</td>\n",
       "      <td>50421</td>\n",
       "      <td>99</td>\n",
       "      <td>Wright</td>\n",
       "      <td>1031080</td>\n",
       "      <td>297</td>\n",
       "      <td>35918</td>\n",
       "      <td>1750</td>\n",
       "      <td>7.20</td>\n",
       "      <td>10.80</td>\n",
       "      <td>12</td>\n",
       "      <td>129.60</td>\n",
       "      <td>21.0</td>\n",
       "      <td>43.20</td>\n",
       "      <td>6.171429</td>\n",
       "      <td>10.80</td>\n",
       "    </tr>\n",
       "  </tbody>\n",
       "</table>\n",
       "</div>"
      ],
      "text/plain": [
       "        Date  Store Number         City Zip Code  County Number      County  \\\n",
       "0 2015-11-04          3717       SUMNER    50674              9      Bremer   \n",
       "1 2016-03-02          2614    DAVENPORT    52807             82       Scott   \n",
       "2 2016-02-11          2106  CEDAR FALLS    50613              7  Black Hawk   \n",
       "3 2016-02-03          2501         AMES    50010             85       Story   \n",
       "4 2015-08-18          3654      BELMOND    50421             99      Wright   \n",
       "\n",
       "   Category  Vendor Number  Item Number  Bottle Volume (ml)  \\\n",
       "0   1051100             55        54436                 750   \n",
       "1   1011100            395        27605                 750   \n",
       "2   1011200             65        19067                1000   \n",
       "3   1071100            395        59154                1750   \n",
       "4   1031080            297        35918                1750   \n",
       "\n",
       "   State Bottle Cost  State Bottle Retail  Bottles Sold  Sale (Dollars)  \\\n",
       "0               4.50                 6.75            12           81.00   \n",
       "1              13.75                20.63             2           41.26   \n",
       "2              12.59                18.89            24          453.36   \n",
       "3               9.50                14.25             6           85.50   \n",
       "4               7.20                10.80            12          129.60   \n",
       "\n",
       "   Volume Sold (Liters)  Margin  Price per bottle  Price per Liter  \n",
       "0                   9.0   27.00          9.000000             6.75  \n",
       "1                   1.5   13.76         27.506667            20.63  \n",
       "2                  24.0  151.20         18.890000            18.89  \n",
       "3                  10.5   28.50          8.142857            14.25  \n",
       "4                  21.0   43.20          6.171429            10.80  "
      ]
     },
     "execution_count": 14,
     "metadata": {},
     "output_type": "execute_result"
    }
   ],
   "source": [
    "df[\"Margin\"] = (df[\"State Bottle Retail\"] - df[\"State Bottle Cost\"]) * df[\"Bottles Sold\"]\n",
    "df['Price per bottle'] = df[\"Sale (Dollars)\"] / df[\"Volume Sold (Liters)\"]\n",
    "df[\"Price per Liter\"] = df[\"Sale (Dollars)\"] / df[\"Bottles Sold\"]\n",
    "df.head()"
   ]
  },
  {
   "cell_type": "code",
   "execution_count": 15,
   "metadata": {
    "collapsed": false,
    "scrolled": true
   },
   "outputs": [
    {
     "name": "stderr",
     "output_type": "stream",
     "text": [
      "/Users/tianjiaoxie/anaconda/lib/python2.7/site-packages/ipykernel/__main__.py:3: FutureWarning: sort(columns=....) is deprecated, use sort_values(by=.....)\n",
      "  app.launch_new_instance()\n"
     ]
    },
    {
     "data": {
      "text/html": [
       "<div>\n",
       "<table border=\"1\" class=\"dataframe\">\n",
       "  <thead>\n",
       "    <tr style=\"text-align: right;\">\n",
       "      <th></th>\n",
       "      <th>2015 Price per Liter mean</th>\n",
       "      <th>2015 Margin mean</th>\n",
       "      <th>2015 Sale (Dollars) mean</th>\n",
       "      <th>2015 Sale (Dollars) sum</th>\n",
       "      <th>2015 Volume Sold (Liters) mean</th>\n",
       "      <th>2015 Volume Sold (Liters) sum</th>\n",
       "    </tr>\n",
       "    <tr>\n",
       "      <th>Store Number</th>\n",
       "      <th></th>\n",
       "      <th></th>\n",
       "      <th></th>\n",
       "      <th></th>\n",
       "      <th></th>\n",
       "      <th></th>\n",
       "    </tr>\n",
       "  </thead>\n",
       "  <tbody>\n",
       "    <tr>\n",
       "      <th>2106</th>\n",
       "      <td>15.475863</td>\n",
       "      <td>92.671879</td>\n",
       "      <td>277.658861</td>\n",
       "      <td>146326.22</td>\n",
       "      <td>18.466509</td>\n",
       "      <td>9731.85</td>\n",
       "    </tr>\n",
       "    <tr>\n",
       "      <th>2113</th>\n",
       "      <td>16.315646</td>\n",
       "      <td>21.149932</td>\n",
       "      <td>63.334830</td>\n",
       "      <td>9310.22</td>\n",
       "      <td>4.488776</td>\n",
       "      <td>659.85</td>\n",
       "    </tr>\n",
       "    <tr>\n",
       "      <th>2130</th>\n",
       "      <td>14.764286</td>\n",
       "      <td>95.217347</td>\n",
       "      <td>285.386301</td>\n",
       "      <td>111871.43</td>\n",
       "      <td>17.580026</td>\n",
       "      <td>6891.37</td>\n",
       "    </tr>\n",
       "    <tr>\n",
       "      <th>2152</th>\n",
       "      <td>12.887660</td>\n",
       "      <td>18.351277</td>\n",
       "      <td>54.759433</td>\n",
       "      <td>7721.08</td>\n",
       "      <td>4.491986</td>\n",
       "      <td>633.37</td>\n",
       "    </tr>\n",
       "    <tr>\n",
       "      <th>2178</th>\n",
       "      <td>14.558692</td>\n",
       "      <td>34.454430</td>\n",
       "      <td>102.633671</td>\n",
       "      <td>24324.18</td>\n",
       "      <td>8.089114</td>\n",
       "      <td>1917.12</td>\n",
       "    </tr>\n",
       "  </tbody>\n",
       "</table>\n",
       "</div>"
      ],
      "text/plain": [
       "              2015 Price per Liter mean  2015 Margin mean  \\\n",
       "Store Number                                                \n",
       "2106                          15.475863         92.671879   \n",
       "2113                          16.315646         21.149932   \n",
       "2130                          14.764286         95.217347   \n",
       "2152                          12.887660         18.351277   \n",
       "2178                          14.558692         34.454430   \n",
       "\n",
       "              2015 Sale (Dollars) mean  2015 Sale (Dollars) sum  \\\n",
       "Store Number                                                      \n",
       "2106                        277.658861                146326.22   \n",
       "2113                         63.334830                  9310.22   \n",
       "2130                        285.386301                111871.43   \n",
       "2152                         54.759433                  7721.08   \n",
       "2178                        102.633671                 24324.18   \n",
       "\n",
       "              2015 Volume Sold (Liters) mean  2015 Volume Sold (Liters) sum  \n",
       "Store Number                                                                 \n",
       "2106                               18.466509                        9731.85  \n",
       "2113                                4.488776                         659.85  \n",
       "2130                               17.580026                        6891.37  \n",
       "2152                                4.491986                         633.37  \n",
       "2178                                8.089114                        1917.12  "
      ]
     },
     "execution_count": 15,
     "metadata": {},
     "output_type": "execute_result"
    }
   ],
   "source": [
    "# Sales 2015\n",
    "import numpy as np\n",
    "df.sort(['Date'],ascending=True, inplace = True)\n",
    "start_date = datetime.datetime(2015,1,1)\n",
    "end_date = datetime.datetime(2015,12,31)\n",
    "sales = df[(df['Date']>=start_date)&(df['Date']<=end_date)].pivot_table(\n",
    "    index=['Store Number'],\n",
    "    values=[\"Sale (Dollars)\", 'Volume Sold (Liters)','Margin','Price per Liter'],\n",
    "aggfunc = {\"Sale (Dollars)\":[sum,np.mean],\n",
    "         'Volume Sold (Liters)': [sum,np.mean],\n",
    "         'Margin': np.mean,\n",
    "         'Price per Liter': np.mean })\n",
    "#aggfunc = {'Sale (Dollars)': {'TotalDollars': sum, 'Average':np.mean}}\n",
    "sales.columns = [' '.join(col).strip() for col in sales.columns.values]\n",
    "sales.columns = [u\"2015 Price per Liter mean\",u\"2015 Margin mean\",u\"2015 Sale (Dollars) mean\",\n",
    "                \"2015 Sale (Dollars) sum\",u\"2015 Volume Sold (Liters) mean\",u\"2015 Volume Sold (Liters) sum\"]\n",
    "sales.head()"
   ]
  },
  {
   "cell_type": "code",
   "execution_count": 16,
   "metadata": {
    "collapsed": false
   },
   "outputs": [
    {
     "data": {
      "text/plain": [
       "'\\nimport numpy as np\\ndf.sort([\\'Date\\'],ascending=True, inplace = True)\\nstart_date = datetime.datetime(2015,1,1)\\nend_date = datetime.datetime(2015,12,31)\\nsales = df[(df[\\'Date\\']>=start_date)&(df[\\'Date\\']<=end_date)].pivot_table(\\n    index=[\\'Store Number\\'],\\n    values=[\"Sale (Dollars)\", \\'Volume Sold (Liters)\\',\\'Margin\\',\\'Price per bottle\\',\\'Price per Liter\\'],\\naggfunc = {\"Sale (Dollars)\":[sum,np.mean],\\n         \\'Volume Sold (Liters)\\': sum,\\n         \\'Margin\\': [sum,np.mean]\\n         \\'Price per bottle\\': np.mean,\\n         \\'Price per Liter\\': np.mean })\\nsales.columns = [\\' \\'.join(col).strip() for col in sales.columns.values]\\nsales.columns = [u\\'Price per bottle mean\\', u\"Price per Liter mean\",u\"Margin sum\",u\"2015 Sale (Dollars) mean\",\\n                \"2015 Sale (Dollars) sum\",u\"Volume Sold (Liters) sum\"]\\nsales.head()\\n'"
      ]
     },
     "execution_count": 16,
     "metadata": {},
     "output_type": "execute_result"
    }
   ],
   "source": [
    "\"\"\"\n",
    "import numpy as np\n",
    "df.sort(['Date'],ascending=True, inplace = True)\n",
    "start_date = datetime.datetime(2015,1,1)\n",
    "end_date = datetime.datetime(2015,12,31)\n",
    "sales = df[(df['Date']>=start_date)&(df['Date']<=end_date)].pivot_table(\n",
    "    index=['Store Number'],\n",
    "    values=[\"Sale (Dollars)\", 'Volume Sold (Liters)','Margin','Price per bottle','Price per Liter'],\n",
    "aggfunc = {\"Sale (Dollars)\":[sum,np.mean],\n",
    "         'Volume Sold (Liters)': sum,\n",
    "         'Margin': [sum,np.mean]\n",
    "         'Price per bottle': np.mean,\n",
    "         'Price per Liter': np.mean })\n",
    "sales.columns = [' '.join(col).strip() for col in sales.columns.values]\n",
    "sales.columns = [u'Price per bottle mean', u\"Price per Liter mean\",u\"Margin sum\",u\"2015 Sale (Dollars) mean\",\n",
    "                \"2015 Sale (Dollars) sum\",u\"Volume Sold (Liters) sum\"]\n",
    "sales.head()\n",
    "\"\"\""
   ]
  },
  {
   "cell_type": "code",
   "execution_count": 17,
   "metadata": {
    "collapsed": false,
    "scrolled": true
   },
   "outputs": [
    {
     "data": {
      "text/html": [
       "<div>\n",
       "<table border=\"1\" class=\"dataframe\">\n",
       "  <thead>\n",
       "    <tr style=\"text-align: right;\">\n",
       "      <th></th>\n",
       "      <th>2015 Sales Q1</th>\n",
       "    </tr>\n",
       "    <tr>\n",
       "      <th>Store Number</th>\n",
       "      <th></th>\n",
       "    </tr>\n",
       "  </thead>\n",
       "  <tbody>\n",
       "    <tr>\n",
       "      <th>2106</th>\n",
       "      <td>39287.29</td>\n",
       "    </tr>\n",
       "    <tr>\n",
       "      <th>2113</th>\n",
       "      <td>2833.25</td>\n",
       "    </tr>\n",
       "    <tr>\n",
       "      <th>2130</th>\n",
       "      <td>24272.57</td>\n",
       "    </tr>\n",
       "    <tr>\n",
       "      <th>2152</th>\n",
       "      <td>2003.46</td>\n",
       "    </tr>\n",
       "    <tr>\n",
       "      <th>2178</th>\n",
       "      <td>5856.41</td>\n",
       "    </tr>\n",
       "    <tr>\n",
       "      <th>2190</th>\n",
       "      <td>29452.92</td>\n",
       "    </tr>\n",
       "    <tr>\n",
       "      <th>2191</th>\n",
       "      <td>29085.57</td>\n",
       "    </tr>\n",
       "    <tr>\n",
       "      <th>2200</th>\n",
       "      <td>4900.43</td>\n",
       "    </tr>\n",
       "    <tr>\n",
       "      <th>2205</th>\n",
       "      <td>6407.74</td>\n",
       "    </tr>\n",
       "    <tr>\n",
       "      <th>2228</th>\n",
       "      <td>5193.97</td>\n",
       "    </tr>\n",
       "    <tr>\n",
       "      <th>2233</th>\n",
       "      <td>5374.55</td>\n",
       "    </tr>\n",
       "    <tr>\n",
       "      <th>2238</th>\n",
       "      <td>858.61</td>\n",
       "    </tr>\n",
       "    <tr>\n",
       "      <th>2248</th>\n",
       "      <td>12663.68</td>\n",
       "    </tr>\n",
       "    <tr>\n",
       "      <th>2285</th>\n",
       "      <td>10019.12</td>\n",
       "    </tr>\n",
       "    <tr>\n",
       "      <th>2290</th>\n",
       "      <td>12191.26</td>\n",
       "    </tr>\n",
       "    <tr>\n",
       "      <th>2327</th>\n",
       "      <td>2253.60</td>\n",
       "    </tr>\n",
       "    <tr>\n",
       "      <th>2353</th>\n",
       "      <td>17382.60</td>\n",
       "    </tr>\n",
       "    <tr>\n",
       "      <th>2413</th>\n",
       "      <td>22459.16</td>\n",
       "    </tr>\n",
       "    <tr>\n",
       "      <th>2445</th>\n",
       "      <td>1215.08</td>\n",
       "    </tr>\n",
       "    <tr>\n",
       "      <th>2448</th>\n",
       "      <td>5655.92</td>\n",
       "    </tr>\n",
       "    <tr>\n",
       "      <th>2459</th>\n",
       "      <td>1609.57</td>\n",
       "    </tr>\n",
       "    <tr>\n",
       "      <th>2460</th>\n",
       "      <td>6746.61</td>\n",
       "    </tr>\n",
       "    <tr>\n",
       "      <th>2465</th>\n",
       "      <td>5615.99</td>\n",
       "    </tr>\n",
       "    <tr>\n",
       "      <th>2475</th>\n",
       "      <td>5672.76</td>\n",
       "    </tr>\n",
       "    <tr>\n",
       "      <th>2478</th>\n",
       "      <td>4459.85</td>\n",
       "    </tr>\n",
       "    <tr>\n",
       "      <th>2498</th>\n",
       "      <td>279.22</td>\n",
       "    </tr>\n",
       "    <tr>\n",
       "      <th>2500</th>\n",
       "      <td>40234.90</td>\n",
       "    </tr>\n",
       "    <tr>\n",
       "      <th>2501</th>\n",
       "      <td>31412.95</td>\n",
       "    </tr>\n",
       "    <tr>\n",
       "      <th>2502</th>\n",
       "      <td>39420.06</td>\n",
       "    </tr>\n",
       "    <tr>\n",
       "      <th>2505</th>\n",
       "      <td>14559.28</td>\n",
       "    </tr>\n",
       "    <tr>\n",
       "      <th>...</th>\n",
       "      <td>...</td>\n",
       "    </tr>\n",
       "    <tr>\n",
       "      <th>5025</th>\n",
       "      <td>397.68</td>\n",
       "    </tr>\n",
       "    <tr>\n",
       "      <th>5028</th>\n",
       "      <td>1994.04</td>\n",
       "    </tr>\n",
       "    <tr>\n",
       "      <th>5029</th>\n",
       "      <td>6166.71</td>\n",
       "    </tr>\n",
       "    <tr>\n",
       "      <th>5034</th>\n",
       "      <td>3923.51</td>\n",
       "    </tr>\n",
       "    <tr>\n",
       "      <th>5037</th>\n",
       "      <td>2293.74</td>\n",
       "    </tr>\n",
       "    <tr>\n",
       "      <th>5040</th>\n",
       "      <td>591.84</td>\n",
       "    </tr>\n",
       "    <tr>\n",
       "      <th>5042</th>\n",
       "      <td>1823.18</td>\n",
       "    </tr>\n",
       "    <tr>\n",
       "      <th>5043</th>\n",
       "      <td>3173.26</td>\n",
       "    </tr>\n",
       "    <tr>\n",
       "      <th>5044</th>\n",
       "      <td>682.08</td>\n",
       "    </tr>\n",
       "    <tr>\n",
       "      <th>5045</th>\n",
       "      <td>1925.02</td>\n",
       "    </tr>\n",
       "    <tr>\n",
       "      <th>5048</th>\n",
       "      <td>335.48</td>\n",
       "    </tr>\n",
       "    <tr>\n",
       "      <th>5050</th>\n",
       "      <td>7048.32</td>\n",
       "    </tr>\n",
       "    <tr>\n",
       "      <th>5051</th>\n",
       "      <td>1896.36</td>\n",
       "    </tr>\n",
       "    <tr>\n",
       "      <th>5052</th>\n",
       "      <td>594.18</td>\n",
       "    </tr>\n",
       "    <tr>\n",
       "      <th>5054</th>\n",
       "      <td>10543.16</td>\n",
       "    </tr>\n",
       "    <tr>\n",
       "      <th>5057</th>\n",
       "      <td>741.57</td>\n",
       "    </tr>\n",
       "    <tr>\n",
       "      <th>5059</th>\n",
       "      <td>519.24</td>\n",
       "    </tr>\n",
       "    <tr>\n",
       "      <th>5063</th>\n",
       "      <td>4562.35</td>\n",
       "    </tr>\n",
       "    <tr>\n",
       "      <th>5064</th>\n",
       "      <td>274.26</td>\n",
       "    </tr>\n",
       "    <tr>\n",
       "      <th>5065</th>\n",
       "      <td>787.86</td>\n",
       "    </tr>\n",
       "    <tr>\n",
       "      <th>5067</th>\n",
       "      <td>1057.88</td>\n",
       "    </tr>\n",
       "    <tr>\n",
       "      <th>5068</th>\n",
       "      <td>5653.31</td>\n",
       "    </tr>\n",
       "    <tr>\n",
       "      <th>5070</th>\n",
       "      <td>2259.37</td>\n",
       "    </tr>\n",
       "    <tr>\n",
       "      <th>5071</th>\n",
       "      <td>1564.15</td>\n",
       "    </tr>\n",
       "    <tr>\n",
       "      <th>5072</th>\n",
       "      <td>393.72</td>\n",
       "    </tr>\n",
       "    <tr>\n",
       "      <th>5073</th>\n",
       "      <td>1332.36</td>\n",
       "    </tr>\n",
       "    <tr>\n",
       "      <th>5076</th>\n",
       "      <td>875.05</td>\n",
       "    </tr>\n",
       "    <tr>\n",
       "      <th>5080</th>\n",
       "      <td>5659.02</td>\n",
       "    </tr>\n",
       "    <tr>\n",
       "      <th>5089</th>\n",
       "      <td>884.03</td>\n",
       "    </tr>\n",
       "    <tr>\n",
       "      <th>9001</th>\n",
       "      <td>2341.08</td>\n",
       "    </tr>\n",
       "  </tbody>\n",
       "</table>\n",
       "<p>930 rows × 1 columns</p>\n",
       "</div>"
      ],
      "text/plain": [
       "              2015 Sales Q1\n",
       "Store Number               \n",
       "2106               39287.29\n",
       "2113                2833.25\n",
       "2130               24272.57\n",
       "2152                2003.46\n",
       "2178                5856.41\n",
       "2190               29452.92\n",
       "2191               29085.57\n",
       "2200                4900.43\n",
       "2205                6407.74\n",
       "2228                5193.97\n",
       "2233                5374.55\n",
       "2238                 858.61\n",
       "2248               12663.68\n",
       "2285               10019.12\n",
       "2290               12191.26\n",
       "2327                2253.60\n",
       "2353               17382.60\n",
       "2413               22459.16\n",
       "2445                1215.08\n",
       "2448                5655.92\n",
       "2459                1609.57\n",
       "2460                6746.61\n",
       "2465                5615.99\n",
       "2475                5672.76\n",
       "2478                4459.85\n",
       "2498                 279.22\n",
       "2500               40234.90\n",
       "2501               31412.95\n",
       "2502               39420.06\n",
       "2505               14559.28\n",
       "...                     ...\n",
       "5025                 397.68\n",
       "5028                1994.04\n",
       "5029                6166.71\n",
       "5034                3923.51\n",
       "5037                2293.74\n",
       "5040                 591.84\n",
       "5042                1823.18\n",
       "5043                3173.26\n",
       "5044                 682.08\n",
       "5045                1925.02\n",
       "5048                 335.48\n",
       "5050                7048.32\n",
       "5051                1896.36\n",
       "5052                 594.18\n",
       "5054               10543.16\n",
       "5057                 741.57\n",
       "5059                 519.24\n",
       "5063                4562.35\n",
       "5064                 274.26\n",
       "5065                 787.86\n",
       "5067                1057.88\n",
       "5068                5653.31\n",
       "5070                2259.37\n",
       "5071                1564.15\n",
       "5072                 393.72\n",
       "5073                1332.36\n",
       "5076                 875.05\n",
       "5080                5659.02\n",
       "5089                 884.03\n",
       "9001                2341.08\n",
       "\n",
       "[930 rows x 1 columns]"
      ]
     },
     "execution_count": 17,
     "metadata": {},
     "output_type": "execute_result"
    }
   ],
   "source": [
    "# Sales 2015  Q1\n",
    "start_date = pd.Timestamp('20150101')\n",
    "end_date = pd.Timestamp('20150331')\n",
    "mask = (df['Date'] >= start_date) & (df['Date'] <= end_date)\n",
    "sales_2015_q1 = df[mask].pivot_table(index = ['Store Number'], values = ['Sale (Dollars)'],aggfunc = sum)\n",
    "sales_2015_q1['2015 Sales Q1'] = sales_2015_q1['Sale (Dollars)']\n",
    "del sales_2015_q1['Sale (Dollars)']\n",
    "sales_2015_q1"
   ]
  },
  {
   "cell_type": "code",
   "execution_count": 18,
   "metadata": {
    "collapsed": false,
    "scrolled": true
   },
   "outputs": [
    {
     "data": {
      "text/html": [
       "<div>\n",
       "<table border=\"1\" class=\"dataframe\">\n",
       "  <thead>\n",
       "    <tr style=\"text-align: right;\">\n",
       "      <th></th>\n",
       "      <th>2016 Sales Q1</th>\n",
       "    </tr>\n",
       "    <tr>\n",
       "      <th>Store Number</th>\n",
       "      <th></th>\n",
       "    </tr>\n",
       "  </thead>\n",
       "  <tbody>\n",
       "    <tr>\n",
       "      <th>2106</th>\n",
       "      <td>30523.75</td>\n",
       "    </tr>\n",
       "    <tr>\n",
       "      <th>2113</th>\n",
       "      <td>2065.90</td>\n",
       "    </tr>\n",
       "    <tr>\n",
       "      <th>2130</th>\n",
       "      <td>27856.11</td>\n",
       "    </tr>\n",
       "    <tr>\n",
       "      <th>2152</th>\n",
       "      <td>904.66</td>\n",
       "    </tr>\n",
       "    <tr>\n",
       "      <th>2178</th>\n",
       "      <td>5588.50</td>\n",
       "    </tr>\n",
       "    <tr>\n",
       "      <th>2190</th>\n",
       "      <td>34515.69</td>\n",
       "    </tr>\n",
       "    <tr>\n",
       "      <th>2191</th>\n",
       "      <td>47338.20</td>\n",
       "    </tr>\n",
       "    <tr>\n",
       "      <th>2200</th>\n",
       "      <td>4174.87</td>\n",
       "    </tr>\n",
       "    <tr>\n",
       "      <th>2228</th>\n",
       "      <td>3086.38</td>\n",
       "    </tr>\n",
       "    <tr>\n",
       "      <th>2233</th>\n",
       "      <td>6522.65</td>\n",
       "    </tr>\n",
       "    <tr>\n",
       "      <th>2238</th>\n",
       "      <td>409.32</td>\n",
       "    </tr>\n",
       "    <tr>\n",
       "      <th>2248</th>\n",
       "      <td>14524.18</td>\n",
       "    </tr>\n",
       "    <tr>\n",
       "      <th>2285</th>\n",
       "      <td>12580.69</td>\n",
       "    </tr>\n",
       "    <tr>\n",
       "      <th>2290</th>\n",
       "      <td>12846.93</td>\n",
       "    </tr>\n",
       "    <tr>\n",
       "      <th>2327</th>\n",
       "      <td>2196.57</td>\n",
       "    </tr>\n",
       "    <tr>\n",
       "      <th>2353</th>\n",
       "      <td>2549.94</td>\n",
       "    </tr>\n",
       "    <tr>\n",
       "      <th>2413</th>\n",
       "      <td>23355.03</td>\n",
       "    </tr>\n",
       "    <tr>\n",
       "      <th>2445</th>\n",
       "      <td>1423.37</td>\n",
       "    </tr>\n",
       "    <tr>\n",
       "      <th>2448</th>\n",
       "      <td>6738.18</td>\n",
       "    </tr>\n",
       "    <tr>\n",
       "      <th>2459</th>\n",
       "      <td>1824.69</td>\n",
       "    </tr>\n",
       "    <tr>\n",
       "      <th>2465</th>\n",
       "      <td>5383.76</td>\n",
       "    </tr>\n",
       "    <tr>\n",
       "      <th>2475</th>\n",
       "      <td>4790.07</td>\n",
       "    </tr>\n",
       "    <tr>\n",
       "      <th>2478</th>\n",
       "      <td>4462.62</td>\n",
       "    </tr>\n",
       "    <tr>\n",
       "      <th>2498</th>\n",
       "      <td>780.34</td>\n",
       "    </tr>\n",
       "    <tr>\n",
       "      <th>2500</th>\n",
       "      <td>33836.19</td>\n",
       "    </tr>\n",
       "    <tr>\n",
       "      <th>2501</th>\n",
       "      <td>29980.54</td>\n",
       "    </tr>\n",
       "    <tr>\n",
       "      <th>2502</th>\n",
       "      <td>19017.37</td>\n",
       "    </tr>\n",
       "    <tr>\n",
       "      <th>2505</th>\n",
       "      <td>14605.93</td>\n",
       "    </tr>\n",
       "    <tr>\n",
       "      <th>2506</th>\n",
       "      <td>33041.43</td>\n",
       "    </tr>\n",
       "    <tr>\n",
       "      <th>2507</th>\n",
       "      <td>6147.99</td>\n",
       "    </tr>\n",
       "    <tr>\n",
       "      <th>...</th>\n",
       "      <td>...</td>\n",
       "    </tr>\n",
       "    <tr>\n",
       "      <th>5025</th>\n",
       "      <td>477.12</td>\n",
       "    </tr>\n",
       "    <tr>\n",
       "      <th>5028</th>\n",
       "      <td>2136.23</td>\n",
       "    </tr>\n",
       "    <tr>\n",
       "      <th>5029</th>\n",
       "      <td>6417.21</td>\n",
       "    </tr>\n",
       "    <tr>\n",
       "      <th>5034</th>\n",
       "      <td>4670.17</td>\n",
       "    </tr>\n",
       "    <tr>\n",
       "      <th>5037</th>\n",
       "      <td>1821.99</td>\n",
       "    </tr>\n",
       "    <tr>\n",
       "      <th>5040</th>\n",
       "      <td>657.30</td>\n",
       "    </tr>\n",
       "    <tr>\n",
       "      <th>5042</th>\n",
       "      <td>3208.76</td>\n",
       "    </tr>\n",
       "    <tr>\n",
       "      <th>5043</th>\n",
       "      <td>2936.58</td>\n",
       "    </tr>\n",
       "    <tr>\n",
       "      <th>5044</th>\n",
       "      <td>764.02</td>\n",
       "    </tr>\n",
       "    <tr>\n",
       "      <th>5045</th>\n",
       "      <td>1945.90</td>\n",
       "    </tr>\n",
       "    <tr>\n",
       "      <th>5048</th>\n",
       "      <td>1206.52</td>\n",
       "    </tr>\n",
       "    <tr>\n",
       "      <th>5050</th>\n",
       "      <td>2822.06</td>\n",
       "    </tr>\n",
       "    <tr>\n",
       "      <th>5051</th>\n",
       "      <td>1519.15</td>\n",
       "    </tr>\n",
       "    <tr>\n",
       "      <th>5052</th>\n",
       "      <td>404.46</td>\n",
       "    </tr>\n",
       "    <tr>\n",
       "      <th>5054</th>\n",
       "      <td>11029.80</td>\n",
       "    </tr>\n",
       "    <tr>\n",
       "      <th>5057</th>\n",
       "      <td>1295.70</td>\n",
       "    </tr>\n",
       "    <tr>\n",
       "      <th>5059</th>\n",
       "      <td>246.75</td>\n",
       "    </tr>\n",
       "    <tr>\n",
       "      <th>5063</th>\n",
       "      <td>3635.96</td>\n",
       "    </tr>\n",
       "    <tr>\n",
       "      <th>5064</th>\n",
       "      <td>705.84</td>\n",
       "    </tr>\n",
       "    <tr>\n",
       "      <th>5065</th>\n",
       "      <td>576.17</td>\n",
       "    </tr>\n",
       "    <tr>\n",
       "      <th>5067</th>\n",
       "      <td>2013.80</td>\n",
       "    </tr>\n",
       "    <tr>\n",
       "      <th>5068</th>\n",
       "      <td>4450.02</td>\n",
       "    </tr>\n",
       "    <tr>\n",
       "      <th>5070</th>\n",
       "      <td>1999.78</td>\n",
       "    </tr>\n",
       "    <tr>\n",
       "      <th>5071</th>\n",
       "      <td>1719.36</td>\n",
       "    </tr>\n",
       "    <tr>\n",
       "      <th>5072</th>\n",
       "      <td>1588.56</td>\n",
       "    </tr>\n",
       "    <tr>\n",
       "      <th>5073</th>\n",
       "      <td>1816.44</td>\n",
       "    </tr>\n",
       "    <tr>\n",
       "      <th>5076</th>\n",
       "      <td>951.05</td>\n",
       "    </tr>\n",
       "    <tr>\n",
       "      <th>5080</th>\n",
       "      <td>5726.56</td>\n",
       "    </tr>\n",
       "    <tr>\n",
       "      <th>5089</th>\n",
       "      <td>880.27</td>\n",
       "    </tr>\n",
       "    <tr>\n",
       "      <th>9001</th>\n",
       "      <td>708.24</td>\n",
       "    </tr>\n",
       "  </tbody>\n",
       "</table>\n",
       "<p>922 rows × 1 columns</p>\n",
       "</div>"
      ],
      "text/plain": [
       "              2016 Sales Q1\n",
       "Store Number               \n",
       "2106               30523.75\n",
       "2113                2065.90\n",
       "2130               27856.11\n",
       "2152                 904.66\n",
       "2178                5588.50\n",
       "2190               34515.69\n",
       "2191               47338.20\n",
       "2200                4174.87\n",
       "2228                3086.38\n",
       "2233                6522.65\n",
       "2238                 409.32\n",
       "2248               14524.18\n",
       "2285               12580.69\n",
       "2290               12846.93\n",
       "2327                2196.57\n",
       "2353                2549.94\n",
       "2413               23355.03\n",
       "2445                1423.37\n",
       "2448                6738.18\n",
       "2459                1824.69\n",
       "2465                5383.76\n",
       "2475                4790.07\n",
       "2478                4462.62\n",
       "2498                 780.34\n",
       "2500               33836.19\n",
       "2501               29980.54\n",
       "2502               19017.37\n",
       "2505               14605.93\n",
       "2506               33041.43\n",
       "2507                6147.99\n",
       "...                     ...\n",
       "5025                 477.12\n",
       "5028                2136.23\n",
       "5029                6417.21\n",
       "5034                4670.17\n",
       "5037                1821.99\n",
       "5040                 657.30\n",
       "5042                3208.76\n",
       "5043                2936.58\n",
       "5044                 764.02\n",
       "5045                1945.90\n",
       "5048                1206.52\n",
       "5050                2822.06\n",
       "5051                1519.15\n",
       "5052                 404.46\n",
       "5054               11029.80\n",
       "5057                1295.70\n",
       "5059                 246.75\n",
       "5063                3635.96\n",
       "5064                 705.84\n",
       "5065                 576.17\n",
       "5067                2013.80\n",
       "5068                4450.02\n",
       "5070                1999.78\n",
       "5071                1719.36\n",
       "5072                1588.56\n",
       "5073                1816.44\n",
       "5076                 951.05\n",
       "5080                5726.56\n",
       "5089                 880.27\n",
       "9001                 708.24\n",
       "\n",
       "[922 rows x 1 columns]"
      ]
     },
     "execution_count": 18,
     "metadata": {},
     "output_type": "execute_result"
    }
   ],
   "source": [
    "# Sales 2016 Q1\n",
    "start_date = pd.Timestamp('20160101')\n",
    "end_date = pd.Timestamp('20160331')\n",
    "mask = (df['Date'] >= start_date) & (df['Date'] <= end_date)\n",
    "sales_2016_q1 = df[mask].pivot_table(index = ['Store Number'], values = ['Sale (Dollars)'],aggfunc = sum)\n",
    "sales_2016_q1['2016 Sales Q1'] = sales_2016_q1['Sale (Dollars)']\n",
    "del sales_2016_q1['Sale (Dollars)']\n",
    "sales_2016_q1"
   ]
  },
  {
   "cell_type": "code",
   "execution_count": 19,
   "metadata": {
    "collapsed": false,
    "scrolled": true
   },
   "outputs": [
    {
     "data": {
      "text/html": [
       "<div>\n",
       "<table border=\"1\" class=\"dataframe\">\n",
       "  <thead>\n",
       "    <tr style=\"text-align: right;\">\n",
       "      <th></th>\n",
       "      <th>2015 Price per Liter mean</th>\n",
       "      <th>2015 Margin mean</th>\n",
       "      <th>2015 Sale (Dollars) mean</th>\n",
       "      <th>2015 Sale (Dollars) sum</th>\n",
       "      <th>2015 Volume Sold (Liters) mean</th>\n",
       "      <th>2015 Volume Sold (Liters) sum</th>\n",
       "      <th>2015 Sales Q1</th>\n",
       "    </tr>\n",
       "    <tr>\n",
       "      <th>Store Number</th>\n",
       "      <th></th>\n",
       "      <th></th>\n",
       "      <th></th>\n",
       "      <th></th>\n",
       "      <th></th>\n",
       "      <th></th>\n",
       "      <th></th>\n",
       "    </tr>\n",
       "  </thead>\n",
       "  <tbody>\n",
       "    <tr>\n",
       "      <th>2106</th>\n",
       "      <td>15.475863</td>\n",
       "      <td>92.671879</td>\n",
       "      <td>277.658861</td>\n",
       "      <td>146326.22</td>\n",
       "      <td>18.466509</td>\n",
       "      <td>9731.85</td>\n",
       "      <td>39287.29</td>\n",
       "    </tr>\n",
       "    <tr>\n",
       "      <th>2113</th>\n",
       "      <td>16.315646</td>\n",
       "      <td>21.149932</td>\n",
       "      <td>63.334830</td>\n",
       "      <td>9310.22</td>\n",
       "      <td>4.488776</td>\n",
       "      <td>659.85</td>\n",
       "      <td>2833.25</td>\n",
       "    </tr>\n",
       "    <tr>\n",
       "      <th>2130</th>\n",
       "      <td>14.764286</td>\n",
       "      <td>95.217347</td>\n",
       "      <td>285.386301</td>\n",
       "      <td>111871.43</td>\n",
       "      <td>17.580026</td>\n",
       "      <td>6891.37</td>\n",
       "      <td>24272.57</td>\n",
       "    </tr>\n",
       "    <tr>\n",
       "      <th>2152</th>\n",
       "      <td>12.887660</td>\n",
       "      <td>18.351277</td>\n",
       "      <td>54.759433</td>\n",
       "      <td>7721.08</td>\n",
       "      <td>4.491986</td>\n",
       "      <td>633.37</td>\n",
       "      <td>2003.46</td>\n",
       "    </tr>\n",
       "    <tr>\n",
       "      <th>2178</th>\n",
       "      <td>14.558692</td>\n",
       "      <td>34.454430</td>\n",
       "      <td>102.633671</td>\n",
       "      <td>24324.18</td>\n",
       "      <td>8.089114</td>\n",
       "      <td>1917.12</td>\n",
       "      <td>5856.41</td>\n",
       "    </tr>\n",
       "  </tbody>\n",
       "</table>\n",
       "</div>"
      ],
      "text/plain": [
       "              2015 Price per Liter mean  2015 Margin mean  \\\n",
       "Store Number                                                \n",
       "2106                          15.475863         92.671879   \n",
       "2113                          16.315646         21.149932   \n",
       "2130                          14.764286         95.217347   \n",
       "2152                          12.887660         18.351277   \n",
       "2178                          14.558692         34.454430   \n",
       "\n",
       "              2015 Sale (Dollars) mean  2015 Sale (Dollars) sum  \\\n",
       "Store Number                                                      \n",
       "2106                        277.658861                146326.22   \n",
       "2113                         63.334830                  9310.22   \n",
       "2130                        285.386301                111871.43   \n",
       "2152                         54.759433                  7721.08   \n",
       "2178                        102.633671                 24324.18   \n",
       "\n",
       "              2015 Volume Sold (Liters) mean  2015 Volume Sold (Liters) sum  \\\n",
       "Store Number                                                                  \n",
       "2106                               18.466509                        9731.85   \n",
       "2113                                4.488776                         659.85   \n",
       "2130                               17.580026                        6891.37   \n",
       "2152                                4.491986                         633.37   \n",
       "2178                                8.089114                        1917.12   \n",
       "\n",
       "              2015 Sales Q1  \n",
       "Store Number                 \n",
       "2106               39287.29  \n",
       "2113                2833.25  \n",
       "2130               24272.57  \n",
       "2152                2003.46  \n",
       "2178                5856.41  "
      ]
     },
     "execution_count": 19,
     "metadata": {},
     "output_type": "execute_result"
    }
   ],
   "source": [
    "extended = sales.merge(sales_2015_q1, left_index=True, right_index=True)\n",
    "extended.head()"
   ]
  },
  {
   "cell_type": "code",
   "execution_count": 20,
   "metadata": {
    "collapsed": false
   },
   "outputs": [],
   "source": [
    "extended = extended.merge(sales_2016_q1, left_index=True, right_index=True, how = 'right')"
   ]
  },
  {
   "cell_type": "code",
   "execution_count": 21,
   "metadata": {
    "collapsed": false,
    "scrolled": true
   },
   "outputs": [
    {
     "data": {
      "text/html": [
       "<div>\n",
       "<table border=\"1\" class=\"dataframe\">\n",
       "  <thead>\n",
       "    <tr style=\"text-align: right;\">\n",
       "      <th></th>\n",
       "      <th>2015 Price per Liter mean</th>\n",
       "      <th>2015 Margin mean</th>\n",
       "      <th>2015 Sale (Dollars) mean</th>\n",
       "      <th>2015 Sale (Dollars) sum</th>\n",
       "      <th>2015 Volume Sold (Liters) mean</th>\n",
       "      <th>2015 Volume Sold (Liters) sum</th>\n",
       "      <th>2015 Sales Q1</th>\n",
       "      <th>2016 Sales Q1</th>\n",
       "    </tr>\n",
       "    <tr>\n",
       "      <th>Store Number</th>\n",
       "      <th></th>\n",
       "      <th></th>\n",
       "      <th></th>\n",
       "      <th></th>\n",
       "      <th></th>\n",
       "      <th></th>\n",
       "      <th></th>\n",
       "      <th></th>\n",
       "    </tr>\n",
       "  </thead>\n",
       "  <tbody>\n",
       "    <tr>\n",
       "      <th>2106</th>\n",
       "      <td>15.475863</td>\n",
       "      <td>92.671879</td>\n",
       "      <td>277.658861</td>\n",
       "      <td>146326.22</td>\n",
       "      <td>18.466509</td>\n",
       "      <td>9731.85</td>\n",
       "      <td>39287.29</td>\n",
       "      <td>30523.75</td>\n",
       "    </tr>\n",
       "    <tr>\n",
       "      <th>2113</th>\n",
       "      <td>16.315646</td>\n",
       "      <td>21.149932</td>\n",
       "      <td>63.334830</td>\n",
       "      <td>9310.22</td>\n",
       "      <td>4.488776</td>\n",
       "      <td>659.85</td>\n",
       "      <td>2833.25</td>\n",
       "      <td>2065.90</td>\n",
       "    </tr>\n",
       "    <tr>\n",
       "      <th>2130</th>\n",
       "      <td>14.764286</td>\n",
       "      <td>95.217347</td>\n",
       "      <td>285.386301</td>\n",
       "      <td>111871.43</td>\n",
       "      <td>17.580026</td>\n",
       "      <td>6891.37</td>\n",
       "      <td>24272.57</td>\n",
       "      <td>27856.11</td>\n",
       "    </tr>\n",
       "    <tr>\n",
       "      <th>2152</th>\n",
       "      <td>12.887660</td>\n",
       "      <td>18.351277</td>\n",
       "      <td>54.759433</td>\n",
       "      <td>7721.08</td>\n",
       "      <td>4.491986</td>\n",
       "      <td>633.37</td>\n",
       "      <td>2003.46</td>\n",
       "      <td>904.66</td>\n",
       "    </tr>\n",
       "    <tr>\n",
       "      <th>2178</th>\n",
       "      <td>14.558692</td>\n",
       "      <td>34.454430</td>\n",
       "      <td>102.633671</td>\n",
       "      <td>24324.18</td>\n",
       "      <td>8.089114</td>\n",
       "      <td>1917.12</td>\n",
       "      <td>5856.41</td>\n",
       "      <td>5588.50</td>\n",
       "    </tr>\n",
       "  </tbody>\n",
       "</table>\n",
       "</div>"
      ],
      "text/plain": [
       "              2015 Price per Liter mean  2015 Margin mean  \\\n",
       "Store Number                                                \n",
       "2106                          15.475863         92.671879   \n",
       "2113                          16.315646         21.149932   \n",
       "2130                          14.764286         95.217347   \n",
       "2152                          12.887660         18.351277   \n",
       "2178                          14.558692         34.454430   \n",
       "\n",
       "              2015 Sale (Dollars) mean  2015 Sale (Dollars) sum  \\\n",
       "Store Number                                                      \n",
       "2106                        277.658861                146326.22   \n",
       "2113                         63.334830                  9310.22   \n",
       "2130                        285.386301                111871.43   \n",
       "2152                         54.759433                  7721.08   \n",
       "2178                        102.633671                 24324.18   \n",
       "\n",
       "              2015 Volume Sold (Liters) mean  2015 Volume Sold (Liters) sum  \\\n",
       "Store Number                                                                  \n",
       "2106                               18.466509                        9731.85   \n",
       "2113                                4.488776                         659.85   \n",
       "2130                               17.580026                        6891.37   \n",
       "2152                                4.491986                         633.37   \n",
       "2178                                8.089114                        1917.12   \n",
       "\n",
       "              2015 Sales Q1  2016 Sales Q1  \n",
       "Store Number                                \n",
       "2106               39287.29       30523.75  \n",
       "2113                2833.25        2065.90  \n",
       "2130               24272.57       27856.11  \n",
       "2152                2003.46         904.66  \n",
       "2178                5856.41        5588.50  "
      ]
     },
     "execution_count": 21,
     "metadata": {},
     "output_type": "execute_result"
    }
   ],
   "source": [
    "extended.head()"
   ]
  },
  {
   "cell_type": "code",
   "execution_count": 22,
   "metadata": {
    "collapsed": false,
    "scrolled": true
   },
   "outputs": [
    {
     "data": {
      "text/html": [
       "<div>\n",
       "<table border=\"1\" class=\"dataframe\">\n",
       "  <thead>\n",
       "    <tr style=\"text-align: right;\">\n",
       "      <th></th>\n",
       "      <th>2015 Sales Q1</th>\n",
       "      <th>2016 Sales Q1</th>\n",
       "    </tr>\n",
       "    <tr>\n",
       "      <th>Store Number</th>\n",
       "      <th></th>\n",
       "      <th></th>\n",
       "    </tr>\n",
       "  </thead>\n",
       "  <tbody>\n",
       "    <tr>\n",
       "      <th>2106</th>\n",
       "      <td>39287.29</td>\n",
       "      <td>30523.75</td>\n",
       "    </tr>\n",
       "    <tr>\n",
       "      <th>2113</th>\n",
       "      <td>2833.25</td>\n",
       "      <td>2065.90</td>\n",
       "    </tr>\n",
       "    <tr>\n",
       "      <th>2130</th>\n",
       "      <td>24272.57</td>\n",
       "      <td>27856.11</td>\n",
       "    </tr>\n",
       "    <tr>\n",
       "      <th>2152</th>\n",
       "      <td>2003.46</td>\n",
       "      <td>904.66</td>\n",
       "    </tr>\n",
       "    <tr>\n",
       "      <th>2178</th>\n",
       "      <td>5856.41</td>\n",
       "      <td>5588.50</td>\n",
       "    </tr>\n",
       "  </tbody>\n",
       "</table>\n",
       "</div>"
      ],
      "text/plain": [
       "              2015 Sales Q1  2016 Sales Q1\n",
       "Store Number                              \n",
       "2106               39287.29       30523.75\n",
       "2113                2833.25        2065.90\n",
       "2130               24272.57       27856.11\n",
       "2152                2003.46         904.66\n",
       "2178                5856.41        5588.50"
      ]
     },
     "execution_count": 22,
     "metadata": {},
     "output_type": "execute_result"
    }
   ],
   "source": [
    "q1_sales = extended[['2015 Sales Q1','2016 Sales Q1']]\n",
    "q1_sales.head()"
   ]
  },
  {
   "cell_type": "code",
   "execution_count": 23,
   "metadata": {
    "collapsed": false
   },
   "outputs": [
    {
     "data": {
      "text/plain": [
       "(0, 50000)"
      ]
     },
     "execution_count": 23,
     "metadata": {},
     "output_type": "execute_result"
    },
    {
     "data": {
      "image/png": "[encoded data removed]",
      "text/plain": [
       "<matplotlib.figure.Figure at 0x1120c47d0>"
      ]
     },
     "metadata": {},
     "output_type": "display_data"
    }
   ],
   "source": [
    "import matplotlib.pyplot as plt\n",
    "q1_sales.plot.scatter('2015 Sales Q1','2016 Sales Q1')\n",
    "plt.title('2015 sales Q1 vs 2016 sales Q1')\n",
    "plt.xlabel('2015')\n",
    "plt.ylabel('2016')\n",
    "plt.xlim(0,50000)\n",
    "plt.ylim(0,50000)"
   ]
  },
  {
   "cell_type": "code",
   "execution_count": 24,
   "metadata": {
    "collapsed": false
   },
   "outputs": [],
   "source": [
    "import sklearn.grid_search\n",
    "import sklearn.linear_model\n",
    "from sklearn.cross_validation import train_test_split\n",
    "import sklearn.tree\n",
    "import seaborn"
   ]
  },
  {
   "cell_type": "markdown",
   "metadata": {},
   "source": [
    "# Ransac Regressor （2015 q1 sales vs 2016 q1 sales）"
   ]
  },
  {
   "cell_type": "code",
   "execution_count": 25,
   "metadata": {
    "collapsed": false
   },
   "outputs": [
    {
     "data": {
      "text/plain": [
       "<seaborn.axisgrid.PairGrid at 0x11e709fd0>"
      ]
     },
     "execution_count": 25,
     "metadata": {},
     "output_type": "execute_result"
    },
    {
     "data": {
      "image/png": "[encoded data removed]",
      "text/plain": [
       "<matplotlib.figure.Figure at 0x11e777050>"
      ]
     },
     "metadata": {},
     "output_type": "display_data"
    }
   ],
   "source": [
    "seaborn.pairplot(q1_sales,x_vars=['2015 Sales Q1'], y_vars='2016 Sales Q1',size = 5,kind='reg')"
   ]
  },
  {
   "cell_type": "code",
   "execution_count": 26,
   "metadata": {
    "collapsed": true
   },
   "outputs": [],
   "source": [
    "X = q1_sales[['2015 Sales Q1']]\n",
    "y = q1_sales['2016 Sales Q1']"
   ]
  },
  {
   "cell_type": "code",
   "execution_count": 27,
   "metadata": {
    "collapsed": false
   },
   "outputs": [],
   "source": [
    "(X_train,X_test,y_train,y_test)= train_test_split(X, y)"
   ]
  },
  {
   "cell_type": "code",
   "execution_count": 28,
   "metadata": {
    "collapsed": false
   },
   "outputs": [
    {
     "data": {
      "text/plain": [
       "(691, 231)"
      ]
     },
     "execution_count": 28,
     "metadata": {},
     "output_type": "execute_result"
    }
   ],
   "source": [
    "len(X_train),len(X_test)"
   ]
  },
  {
   "cell_type": "code",
   "execution_count": 29,
   "metadata": {
    "collapsed": false
   },
   "outputs": [
    {
     "data": {
      "text/plain": [
       "(691, 231)"
      ]
     },
     "execution_count": 29,
     "metadata": {},
     "output_type": "execute_result"
    }
   ],
   "source": [
    "len(y_train),len(y_test)"
   ]
  },
  {
   "cell_type": "code",
   "execution_count": 39,
   "metadata": {
    "collapsed": false
   },
   "outputs": [
    {
     "data": {
      "text/plain": [
       "RANSACRegressor(base_estimator=None, is_data_valid=None, is_model_valid=None,\n",
       "        max_trials=100, min_samples=None, random_state=None,\n",
       "        residual_metric=None, residual_threshold=None, stop_n_inliers=inf,\n",
       "        stop_probability=0.99, stop_score=inf)"
      ]
     },
     "execution_count": 39,
     "metadata": {},
     "output_type": "execute_result"
    }
   ],
   "source": [
    "ransac = sklearn.linear_model.RANSACRegressor()\n",
    "ransac.fit(X_train,y_train)"
   ]
  },
  {
   "cell_type": "code",
   "execution_count": 31,
   "metadata": {
    "collapsed": false
   },
   "outputs": [
    {
     "data": {
      "text/plain": [
       "0.91249638315554438"
      ]
     },
     "execution_count": 31,
     "metadata": {},
     "output_type": "execute_result"
    }
   ],
   "source": [
    "ransac.score(X_test,y_test)"
   ]
  },
  {
   "cell_type": "code",
   "execution_count": 32,
   "metadata": {
    "collapsed": false
   },
   "outputs": [
    {
     "data": {
      "text/plain": [
       "array([ 0.92454191])"
      ]
     },
     "execution_count": 32,
     "metadata": {},
     "output_type": "execute_result"
    }
   ],
   "source": [
    "ransac.estimator_.coef_"
   ]
  },
  {
   "cell_type": "code",
   "execution_count": 33,
   "metadata": {
    "collapsed": false
   },
   "outputs": [
    {
     "data": {
      "text/plain": [
       "179.44905807953"
      ]
     },
     "execution_count": 33,
     "metadata": {},
     "output_type": "execute_result"
    }
   ],
   "source": [
    "ransac.estimator_.intercept_"
   ]
  },
  {
   "cell_type": "code",
   "execution_count": 34,
   "metadata": {
    "collapsed": false,
    "scrolled": true
   },
   "outputs": [
    {
     "data": {
      "text/plain": [
       "<matplotlib.collections.PathCollection at 0x12010be10>"
      ]
     },
     "execution_count": 34,
     "metadata": {},
     "output_type": "execute_result"
    },
    {
     "data": {
      "image/png": "[encoded data removed]",
      "text/plain": [
       "<matplotlib.figure.Figure at 0x11e798cd0>"
      ]
     },
     "metadata": {},
     "output_type": "display_data"
    }
   ],
   "source": [
    "predictions = ransac.predict(X_test)\n",
    "plt.scatter(y_test,predictions)"
   ]
  },
  {
   "cell_type": "code",
   "execution_count": 35,
   "metadata": {
    "collapsed": false
   },
   "outputs": [
    {
     "data": {
      "text/plain": [
       "0.91249638315554438"
      ]
     },
     "execution_count": 35,
     "metadata": {},
     "output_type": "execute_result"
    }
   ],
   "source": [
    "sklearn.metrics.r2_score(y_test, predictions)"
   ]
  },
  {
   "cell_type": "code",
   "execution_count": 243,
   "metadata": {
    "collapsed": false
   },
   "outputs": [
    {
     "data": {
      "text/plain": [
       "array([ 20714.93879236])"
      ]
     },
     "execution_count": 243,
     "metadata": {},
     "output_type": "execute_result"
    }
   ],
   "source": [
    "ransac.predict(20000)"
   ]
  },
  {
   "cell_type": "code",
   "execution_count": 244,
   "metadata": {
    "collapsed": false
   },
   "outputs": [
    {
     "data": {
      "text/plain": [
       "[<matplotlib.lines.Line2D at 0x12f9b1ad0>]"
      ]
     },
     "execution_count": 244,
     "metadata": {},
     "output_type": "execute_result"
    },
    {
     "data": {
      "image/png": "[encoded data removed]",
      "text/plain": [
       "<matplotlib.figure.Figure at 0x12f633a90>"
      ]
     },
     "metadata": {},
     "output_type": "display_data"
    }
   ],
   "source": [
    "predictions = ransac.predict(X)\n",
    "plt.scatter(X,y)\n",
    "plt.plot(X,predictions,color = 'red')"
   ]
  },
  {
   "cell_type": "code",
   "execution_count": 245,
   "metadata": {
    "collapsed": false
   },
   "outputs": [
    {
     "data": {
      "text/plain": [
       "0.89643848747602695"
      ]
     },
     "execution_count": 245,
     "metadata": {},
     "output_type": "execute_result"
    }
   ],
   "source": [
    "sklearn.metrics.r2_score(y, predictions)"
   ]
  },
  {
   "cell_type": "markdown",
   "metadata": {},
   "source": [
    "Grid search"
   ]
  },
  {
   "cell_type": "code",
   "execution_count": 246,
   "metadata": {
    "collapsed": false
   },
   "outputs": [
    {
     "data": {
      "text/plain": [
       "RANSACRegressor(base_estimator=None, is_data_valid=None, is_model_valid=None,\n",
       "        max_trials=150, min_samples=None, random_state=None,\n",
       "        residual_metric=None, residual_threshold=100, stop_n_inliers=inf,\n",
       "        stop_probability=0.99, stop_score=inf)"
      ]
     },
     "execution_count": 246,
     "metadata": {},
     "output_type": "execute_result"
    }
   ],
   "source": [
    "import sklearn.grid_search\n",
    "params = { 'residual_threshold': [None, 50, 80, 100, 110,150,160,170,180,200],\n",
    "         'max_trials': [150,200]}\n",
    "ransac = sklearn.linear_model.RANSACRegressor()\n",
    "searcher = sklearn.grid_search.GridSearchCV(ransac, params, cv=10)\n",
    "searcher.fit(X,y)\n",
    "searcher.best_estimator_"
   ]
  },
  {
   "cell_type": "code",
   "execution_count": 247,
   "metadata": {
    "collapsed": false
   },
   "outputs": [
    {
     "data": {
      "text/plain": [
       "array([ 0.95035255])"
      ]
     },
     "execution_count": 247,
     "metadata": {},
     "output_type": "execute_result"
    }
   ],
   "source": [
    "searcher.best_estimator_.estimator_.coef_"
   ]
  },
  {
   "cell_type": "code",
   "execution_count": 248,
   "metadata": {
    "collapsed": false
   },
   "outputs": [
    {
     "data": {
      "text/plain": [
       "81.26039971676164"
      ]
     },
     "execution_count": 248,
     "metadata": {},
     "output_type": "execute_result"
    }
   ],
   "source": [
    "searcher.best_estimator_.estimator_.intercept_"
   ]
  },
  {
   "cell_type": "code",
   "execution_count": 249,
   "metadata": {
    "collapsed": false
   },
   "outputs": [
    {
     "data": {
      "text/plain": [
       "0.73899669737557561"
      ]
     },
     "execution_count": 249,
     "metadata": {},
     "output_type": "execute_result"
    }
   ],
   "source": [
    "searcher.best_score_"
   ]
  },
  {
   "cell_type": "code",
   "execution_count": 250,
   "metadata": {
    "collapsed": false
   },
   "outputs": [
    {
     "data": {
      "text/plain": [
       "{'max_trials': 150, 'residual_threshold': 100}"
      ]
     },
     "execution_count": 250,
     "metadata": {},
     "output_type": "execute_result"
    }
   ],
   "source": [
    "searcher.best_params_"
   ]
  },
  {
   "cell_type": "code",
   "execution_count": 251,
   "metadata": {
    "collapsed": false
   },
   "outputs": [
    {
     "data": {
      "text/plain": [
       "[mean: 0.71523, std: 0.14503, params: {'max_trials': 150, 'residual_threshold': None},\n",
       " mean: 0.73043, std: 0.12205, params: {'max_trials': 150, 'residual_threshold': 50},\n",
       " mean: 0.72511, std: 0.12020, params: {'max_trials': 150, 'residual_threshold': 80},\n",
       " mean: 0.73900, std: 0.12134, params: {'max_trials': 150, 'residual_threshold': 100},\n",
       " mean: 0.73342, std: 0.12983, params: {'max_trials': 150, 'residual_threshold': 110},\n",
       " mean: 0.71609, std: 0.11343, params: {'max_trials': 150, 'residual_threshold': 150},\n",
       " mean: 0.72109, std: 0.14855, params: {'max_trials': 150, 'residual_threshold': 160},\n",
       " mean: 0.72847, std: 0.10899, params: {'max_trials': 150, 'residual_threshold': 170},\n",
       " mean: 0.72569, std: 0.12482, params: {'max_trials': 150, 'residual_threshold': 180},\n",
       " mean: 0.70830, std: 0.15127, params: {'max_trials': 150, 'residual_threshold': 200},\n",
       " mean: 0.71335, std: 0.15414, params: {'max_trials': 200, 'residual_threshold': None},\n",
       " mean: 0.72193, std: 0.13970, params: {'max_trials': 200, 'residual_threshold': 50},\n",
       " mean: 0.73198, std: 0.13272, params: {'max_trials': 200, 'residual_threshold': 80},\n",
       " mean: 0.73699, std: 0.12928, params: {'max_trials': 200, 'residual_threshold': 100},\n",
       " mean: 0.72979, std: 0.13019, params: {'max_trials': 200, 'residual_threshold': 110},\n",
       " mean: 0.71045, std: 0.12622, params: {'max_trials': 200, 'residual_threshold': 150},\n",
       " mean: 0.72445, std: 0.14695, params: {'max_trials': 200, 'residual_threshold': 160},\n",
       " mean: 0.71298, std: 0.14551, params: {'max_trials': 200, 'residual_threshold': 170},\n",
       " mean: 0.71556, std: 0.12171, params: {'max_trials': 200, 'residual_threshold': 180},\n",
       " mean: 0.71066, std: 0.12295, params: {'max_trials': 200, 'residual_threshold': 200}]"
      ]
     },
     "execution_count": 251,
     "metadata": {},
     "output_type": "execute_result"
    }
   ],
   "source": [
    "searcher.grid_scores_"
   ]
  },
  {
   "cell_type": "code",
   "execution_count": 252,
   "metadata": {
    "collapsed": false
   },
   "outputs": [
    {
     "data": {
      "text/plain": [
       "[<matplotlib.lines.Line2D at 0x12fa45a50>]"
      ]
     },
     "execution_count": 252,
     "metadata": {},
     "output_type": "execute_result"
    },
    {
     "data": {
      "image/png": "[encoded data removed]",
      "text/plain": [
       "<matplotlib.figure.Figure at 0x12f9e4390>"
      ]
     },
     "metadata": {},
     "output_type": "display_data"
    }
   ],
   "source": [
    "predictions = searcher.predict(X)\n",
    "plt.scatter(X,y)\n",
    "plt.plot(X,predictions, color = 'red')"
   ]
  },
  {
   "cell_type": "code",
   "execution_count": 253,
   "metadata": {
    "collapsed": false
   },
   "outputs": [
    {
     "data": {
      "text/plain": [
       "0.90219296314657282"
      ]
     },
     "execution_count": 253,
     "metadata": {},
     "output_type": "execute_result"
    }
   ],
   "source": [
    "sklearn.metrics.r2_score(y, predictions)"
   ]
  },
  {
   "cell_type": "markdown",
   "metadata": {},
   "source": [
    "# Linear Regression （2015 q1 sales vs 2016 q1 sales）"
   ]
  },
  {
   "cell_type": "code",
   "execution_count": 254,
   "metadata": {
    "collapsed": true
   },
   "outputs": [],
   "source": [
    "X = q1_sales[['2015 Sales Q1']]\n",
    "y = q1_sales['2016 Sales Q1']"
   ]
  },
  {
   "cell_type": "code",
   "execution_count": 255,
   "metadata": {
    "collapsed": true
   },
   "outputs": [],
   "source": [
    "(X_train,X_test,y_train,y_test) = train_test_split(X, y)"
   ]
  },
  {
   "cell_type": "code",
   "execution_count": 256,
   "metadata": {
    "collapsed": false
   },
   "outputs": [
    {
     "data": {
      "text/plain": [
       "LinearRegression(copy_X=True, fit_intercept=True, n_jobs=1, normalize=False)"
      ]
     },
     "execution_count": 256,
     "metadata": {},
     "output_type": "execute_result"
    }
   ],
   "source": [
    "lr = sklearn.linear_model.LinearRegression()\n",
    "lr.fit(X_train,y_train)"
   ]
  },
  {
   "cell_type": "code",
   "execution_count": 257,
   "metadata": {
    "collapsed": false
   },
   "outputs": [
    {
     "data": {
      "text/plain": [
       "array([ 0.91293217])"
      ]
     },
     "execution_count": 257,
     "metadata": {},
     "output_type": "execute_result"
    }
   ],
   "source": [
    "lr.coef_"
   ]
  },
  {
   "cell_type": "code",
   "execution_count": 258,
   "metadata": {
    "collapsed": false
   },
   "outputs": [
    {
     "data": {
      "text/plain": [
       "506.14473606285173"
      ]
     },
     "execution_count": 258,
     "metadata": {},
     "output_type": "execute_result"
    }
   ],
   "source": [
    "lr.intercept_"
   ]
  },
  {
   "cell_type": "code",
   "execution_count": 1,
   "metadata": {
    "collapsed": false
   },
   "outputs": [
    {
     "ename": "NameError",
     "evalue": "name 'lr' is not defined",
     "output_type": "error",
     "traceback": [
      "\u001b[0;31m---------------------------------------------------------------------------\u001b[0m",
      "\u001b[0;31mNameError\u001b[0m                                 Traceback (most recent call last)",
      "\u001b[0;32m<ipython-input-1-2f002ae52da7>\u001b[0m in \u001b[0;36m<module>\u001b[0;34m()\u001b[0m\n\u001b[0;32m----> 1\u001b[0;31m \u001b[0mlr\u001b[0m\u001b[0;34m.\u001b[0m\u001b[0mscore\u001b[0m\u001b[0;34m(\u001b[0m\u001b[0mX_test\u001b[0m\u001b[0;34m,\u001b[0m\u001b[0my_test\u001b[0m\u001b[0;34m)\u001b[0m\u001b[0;34m\u001b[0m\u001b[0m\n\u001b[0m",
      "\u001b[0;31mNameError\u001b[0m: name 'lr' is not defined"
     ]
    }
   ],
   "source": [
    "lr.score(X_test,y_test)"
   ]
  },
  {
   "cell_type": "code",
   "execution_count": 260,
   "metadata": {
    "collapsed": false
   },
   "outputs": [
    {
     "data": {
      "text/plain": [
       "<matplotlib.collections.PathCollection at 0x12ff8d0d0>"
      ]
     },
     "execution_count": 260,
     "metadata": {},
     "output_type": "execute_result"
    },
    {
     "data": {
      "image/png": "[encoded data removed]",
      "text/plain": [
       "<matplotlib.figure.Figure at 0x12ff02110>"
      ]
     },
     "metadata": {},
     "output_type": "display_data"
    }
   ],
   "source": [
    "predictions = lr.predict(X_test)\n",
    "plt.scatter(y_test,predictions)"
   ]
  },
  {
   "cell_type": "code",
   "execution_count": 261,
   "metadata": {
    "collapsed": false
   },
   "outputs": [
    {
     "data": {
      "text/plain": [
       "0.92998026474472373"
      ]
     },
     "execution_count": 261,
     "metadata": {},
     "output_type": "execute_result"
    }
   ],
   "source": [
    "sklearn.metrics.r2_score(y_test, predictions)"
   ]
  },
  {
   "cell_type": "code",
   "execution_count": 262,
   "metadata": {
    "collapsed": false
   },
   "outputs": [
    {
     "data": {
      "text/plain": [
       "array([ 18764.78820529])"
      ]
     },
     "execution_count": 262,
     "metadata": {},
     "output_type": "execute_result"
    }
   ],
   "source": [
    "lr.predict(20000)"
   ]
  },
  {
   "cell_type": "code",
   "execution_count": 263,
   "metadata": {
    "collapsed": false
   },
   "outputs": [
    {
     "data": {
      "text/plain": [
       "[<matplotlib.lines.Line2D at 0x12ff0a310>]"
      ]
     },
     "execution_count": 263,
     "metadata": {},
     "output_type": "execute_result"
    },
    {
     "data": {
      "image/png": "[encoded data removed]",
      "text/plain": [
       "<matplotlib.figure.Figure at 0x12ff33a90>"
      ]
     },
     "metadata": {},
     "output_type": "display_data"
    }
   ],
   "source": [
    "predictions = lr.predict(X)\n",
    "plt.scatter(X,y)\n",
    "plt.plot(X,predictions, color = 'red')"
   ]
  },
  {
   "cell_type": "code",
   "execution_count": 264,
   "metadata": {
    "collapsed": false
   },
   "outputs": [
    {
     "data": {
      "text/html": [
       "<div>\n",
       "<table border=\"1\" class=\"dataframe\">\n",
       "  <thead>\n",
       "    <tr style=\"text-align: right;\">\n",
       "      <th></th>\n",
       "      <th>2015 Price per Liter mean</th>\n",
       "      <th>2015 Margin mean</th>\n",
       "      <th>2015 Sale (Dollars) mean</th>\n",
       "      <th>2015 Sale (Dollars) sum</th>\n",
       "      <th>2015 Volume Sold (Liters) mean</th>\n",
       "      <th>2015 Volume Sold (Liters) sum</th>\n",
       "      <th>2015 Sales Q1</th>\n",
       "      <th>2016 Sales Q1</th>\n",
       "    </tr>\n",
       "    <tr>\n",
       "      <th>Store Number</th>\n",
       "      <th></th>\n",
       "      <th></th>\n",
       "      <th></th>\n",
       "      <th></th>\n",
       "      <th></th>\n",
       "      <th></th>\n",
       "      <th></th>\n",
       "      <th></th>\n",
       "    </tr>\n",
       "  </thead>\n",
       "  <tbody>\n",
       "    <tr>\n",
       "      <th>2106</th>\n",
       "      <td>15.475863</td>\n",
       "      <td>92.671879</td>\n",
       "      <td>277.658861</td>\n",
       "      <td>146326.22</td>\n",
       "      <td>18.466509</td>\n",
       "      <td>9731.85</td>\n",
       "      <td>39287.29</td>\n",
       "      <td>30523.75</td>\n",
       "    </tr>\n",
       "    <tr>\n",
       "      <th>2113</th>\n",
       "      <td>16.315646</td>\n",
       "      <td>21.149932</td>\n",
       "      <td>63.334830</td>\n",
       "      <td>9310.22</td>\n",
       "      <td>4.488776</td>\n",
       "      <td>659.85</td>\n",
       "      <td>2833.25</td>\n",
       "      <td>2065.90</td>\n",
       "    </tr>\n",
       "    <tr>\n",
       "      <th>2130</th>\n",
       "      <td>14.764286</td>\n",
       "      <td>95.217347</td>\n",
       "      <td>285.386301</td>\n",
       "      <td>111871.43</td>\n",
       "      <td>17.580026</td>\n",
       "      <td>6891.37</td>\n",
       "      <td>24272.57</td>\n",
       "      <td>27856.11</td>\n",
       "    </tr>\n",
       "    <tr>\n",
       "      <th>2152</th>\n",
       "      <td>12.887660</td>\n",
       "      <td>18.351277</td>\n",
       "      <td>54.759433</td>\n",
       "      <td>7721.08</td>\n",
       "      <td>4.491986</td>\n",
       "      <td>633.37</td>\n",
       "      <td>2003.46</td>\n",
       "      <td>904.66</td>\n",
       "    </tr>\n",
       "    <tr>\n",
       "      <th>2178</th>\n",
       "      <td>14.558692</td>\n",
       "      <td>34.454430</td>\n",
       "      <td>102.633671</td>\n",
       "      <td>24324.18</td>\n",
       "      <td>8.089114</td>\n",
       "      <td>1917.12</td>\n",
       "      <td>5856.41</td>\n",
       "      <td>5588.50</td>\n",
       "    </tr>\n",
       "  </tbody>\n",
       "</table>\n",
       "</div>"
      ],
      "text/plain": [
       "              2015 Price per Liter mean  2015 Margin mean  \\\n",
       "Store Number                                                \n",
       "2106                          15.475863         92.671879   \n",
       "2113                          16.315646         21.149932   \n",
       "2130                          14.764286         95.217347   \n",
       "2152                          12.887660         18.351277   \n",
       "2178                          14.558692         34.454430   \n",
       "\n",
       "              2015 Sale (Dollars) mean  2015 Sale (Dollars) sum  \\\n",
       "Store Number                                                      \n",
       "2106                        277.658861                146326.22   \n",
       "2113                         63.334830                  9310.22   \n",
       "2130                        285.386301                111871.43   \n",
       "2152                         54.759433                  7721.08   \n",
       "2178                        102.633671                 24324.18   \n",
       "\n",
       "              2015 Volume Sold (Liters) mean  2015 Volume Sold (Liters) sum  \\\n",
       "Store Number                                                                  \n",
       "2106                               18.466509                        9731.85   \n",
       "2113                                4.488776                         659.85   \n",
       "2130                               17.580026                        6891.37   \n",
       "2152                                4.491986                         633.37   \n",
       "2178                                8.089114                        1917.12   \n",
       "\n",
       "              2015 Sales Q1  2016 Sales Q1  \n",
       "Store Number                                \n",
       "2106               39287.29       30523.75  \n",
       "2113                2833.25        2065.90  \n",
       "2130               24272.57       27856.11  \n",
       "2152                2003.46         904.66  \n",
       "2178                5856.41        5588.50  "
      ]
     },
     "execution_count": 264,
     "metadata": {},
     "output_type": "execute_result"
    }
   ],
   "source": [
    "extended.head()"
   ]
  },
  {
   "cell_type": "code",
   "execution_count": 48,
   "metadata": {
    "collapsed": false
   },
   "outputs": [
    {
     "data": {
      "text/html": [
       "<div>\n",
       "<table border=\"1\" class=\"dataframe\">\n",
       "  <thead>\n",
       "    <tr style=\"text-align: right;\">\n",
       "      <th></th>\n",
       "      <th>2015 Price per Liter mean</th>\n",
       "      <th>2015 Margin mean</th>\n",
       "      <th>2015 Sale (Dollars) mean</th>\n",
       "      <th>2015 Sale (Dollars) sum</th>\n",
       "      <th>2015 Volume Sold (Liters) mean</th>\n",
       "      <th>2015 Volume Sold (Liters) sum</th>\n",
       "      <th>2015 Sales Q1</th>\n",
       "      <th>2016 Sales Q1</th>\n",
       "    </tr>\n",
       "  </thead>\n",
       "  <tbody>\n",
       "    <tr>\n",
       "      <th>2015 Price per Liter mean</th>\n",
       "      <td>1.000000</td>\n",
       "      <td>0.417521</td>\n",
       "      <td>0.418044</td>\n",
       "      <td>0.310638</td>\n",
       "      <td>0.319026</td>\n",
       "      <td>0.301119</td>\n",
       "      <td>0.299536</td>\n",
       "      <td>0.287601</td>\n",
       "    </tr>\n",
       "    <tr>\n",
       "      <th>2015 Margin mean</th>\n",
       "      <td>0.417521</td>\n",
       "      <td>1.000000</td>\n",
       "      <td>0.999978</td>\n",
       "      <td>0.437854</td>\n",
       "      <td>0.924218</td>\n",
       "      <td>0.433117</td>\n",
       "      <td>0.408622</td>\n",
       "      <td>0.385464</td>\n",
       "    </tr>\n",
       "    <tr>\n",
       "      <th>2015 Sale (Dollars) mean</th>\n",
       "      <td>0.418044</td>\n",
       "      <td>0.999978</td>\n",
       "      <td>1.000000</td>\n",
       "      <td>0.438415</td>\n",
       "      <td>0.922986</td>\n",
       "      <td>0.433431</td>\n",
       "      <td>0.409025</td>\n",
       "      <td>0.386019</td>\n",
       "    </tr>\n",
       "    <tr>\n",
       "      <th>2015 Sale (Dollars) sum</th>\n",
       "      <td>0.310638</td>\n",
       "      <td>0.437854</td>\n",
       "      <td>0.438415</td>\n",
       "      <td>1.000000</td>\n",
       "      <td>0.423704</td>\n",
       "      <td>0.992299</td>\n",
       "      <td>0.983550</td>\n",
       "      <td>0.967366</td>\n",
       "    </tr>\n",
       "    <tr>\n",
       "      <th>2015 Volume Sold (Liters) mean</th>\n",
       "      <td>0.319026</td>\n",
       "      <td>0.924218</td>\n",
       "      <td>0.922986</td>\n",
       "      <td>0.423704</td>\n",
       "      <td>1.000000</td>\n",
       "      <td>0.447319</td>\n",
       "      <td>0.399477</td>\n",
       "      <td>0.372595</td>\n",
       "    </tr>\n",
       "    <tr>\n",
       "      <th>2015 Volume Sold (Liters) sum</th>\n",
       "      <td>0.301119</td>\n",
       "      <td>0.433117</td>\n",
       "      <td>0.433431</td>\n",
       "      <td>0.992299</td>\n",
       "      <td>0.447319</td>\n",
       "      <td>1.000000</td>\n",
       "      <td>0.974713</td>\n",
       "      <td>0.954312</td>\n",
       "    </tr>\n",
       "    <tr>\n",
       "      <th>2015 Sales Q1</th>\n",
       "      <td>0.299536</td>\n",
       "      <td>0.408622</td>\n",
       "      <td>0.409025</td>\n",
       "      <td>0.983550</td>\n",
       "      <td>0.399477</td>\n",
       "      <td>0.974713</td>\n",
       "      <td>1.000000</td>\n",
       "      <td>0.950121</td>\n",
       "    </tr>\n",
       "    <tr>\n",
       "      <th>2016 Sales Q1</th>\n",
       "      <td>0.287601</td>\n",
       "      <td>0.385464</td>\n",
       "      <td>0.386019</td>\n",
       "      <td>0.967366</td>\n",
       "      <td>0.372595</td>\n",
       "      <td>0.954312</td>\n",
       "      <td>0.950121</td>\n",
       "      <td>1.000000</td>\n",
       "    </tr>\n",
       "  </tbody>\n",
       "</table>\n",
       "</div>"
      ],
      "text/plain": [
       "                                2015 Price per Liter mean  2015 Margin mean  \\\n",
       "2015 Price per Liter mean                        1.000000          0.417521   \n",
       "2015 Margin mean                                 0.417521          1.000000   \n",
       "2015 Sale (Dollars) mean                         0.418044          0.999978   \n",
       "2015 Sale (Dollars) sum                          0.310638          0.437854   \n",
       "2015 Volume Sold (Liters) mean                   0.319026          0.924218   \n",
       "2015 Volume Sold (Liters) sum                    0.301119          0.433117   \n",
       "2015 Sales Q1                                    0.299536          0.408622   \n",
       "2016 Sales Q1                                    0.287601          0.385464   \n",
       "\n",
       "                                2015 Sale (Dollars) mean  \\\n",
       "2015 Price per Liter mean                       0.418044   \n",
       "2015 Margin mean                                0.999978   \n",
       "2015 Sale (Dollars) mean                        1.000000   \n",
       "2015 Sale (Dollars) sum                         0.438415   \n",
       "2015 Volume Sold (Liters) mean                  0.922986   \n",
       "2015 Volume Sold (Liters) sum                   0.433431   \n",
       "2015 Sales Q1                                   0.409025   \n",
       "2016 Sales Q1                                   0.386019   \n",
       "\n",
       "                                2015 Sale (Dollars) sum  \\\n",
       "2015 Price per Liter mean                      0.310638   \n",
       "2015 Margin mean                               0.437854   \n",
       "2015 Sale (Dollars) mean                       0.438415   \n",
       "2015 Sale (Dollars) sum                        1.000000   \n",
       "2015 Volume Sold (Liters) mean                 0.423704   \n",
       "2015 Volume Sold (Liters) sum                  0.992299   \n",
       "2015 Sales Q1                                  0.983550   \n",
       "2016 Sales Q1                                  0.967366   \n",
       "\n",
       "                                2015 Volume Sold (Liters) mean  \\\n",
       "2015 Price per Liter mean                             0.319026   \n",
       "2015 Margin mean                                      0.924218   \n",
       "2015 Sale (Dollars) mean                              0.922986   \n",
       "2015 Sale (Dollars) sum                               0.423704   \n",
       "2015 Volume Sold (Liters) mean                        1.000000   \n",
       "2015 Volume Sold (Liters) sum                         0.447319   \n",
       "2015 Sales Q1                                         0.399477   \n",
       "2016 Sales Q1                                         0.372595   \n",
       "\n",
       "                                2015 Volume Sold (Liters) sum  2015 Sales Q1  \\\n",
       "2015 Price per Liter mean                            0.301119       0.299536   \n",
       "2015 Margin mean                                     0.433117       0.408622   \n",
       "2015 Sale (Dollars) mean                             0.433431       0.409025   \n",
       "2015 Sale (Dollars) sum                              0.992299       0.983550   \n",
       "2015 Volume Sold (Liters) mean                       0.447319       0.399477   \n",
       "2015 Volume Sold (Liters) sum                        1.000000       0.974713   \n",
       "2015 Sales Q1                                        0.974713       1.000000   \n",
       "2016 Sales Q1                                        0.954312       0.950121   \n",
       "\n",
       "                                2016 Sales Q1  \n",
       "2015 Price per Liter mean            0.287601  \n",
       "2015 Margin mean                     0.385464  \n",
       "2015 Sale (Dollars) mean             0.386019  \n",
       "2015 Sale (Dollars) sum              0.967366  \n",
       "2015 Volume Sold (Liters) mean       0.372595  \n",
       "2015 Volume Sold (Liters) sum        0.954312  \n",
       "2015 Sales Q1                        0.950121  \n",
       "2016 Sales Q1                        1.000000  "
      ]
     },
     "execution_count": 48,
     "metadata": {},
     "output_type": "execute_result"
    }
   ],
   "source": [
    "extended.corr()"
   ]
  },
  {
   "cell_type": "code",
   "execution_count": 49,
   "metadata": {
    "collapsed": false,
    "scrolled": true
   },
   "outputs": [
    {
     "data": {
      "text/plain": [
       "<seaborn.axisgrid.PairGrid at 0x11f3af510>"
      ]
     },
     "execution_count": 49,
     "metadata": {},
     "output_type": "execute_result"
    },
    {
     "data": {
      "image/png": "[encoded data removed]",
      "text/plain": [
       "<matplotlib.figure.Figure at 0x120bd4590>"
      ]
     },
     "metadata": {},
     "output_type": "display_data"
    }
   ],
   "source": [
    "seaborn.pairplot(extended)"
   ]
  },
  {
   "cell_type": "markdown",
   "metadata": {},
   "source": [
    "#  2015 Sales Q1 vs 2015 Sales sum"
   ]
  },
  {
   "cell_type": "code",
   "execution_count": 50,
   "metadata": {
    "collapsed": true
   },
   "outputs": [],
   "source": [
    "X = extended[['2015 Sales Q1']]\n",
    "y = extended['2015 Sale (Dollars) sum']"
   ]
  },
  {
   "cell_type": "code",
   "execution_count": 51,
   "metadata": {
    "collapsed": true
   },
   "outputs": [],
   "source": [
    "(X_train,X_test,y_train,y_test) = train_test_split(X,y)"
   ]
  },
  {
   "cell_type": "code",
   "execution_count": 52,
   "metadata": {
    "collapsed": false
   },
   "outputs": [
    {
     "data": {
      "text/plain": [
       "(array([ 4.50436941]), 218.38609416020336)"
      ]
     },
     "execution_count": 52,
     "metadata": {},
     "output_type": "execute_result"
    }
   ],
   "source": [
    "lr = sklearn.linear_model.LinearRegression()\n",
    "lr.fit(X_train,y_train)\n",
    "lr.coef_,lr.intercept_"
   ]
  },
  {
   "cell_type": "code",
   "execution_count": 53,
   "metadata": {
    "collapsed": false
   },
   "outputs": [
    {
     "data": {
      "text/plain": [
       "<matplotlib.collections.PathCollection at 0x12c62bad0>"
      ]
     },
     "execution_count": 53,
     "metadata": {},
     "output_type": "execute_result"
    },
    {
     "data": {
      "image/png": "[encoded data removed]",
      "text/plain": [
       "<matplotlib.figure.Figure at 0x11f3a7590>"
      ]
     },
     "metadata": {},
     "output_type": "display_data"
    }
   ],
   "source": [
    "predictions = lr.predict(X_test)\n",
    "plt.scatter(y_test,predictions)"
   ]
  },
  {
   "cell_type": "code",
   "execution_count": 54,
   "metadata": {
    "collapsed": false
   },
   "outputs": [
    {
     "data": {
      "text/plain": [
       "0.96564280590816864"
      ]
     },
     "execution_count": 54,
     "metadata": {},
     "output_type": "execute_result"
    }
   ],
   "source": [
    "sklearn.metrics.r2_score(y_test,predictions)"
   ]
  },
  {
   "cell_type": "code",
   "execution_count": 55,
   "metadata": {
    "collapsed": false,
    "scrolled": true
   },
   "outputs": [
    {
     "data": {
      "text/plain": [
       "(0, 400000)"
      ]
     },
     "execution_count": 55,
     "metadata": {},
     "output_type": "execute_result"
    },
    {
     "data": {
      "image/png": "[encoded data removed]",
      "text/plain": [
       "<matplotlib.figure.Figure at 0x12c09be10>"
      ]
     },
     "metadata": {},
     "output_type": "display_data"
    }
   ],
   "source": [
    "predictions = lr.predict(X)\n",
    "plt.scatter(X,y)\n",
    "plt.plot(X,predictions,color = 'red')\n",
    "plt.xlim(0, 100000)\n",
    "plt.ylim(0, 400000)"
   ]
  },
  {
   "cell_type": "markdown",
   "metadata": {},
   "source": [
    "# 2016 sales prediction"
   ]
  },
  {
   "cell_type": "code",
   "execution_count": 56,
   "metadata": {
    "collapsed": false
   },
   "outputs": [
    {
     "name": "stdout",
     "output_type": "stream",
     "text": [
      "2015 predicted 25573729.5666\n",
      "2015 actual 25786753.63\n",
      "2016 predicted 25590813.9641\n"
     ]
    }
   ],
   "source": [
    "X = extended[[\"2016 Sales Q1\"]]\n",
    "predictions = lr.predict(X)\n",
    "total_2016 = sum(predictions)\n",
    "total_2015 = sum(extended[\"2015 Sale (Dollars) sum\"])\n",
    "X2 = extended[[\"2015 Sales Q1\"]]\n",
    "pred_2015 = sum(lr.predict(X2))\n",
    "\n",
    "print \"2015 predicted\", pred_2015\n",
    "print \"2015 actual\", total_2015\n",
    "print \"2016 predicted\", total_2016"
   ]
  },
  {
   "cell_type": "code",
   "execution_count": null,
   "metadata": {
    "collapsed": false
   },
   "outputs": [],
   "source": []
  },
  {
   "cell_type": "code",
   "execution_count": 57,
   "metadata": {
    "collapsed": false
   },
   "outputs": [
    {
     "data": {
      "text/html": [
       "<div>\n",
       "<table border=\"1\" class=\"dataframe\">\n",
       "  <thead>\n",
       "    <tr style=\"text-align: right;\">\n",
       "      <th></th>\n",
       "      <th>2015 Price per Liter mean</th>\n",
       "      <th>2015 Margin mean</th>\n",
       "      <th>2015 Sale (Dollars) mean</th>\n",
       "      <th>2015 Sale (Dollars) sum</th>\n",
       "      <th>2015 Volume Sold (Liters) mean</th>\n",
       "      <th>2015 Volume Sold (Liters) sum</th>\n",
       "      <th>2015 Sales Q1</th>\n",
       "      <th>2016 Sales Q1</th>\n",
       "    </tr>\n",
       "    <tr>\n",
       "      <th>Store Number</th>\n",
       "      <th></th>\n",
       "      <th></th>\n",
       "      <th></th>\n",
       "      <th></th>\n",
       "      <th></th>\n",
       "      <th></th>\n",
       "      <th></th>\n",
       "      <th></th>\n",
       "    </tr>\n",
       "  </thead>\n",
       "  <tbody>\n",
       "    <tr>\n",
       "      <th>2106</th>\n",
       "      <td>15.475863</td>\n",
       "      <td>92.671879</td>\n",
       "      <td>277.658861</td>\n",
       "      <td>146326.22</td>\n",
       "      <td>18.466509</td>\n",
       "      <td>9731.85</td>\n",
       "      <td>39287.29</td>\n",
       "      <td>30523.75</td>\n",
       "    </tr>\n",
       "    <tr>\n",
       "      <th>2113</th>\n",
       "      <td>16.315646</td>\n",
       "      <td>21.149932</td>\n",
       "      <td>63.334830</td>\n",
       "      <td>9310.22</td>\n",
       "      <td>4.488776</td>\n",
       "      <td>659.85</td>\n",
       "      <td>2833.25</td>\n",
       "      <td>2065.90</td>\n",
       "    </tr>\n",
       "    <tr>\n",
       "      <th>2130</th>\n",
       "      <td>14.764286</td>\n",
       "      <td>95.217347</td>\n",
       "      <td>285.386301</td>\n",
       "      <td>111871.43</td>\n",
       "      <td>17.580026</td>\n",
       "      <td>6891.37</td>\n",
       "      <td>24272.57</td>\n",
       "      <td>27856.11</td>\n",
       "    </tr>\n",
       "    <tr>\n",
       "      <th>2152</th>\n",
       "      <td>12.887660</td>\n",
       "      <td>18.351277</td>\n",
       "      <td>54.759433</td>\n",
       "      <td>7721.08</td>\n",
       "      <td>4.491986</td>\n",
       "      <td>633.37</td>\n",
       "      <td>2003.46</td>\n",
       "      <td>904.66</td>\n",
       "    </tr>\n",
       "    <tr>\n",
       "      <th>2178</th>\n",
       "      <td>14.558692</td>\n",
       "      <td>34.454430</td>\n",
       "      <td>102.633671</td>\n",
       "      <td>24324.18</td>\n",
       "      <td>8.089114</td>\n",
       "      <td>1917.12</td>\n",
       "      <td>5856.41</td>\n",
       "      <td>5588.50</td>\n",
       "    </tr>\n",
       "  </tbody>\n",
       "</table>\n",
       "</div>"
      ],
      "text/plain": [
       "              2015 Price per Liter mean  2015 Margin mean  \\\n",
       "Store Number                                                \n",
       "2106                          15.475863         92.671879   \n",
       "2113                          16.315646         21.149932   \n",
       "2130                          14.764286         95.217347   \n",
       "2152                          12.887660         18.351277   \n",
       "2178                          14.558692         34.454430   \n",
       "\n",
       "              2015 Sale (Dollars) mean  2015 Sale (Dollars) sum  \\\n",
       "Store Number                                                      \n",
       "2106                        277.658861                146326.22   \n",
       "2113                         63.334830                  9310.22   \n",
       "2130                        285.386301                111871.43   \n",
       "2152                         54.759433                  7721.08   \n",
       "2178                        102.633671                 24324.18   \n",
       "\n",
       "              2015 Volume Sold (Liters) mean  2015 Volume Sold (Liters) sum  \\\n",
       "Store Number                                                                  \n",
       "2106                               18.466509                        9731.85   \n",
       "2113                                4.488776                         659.85   \n",
       "2130                               17.580026                        6891.37   \n",
       "2152                                4.491986                         633.37   \n",
       "2178                                8.089114                        1917.12   \n",
       "\n",
       "              2015 Sales Q1  2016 Sales Q1  \n",
       "Store Number                                \n",
       "2106               39287.29       30523.75  \n",
       "2113                2833.25        2065.90  \n",
       "2130               24272.57       27856.11  \n",
       "2152                2003.46         904.66  \n",
       "2178                5856.41        5588.50  "
      ]
     },
     "execution_count": 57,
     "metadata": {},
     "output_type": "execute_result"
    }
   ],
   "source": [
    "extended.head()"
   ]
  },
  {
   "cell_type": "markdown",
   "metadata": {},
   "source": [
    "# Price per liter mean vs Volume sold mean"
   ]
  },
  {
   "cell_type": "code",
   "execution_count": 285,
   "metadata": {
    "collapsed": false
   },
   "outputs": [
    {
     "data": {
      "text/plain": [
       "(0, 20)"
      ]
     },
     "execution_count": 285,
     "metadata": {},
     "output_type": "execute_result"
    },
    {
     "data": {
      "image/png": "[encoded data removed]",
      "text/plain": [
       "<matplotlib.figure.Figure at 0x11df3c590>"
      ]
     },
     "metadata": {},
     "output_type": "display_data"
    }
   ],
   "source": [
    "plt.scatter(extended['2015 Price per Liter mean'],extended['2015 Volume Sold (Liters) mean'])\n",
    "plt.title('Price per liter mean vs Volume sold mean')\n",
    "plt.xlim(0,20)\n",
    "plt.ylim(0,20)"
   ]
  },
  {
   "cell_type": "code",
   "execution_count": 288,
   "metadata": {
    "collapsed": false
   },
   "outputs": [
    {
     "data": {
      "text/plain": [
       "DecisionTreeRegressor(criterion='mse', max_depth=None, max_features=None,\n",
       "           max_leaf_nodes=None, min_samples_leaf=1, min_samples_split=2,\n",
       "           min_weight_fraction_leaf=0.0, presort=False, random_state=None,\n",
       "           splitter='best')"
      ]
     },
     "execution_count": 288,
     "metadata": {},
     "output_type": "execute_result"
    }
   ],
   "source": [
    "import sklearn.tree\n",
    "X = extended[['2015 Price per Liter mean']]\n",
    "y = extended['2015 Volume Sold (Liters) mean']\n",
    "(X_train,X_test,y_train,y_test) = train_test_split(X,y)\n",
    "tree = sklearn.tree.DecisionTreeRegressor()\n",
    "tree.fit(X_train,y_train)"
   ]
  },
  {
   "cell_type": "code",
   "execution_count": 289,
   "metadata": {
    "collapsed": false
   },
   "outputs": [
    {
     "data": {
      "text/plain": [
       "<matplotlib.collections.PathCollection at 0x1363331d0>"
      ]
     },
     "execution_count": 289,
     "metadata": {},
     "output_type": "execute_result"
    },
    {
     "data": {
      "image/png": "[encoded data removed]",
      "text/plain": [
       "<matplotlib.figure.Figure at 0x130995ed0>"
      ]
     },
     "metadata": {},
     "output_type": "display_data"
    }
   ],
   "source": [
    "predictions = tree.predict(X_test)\n",
    "plt.scatter(y_test, predictions)"
   ]
  },
  {
   "cell_type": "markdown",
   "metadata": {},
   "source": [
    "Grid Search"
   ]
  },
  {
   "cell_type": "code",
   "execution_count": 290,
   "metadata": {
    "collapsed": true
   },
   "outputs": [],
   "source": [
    "#sklearn.tree.DecisionTreeRegressor? max_depth=None ,max_features=None, min_samples_split=2, 'min_samples_split': [2,4,6,8,10]"
   ]
  },
  {
   "cell_type": "code",
   "execution_count": 297,
   "metadata": {
    "collapsed": false,
    "scrolled": true
   },
   "outputs": [
    {
     "data": {
      "text/plain": [
       "DecisionTreeRegressor(criterion='mse', max_depth=3, max_features=None,\n",
       "           max_leaf_nodes=None, min_samples_leaf=1, min_samples_split=4,\n",
       "           min_weight_fraction_leaf=0.0, presort=False, random_state=None,\n",
       "           splitter='best')"
      ]
     },
     "execution_count": 297,
     "metadata": {},
     "output_type": "execute_result"
    }
   ],
   "source": [
    "import sklearn.grid_search\n",
    "params = { 'max_depth': range(1,10),\n",
    "         'max_features': [None,1],\n",
    "         'min_samples_split': [2,4,6,8,10]}\n",
    "tree = sklearn.tree.DecisionTreeRegressor()\n",
    "searcher = sklearn.grid_search.GridSearchCV(tree, params, cv=10)\n",
    "searcher.fit(X,y)\n",
    "searcher.best_estimator_"
   ]
  },
  {
   "cell_type": "code",
   "execution_count": 300,
   "metadata": {
    "collapsed": false
   },
   "outputs": [
    {
     "data": {
      "text/plain": [
       "{'max_depth': 3, 'max_features': None, 'min_samples_split': 4}"
      ]
     },
     "execution_count": 300,
     "metadata": {},
     "output_type": "execute_result"
    }
   ],
   "source": [
    "searcher.best_params_"
   ]
  },
  {
   "cell_type": "code",
   "execution_count": 301,
   "metadata": {
    "collapsed": false
   },
   "outputs": [
    {
     "data": {
      "text/plain": [
       "-0.064362410568560652"
      ]
     },
     "execution_count": 301,
     "metadata": {},
     "output_type": "execute_result"
    }
   ],
   "source": [
    "searcher.best_score_"
   ]
  },
  {
   "cell_type": "markdown",
   "metadata": {},
   "source": [
    "# 2015 Volume Sold (Liters) sum vs 2016 Sales Q1"
   ]
  },
  {
   "cell_type": "code",
   "execution_count": 333,
   "metadata": {
    "collapsed": true
   },
   "outputs": [],
   "source": [
    "X = extended[['2015 Volume Sold (Liters) sum']]\n",
    "y = extended['2016 Sales Q1']"
   ]
  },
  {
   "cell_type": "code",
   "execution_count": 334,
   "metadata": {
    "collapsed": false
   },
   "outputs": [
    {
     "data": {
      "text/plain": [
       "<matplotlib.collections.PathCollection at 0x13accb850>"
      ]
     },
     "execution_count": 334,
     "metadata": {},
     "output_type": "execute_result"
    },
    {
     "data": {
      "image/png": "[encoded data removed]",
      "text/plain": [
       "<matplotlib.figure.Figure at 0x13ab82ed0>"
      ]
     },
     "metadata": {},
     "output_type": "display_data"
    }
   ],
   "source": [
    "plt.scatter(X,y)"
   ]
  },
  {
   "cell_type": "code",
   "execution_count": 343,
   "metadata": {
    "collapsed": false
   },
   "outputs": [
    {
     "data": {
      "text/plain": [
       "(array([[ 2.94740779]]), array([ 179.0438895]))"
      ]
     },
     "execution_count": 343,
     "metadata": {},
     "output_type": "execute_result"
    }
   ],
   "source": [
    "(X_train,X_test,y_train,y_test) = train_test_split(X,y)\n",
    "ransac = sklearn.linear_model.RANSACRegressor()\n",
    "ransac.fit(X_train,y_train)\n",
    "ransac.estimator_.coef_,ransac.estimator_.intercept_"
   ]
  },
  {
   "cell_type": "code",
   "execution_count": 344,
   "metadata": {
    "collapsed": false
   },
   "outputs": [
    {
     "data": {
      "text/plain": [
       "<matplotlib.collections.PathCollection at 0x13afa57d0>"
      ]
     },
     "execution_count": 344,
     "metadata": {},
     "output_type": "execute_result"
    },
    {
     "data": {
      "image/png": "[encoded data removed]",
      "text/plain": [
       "<matplotlib.figure.Figure at 0x13add7450>"
      ]
     },
     "metadata": {},
     "output_type": "display_data"
    }
   ],
   "source": [
    "predictions = ransac.predict(X_test)\n",
    "plt.scatter(y_test,predictions)"
   ]
  },
  {
   "cell_type": "code",
   "execution_count": 352,
   "metadata": {
    "collapsed": false
   },
   "outputs": [
    {
     "data": {
      "text/plain": [
       "0.84558913509430478"
      ]
     },
     "execution_count": 352,
     "metadata": {},
     "output_type": "execute_result"
    }
   ],
   "source": [
    "ransac.score(X_test,y_test)"
   ]
  },
  {
   "cell_type": "code",
   "execution_count": 353,
   "metadata": {
    "collapsed": false
   },
   "outputs": [
    {
     "data": {
      "text/plain": [
       "0.84558913509430478"
      ]
     },
     "execution_count": 353,
     "metadata": {},
     "output_type": "execute_result"
    }
   ],
   "source": [
    "sklearn.metrics.r2_score(y_test,predictions)"
   ]
  },
  {
   "cell_type": "code",
   "execution_count": 357,
   "metadata": {
    "collapsed": false
   },
   "outputs": [
    {
     "data": {
      "text/plain": [
       "0.8123822045154071"
      ]
     },
     "execution_count": 357,
     "metadata": {},
     "output_type": "execute_result"
    }
   ],
   "source": [
    "# This is wrong, because it is scoring the wrong way around,\n",
    "# but it will be similar \n",
    "sklearn.metrics.r2_score(predictions, y_test)"
   ]
  },
  {
   "cell_type": "markdown",
   "metadata": {},
   "source": [
    "We can do better than a test/train split,  by doing cross validation."
   ]
  },
  {
   "cell_type": "code",
   "execution_count": 339,
   "metadata": {
    "collapsed": false,
    "scrolled": true
   },
   "outputs": [
    {
     "data": {
      "text/plain": [
       "array([ 0.71329948,  0.91628891,  0.70307213,  0.83586232,  0.6212205 ,\n",
       "        0.64923639,  0.77998832,  0.7923058 ,  0.90669606,  0.74593822])"
      ]
     },
     "execution_count": 339,
     "metadata": {},
     "output_type": "execute_result"
    }
   ],
   "source": [
    "from sklearn.cross_validation import cross_val_score\n",
    "X = extended[['2015 Volume Sold (Liters) sum']]\n",
    "y = extended[['2016 Sales Q1']]\n",
    "ransac = sklearn.linear_model.RANSACRegressor()\n",
    "cross_val_score(ransac, X, y, cv=10)\n",
    "\n"
   ]
  },
  {
   "cell_type": "markdown",
   "metadata": {},
   "source": [
    "If we had some intermediate steps that meant that the previous cell wasn't an option,\n",
    "then we can do a manual KFold."
   ]
  },
  {
   "cell_type": "code",
   "execution_count": 73,
   "metadata": {
    "collapsed": false
   },
   "outputs": [
    {
     "name": "stdout",
     "output_type": "stream",
     "text": [
      "0.793460026538\n",
      "0.86258427771\n",
      "0.737021433625\n",
      "0.80818655152\n",
      "0.632895062598\n",
      "0.666955452698\n",
      "0.780723020181\n",
      "0.796972968807\n",
      "0.877493452457\n",
      "0.69536738806\n"
     ]
    }
   ],
   "source": [
    "from sklearn.cross_validation import KFold\n",
    "from sklearn.metrics import r2_score\n",
    "X = extended[['2015 Volume Sold (Liters) sum']]\n",
    "y = extended[['2016 Sales Q1']]\n",
    "Number_of_rows = len(extended)\n",
    "for fold in KFold(Number_of_rows, n_folds=10):\n",
    "    train_fold = fold[0]\n",
    "    test_fold = fold[1]\n",
    "    X_fold = X.iloc[train_fold]\n",
    "    y_fold = y.iloc[train_fold]\n",
    "    #.......\n",
    "    ransac = sklearn.linear_model.RANSACRegressor()\n",
    "    ransac.fit(X_fold, y_fold)\n",
    "    predictions = ransac.predict(X.iloc[test_fold])\n",
    "    print r2_score(y.iloc[test_fold], predictions)\n"
   ]
  },
  {
   "cell_type": "markdown",
   "metadata": {
    "collapsed": true
   },
   "source": [
    "In reality, we just do GridSearch\n",
    "\n",
    "老师说：“GridSearch  很好”。"
   ]
  },
  {
   "cell_type": "code",
   "execution_count": 109,
   "metadata": {
    "collapsed": false
   },
   "outputs": [
    {
     "data": {
      "text/plain": [
       "RANSACRegressor(base_estimator=None, is_data_valid=None, is_model_valid=None,\n",
       "        max_trials=150, min_samples=None, random_state=None,\n",
       "        residual_metric=None, residual_threshold=None, stop_n_inliers=inf,\n",
       "        stop_probability=0.99, stop_score=inf)"
      ]
     },
     "execution_count": 109,
     "metadata": {},
     "output_type": "execute_result"
    }
   ],
   "source": [
    "import sklearn.grid_search\n",
    "params = { 'residual_threshold': [None, 0.1, 1.0, 10.0, 20, 30, 40, 50],\n",
    "         'max_trials': [150,200]}\n",
    "ransac = sklearn.linear_model.RANSACRegressor()\n",
    "searcher = sklearn.grid_search.GridSearchCV(ransac, params, cv=10)\n",
    "searcher.fit(X,y)\n",
    "searcher.best_estimator_"
   ]
  },
  {
   "cell_type": "code",
   "execution_count": 110,
   "metadata": {
    "collapsed": false
   },
   "outputs": [
    {
     "data": {
      "text/plain": [
       "array([[ 2.81947957]])"
      ]
     },
     "execution_count": 110,
     "metadata": {},
     "output_type": "execute_result"
    }
   ],
   "source": [
    "searcher.best_estimator_.estimator_.coef_"
   ]
  },
  {
   "cell_type": "code",
   "execution_count": 111,
   "metadata": {
    "collapsed": false
   },
   "outputs": [
    {
     "data": {
      "text/plain": [
       "array([ 72.59819417])"
      ]
     },
     "execution_count": 111,
     "metadata": {},
     "output_type": "execute_result"
    }
   ],
   "source": [
    "searcher.best_estimator_.estimator_.intercept_"
   ]
  },
  {
   "cell_type": "code",
   "execution_count": 112,
   "metadata": {
    "collapsed": false
   },
   "outputs": [
    {
     "data": {
      "text/plain": [
       "0.76672209131390379"
      ]
     },
     "execution_count": 112,
     "metadata": {},
     "output_type": "execute_result"
    }
   ],
   "source": [
    "searcher.best_score_"
   ]
  },
  {
   "cell_type": "code",
   "execution_count": 113,
   "metadata": {
    "collapsed": false
   },
   "outputs": [
    {
     "data": {
      "text/plain": [
       "{'max_trials': 150, 'residual_threshold': None}"
      ]
     },
     "execution_count": 113,
     "metadata": {},
     "output_type": "execute_result"
    }
   ],
   "source": [
    "searcher.best_params_"
   ]
  },
  {
   "cell_type": "code",
   "execution_count": 114,
   "metadata": {
    "collapsed": false
   },
   "outputs": [
    {
     "data": {
      "text/plain": [
       "[mean: 0.76672, std: 0.08934, params: {'max_trials': 150, 'residual_threshold': None},\n",
       " mean: 0.53413, std: 0.38518, params: {'max_trials': 150, 'residual_threshold': 0.1},\n",
       " mean: 0.70902, std: 0.15077, params: {'max_trials': 150, 'residual_threshold': 1.0},\n",
       " mean: 0.64383, std: 0.15557, params: {'max_trials': 150, 'residual_threshold': 10.0},\n",
       " mean: 0.74027, std: 0.08541, params: {'max_trials': 150, 'residual_threshold': 20},\n",
       " mean: 0.71874, std: 0.09930, params: {'max_trials': 150, 'residual_threshold': 30},\n",
       " mean: 0.69051, std: 0.15133, params: {'max_trials': 150, 'residual_threshold': 40},\n",
       " mean: 0.70210, std: 0.11188, params: {'max_trials': 150, 'residual_threshold': 50},\n",
       " mean: 0.75050, std: 0.09007, params: {'max_trials': 200, 'residual_threshold': None},\n",
       " mean: 0.71393, std: 0.12354, params: {'max_trials': 200, 'residual_threshold': 0.1},\n",
       " mean: 0.74135, std: 0.08255, params: {'max_trials': 200, 'residual_threshold': 1.0},\n",
       " mean: 0.70953, std: 0.07142, params: {'max_trials': 200, 'residual_threshold': 10.0},\n",
       " mean: 0.73709, std: 0.09079, params: {'max_trials': 200, 'residual_threshold': 20},\n",
       " mean: 0.67791, std: 0.15664, params: {'max_trials': 200, 'residual_threshold': 30},\n",
       " mean: 0.74168, std: 0.11785, params: {'max_trials': 200, 'residual_threshold': 40},\n",
       " mean: 0.68622, std: 0.06998, params: {'max_trials': 200, 'residual_threshold': 50}]"
      ]
     },
     "execution_count": 114,
     "metadata": {},
     "output_type": "execute_result"
    }
   ],
   "source": [
    "searcher.grid_scores_"
   ]
  },
  {
   "cell_type": "code",
   "execution_count": 117,
   "metadata": {
    "collapsed": false
   },
   "outputs": [
    {
     "data": {
      "text/plain": [
       "[<matplotlib.lines.Line2D at 0x12c3a8d50>]"
      ]
     },
     "execution_count": 117,
     "metadata": {},
     "output_type": "execute_result"
    },
    {
     "data": {
      "image/png": "[encoded data removed]",
      "text/plain": [
       "<matplotlib.figure.Figure at 0x12d0b67d0>"
      ]
     },
     "metadata": {},
     "output_type": "display_data"
    }
   ],
   "source": [
    "predictions = searcher.predict(X)\n",
    "plt.scatter(X,y)\n",
    "plt.plot(X,predictions, color = 'red')"
   ]
  },
  {
   "cell_type": "code",
   "execution_count": null,
   "metadata": {
    "collapsed": true
   },
   "outputs": [],
   "source": []
  }
 ],
 "metadata": {
  "kernelspec": {
   "display_name": "Python 2",
   "language": "python",
   "name": "python2"
  },
  "language_info": {
   "codemirror_mode": {
    "name": "ipython",
    "version": 2
   },
   "file_extension": ".py",
   "mimetype": "text/x-python",
   "name": "python",
   "nbconvert_exporter": "python",
   "pygments_lexer": "ipython2",
   "version": "2.7.12"
  }
 },
 "nbformat": 4,
 "nbformat_minor": 0
}
