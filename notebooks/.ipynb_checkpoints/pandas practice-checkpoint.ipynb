{
 "cells": [
  {
   "cell_type": "code",
   "execution_count": 215,
   "metadata": {
    "collapsed": true
   },
   "outputs": [],
   "source": [
    "%matplotlib inline\n",
    "import pandas as pd\n",
    "import numpy as np\n",
    "import matplotlib.pyplot as plt"
   ]
  },
  {
   "cell_type": "code",
   "execution_count": 216,
   "metadata": {
    "collapsed": false
   },
   "outputs": [],
   "source": [
    "s = pandas.Series([1,2,np.nan,4,5])"
   ]
  },
  {
   "cell_type": "code",
   "execution_count": 217,
   "metadata": {
    "collapsed": false
   },
   "outputs": [
    {
     "data": {
      "text/plain": [
       "0    1.0\n",
       "1    2.0\n",
       "2    NaN\n",
       "3    4.0\n",
       "4    5.0\n",
       "dtype: float64"
      ]
     },
     "execution_count": 217,
     "metadata": {},
     "output_type": "execute_result"
    }
   ],
   "source": [
    "s"
   ]
  },
  {
   "cell_type": "code",
   "execution_count": 218,
   "metadata": {
    "collapsed": false
   },
   "outputs": [
    {
     "data": {
      "text/plain": [
       "0    1.0\n",
       "1    2.0\n",
       "3    4.0\n",
       "4    5.0\n",
       "dtype: float64"
      ]
     },
     "execution_count": 218,
     "metadata": {},
     "output_type": "execute_result"
    }
   ],
   "source": [
    "s.dropna()"
   ]
  },
  {
   "cell_type": "code",
   "execution_count": 219,
   "metadata": {
    "collapsed": false
   },
   "outputs": [
    {
     "data": {
      "text/plain": [
       "0    1.0\n",
       "1    2.0\n",
       "2    NaN\n",
       "3    4.0\n",
       "4    5.0\n",
       "dtype: float64"
      ]
     },
     "execution_count": 219,
     "metadata": {},
     "output_type": "execute_result"
    }
   ],
   "source": [
    "s"
   ]
  },
  {
   "cell_type": "code",
   "execution_count": 220,
   "metadata": {
    "collapsed": true
   },
   "outputs": [],
   "source": [
    "s.dropna(inplace=True)"
   ]
  },
  {
   "cell_type": "code",
   "execution_count": 221,
   "metadata": {
    "collapsed": false
   },
   "outputs": [
    {
     "data": {
      "text/plain": [
       "0    1.0\n",
       "1    2.0\n",
       "3    4.0\n",
       "4    5.0\n",
       "dtype: float64"
      ]
     },
     "execution_count": 221,
     "metadata": {},
     "output_type": "execute_result"
    }
   ],
   "source": [
    "s"
   ]
  },
  {
   "cell_type": "code",
   "execution_count": 222,
   "metadata": {
    "collapsed": false,
    "scrolled": true
   },
   "outputs": [],
   "source": [
    "date = pd.date_range('20160910',periods = 10)"
   ]
  },
  {
   "cell_type": "code",
   "execution_count": 223,
   "metadata": {
    "collapsed": false
   },
   "outputs": [
    {
     "data": {
      "text/plain": [
       "DatetimeIndex(['2016-09-10', '2016-09-11', '2016-09-12', '2016-09-13',\n",
       "               '2016-09-14', '2016-09-15', '2016-09-16', '2016-09-17',\n",
       "               '2016-09-18', '2016-09-19'],\n",
       "              dtype='datetime64[ns]', freq='D')"
      ]
     },
     "execution_count": 223,
     "metadata": {},
     "output_type": "execute_result"
    }
   ],
   "source": [
    "date"
   ]
  },
  {
   "cell_type": "code",
   "execution_count": 224,
   "metadata": {
    "collapsed": true
   },
   "outputs": [],
   "source": [
    "s = pd.Series(date)"
   ]
  },
  {
   "cell_type": "code",
   "execution_count": 225,
   "metadata": {
    "collapsed": false
   },
   "outputs": [
    {
     "data": {
      "text/plain": [
       "0   2016-09-10\n",
       "1   2016-09-11\n",
       "2   2016-09-12\n",
       "3   2016-09-13\n",
       "4   2016-09-14\n",
       "5   2016-09-15\n",
       "6   2016-09-16\n",
       "7   2016-09-17\n",
       "8   2016-09-18\n",
       "9   2016-09-19\n",
       "dtype: datetime64[ns]"
      ]
     },
     "execution_count": 225,
     "metadata": {},
     "output_type": "execute_result"
    }
   ],
   "source": [
    "s"
   ]
  },
  {
   "cell_type": "code",
   "execution_count": 226,
   "metadata": {
    "collapsed": true
   },
   "outputs": [],
   "source": [
    "s = pd.Series([1.,4,5,6])"
   ]
  },
  {
   "cell_type": "code",
   "execution_count": 227,
   "metadata": {
    "collapsed": false
   },
   "outputs": [
    {
     "data": {
      "text/plain": [
       "0    1.0\n",
       "1    4.0\n",
       "2    5.0\n",
       "3    6.0\n",
       "dtype: float64"
      ]
     },
     "execution_count": 227,
     "metadata": {},
     "output_type": "execute_result"
    }
   ],
   "source": [
    "s"
   ]
  },
  {
   "cell_type": "code",
   "execution_count": 228,
   "metadata": {
    "collapsed": true
   },
   "outputs": [],
   "source": [
    "s = pd.Series([1,4,5,6])"
   ]
  },
  {
   "cell_type": "code",
   "execution_count": 229,
   "metadata": {
    "collapsed": false
   },
   "outputs": [
    {
     "data": {
      "text/plain": [
       "0    1\n",
       "1    4\n",
       "2    5\n",
       "3    6\n",
       "dtype: int64"
      ]
     },
     "execution_count": 229,
     "metadata": {},
     "output_type": "execute_result"
    }
   ],
   "source": [
    "s"
   ]
  },
  {
   "cell_type": "code",
   "execution_count": 257,
   "metadata": {
    "collapsed": false
   },
   "outputs": [
    {
     "data": {
      "text/plain": [
       "array([[ 1.19128646],\n",
       "       [-0.02485524],\n",
       "       [ 1.16688489],\n",
       "       [-0.73253226],\n",
       "       [-0.33368269]])"
      ]
     },
     "execution_count": 257,
     "metadata": {},
     "output_type": "execute_result"
    }
   ],
   "source": [
    "r = np.random.randn(5,1)\n",
    "r"
   ]
  },
  {
   "cell_type": "code",
   "execution_count": 258,
   "metadata": {
    "collapsed": false
   },
   "outputs": [
    {
     "data": {
      "text/plain": [
       "numpy.ndarray"
      ]
     },
     "execution_count": 258,
     "metadata": {},
     "output_type": "execute_result"
    }
   ],
   "source": [
    "type(r)"
   ]
  },
  {
   "cell_type": "code",
   "execution_count": 231,
   "metadata": {
    "collapsed": false
   },
   "outputs": [
    {
     "data": {
      "text/plain": [
       "DatetimeIndex(['2016-09-14', '2016-09-15', '2016-09-16', '2016-09-17',\n",
       "               '2016-09-18'],\n",
       "              dtype='datetime64[ns]', freq='D')"
      ]
     },
     "execution_count": 231,
     "metadata": {},
     "output_type": "execute_result"
    }
   ],
   "source": [
    "date = pd.date_range('20160914', periods = 5)\n",
    "date"
   ]
  },
  {
   "cell_type": "code",
   "execution_count": 232,
   "metadata": {
    "collapsed": false
   },
   "outputs": [
    {
     "data": {
      "text/html": [
       "<div>\n",
       "<table border=\"1\" class=\"dataframe\">\n",
       "  <thead>\n",
       "    <tr style=\"text-align: right;\">\n",
       "      <th></th>\n",
       "      <th>A</th>\n",
       "      <th>B</th>\n",
       "      <th>C</th>\n",
       "      <th>D</th>\n",
       "      <th>E</th>\n",
       "    </tr>\n",
       "  </thead>\n",
       "  <tbody>\n",
       "    <tr>\n",
       "      <th>2016-09-14</th>\n",
       "      <td>0.136005</td>\n",
       "      <td>1.443742</td>\n",
       "      <td>-0.478537</td>\n",
       "      <td>1.110311</td>\n",
       "      <td>-0.455589</td>\n",
       "    </tr>\n",
       "    <tr>\n",
       "      <th>2016-09-15</th>\n",
       "      <td>0.977539</td>\n",
       "      <td>-0.447168</td>\n",
       "      <td>-0.541370</td>\n",
       "      <td>1.300387</td>\n",
       "      <td>-0.730367</td>\n",
       "    </tr>\n",
       "    <tr>\n",
       "      <th>2016-09-16</th>\n",
       "      <td>-0.444276</td>\n",
       "      <td>-0.029367</td>\n",
       "      <td>-0.332550</td>\n",
       "      <td>-0.116065</td>\n",
       "      <td>-0.519264</td>\n",
       "    </tr>\n",
       "    <tr>\n",
       "      <th>2016-09-17</th>\n",
       "      <td>0.070599</td>\n",
       "      <td>1.003369</td>\n",
       "      <td>0.658295</td>\n",
       "      <td>-0.282380</td>\n",
       "      <td>0.558979</td>\n",
       "    </tr>\n",
       "    <tr>\n",
       "      <th>2016-09-18</th>\n",
       "      <td>-1.047058</td>\n",
       "      <td>-1.603288</td>\n",
       "      <td>0.237994</td>\n",
       "      <td>-0.245669</td>\n",
       "      <td>-0.800912</td>\n",
       "    </tr>\n",
       "  </tbody>\n",
       "</table>\n",
       "</div>"
      ],
      "text/plain": [
       "                   A         B         C         D         E\n",
       "2016-09-14  0.136005  1.443742 -0.478537  1.110311 -0.455589\n",
       "2016-09-15  0.977539 -0.447168 -0.541370  1.300387 -0.730367\n",
       "2016-09-16 -0.444276 -0.029367 -0.332550 -0.116065 -0.519264\n",
       "2016-09-17  0.070599  1.003369  0.658295 -0.282380  0.558979\n",
       "2016-09-18 -1.047058 -1.603288  0.237994 -0.245669 -0.800912"
      ]
     },
     "execution_count": 232,
     "metadata": {},
     "output_type": "execute_result"
    }
   ],
   "source": [
    "df = pd.DataFrame(r,index = date,columns = list('abcde'.upper()))\n",
    "df"
   ]
  },
  {
   "cell_type": "code",
   "execution_count": 233,
   "metadata": {
    "collapsed": true
   },
   "outputs": [],
   "source": [
    "s = pd.Series([1,2,3,4,5])"
   ]
  },
  {
   "cell_type": "code",
   "execution_count": 234,
   "metadata": {
    "collapsed": false
   },
   "outputs": [
    {
     "data": {
      "text/plain": [
       "0    1\n",
       "1    2\n",
       "2    3\n",
       "3    4\n",
       "4    5\n",
       "dtype: int64"
      ]
     },
     "execution_count": 234,
     "metadata": {},
     "output_type": "execute_result"
    }
   ],
   "source": [
    "s"
   ]
  },
  {
   "cell_type": "code",
   "execution_count": 235,
   "metadata": {
    "collapsed": false
   },
   "outputs": [
    {
     "data": {
      "text/html": [
       "<div>\n",
       "<table border=\"1\" class=\"dataframe\">\n",
       "  <thead>\n",
       "    <tr style=\"text-align: right;\">\n",
       "      <th></th>\n",
       "      <th>A</th>\n",
       "    </tr>\n",
       "  </thead>\n",
       "  <tbody>\n",
       "    <tr>\n",
       "      <th>apple</th>\n",
       "      <td>1</td>\n",
       "    </tr>\n",
       "    <tr>\n",
       "      <th>banana</th>\n",
       "      <td>2</td>\n",
       "    </tr>\n",
       "    <tr>\n",
       "      <th>peach</th>\n",
       "      <td>3</td>\n",
       "    </tr>\n",
       "    <tr>\n",
       "      <th>watermalon</th>\n",
       "      <td>4</td>\n",
       "    </tr>\n",
       "    <tr>\n",
       "      <th>orange</th>\n",
       "      <td>5</td>\n",
       "    </tr>\n",
       "  </tbody>\n",
       "</table>\n",
       "</div>"
      ],
      "text/plain": [
       "            A\n",
       "apple       1\n",
       "banana      2\n",
       "peach       3\n",
       "watermalon  4\n",
       "orange      5"
      ]
     },
     "execution_count": 235,
     "metadata": {},
     "output_type": "execute_result"
    }
   ],
   "source": [
    "df = pd.DataFrame(list(s),index = ['apple','banana','peach','watermalon','orange'],columns = ['A'])\n",
    "df"
   ]
  },
  {
   "cell_type": "code",
   "execution_count": 7,
   "metadata": {
    "collapsed": false
   },
   "outputs": [
    {
     "data": {
      "text/html": [
       "<div>\n",
       "<table border=\"1\" class=\"dataframe\">\n",
       "  <thead>\n",
       "    <tr style=\"text-align: right;\">\n",
       "      <th></th>\n",
       "      <th>a</th>\n",
       "      <th>b</th>\n",
       "      <th>c</th>\n",
       "      <th>d</th>\n",
       "      <th>e</th>\n",
       "      <th>f</th>\n",
       "    </tr>\n",
       "  </thead>\n",
       "  <tbody>\n",
       "    <tr>\n",
       "      <th>A</th>\n",
       "      <td>1</td>\n",
       "      <td>2016-09-14</td>\n",
       "      <td>3</td>\n",
       "      <td>g</td>\n",
       "      <td>p</td>\n",
       "      <td>NaN</td>\n",
       "    </tr>\n",
       "    <tr>\n",
       "      <th>B</th>\n",
       "      <td>1</td>\n",
       "      <td>2016-09-14</td>\n",
       "      <td>3</td>\n",
       "      <td>o</td>\n",
       "      <td>a</td>\n",
       "      <td>NaN</td>\n",
       "    </tr>\n",
       "    <tr>\n",
       "      <th>C</th>\n",
       "      <td>1</td>\n",
       "      <td>2016-09-14</td>\n",
       "      <td>3</td>\n",
       "      <td>l</td>\n",
       "      <td>s</td>\n",
       "      <td>NaN</td>\n",
       "    </tr>\n",
       "    <tr>\n",
       "      <th>D</th>\n",
       "      <td>1</td>\n",
       "      <td>2016-09-14</td>\n",
       "      <td>3</td>\n",
       "      <td>f</td>\n",
       "      <td>s</td>\n",
       "      <td>NaN</td>\n",
       "    </tr>\n",
       "  </tbody>\n",
       "</table>\n",
       "</div>"
      ],
      "text/plain": [
       "   a          b  c  d  e    f\n",
       "A  1 2016-09-14  3  g  p  NaN\n",
       "B  1 2016-09-14  3  o  a  NaN\n",
       "C  1 2016-09-14  3  l  s  NaN\n",
       "D  1 2016-09-14  3  f  s  NaN"
      ]
     },
     "execution_count": 7,
     "metadata": {},
     "output_type": "execute_result"
    }
   ],
   "source": [
    "import pandas as pd\n",
    "import numpy as np\n",
    "df = pd.DataFrame({\n",
    "        'a': [1]*4,\n",
    "        'b': pd.Timestamp('20160914'),\n",
    "        'c':np.array([3]*4),\n",
    "        'd':pd.Series(['g','o','l','f'], index=[\"A\",\"B\",\"C\",\"D\"]),\n",
    "        'e':['p','a','s','s'],\n",
    "    })\n",
    "df['f'] = pd.Series(['c','a','t','s'], index=[\"E\",\"F\",\"G\",\"H\"])\n",
    "df"
   ]
  },
  {
   "cell_type": "code",
   "execution_count": 237,
   "metadata": {
    "collapsed": false
   },
   "outputs": [
    {
     "data": {
      "text/plain": [
       "a             int64\n",
       "b    datetime64[ns]\n",
       "c             int64\n",
       "d            object\n",
       "e            object\n",
       "dtype: object"
      ]
     },
     "execution_count": 237,
     "metadata": {},
     "output_type": "execute_result"
    }
   ],
   "source": [
    "df.dtypes"
   ]
  },
  {
   "cell_type": "code",
   "execution_count": 238,
   "metadata": {
    "collapsed": false
   },
   "outputs": [
    {
     "data": {
      "text/plain": [
       "0    g\n",
       "1    o\n",
       "2    l\n",
       "3    f\n",
       "Name: d, dtype: object"
      ]
     },
     "execution_count": 238,
     "metadata": {},
     "output_type": "execute_result"
    }
   ],
   "source": [
    "df.d"
   ]
  },
  {
   "cell_type": "code",
   "execution_count": 239,
   "metadata": {
    "collapsed": false
   },
   "outputs": [
    {
     "data": {
      "text/plain": [
       "pandas.core.series.Series"
      ]
     },
     "execution_count": 239,
     "metadata": {},
     "output_type": "execute_result"
    }
   ],
   "source": [
    "type(df.d)"
   ]
  },
  {
   "cell_type": "code",
   "execution_count": 240,
   "metadata": {
    "collapsed": false
   },
   "outputs": [
    {
     "data": {
      "text/plain": [
       "0    p\n",
       "1    a\n",
       "2    s\n",
       "3    s\n",
       "Name: e, dtype: object"
      ]
     },
     "execution_count": 240,
     "metadata": {},
     "output_type": "execute_result"
    }
   ],
   "source": [
    "df.e"
   ]
  },
  {
   "cell_type": "code",
   "execution_count": 241,
   "metadata": {
    "collapsed": false
   },
   "outputs": [
    {
     "data": {
      "text/plain": [
       "pandas.core.series.Series"
      ]
     },
     "execution_count": 241,
     "metadata": {},
     "output_type": "execute_result"
    }
   ],
   "source": [
    "type(df.e)"
   ]
  },
  {
   "cell_type": "code",
   "execution_count": 248,
   "metadata": {
    "collapsed": true
   },
   "outputs": [],
   "source": [
    "date = pd.date_range('20160914', periods=10)"
   ]
  },
  {
   "cell_type": "code",
   "execution_count": 249,
   "metadata": {
    "collapsed": false
   },
   "outputs": [
    {
     "data": {
      "text/plain": [
       "DatetimeIndex(['2016-09-14', '2016-09-15', '2016-09-16', '2016-09-17',\n",
       "               '2016-09-18', '2016-09-19', '2016-09-20', '2016-09-21',\n",
       "               '2016-09-22', '2016-09-23'],\n",
       "              dtype='datetime64[ns]', freq='D')"
      ]
     },
     "execution_count": 249,
     "metadata": {},
     "output_type": "execute_result"
    }
   ],
   "source": [
    "date"
   ]
  },
  {
   "cell_type": "code",
   "execution_count": 250,
   "metadata": {
    "collapsed": true
   },
   "outputs": [],
   "source": [
    "values = np.random.randn(10,5)"
   ]
  },
  {
   "cell_type": "code",
   "execution_count": 251,
   "metadata": {
    "collapsed": false
   },
   "outputs": [
    {
     "data": {
      "text/plain": [
       "array([[ 2.2134815 ,  0.4524669 ,  1.68116701,  0.39850768, -1.01619634],\n",
       "       [-0.25260645,  0.34308161, -0.98105352,  0.15450463, -0.33742243],\n",
       "       [ 1.91072671,  0.21157055,  0.09435091,  0.24523568,  0.72988436],\n",
       "       [ 1.3272906 ,  0.80218212, -0.97369397, -0.03958245,  1.46501818],\n",
       "       [ 1.32286669, -0.60167873,  0.70624875, -0.93829586, -0.62281171],\n",
       "       [ 0.51712067, -1.70616649, -1.43717444, -0.56992509, -0.46019215],\n",
       "       [ 0.18850767, -0.32915296, -0.72907562,  0.13749704, -0.39418759],\n",
       "       [ 0.35209987,  0.57461919,  0.99549079,  0.0233954 ,  0.98876755],\n",
       "       [ 2.17753561, -1.22010745, -0.71642728,  0.52970796, -0.55231637],\n",
       "       [ 0.08043124, -0.1195331 ,  0.21949529,  0.39064801,  1.02128223]])"
      ]
     },
     "execution_count": 251,
     "metadata": {},
     "output_type": "execute_result"
    }
   ],
   "source": [
    "values"
   ]
  },
  {
   "cell_type": "code",
   "execution_count": 256,
   "metadata": {
    "collapsed": false
   },
   "outputs": [
    {
     "data": {
      "text/html": [
       "<div>\n",
       "<table border=\"1\" class=\"dataframe\">\n",
       "  <thead>\n",
       "    <tr style=\"text-align: right;\">\n",
       "      <th></th>\n",
       "      <th>A</th>\n",
       "      <th>B</th>\n",
       "      <th>C</th>\n",
       "      <th>D</th>\n",
       "      <th>E</th>\n",
       "    </tr>\n",
       "  </thead>\n",
       "  <tbody>\n",
       "    <tr>\n",
       "      <th>2016-09-14</th>\n",
       "      <td>2.213481</td>\n",
       "      <td>0.452467</td>\n",
       "      <td>1.681167</td>\n",
       "      <td>0.398508</td>\n",
       "      <td>-1.016196</td>\n",
       "    </tr>\n",
       "    <tr>\n",
       "      <th>2016-09-15</th>\n",
       "      <td>-0.252606</td>\n",
       "      <td>0.343082</td>\n",
       "      <td>-0.981054</td>\n",
       "      <td>0.154505</td>\n",
       "      <td>-0.337422</td>\n",
       "    </tr>\n",
       "    <tr>\n",
       "      <th>2016-09-16</th>\n",
       "      <td>1.910727</td>\n",
       "      <td>0.211571</td>\n",
       "      <td>0.094351</td>\n",
       "      <td>0.245236</td>\n",
       "      <td>0.729884</td>\n",
       "    </tr>\n",
       "    <tr>\n",
       "      <th>2016-09-17</th>\n",
       "      <td>1.327291</td>\n",
       "      <td>0.802182</td>\n",
       "      <td>-0.973694</td>\n",
       "      <td>-0.039582</td>\n",
       "      <td>1.465018</td>\n",
       "    </tr>\n",
       "    <tr>\n",
       "      <th>2016-09-18</th>\n",
       "      <td>1.322867</td>\n",
       "      <td>-0.601679</td>\n",
       "      <td>0.706249</td>\n",
       "      <td>-0.938296</td>\n",
       "      <td>-0.622812</td>\n",
       "    </tr>\n",
       "    <tr>\n",
       "      <th>2016-09-19</th>\n",
       "      <td>0.517121</td>\n",
       "      <td>-1.706166</td>\n",
       "      <td>-1.437174</td>\n",
       "      <td>-0.569925</td>\n",
       "      <td>-0.460192</td>\n",
       "    </tr>\n",
       "    <tr>\n",
       "      <th>2016-09-20</th>\n",
       "      <td>0.188508</td>\n",
       "      <td>-0.329153</td>\n",
       "      <td>-0.729076</td>\n",
       "      <td>0.137497</td>\n",
       "      <td>-0.394188</td>\n",
       "    </tr>\n",
       "    <tr>\n",
       "      <th>2016-09-21</th>\n",
       "      <td>0.352100</td>\n",
       "      <td>0.574619</td>\n",
       "      <td>0.995491</td>\n",
       "      <td>0.023395</td>\n",
       "      <td>0.988768</td>\n",
       "    </tr>\n",
       "    <tr>\n",
       "      <th>2016-09-22</th>\n",
       "      <td>2.177536</td>\n",
       "      <td>-1.220107</td>\n",
       "      <td>-0.716427</td>\n",
       "      <td>0.529708</td>\n",
       "      <td>-0.552316</td>\n",
       "    </tr>\n",
       "    <tr>\n",
       "      <th>2016-09-23</th>\n",
       "      <td>0.080431</td>\n",
       "      <td>-0.119533</td>\n",
       "      <td>0.219495</td>\n",
       "      <td>0.390648</td>\n",
       "      <td>1.021282</td>\n",
       "    </tr>\n",
       "  </tbody>\n",
       "</table>\n",
       "</div>"
      ],
      "text/plain": [
       "                   A         B         C         D         E\n",
       "2016-09-14  2.213481  0.452467  1.681167  0.398508 -1.016196\n",
       "2016-09-15 -0.252606  0.343082 -0.981054  0.154505 -0.337422\n",
       "2016-09-16  1.910727  0.211571  0.094351  0.245236  0.729884\n",
       "2016-09-17  1.327291  0.802182 -0.973694 -0.039582  1.465018\n",
       "2016-09-18  1.322867 -0.601679  0.706249 -0.938296 -0.622812\n",
       "2016-09-19  0.517121 -1.706166 -1.437174 -0.569925 -0.460192\n",
       "2016-09-20  0.188508 -0.329153 -0.729076  0.137497 -0.394188\n",
       "2016-09-21  0.352100  0.574619  0.995491  0.023395  0.988768\n",
       "2016-09-22  2.177536 -1.220107 -0.716427  0.529708 -0.552316\n",
       "2016-09-23  0.080431 -0.119533  0.219495  0.390648  1.021282"
      ]
     },
     "execution_count": 256,
     "metadata": {},
     "output_type": "execute_result"
    }
   ],
   "source": [
    "df = pd.DataFrame(values, index = date, columns = list('abcde'.upper()))\n",
    "df"
   ]
  },
  {
   "cell_type": "code",
   "execution_count": 317,
   "metadata": {
    "collapsed": false
   },
   "outputs": [
    {
     "data": {
      "text/plain": [
       "2016-09-14    2.213481\n",
       "2016-09-15   -0.252606\n",
       "2016-09-16    1.910727\n",
       "2016-09-17    1.327291\n",
       "2016-09-18    1.322867\n",
       "2016-09-19    0.517121\n",
       "2016-09-20    0.188508\n",
       "2016-09-21    0.352100\n",
       "2016-09-22    2.177536\n",
       "2016-09-23    0.080431\n",
       "Freq: D, Name: A, dtype: float64"
      ]
     },
     "execution_count": 317,
     "metadata": {},
     "output_type": "execute_result"
    }
   ],
   "source": [
    "df['A']"
   ]
  },
  {
   "cell_type": "code",
   "execution_count": 318,
   "metadata": {
    "collapsed": false
   },
   "outputs": [
    {
     "data": {
      "text/html": [
       "<div>\n",
       "<table border=\"1\" class=\"dataframe\">\n",
       "  <thead>\n",
       "    <tr style=\"text-align: right;\">\n",
       "      <th></th>\n",
       "      <th>A</th>\n",
       "    </tr>\n",
       "  </thead>\n",
       "  <tbody>\n",
       "    <tr>\n",
       "      <th>2016-09-14</th>\n",
       "      <td>2.213481</td>\n",
       "    </tr>\n",
       "    <tr>\n",
       "      <th>2016-09-15</th>\n",
       "      <td>-0.252606</td>\n",
       "    </tr>\n",
       "    <tr>\n",
       "      <th>2016-09-16</th>\n",
       "      <td>1.910727</td>\n",
       "    </tr>\n",
       "    <tr>\n",
       "      <th>2016-09-17</th>\n",
       "      <td>1.327291</td>\n",
       "    </tr>\n",
       "    <tr>\n",
       "      <th>2016-09-18</th>\n",
       "      <td>1.322867</td>\n",
       "    </tr>\n",
       "    <tr>\n",
       "      <th>2016-09-19</th>\n",
       "      <td>0.517121</td>\n",
       "    </tr>\n",
       "    <tr>\n",
       "      <th>2016-09-20</th>\n",
       "      <td>0.188508</td>\n",
       "    </tr>\n",
       "    <tr>\n",
       "      <th>2016-09-21</th>\n",
       "      <td>0.352100</td>\n",
       "    </tr>\n",
       "    <tr>\n",
       "      <th>2016-09-22</th>\n",
       "      <td>2.177536</td>\n",
       "    </tr>\n",
       "    <tr>\n",
       "      <th>2016-09-23</th>\n",
       "      <td>0.080431</td>\n",
       "    </tr>\n",
       "  </tbody>\n",
       "</table>\n",
       "</div>"
      ],
      "text/plain": [
       "                   A\n",
       "2016-09-14  2.213481\n",
       "2016-09-15 -0.252606\n",
       "2016-09-16  1.910727\n",
       "2016-09-17  1.327291\n",
       "2016-09-18  1.322867\n",
       "2016-09-19  0.517121\n",
       "2016-09-20  0.188508\n",
       "2016-09-21  0.352100\n",
       "2016-09-22  2.177536\n",
       "2016-09-23  0.080431"
      ]
     },
     "execution_count": 318,
     "metadata": {},
     "output_type": "execute_result"
    }
   ],
   "source": [
    "df[['A']]"
   ]
  },
  {
   "cell_type": "code",
   "execution_count": 319,
   "metadata": {
    "collapsed": false
   },
   "outputs": [
    {
     "data": {
      "text/html": [
       "<div>\n",
       "<table border=\"1\" class=\"dataframe\">\n",
       "  <thead>\n",
       "    <tr style=\"text-align: right;\">\n",
       "      <th></th>\n",
       "      <th>A</th>\n",
       "      <th>C</th>\n",
       "    </tr>\n",
       "  </thead>\n",
       "  <tbody>\n",
       "    <tr>\n",
       "      <th>2016-09-14</th>\n",
       "      <td>2.213481</td>\n",
       "      <td>1.681167</td>\n",
       "    </tr>\n",
       "    <tr>\n",
       "      <th>2016-09-15</th>\n",
       "      <td>-0.252606</td>\n",
       "      <td>-0.981054</td>\n",
       "    </tr>\n",
       "    <tr>\n",
       "      <th>2016-09-16</th>\n",
       "      <td>1.910727</td>\n",
       "      <td>0.094351</td>\n",
       "    </tr>\n",
       "    <tr>\n",
       "      <th>2016-09-17</th>\n",
       "      <td>1.327291</td>\n",
       "      <td>-0.973694</td>\n",
       "    </tr>\n",
       "    <tr>\n",
       "      <th>2016-09-18</th>\n",
       "      <td>1.322867</td>\n",
       "      <td>0.706249</td>\n",
       "    </tr>\n",
       "    <tr>\n",
       "      <th>2016-09-19</th>\n",
       "      <td>0.517121</td>\n",
       "      <td>-1.437174</td>\n",
       "    </tr>\n",
       "    <tr>\n",
       "      <th>2016-09-20</th>\n",
       "      <td>0.188508</td>\n",
       "      <td>-0.729076</td>\n",
       "    </tr>\n",
       "    <tr>\n",
       "      <th>2016-09-21</th>\n",
       "      <td>0.352100</td>\n",
       "      <td>0.995491</td>\n",
       "    </tr>\n",
       "    <tr>\n",
       "      <th>2016-09-22</th>\n",
       "      <td>2.177536</td>\n",
       "      <td>-0.716427</td>\n",
       "    </tr>\n",
       "    <tr>\n",
       "      <th>2016-09-23</th>\n",
       "      <td>0.080431</td>\n",
       "      <td>0.219495</td>\n",
       "    </tr>\n",
       "  </tbody>\n",
       "</table>\n",
       "</div>"
      ],
      "text/plain": [
       "                   A         C\n",
       "2016-09-14  2.213481  1.681167\n",
       "2016-09-15 -0.252606 -0.981054\n",
       "2016-09-16  1.910727  0.094351\n",
       "2016-09-17  1.327291 -0.973694\n",
       "2016-09-18  1.322867  0.706249\n",
       "2016-09-19  0.517121 -1.437174\n",
       "2016-09-20  0.188508 -0.729076\n",
       "2016-09-21  0.352100  0.995491\n",
       "2016-09-22  2.177536 -0.716427\n",
       "2016-09-23  0.080431  0.219495"
      ]
     },
     "execution_count": 319,
     "metadata": {},
     "output_type": "execute_result"
    }
   ],
   "source": [
    "df[[\"A\",\"C\"]]"
   ]
  },
  {
   "cell_type": "code",
   "execution_count": 313,
   "metadata": {
    "collapsed": false
   },
   "outputs": [
    {
     "data": {
      "text/html": [
       "<div>\n",
       "<table border=\"1\" class=\"dataframe\">\n",
       "  <thead>\n",
       "    <tr style=\"text-align: right;\">\n",
       "      <th></th>\n",
       "      <th>A</th>\n",
       "      <th>B</th>\n",
       "      <th>C</th>\n",
       "      <th>D</th>\n",
       "      <th>E</th>\n",
       "    </tr>\n",
       "  </thead>\n",
       "  <tbody>\n",
       "    <tr>\n",
       "      <th>2016-09-14</th>\n",
       "      <td>2.213481</td>\n",
       "      <td>0.452467</td>\n",
       "      <td>1.681167</td>\n",
       "      <td>0.398508</td>\n",
       "      <td>-1.016196</td>\n",
       "    </tr>\n",
       "    <tr>\n",
       "      <th>2016-09-15</th>\n",
       "      <td>-0.252606</td>\n",
       "      <td>0.343082</td>\n",
       "      <td>-0.981054</td>\n",
       "      <td>0.154505</td>\n",
       "      <td>-0.337422</td>\n",
       "    </tr>\n",
       "    <tr>\n",
       "      <th>2016-09-16</th>\n",
       "      <td>1.910727</td>\n",
       "      <td>0.211571</td>\n",
       "      <td>0.094351</td>\n",
       "      <td>0.245236</td>\n",
       "      <td>0.729884</td>\n",
       "    </tr>\n",
       "    <tr>\n",
       "      <th>2016-09-17</th>\n",
       "      <td>1.327291</td>\n",
       "      <td>0.802182</td>\n",
       "      <td>-0.973694</td>\n",
       "      <td>-0.039582</td>\n",
       "      <td>1.465018</td>\n",
       "    </tr>\n",
       "  </tbody>\n",
       "</table>\n",
       "</div>"
      ],
      "text/plain": [
       "                   A         B         C         D         E\n",
       "2016-09-14  2.213481  0.452467  1.681167  0.398508 -1.016196\n",
       "2016-09-15 -0.252606  0.343082 -0.981054  0.154505 -0.337422\n",
       "2016-09-16  1.910727  0.211571  0.094351  0.245236  0.729884\n",
       "2016-09-17  1.327291  0.802182 -0.973694 -0.039582  1.465018"
      ]
     },
     "execution_count": 313,
     "metadata": {},
     "output_type": "execute_result"
    }
   ],
   "source": [
    "df[0:4]"
   ]
  },
  {
   "cell_type": "code",
   "execution_count": 290,
   "metadata": {
    "collapsed": false
   },
   "outputs": [
    {
     "data": {
      "text/html": [
       "<div>\n",
       "<table border=\"1\" class=\"dataframe\">\n",
       "  <thead>\n",
       "    <tr style=\"text-align: right;\">\n",
       "      <th></th>\n",
       "      <th>A</th>\n",
       "      <th>B</th>\n",
       "      <th>C</th>\n",
       "      <th>D</th>\n",
       "      <th>E</th>\n",
       "    </tr>\n",
       "  </thead>\n",
       "  <tbody>\n",
       "    <tr>\n",
       "      <th>2016-09-17</th>\n",
       "      <td>1.327291</td>\n",
       "      <td>0.802182</td>\n",
       "      <td>-0.973694</td>\n",
       "      <td>-0.039582</td>\n",
       "      <td>1.465018</td>\n",
       "    </tr>\n",
       "    <tr>\n",
       "      <th>2016-09-18</th>\n",
       "      <td>1.322867</td>\n",
       "      <td>-0.601679</td>\n",
       "      <td>0.706249</td>\n",
       "      <td>-0.938296</td>\n",
       "      <td>-0.622812</td>\n",
       "    </tr>\n",
       "    <tr>\n",
       "      <th>2016-09-19</th>\n",
       "      <td>0.517121</td>\n",
       "      <td>-1.706166</td>\n",
       "      <td>-1.437174</td>\n",
       "      <td>-0.569925</td>\n",
       "      <td>-0.460192</td>\n",
       "    </tr>\n",
       "    <tr>\n",
       "      <th>2016-09-20</th>\n",
       "      <td>0.188508</td>\n",
       "      <td>-0.329153</td>\n",
       "      <td>-0.729076</td>\n",
       "      <td>0.137497</td>\n",
       "      <td>-0.394188</td>\n",
       "    </tr>\n",
       "    <tr>\n",
       "      <th>2016-09-21</th>\n",
       "      <td>0.352100</td>\n",
       "      <td>0.574619</td>\n",
       "      <td>0.995491</td>\n",
       "      <td>0.023395</td>\n",
       "      <td>0.988768</td>\n",
       "    </tr>\n",
       "    <tr>\n",
       "      <th>2016-09-22</th>\n",
       "      <td>2.177536</td>\n",
       "      <td>-1.220107</td>\n",
       "      <td>-0.716427</td>\n",
       "      <td>0.529708</td>\n",
       "      <td>-0.552316</td>\n",
       "    </tr>\n",
       "  </tbody>\n",
       "</table>\n",
       "</div>"
      ],
      "text/plain": [
       "                   A         B         C         D         E\n",
       "2016-09-17  1.327291  0.802182 -0.973694 -0.039582  1.465018\n",
       "2016-09-18  1.322867 -0.601679  0.706249 -0.938296 -0.622812\n",
       "2016-09-19  0.517121 -1.706166 -1.437174 -0.569925 -0.460192\n",
       "2016-09-20  0.188508 -0.329153 -0.729076  0.137497 -0.394188\n",
       "2016-09-21  0.352100  0.574619  0.995491  0.023395  0.988768\n",
       "2016-09-22  2.177536 -1.220107 -0.716427  0.529708 -0.552316"
      ]
     },
     "execution_count": 290,
     "metadata": {},
     "output_type": "execute_result"
    }
   ],
   "source": [
    "df['20160917':'20160922']"
   ]
  },
  {
   "cell_type": "code",
   "execution_count": 307,
   "metadata": {
    "collapsed": false,
    "scrolled": true
   },
   "outputs": [
    {
     "data": {
      "text/html": [
       "<div>\n",
       "<table border=\"1\" class=\"dataframe\">\n",
       "  <thead>\n",
       "    <tr style=\"text-align: right;\">\n",
       "      <th></th>\n",
       "      <th>A</th>\n",
       "      <th>C</th>\n",
       "      <th>D</th>\n",
       "    </tr>\n",
       "  </thead>\n",
       "  <tbody>\n",
       "    <tr>\n",
       "      <th>2016-09-15</th>\n",
       "      <td>-0.252606</td>\n",
       "      <td>-0.981054</td>\n",
       "      <td>0.154505</td>\n",
       "    </tr>\n",
       "    <tr>\n",
       "      <th>2016-09-16</th>\n",
       "      <td>1.910727</td>\n",
       "      <td>0.094351</td>\n",
       "      <td>0.245236</td>\n",
       "    </tr>\n",
       "    <tr>\n",
       "      <th>2016-09-17</th>\n",
       "      <td>1.327291</td>\n",
       "      <td>-0.973694</td>\n",
       "      <td>-0.039582</td>\n",
       "    </tr>\n",
       "    <tr>\n",
       "      <th>2016-09-18</th>\n",
       "      <td>1.322867</td>\n",
       "      <td>0.706249</td>\n",
       "      <td>-0.938296</td>\n",
       "    </tr>\n",
       "    <tr>\n",
       "      <th>2016-09-19</th>\n",
       "      <td>0.517121</td>\n",
       "      <td>-1.437174</td>\n",
       "      <td>-0.569925</td>\n",
       "    </tr>\n",
       "    <tr>\n",
       "      <th>2016-09-20</th>\n",
       "      <td>0.188508</td>\n",
       "      <td>-0.729076</td>\n",
       "      <td>0.137497</td>\n",
       "    </tr>\n",
       "  </tbody>\n",
       "</table>\n",
       "</div>"
      ],
      "text/plain": [
       "                   A         C         D\n",
       "2016-09-15 -0.252606 -0.981054  0.154505\n",
       "2016-09-16  1.910727  0.094351  0.245236\n",
       "2016-09-17  1.327291 -0.973694 -0.039582\n",
       "2016-09-18  1.322867  0.706249 -0.938296\n",
       "2016-09-19  0.517121 -1.437174 -0.569925\n",
       "2016-09-20  0.188508 -0.729076  0.137497"
      ]
     },
     "execution_count": 307,
     "metadata": {},
     "output_type": "execute_result"
    }
   ],
   "source": [
    "df.loc['20160915':\"20160920\",['A','C',\"D\"]]"
   ]
  },
  {
   "cell_type": "code",
   "execution_count": 298,
   "metadata": {
    "collapsed": false
   },
   "outputs": [
    {
     "data": {
      "text/html": [
       "<div>\n",
       "<table border=\"1\" class=\"dataframe\">\n",
       "  <thead>\n",
       "    <tr style=\"text-align: right;\">\n",
       "      <th></th>\n",
       "      <th>A</th>\n",
       "      <th>B</th>\n",
       "      <th>C</th>\n",
       "      <th>D</th>\n",
       "      <th>E</th>\n",
       "    </tr>\n",
       "  </thead>\n",
       "  <tbody>\n",
       "    <tr>\n",
       "      <th>2016-09-14</th>\n",
       "      <td>2.213481</td>\n",
       "      <td>0.452467</td>\n",
       "      <td>1.681167</td>\n",
       "      <td>0.398508</td>\n",
       "      <td>-1.016196</td>\n",
       "    </tr>\n",
       "    <tr>\n",
       "      <th>2016-09-15</th>\n",
       "      <td>-0.252606</td>\n",
       "      <td>0.343082</td>\n",
       "      <td>-0.981054</td>\n",
       "      <td>0.154505</td>\n",
       "      <td>-0.337422</td>\n",
       "    </tr>\n",
       "    <tr>\n",
       "      <th>2016-09-16</th>\n",
       "      <td>1.910727</td>\n",
       "      <td>0.211571</td>\n",
       "      <td>0.094351</td>\n",
       "      <td>0.245236</td>\n",
       "      <td>0.729884</td>\n",
       "    </tr>\n",
       "    <tr>\n",
       "      <th>2016-09-17</th>\n",
       "      <td>1.327291</td>\n",
       "      <td>0.802182</td>\n",
       "      <td>-0.973694</td>\n",
       "      <td>-0.039582</td>\n",
       "      <td>1.465018</td>\n",
       "    </tr>\n",
       "    <tr>\n",
       "      <th>2016-09-18</th>\n",
       "      <td>1.322867</td>\n",
       "      <td>-0.601679</td>\n",
       "      <td>0.706249</td>\n",
       "      <td>-0.938296</td>\n",
       "      <td>-0.622812</td>\n",
       "    </tr>\n",
       "    <tr>\n",
       "      <th>2016-09-19</th>\n",
       "      <td>0.517121</td>\n",
       "      <td>-1.706166</td>\n",
       "      <td>-1.437174</td>\n",
       "      <td>-0.569925</td>\n",
       "      <td>-0.460192</td>\n",
       "    </tr>\n",
       "    <tr>\n",
       "      <th>2016-09-20</th>\n",
       "      <td>0.188508</td>\n",
       "      <td>-0.329153</td>\n",
       "      <td>-0.729076</td>\n",
       "      <td>0.137497</td>\n",
       "      <td>-0.394188</td>\n",
       "    </tr>\n",
       "    <tr>\n",
       "      <th>2016-09-21</th>\n",
       "      <td>0.352100</td>\n",
       "      <td>0.574619</td>\n",
       "      <td>0.995491</td>\n",
       "      <td>0.023395</td>\n",
       "      <td>0.988768</td>\n",
       "    </tr>\n",
       "    <tr>\n",
       "      <th>2016-09-22</th>\n",
       "      <td>2.177536</td>\n",
       "      <td>-1.220107</td>\n",
       "      <td>-0.716427</td>\n",
       "      <td>0.529708</td>\n",
       "      <td>-0.552316</td>\n",
       "    </tr>\n",
       "    <tr>\n",
       "      <th>2016-09-23</th>\n",
       "      <td>0.080431</td>\n",
       "      <td>-0.119533</td>\n",
       "      <td>0.219495</td>\n",
       "      <td>0.390648</td>\n",
       "      <td>1.021282</td>\n",
       "    </tr>\n",
       "  </tbody>\n",
       "</table>\n",
       "</div>"
      ],
      "text/plain": [
       "                   A         B         C         D         E\n",
       "2016-09-14  2.213481  0.452467  1.681167  0.398508 -1.016196\n",
       "2016-09-15 -0.252606  0.343082 -0.981054  0.154505 -0.337422\n",
       "2016-09-16  1.910727  0.211571  0.094351  0.245236  0.729884\n",
       "2016-09-17  1.327291  0.802182 -0.973694 -0.039582  1.465018\n",
       "2016-09-18  1.322867 -0.601679  0.706249 -0.938296 -0.622812\n",
       "2016-09-19  0.517121 -1.706166 -1.437174 -0.569925 -0.460192\n",
       "2016-09-20  0.188508 -0.329153 -0.729076  0.137497 -0.394188\n",
       "2016-09-21  0.352100  0.574619  0.995491  0.023395  0.988768\n",
       "2016-09-22  2.177536 -1.220107 -0.716427  0.529708 -0.552316\n",
       "2016-09-23  0.080431 -0.119533  0.219495  0.390648  1.021282"
      ]
     },
     "execution_count": 298,
     "metadata": {},
     "output_type": "execute_result"
    }
   ],
   "source": [
    "df"
   ]
  },
  {
   "cell_type": "code",
   "execution_count": 297,
   "metadata": {
    "collapsed": false
   },
   "outputs": [
    {
     "data": {
      "text/plain": [
       "A    1.327291\n",
       "B    0.802182\n",
       "C   -0.973694\n",
       "D   -0.039582\n",
       "E    1.465018\n",
       "Name: 2016-09-17 00:00:00, dtype: float64"
      ]
     },
     "execution_count": 297,
     "metadata": {},
     "output_type": "execute_result"
    }
   ],
   "source": [
    "df.iloc[3]"
   ]
  },
  {
   "cell_type": "code",
   "execution_count": 299,
   "metadata": {
    "collapsed": false
   },
   "outputs": [
    {
     "data": {
      "text/html": [
       "<div>\n",
       "<table border=\"1\" class=\"dataframe\">\n",
       "  <thead>\n",
       "    <tr style=\"text-align: right;\">\n",
       "      <th></th>\n",
       "      <th>A</th>\n",
       "      <th>B</th>\n",
       "    </tr>\n",
       "  </thead>\n",
       "  <tbody>\n",
       "    <tr>\n",
       "      <th>2016-09-14</th>\n",
       "      <td>2.213481</td>\n",
       "      <td>0.452467</td>\n",
       "    </tr>\n",
       "    <tr>\n",
       "      <th>2016-09-15</th>\n",
       "      <td>-0.252606</td>\n",
       "      <td>0.343082</td>\n",
       "    </tr>\n",
       "    <tr>\n",
       "      <th>2016-09-16</th>\n",
       "      <td>1.910727</td>\n",
       "      <td>0.211571</td>\n",
       "    </tr>\n",
       "    <tr>\n",
       "      <th>2016-09-17</th>\n",
       "      <td>1.327291</td>\n",
       "      <td>0.802182</td>\n",
       "    </tr>\n",
       "    <tr>\n",
       "      <th>2016-09-18</th>\n",
       "      <td>1.322867</td>\n",
       "      <td>-0.601679</td>\n",
       "    </tr>\n",
       "    <tr>\n",
       "      <th>2016-09-19</th>\n",
       "      <td>0.517121</td>\n",
       "      <td>-1.706166</td>\n",
       "    </tr>\n",
       "    <tr>\n",
       "      <th>2016-09-20</th>\n",
       "      <td>0.188508</td>\n",
       "      <td>-0.329153</td>\n",
       "    </tr>\n",
       "    <tr>\n",
       "      <th>2016-09-21</th>\n",
       "      <td>0.352100</td>\n",
       "      <td>0.574619</td>\n",
       "    </tr>\n",
       "    <tr>\n",
       "      <th>2016-09-22</th>\n",
       "      <td>2.177536</td>\n",
       "      <td>-1.220107</td>\n",
       "    </tr>\n",
       "    <tr>\n",
       "      <th>2016-09-23</th>\n",
       "      <td>0.080431</td>\n",
       "      <td>-0.119533</td>\n",
       "    </tr>\n",
       "  </tbody>\n",
       "</table>\n",
       "</div>"
      ],
      "text/plain": [
       "                   A         B\n",
       "2016-09-14  2.213481  0.452467\n",
       "2016-09-15 -0.252606  0.343082\n",
       "2016-09-16  1.910727  0.211571\n",
       "2016-09-17  1.327291  0.802182\n",
       "2016-09-18  1.322867 -0.601679\n",
       "2016-09-19  0.517121 -1.706166\n",
       "2016-09-20  0.188508 -0.329153\n",
       "2016-09-21  0.352100  0.574619\n",
       "2016-09-22  2.177536 -1.220107\n",
       "2016-09-23  0.080431 -0.119533"
      ]
     },
     "execution_count": 299,
     "metadata": {},
     "output_type": "execute_result"
    }
   ],
   "source": [
    "df.iloc[:,0:2]"
   ]
  },
  {
   "cell_type": "code",
   "execution_count": 301,
   "metadata": {
    "collapsed": false
   },
   "outputs": [
    {
     "data": {
      "text/html": [
       "<div>\n",
       "<table border=\"1\" class=\"dataframe\">\n",
       "  <thead>\n",
       "    <tr style=\"text-align: right;\">\n",
       "      <th></th>\n",
       "      <th>A</th>\n",
       "      <th>B</th>\n",
       "    </tr>\n",
       "  </thead>\n",
       "  <tbody>\n",
       "    <tr>\n",
       "      <th>2016-09-14</th>\n",
       "      <td>2.213481</td>\n",
       "      <td>0.452467</td>\n",
       "    </tr>\n",
       "    <tr>\n",
       "      <th>2016-09-15</th>\n",
       "      <td>-0.252606</td>\n",
       "      <td>0.343082</td>\n",
       "    </tr>\n",
       "    <tr>\n",
       "      <th>2016-09-16</th>\n",
       "      <td>1.910727</td>\n",
       "      <td>0.211571</td>\n",
       "    </tr>\n",
       "  </tbody>\n",
       "</table>\n",
       "</div>"
      ],
      "text/plain": [
       "                   A         B\n",
       "2016-09-14  2.213481  0.452467\n",
       "2016-09-15 -0.252606  0.343082\n",
       "2016-09-16  1.910727  0.211571"
      ]
     },
     "execution_count": 301,
     "metadata": {},
     "output_type": "execute_result"
    }
   ],
   "source": [
    "df.iloc[0:3,0:2]"
   ]
  },
  {
   "cell_type": "code",
   "execution_count": 303,
   "metadata": {
    "collapsed": false
   },
   "outputs": [
    {
     "data": {
      "text/html": [
       "<div>\n",
       "<table border=\"1\" class=\"dataframe\">\n",
       "  <thead>\n",
       "    <tr style=\"text-align: right;\">\n",
       "      <th></th>\n",
       "      <th>A</th>\n",
       "      <th>B</th>\n",
       "      <th>C</th>\n",
       "      <th>D</th>\n",
       "      <th>E</th>\n",
       "    </tr>\n",
       "  </thead>\n",
       "  <tbody>\n",
       "    <tr>\n",
       "      <th>2016-09-15</th>\n",
       "      <td>-0.252606</td>\n",
       "      <td>0.343082</td>\n",
       "      <td>-0.981054</td>\n",
       "      <td>0.154505</td>\n",
       "      <td>-0.337422</td>\n",
       "    </tr>\n",
       "    <tr>\n",
       "      <th>2016-09-16</th>\n",
       "      <td>1.910727</td>\n",
       "      <td>0.211571</td>\n",
       "      <td>0.094351</td>\n",
       "      <td>0.245236</td>\n",
       "      <td>0.729884</td>\n",
       "    </tr>\n",
       "    <tr>\n",
       "      <th>2016-09-18</th>\n",
       "      <td>1.322867</td>\n",
       "      <td>-0.601679</td>\n",
       "      <td>0.706249</td>\n",
       "      <td>-0.938296</td>\n",
       "      <td>-0.622812</td>\n",
       "    </tr>\n",
       "  </tbody>\n",
       "</table>\n",
       "</div>"
      ],
      "text/plain": [
       "                   A         B         C         D         E\n",
       "2016-09-15 -0.252606  0.343082 -0.981054  0.154505 -0.337422\n",
       "2016-09-16  1.910727  0.211571  0.094351  0.245236  0.729884\n",
       "2016-09-18  1.322867 -0.601679  0.706249 -0.938296 -0.622812"
      ]
     },
     "execution_count": 303,
     "metadata": {},
     "output_type": "execute_result"
    }
   ],
   "source": [
    "df.iloc[[1,2,4],:]"
   ]
  },
  {
   "cell_type": "code",
   "execution_count": 304,
   "metadata": {
    "collapsed": false
   },
   "outputs": [
    {
     "data": {
      "text/html": [
       "<div>\n",
       "<table border=\"1\" class=\"dataframe\">\n",
       "  <thead>\n",
       "    <tr style=\"text-align: right;\">\n",
       "      <th></th>\n",
       "      <th>A</th>\n",
       "      <th>B</th>\n",
       "      <th>C</th>\n",
       "      <th>D</th>\n",
       "      <th>E</th>\n",
       "    </tr>\n",
       "  </thead>\n",
       "  <tbody>\n",
       "  </tbody>\n",
       "</table>\n",
       "</div>"
      ],
      "text/plain": [
       "Empty DataFrame\n",
       "Columns: [A, B, C, D, E]\n",
       "Index: []"
      ]
     },
     "execution_count": 304,
     "metadata": {},
     "output_type": "execute_result"
    }
   ],
   "source": [
    "df.iloc[1:1]"
   ]
  },
  {
   "cell_type": "code",
   "execution_count": null,
   "metadata": {
    "collapsed": true
   },
   "outputs": [],
   "source": []
  }
 ],
 "metadata": {
  "kernelspec": {
   "display_name": "Python 2",
   "language": "python",
   "name": "python2"
  },
  "language_info": {
   "codemirror_mode": {
    "name": "ipython",
    "version": 2
   },
   "file_extension": ".py",
   "mimetype": "text/x-python",
   "name": "python",
   "nbconvert_exporter": "python",
   "pygments_lexer": "ipython2",
   "version": "2.7.12"
  }
 },
 "nbformat": 4,
 "nbformat_minor": 0
}
