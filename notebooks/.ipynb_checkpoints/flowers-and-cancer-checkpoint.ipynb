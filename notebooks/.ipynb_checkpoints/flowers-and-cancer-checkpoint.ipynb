{
 "cells": [
  {
   "cell_type": "markdown",
   "metadata": {},
   "source": [
    "# Logistic Regression Lab 2\n",
    "\n",
    "Scikit-Learn includes several sample datasets which can demonstrate\n",
    "logistic regression's usefulness.\n",
    "\n",
    "This is a very free-form lab: you won't be walked through it step-by-step,\n",
    "so you might want to keep some other examples open."
   ]
  },
  {
   "cell_type": "code",
   "execution_count": null,
   "metadata": {
    "collapsed": false
   },
   "outputs": [],
   "source": [
    "import sklearn.datasets"
   ]
  },
  {
   "cell_type": "markdown",
   "metadata": {},
   "source": [
    "We will look at the Wisconsin breast cancer database, and a classic\n",
    "dataset of [different kinds of iris flowers](https://en.wikipedia.org/wiki/Iris_flower_data_set)."
   ]
  },
  {
   "cell_type": "code",
   "execution_count": null,
   "metadata": {
    "collapsed": false
   },
   "outputs": [],
   "source": [
    "bc = sklearn.datasets.load_breast_cancer()\n",
    "print bc.DESCR"
   ]
  },
  {
   "cell_type": "code",
   "execution_count": null,
   "metadata": {
    "collapsed": false
   },
   "outputs": [],
   "source": [
    "iris = sklearn.datasets.load_iris()\n",
    "print iris.DESCR"
   ]
  },
  {
   "cell_type": "markdown",
   "metadata": {},
   "source": [
    "# Wisconsin\n",
    "\n",
    "In the Wisconsin breast cancer database, you are trying to predict whether\n",
    "a tumour is malignant or benign. The database consists of the measurements\n",
    "of the tumour (bc.data) and the nature of the tumour (bc.target) -- 1 = malignant, 0 == benign.\n",
    "\n",
    "Try using various combinations of parameters in a logistic regression.\n",
    "\n",
    "Validate your results with a cross cut validation\n",
    "\n"
   ]
  },
  {
   "cell_type": "code",
   "execution_count": null,
   "metadata": {
    "collapsed": false
   },
   "outputs": [],
   "source": []
  },
  {
   "cell_type": "markdown",
   "metadata": {},
   "source": [
    "# Irises\n",
    "\n",
    "There are three kinds of flowers in the dataset:\n",
    "\n",
    "- [Setosa](https://en.wikipedia.org/wiki/Iris_setosa) ( = 0)\n",
    "\n",
    "- [Versicolor](https://en.wikipedia.org/wiki/Iris_versicolor) ( = 1)\n",
    "\n",
    "- [Virginica](https://en.wikipedia.org/wiki/Iris_virginica) ( = 2)\n",
    "\n",
    "Try using various combinations of parameters in a logistic regression.\n",
    "\n",
    "Validate your results with a cross cut validation"
   ]
  },
  {
   "cell_type": "code",
   "execution_count": null,
   "metadata": {
    "collapsed": false
   },
   "outputs": [],
   "source": []
  }
 ],
 "metadata": {
  "kernelspec": {
   "display_name": "Python 2",
   "language": "python",
   "name": "python2"
  },
  "language_info": {
   "codemirror_mode": {
    "name": "ipython",
    "version": 2
   },
   "file_extension": ".py",
   "mimetype": "text/x-python",
   "name": "python",
   "nbconvert_exporter": "python",
   "pygments_lexer": "ipython2",
   "version": "2.7.12"
  }
 },
 "nbformat": 4,
 "nbformat_minor": 0
}
