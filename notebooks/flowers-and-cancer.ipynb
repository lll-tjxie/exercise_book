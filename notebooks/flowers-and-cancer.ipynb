{
 "cells": [
  {
   "cell_type": "markdown",
   "metadata": {},
   "source": [
    "# Logistic Regression Lab 2\n",
    "\n",
    "Scikit-Learn includes several sample datasets which can demonstrate\n",
    "logistic regression's usefulness.\n",
    "\n",
    "This is a very free-form lab: you won't be walked through it step-by-step,\n",
    "so you might want to keep some other examples open."
   ]
  },
  {
   "cell_type": "code",
   "execution_count": 6,
   "metadata": {
    "collapsed": false
   },
   "outputs": [],
   "source": [
    "import sklearn.datasets\n",
    "import pandas\n",
    "import sklearn.linear_model\n",
    "import sklearn.cross_validation\n",
    "import sklearn.metrics\n",
    "import numpy"
   ]
  },
  {
   "cell_type": "markdown",
   "metadata": {},
   "source": [
    "We will look at the Wisconsin breast cancer database, and a classic\n",
    "dataset of [different kinds of iris flowers](https://en.wikipedia.org/wiki/Iris_flower_data_set)."
   ]
  },
  {
   "cell_type": "code",
   "execution_count": 7,
   "metadata": {
    "collapsed": false,
    "scrolled": true
   },
   "outputs": [
    {
     "name": "stdout",
     "output_type": "stream",
     "text": [
      "Breast Cancer Wisconsin (Diagnostic) Database\n",
      "\n",
      "Notes\n",
      "-----\n",
      "Data Set Characteristics:\n",
      "    :Number of Instances: 569\n",
      "\n",
      "    :Number of Attributes: 30 numeric, predictive attributes and the class\n",
      "\n",
      "    :Attribute Information:\n",
      "        - radius (mean of distances from center to points on the perimeter)\n",
      "        - texture (standard deviation of gray-scale values)\n",
      "        - perimeter\n",
      "        - area\n",
      "        - smoothness (local variation in radius lengths)\n",
      "        - compactness (perimeter^2 / area - 1.0)\n",
      "        - concavity (severity of concave portions of the contour)\n",
      "        - concave points (number of concave portions of the contour)\n",
      "        - symmetry \n",
      "        - fractal dimension (\"coastline approximation\" - 1)\n",
      "        \n",
      "        The mean, standard error, and \"worst\" or largest (mean of the three\n",
      "        largest values) of these features were computed for each image,\n",
      "        resulting in 30 features.  For instance, field 3 is Mean Radius, field\n",
      "        13 is Radius SE, field 23 is Worst Radius.\n",
      "        \n",
      "        - class:\n",
      "                - WDBC-Malignant\n",
      "                - WDBC-Benign\n",
      "\n",
      "    :Summary Statistics:\n",
      "\n",
      "    ===================================== ======= ========\n",
      "                                           Min     Max\n",
      "    ===================================== ======= ========\n",
      "    radius (mean):                         6.981   28.11\n",
      "    texture (mean):                        9.71    39.28\n",
      "    perimeter (mean):                      43.79   188.5\n",
      "    area (mean):                           143.5   2501.0\n",
      "    smoothness (mean):                     0.053   0.163\n",
      "    compactness (mean):                    0.019   0.345\n",
      "    concavity (mean):                      0.0     0.427\n",
      "    concave points (mean):                 0.0     0.201\n",
      "    symmetry (mean):                       0.106   0.304\n",
      "    fractal dimension (mean):              0.05    0.097\n",
      "    radius (standard error):               0.112   2.873\n",
      "    texture (standard error):              0.36    4.885\n",
      "    perimeter (standard error):            0.757   21.98\n",
      "    area (standard error):                 6.802   542.2\n",
      "    smoothness (standard error):           0.002   0.031\n",
      "    compactness (standard error):          0.002   0.135\n",
      "    concavity (standard error):            0.0     0.396\n",
      "    concave points (standard error):       0.0     0.053\n",
      "    symmetry (standard error):             0.008   0.079\n",
      "    fractal dimension (standard error):    0.001   0.03\n",
      "    radius (worst):                        7.93    36.04\n",
      "    texture (worst):                       12.02   49.54\n",
      "    perimeter (worst):                     50.41   251.2\n",
      "    area (worst):                          185.2   4254.0\n",
      "    smoothness (worst):                    0.071   0.223\n",
      "    compactness (worst):                   0.027   1.058\n",
      "    concavity (worst):                     0.0     1.252\n",
      "    concave points (worst):                0.0     0.291\n",
      "    symmetry (worst):                      0.156   0.664\n",
      "    fractal dimension (worst):             0.055   0.208\n",
      "    ===================================== ======= ========\n",
      "\n",
      "    :Missing Attribute Values: None\n",
      "\n",
      "    :Class Distribution: 212 - Malignant, 357 - Benign\n",
      "\n",
      "    :Creator:  Dr. William H. Wolberg, W. Nick Street, Olvi L. Mangasarian\n",
      "\n",
      "    :Donor: Nick Street\n",
      "\n",
      "    :Date: November, 1995\n",
      "\n",
      "This is a copy of UCI ML Breast Cancer Wisconsin (Diagnostic) datasets.\n",
      "https://goo.gl/U2Uwz2\n",
      "\n",
      "Features are computed from a digitized image of a fine needle\n",
      "aspirate (FNA) of a breast mass.  They describe\n",
      "characteristics of the cell nuclei present in the image.\n",
      "A few of the images can be found at\n",
      "http://www.cs.wisc.edu/~street/images/\n",
      "\n",
      "Separating plane described above was obtained using\n",
      "Multisurface Method-Tree (MSM-T) [K. P. Bennett, \"Decision Tree\n",
      "Construction Via Linear Programming.\" Proceedings of the 4th\n",
      "Midwest Artificial Intelligence and Cognitive Science Society,\n",
      "pp. 97-101, 1992], a classification method which uses linear\n",
      "programming to construct a decision tree.  Relevant features\n",
      "were selected using an exhaustive search in the space of 1-4\n",
      "features and 1-3 separating planes.\n",
      "\n",
      "The actual linear program used to obtain the separating plane\n",
      "in the 3-dimensional space is that described in:\n",
      "[K. P. Bennett and O. L. Mangasarian: \"Robust Linear\n",
      "Programming Discrimination of Two Linearly Inseparable Sets\",\n",
      "Optimization Methods and Software 1, 1992, 23-34].\n",
      "\n",
      "This database is also available through the UW CS ftp server:\n",
      "\n",
      "ftp ftp.cs.wisc.edu\n",
      "cd math-prog/cpo-dataset/machine-learn/WDBC/\n",
      "\n",
      "References\n",
      "----------\n",
      "   - W.N. Street, W.H. Wolberg and O.L. Mangasarian. Nuclear feature extraction \n",
      "     for breast tumor diagnosis. IS&T/SPIE 1993 International Symposium on \n",
      "     Electronic Imaging: Science and Technology, volume 1905, pages 861-870, \n",
      "     San Jose, CA, 1993. \n",
      "   - O.L. Mangasarian, W.N. Street and W.H. Wolberg. Breast cancer diagnosis and \n",
      "     prognosis via linear programming. Operations Research, 43(4), pages 570-577, \n",
      "     July-August 1995.\n",
      "   - W.H. Wolberg, W.N. Street, and O.L. Mangasarian. Machine learning techniques\n",
      "     to diagnose breast cancer from fine-needle aspirates. Cancer Letters 77 (1994) \n",
      "     163-171.\n",
      "\n"
     ]
    }
   ],
   "source": [
    "bc = sklearn.datasets.load_breast_cancer()\n",
    "print bc.DESCR"
   ]
  },
  {
   "cell_type": "code",
   "execution_count": 8,
   "metadata": {
    "collapsed": false,
    "scrolled": true
   },
   "outputs": [
    {
     "name": "stdout",
     "output_type": "stream",
     "text": [
      "Iris Plants Database\n",
      "\n",
      "Notes\n",
      "-----\n",
      "Data Set Characteristics:\n",
      "    :Number of Instances: 150 (50 in each of three classes)\n",
      "    :Number of Attributes: 4 numeric, predictive attributes and the class\n",
      "    :Attribute Information:\n",
      "        - sepal length in cm\n",
      "        - sepal width in cm\n",
      "        - petal length in cm\n",
      "        - petal width in cm\n",
      "        - class:\n",
      "                - Iris-Setosa\n",
      "                - Iris-Versicolour\n",
      "                - Iris-Virginica\n",
      "    :Summary Statistics:\n",
      "\n",
      "    ============== ==== ==== ======= ===== ====================\n",
      "                    Min  Max   Mean    SD   Class Correlation\n",
      "    ============== ==== ==== ======= ===== ====================\n",
      "    sepal length:   4.3  7.9   5.84   0.83    0.7826\n",
      "    sepal width:    2.0  4.4   3.05   0.43   -0.4194\n",
      "    petal length:   1.0  6.9   3.76   1.76    0.9490  (high!)\n",
      "    petal width:    0.1  2.5   1.20  0.76     0.9565  (high!)\n",
      "    ============== ==== ==== ======= ===== ====================\n",
      "\n",
      "    :Missing Attribute Values: None\n",
      "    :Class Distribution: 33.3% for each of 3 classes.\n",
      "    :Creator: R.A. Fisher\n",
      "    :Donor: Michael Marshall (MARSHALL%PLU@io.arc.nasa.gov)\n",
      "    :Date: July, 1988\n",
      "\n",
      "This is a copy of UCI ML iris datasets.\n",
      "http://archive.ics.uci.edu/ml/datasets/Iris\n",
      "\n",
      "The famous Iris database, first used by Sir R.A Fisher\n",
      "\n",
      "This is perhaps the best known database to be found in the\n",
      "pattern recognition literature.  Fisher's paper is a classic in the field and\n",
      "is referenced frequently to this day.  (See Duda & Hart, for example.)  The\n",
      "data set contains 3 classes of 50 instances each, where each class refers to a\n",
      "type of iris plant.  One class is linearly separable from the other 2; the\n",
      "latter are NOT linearly separable from each other.\n",
      "\n",
      "References\n",
      "----------\n",
      "   - Fisher,R.A. \"The use of multiple measurements in taxonomic problems\"\n",
      "     Annual Eugenics, 7, Part II, 179-188 (1936); also in \"Contributions to\n",
      "     Mathematical Statistics\" (John Wiley, NY, 1950).\n",
      "   - Duda,R.O., & Hart,P.E. (1973) Pattern Classification and Scene Analysis.\n",
      "     (Q327.D83) John Wiley & Sons.  ISBN 0-471-22361-1.  See page 218.\n",
      "   - Dasarathy, B.V. (1980) \"Nosing Around the Neighborhood: A New System\n",
      "     Structure and Classification Rule for Recognition in Partially Exposed\n",
      "     Environments\".  IEEE Transactions on Pattern Analysis and Machine\n",
      "     Intelligence, Vol. PAMI-2, No. 1, 67-71.\n",
      "   - Gates, G.W. (1972) \"The Reduced Nearest Neighbor Rule\".  IEEE Transactions\n",
      "     on Information Theory, May 1972, 431-433.\n",
      "   - See also: 1988 MLC Proceedings, 54-64.  Cheeseman et al\"s AUTOCLASS II\n",
      "     conceptual clustering system finds 3 classes in the data.\n",
      "   - Many, many more ...\n",
      "\n"
     ]
    }
   ],
   "source": [
    "iris = sklearn.datasets.load_iris()\n",
    "print iris.DESCR"
   ]
  },
  {
   "cell_type": "markdown",
   "metadata": {},
   "source": [
    "# Wisconsin\n",
    "\n",
    "In the Wisconsin breast cancer database, you are trying to predict whether\n",
    "a tumour is malignant or benign. The database consists of the measurements\n",
    "of the tumour (bc.data) and the nature of the tumour (bc.target) -- 1 = malignant, 0 == benign.\n",
    "\n",
    "Try using various combinations of parameters in a logistic regression.\n",
    "\n",
    "Validate your results with a cross cut validation\n",
    "\n"
   ]
  },
  {
   "cell_type": "code",
   "execution_count": 11,
   "metadata": {
    "collapsed": false,
    "scrolled": true
   },
   "outputs": [
    {
     "data": {
      "text/plain": [
       "1    357\n",
       "0    212\n",
       "dtype: int64"
      ]
     },
     "execution_count": 11,
     "metadata": {},
     "output_type": "execute_result"
    }
   ],
   "source": [
    "malignancy = pandas.Series(bc.target).value_counts()\n",
    "malignancy"
   ]
  },
  {
   "cell_type": "markdown",
   "metadata": {},
   "source": [
    "# Irises\n",
    "\n",
    "There are three kinds of flowers in the dataset:\n",
    "\n",
    "- [Setosa](https://en.wikipedia.org/wiki/Iris_setosa) ( = 0)\n",
    "\n",
    "- [Versicolor](https://en.wikipedia.org/wiki/Iris_versicolor) ( = 1)\n",
    "\n",
    "- [Virginica](https://en.wikipedia.org/wiki/Iris_virginica) ( = 2)\n",
    "\n",
    "Try using various combinations of parameters in a logistic regression.\n",
    "\n",
    "Validate your results with a cross cut validation"
   ]
  },
  {
   "cell_type": "code",
   "execution_count": 13,
   "metadata": {
    "collapsed": false
   },
   "outputs": [
    {
     "data": {
      "text/plain": [
       "(569, 30)"
      ]
     },
     "execution_count": 13,
     "metadata": {},
     "output_type": "execute_result"
    }
   ],
   "source": [
    "bc.data.shape\n",
    "columns_names = []\n",
    "radius (mean):                         6.981   28.11\n",
    "    texture (mean):                        9.71    39.28\n",
    "    perimeter (mean):                      43.79   188.5\n",
    "    area (mean):                           143.5   2501.0\n",
    "    smoothness (mean):                     0.053   0.163\n",
    "    compactness (mean):                    0.019   0.345\n",
    "    concavity (mean):                      0.0     0.427\n",
    "    concave points (mean):                 0.0     0.201\n",
    "    symmetry (mean):                       0.106   0.304\n",
    "    fractal dimension (mean):              0.05    0.097\n",
    "    radius (standard error):               0.112   2.873\n",
    "    texture (standard error):              0.36    4.885\n",
    "    perimeter (standard error):            0.757   21.98\n",
    "    area (standard error):                 6.802   542.2\n",
    "    smoothness (standard error):           0.002   0.031\n",
    "    compactness (standard error):          0.002   0.135\n",
    "    concavity (standard error):            0.0     0.396\n",
    "    concave points (standard error):       0.0     0.053\n",
    "    symmetry (standard error):             0.008   0.079\n",
    "    fractal dimension (standard error):    0.001   0.03\n",
    "    radius (worst):                        7.93    36.04\n",
    "    texture (worst):                       12.02   49.54\n",
    "    perimeter (worst):                     50.41   251.2\n",
    "    area (worst):                          185.2   4254.0\n",
    "    smoothness (worst):                    0.071   0.223\n",
    "    compactness (worst):                   0.027   1.058\n",
    "    concavity (worst):                     0.0     1.252\n",
    "    concave points (worst):                0.0     0.291\n",
    "    symmetry (worst):                      0.156   0.664\n",
    "    fractal dimension (worst):             0.055   0.208"
   ]
  },
  {
   "cell_type": "code",
   "execution_count": 14,
   "metadata": {
    "collapsed": false,
    "scrolled": true
   },
   "outputs": [
    {
     "data": {
      "text/plain": [
       "['Breast Cancer Wisconsin (Diagnostic) Database',\n",
       " '',\n",
       " 'Notes',\n",
       " '-----',\n",
       " 'Data Set Characteristics:',\n",
       " '    :Number of Instances: 569',\n",
       " '',\n",
       " '    :Number of Attributes: 30 numeric, predictive attributes and the class',\n",
       " '',\n",
       " '    :Attribute Information:',\n",
       " '        - radius (mean of distances from center to points on the perimeter)',\n",
       " '        - texture (standard deviation of gray-scale values)',\n",
       " '        - perimeter',\n",
       " '        - area',\n",
       " '        - smoothness (local variation in radius lengths)',\n",
       " '        - compactness (perimeter^2 / area - 1.0)',\n",
       " '        - concavity (severity of concave portions of the contour)',\n",
       " '        - concave points (number of concave portions of the contour)',\n",
       " '        - symmetry ',\n",
       " '        - fractal dimension (\"coastline approximation\" - 1)',\n",
       " '        ',\n",
       " '        The mean, standard error, and \"worst\" or largest (mean of the three',\n",
       " '        largest values) of these features were computed for each image,',\n",
       " '        resulting in 30 features.  For instance, field 3 is Mean Radius, field',\n",
       " '        13 is Radius SE, field 23 is Worst Radius.',\n",
       " '        ',\n",
       " '        - class:',\n",
       " '                - WDBC-Malignant',\n",
       " '                - WDBC-Benign',\n",
       " '',\n",
       " '    :Summary Statistics:',\n",
       " '',\n",
       " '    ===================================== ======= ========',\n",
       " '                                           Min     Max',\n",
       " '    ===================================== ======= ========',\n",
       " '    radius (mean):                         6.981   28.11',\n",
       " '    texture (mean):                        9.71    39.28',\n",
       " '    perimeter (mean):                      43.79   188.5',\n",
       " '    area (mean):                           143.5   2501.0',\n",
       " '    smoothness (mean):                     0.053   0.163',\n",
       " '    compactness (mean):                    0.019   0.345',\n",
       " '    concavity (mean):                      0.0     0.427',\n",
       " '    concave points (mean):                 0.0     0.201',\n",
       " '    symmetry (mean):                       0.106   0.304',\n",
       " '    fractal dimension (mean):              0.05    0.097',\n",
       " '    radius (standard error):               0.112   2.873',\n",
       " '    texture (standard error):              0.36    4.885',\n",
       " '    perimeter (standard error):            0.757   21.98',\n",
       " '    area (standard error):                 6.802   542.2',\n",
       " '    smoothness (standard error):           0.002   0.031',\n",
       " '    compactness (standard error):          0.002   0.135',\n",
       " '    concavity (standard error):            0.0     0.396',\n",
       " '    concave points (standard error):       0.0     0.053',\n",
       " '    symmetry (standard error):             0.008   0.079',\n",
       " '    fractal dimension (standard error):    0.001   0.03',\n",
       " '    radius (worst):                        7.93    36.04',\n",
       " '    texture (worst):                       12.02   49.54',\n",
       " '    perimeter (worst):                     50.41   251.2',\n",
       " '    area (worst):                          185.2   4254.0',\n",
       " '    smoothness (worst):                    0.071   0.223',\n",
       " '    compactness (worst):                   0.027   1.058',\n",
       " '    concavity (worst):                     0.0     1.252',\n",
       " '    concave points (worst):                0.0     0.291',\n",
       " '    symmetry (worst):                      0.156   0.664',\n",
       " '    fractal dimension (worst):             0.055   0.208',\n",
       " '    ===================================== ======= ========',\n",
       " '',\n",
       " '    :Missing Attribute Values: None',\n",
       " '',\n",
       " '    :Class Distribution: 212 - Malignant, 357 - Benign',\n",
       " '',\n",
       " '    :Creator:  Dr. William H. Wolberg, W. Nick Street, Olvi L. Mangasarian',\n",
       " '',\n",
       " '    :Donor: Nick Street',\n",
       " '',\n",
       " '    :Date: November, 1995',\n",
       " '',\n",
       " 'This is a copy of UCI ML Breast Cancer Wisconsin (Diagnostic) datasets.',\n",
       " 'https://goo.gl/U2Uwz2',\n",
       " '',\n",
       " 'Features are computed from a digitized image of a fine needle',\n",
       " 'aspirate (FNA) of a breast mass.  They describe',\n",
       " 'characteristics of the cell nuclei present in the image.',\n",
       " 'A few of the images can be found at',\n",
       " 'http://www.cs.wisc.edu/~street/images/',\n",
       " '',\n",
       " 'Separating plane described above was obtained using',\n",
       " 'Multisurface Method-Tree (MSM-T) [K. P. Bennett, \"Decision Tree',\n",
       " 'Construction Via Linear Programming.\" Proceedings of the 4th',\n",
       " 'Midwest Artificial Intelligence and Cognitive Science Society,',\n",
       " 'pp. 97-101, 1992], a classification method which uses linear',\n",
       " 'programming to construct a decision tree.  Relevant features',\n",
       " 'were selected using an exhaustive search in the space of 1-4',\n",
       " 'features and 1-3 separating planes.',\n",
       " '',\n",
       " 'The actual linear program used to obtain the separating plane',\n",
       " 'in the 3-dimensional space is that described in:',\n",
       " '[K. P. Bennett and O. L. Mangasarian: \"Robust Linear',\n",
       " 'Programming Discrimination of Two Linearly Inseparable Sets\",',\n",
       " 'Optimization Methods and Software 1, 1992, 23-34].',\n",
       " '',\n",
       " 'This database is also available through the UW CS ftp server:',\n",
       " '',\n",
       " 'ftp ftp.cs.wisc.edu',\n",
       " 'cd math-prog/cpo-dataset/machine-learn/WDBC/',\n",
       " '',\n",
       " 'References',\n",
       " '----------',\n",
       " '   - W.N. Street, W.H. Wolberg and O.L. Mangasarian. Nuclear feature extraction ',\n",
       " '     for breast tumor diagnosis. IS&T/SPIE 1993 International Symposium on ',\n",
       " '     Electronic Imaging: Science and Technology, volume 1905, pages 861-870, ',\n",
       " '     San Jose, CA, 1993. ',\n",
       " '   - O.L. Mangasarian, W.N. Street and W.H. Wolberg. Breast cancer diagnosis and ',\n",
       " '     prognosis via linear programming. Operations Research, 43(4), pages 570-577, ',\n",
       " '     July-August 1995.',\n",
       " '   - W.H. Wolberg, W.N. Street, and O.L. Mangasarian. Machine learning techniques',\n",
       " '     to diagnose breast cancer from fine-needle aspirates. Cancer Letters 77 (1994) ',\n",
       " '     163-171.',\n",
       " '']"
      ]
     },
     "execution_count": 14,
     "metadata": {},
     "output_type": "execute_result"
    }
   ],
   "source": [
    "description_list = bc.DESCR.split('\\n')\n",
    "description_list\n",
    "for i in range(len(description_list)):\n",
    "    if '====================' in description_list[i]:\n",
    "        break"
   ]
  },
  {
   "cell_type": "code",
   "execution_count": 18,
   "metadata": {
    "collapsed": true
   },
   "outputs": [],
   "source": [
    "sklearn.linear_model.LogisticRegression?"
   ]
  },
  {
   "cell_type": "code",
   "execution_count": 17,
   "metadata": {
    "collapsed": true
   },
   "outputs": [],
   "source": [
    "import sklearn.grid_search"
   ]
  },
  {
   "cell_type": "code",
   "execution_count": null,
   "metadata": {
    "collapsed": true
   },
   "outputs": [],
   "source": [
    "params = "
   ]
  }
 ],
 "metadata": {
  "kernelspec": {
   "display_name": "Python 2",
   "language": "python",
   "name": "python2"
  },
  "language_info": {
   "codemirror_mode": {
    "name": "ipython",
    "version": 2
   },
   "file_extension": ".py",
   "mimetype": "text/x-python",
   "name": "python",
   "nbconvert_exporter": "python",
   "pygments_lexer": "ipython2",
   "version": "2.7.12"
  }
 },
 "nbformat": 4,
 "nbformat_minor": 0
}
