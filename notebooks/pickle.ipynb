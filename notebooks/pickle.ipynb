{
 "cells": [
  {
   "cell_type": "code",
   "execution_count": 8,
   "metadata": {
    "collapsed": false
   },
   "outputs": [
    {
     "data": {
      "text/plain": [
       "TheilSenRegressor(copy_X=True, fit_intercept=True, max_iter=300,\n",
       "         max_subpopulation=10000, n_jobs=1, n_subsamples=None,\n",
       "         random_state=None, tol=0.001, verbose=False)"
      ]
     },
     "execution_count": 8,
     "metadata": {},
     "output_type": "execute_result"
    }
   ],
   "source": [
    "import sklearn.linear_model\n",
    "import pandas\n",
    "X = pandas.DataFrame({'n': [1,2,3,4,5]})\n",
    "y = pandas.Series([2,4,5,8,11])\n",
    "lr = sklearn.linear_model.TheilSenRegressor()\n",
    "lr.fit(X,y)"
   ]
  },
  {
   "cell_type": "code",
   "execution_count": 9,
   "metadata": {
    "collapsed": true
   },
   "outputs": [],
   "source": [
    "import pickle\n",
    "f = open('lr.pickle','w')\n",
    "f.write(pickle.dumps(lr))\n",
    "f.close()"
   ]
  },
  {
   "cell_type": "code",
   "execution_count": 10,
   "metadata": {
    "collapsed": false
   },
   "outputs": [
    {
     "data": {
      "text/plain": [
       "['',\n",
       " '/Users/tianjiaoxie/anaconda/lib/python27.zip',\n",
       " '/Users/tianjiaoxie/anaconda/lib/python2.7',\n",
       " '/Users/tianjiaoxie/anaconda/lib/python2.7/plat-darwin',\n",
       " '/Users/tianjiaoxie/anaconda/lib/python2.7/plat-mac',\n",
       " '/Users/tianjiaoxie/anaconda/lib/python2.7/plat-mac/lib-scriptpackages',\n",
       " '/Users/tianjiaoxie/anaconda/lib/python2.7/lib-tk',\n",
       " '/Users/tianjiaoxie/anaconda/lib/python2.7/lib-old',\n",
       " '/Users/tianjiaoxie/anaconda/lib/python2.7/lib-dynload',\n",
       " '/Users/tianjiaoxie/anaconda/lib/python2.7/site-packages/Sphinx-1.3.5-py2.7.egg',\n",
       " '/Users/tianjiaoxie/anaconda/lib/python2.7/site-packages/setuptools-20.2.2-py2.7.egg',\n",
       " '/Users/tianjiaoxie/anaconda/lib/python2.7/site-packages',\n",
       " '/Users/tianjiaoxie/anaconda/lib/python2.7/site-packages/Orange/orng',\n",
       " '/Users/tianjiaoxie/anaconda/lib/python2.7/site-packages/aeosa',\n",
       " '/Users/tianjiaoxie/anaconda/lib/python2.7/site-packages/IPython/extensions',\n",
       " '/Users/tianjiaoxie/.ipython']"
      ]
     },
     "execution_count": 10,
     "metadata": {},
     "output_type": "execute_result"
    }
   ],
   "source": [
    "import sys\n",
    "sys.path"
   ]
  },
  {
   "cell_type": "code",
   "execution_count": 13,
   "metadata": {
    "collapsed": false
   },
   "outputs": [],
   "source": [
    "import sklearn.externals.joblib"
   ]
  },
  {
   "cell_type": "code",
   "execution_count": 14,
   "metadata": {
    "collapsed": false
   },
   "outputs": [
    {
     "data": {
      "text/plain": [
       "['/Users/tianjiaoxie/anaconda/lib/python2.7/site-packages/sklearn/externals/joblib']"
      ]
     },
     "execution_count": 14,
     "metadata": {},
     "output_type": "execute_result"
    }
   ],
   "source": [
    "sklearn.externals.joblib.__path__"
   ]
  },
  {
   "cell_type": "code",
   "execution_count": 15,
   "metadata": {
    "collapsed": false
   },
   "outputs": [
    {
     "data": {
      "text/plain": [
       "'2.7.12 |Anaconda 2.5.0 (x86_64)| (default, Jul  2 2016, 17:43:17) \\n[GCC 4.2.1 (Based on Apple Inc. build 5658) (LLVM build 2336.11.00)]'"
      ]
     },
     "execution_count": 15,
     "metadata": {},
     "output_type": "execute_result"
    }
   ],
   "source": [
    "sys.version"
   ]
  },
  {
   "cell_type": "code",
   "execution_count": null,
   "metadata": {
    "collapsed": true
   },
   "outputs": [],
   "source": []
  }
 ],
 "metadata": {
  "kernelspec": {
   "display_name": "Python 2",
   "language": "python",
   "name": "python2"
  },
  "language_info": {
   "codemirror_mode": {
    "name": "ipython",
    "version": 2
   },
   "file_extension": ".py",
   "mimetype": "text/x-python",
   "name": "python",
   "nbconvert_exporter": "python",
   "pygments_lexer": "ipython2",
   "version": "2.7.11"
  }
 },
 "nbformat": 4,
 "nbformat_minor": 0
}
