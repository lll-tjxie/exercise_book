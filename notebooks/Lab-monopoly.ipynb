{
 "cells": [
  {
   "cell_type": "markdown",
   "metadata": {},
   "source": [
    "# Predicting Monopoly Hotel Prices\n",
    "\n",
    "If you've played the game\n",
    "[Monopoly](https://en.wikipedia.org/wiki/Monopoly_(game)\n",
    "you will know that some properties cost more than others, and \n",
    "the rent charged for a Hotel.\n",
    "\n",
    "There's a relationship between them. Let's find out what it is."
   ]
  },
  {
   "cell_type": "markdown",
   "metadata": {},
   "source": [
    "The set of properties is on an HTML table here:\n",
    "http://www.jdawiseman.com/papers/trivia/monopoly-rents.html"
   ]
  },
  {
   "cell_type": "code",
   "execution_count": 240,
   "metadata": {
    "collapsed": false
   },
   "outputs": [],
   "source": [
    "%matplotlib inline\n",
    "import pandas\n",
    "url = 'http://www.jdawiseman.com/papers/trivia/monopoly-rents.html'\n",
    "dfs = pandas.read_html(url, header=1, index_col=0)"
   ]
  },
  {
   "cell_type": "code",
   "execution_count": 241,
   "metadata": {
    "collapsed": false,
    "scrolled": true
   },
   "outputs": [
    {
     "data": {
      "text/plain": [
       "1"
      ]
     },
     "execution_count": 241,
     "metadata": {},
     "output_type": "execute_result"
    }
   ],
   "source": [
    "# There should only be one DataFrame.\n",
    "# Make a copy of it and drop all the rows with NaN values (these\n",
    "# are the railway stations and the utilities)\n",
    "len(dfs)"
   ]
  },
  {
   "cell_type": "code",
   "execution_count": 242,
   "metadata": {
    "collapsed": false,
    "scrolled": true
   },
   "outputs": [
    {
     "data": {
      "text/html": [
       "<div>\n",
       "<table border=\"1\" class=\"dataframe\">\n",
       "  <thead>\n",
       "    <tr style=\"text-align: right;\">\n",
       "      <th></th>\n",
       "      <th>Cost</th>\n",
       "      <th>M’tg</th>\n",
       "      <th>Site</th>\n",
       "      <th>1 hse</th>\n",
       "      <th>2 hses</th>\n",
       "      <th>3 hses</th>\n",
       "      <th>4 hses</th>\n",
       "      <th>Hotel</th>\n",
       "    </tr>\n",
       "    <tr>\n",
       "      <th>Property</th>\n",
       "      <th></th>\n",
       "      <th></th>\n",
       "      <th></th>\n",
       "      <th></th>\n",
       "      <th></th>\n",
       "      <th></th>\n",
       "      <th></th>\n",
       "      <th></th>\n",
       "    </tr>\n",
       "  </thead>\n",
       "  <tbody>\n",
       "    <tr>\n",
       "      <th>Old Kent Road</th>\n",
       "      <td>60</td>\n",
       "      <td>30</td>\n",
       "      <td>2</td>\n",
       "      <td>10.0</td>\n",
       "      <td>30.0</td>\n",
       "      <td>90.0</td>\n",
       "      <td>160.0</td>\n",
       "      <td>250.0</td>\n",
       "    </tr>\n",
       "    <tr>\n",
       "      <th>Whitechapel Road</th>\n",
       "      <td>60</td>\n",
       "      <td>30</td>\n",
       "      <td>4</td>\n",
       "      <td>20.0</td>\n",
       "      <td>60.0</td>\n",
       "      <td>180.0</td>\n",
       "      <td>320.0</td>\n",
       "      <td>450.0</td>\n",
       "    </tr>\n",
       "    <tr>\n",
       "      <th>Kings Cross Station</th>\n",
       "      <td>200</td>\n",
       "      <td>100</td>\n",
       "      <td>25 or 50 or 100 or 200</td>\n",
       "      <td>NaN</td>\n",
       "      <td>NaN</td>\n",
       "      <td>NaN</td>\n",
       "      <td>NaN</td>\n",
       "      <td>NaN</td>\n",
       "    </tr>\n",
       "    <tr>\n",
       "      <th>The Angel Islington</th>\n",
       "      <td>100</td>\n",
       "      <td>50</td>\n",
       "      <td>6</td>\n",
       "      <td>30.0</td>\n",
       "      <td>90.0</td>\n",
       "      <td>270.0</td>\n",
       "      <td>400.0</td>\n",
       "      <td>550.0</td>\n",
       "    </tr>\n",
       "    <tr>\n",
       "      <th>Euston Road</th>\n",
       "      <td>100</td>\n",
       "      <td>50</td>\n",
       "      <td>6</td>\n",
       "      <td>30.0</td>\n",
       "      <td>90.0</td>\n",
       "      <td>270.0</td>\n",
       "      <td>400.0</td>\n",
       "      <td>550.0</td>\n",
       "    </tr>\n",
       "    <tr>\n",
       "      <th>Pentonville Road</th>\n",
       "      <td>120</td>\n",
       "      <td>60</td>\n",
       "      <td>8</td>\n",
       "      <td>40.0</td>\n",
       "      <td>100.0</td>\n",
       "      <td>300.0</td>\n",
       "      <td>450.0</td>\n",
       "      <td>600.0</td>\n",
       "    </tr>\n",
       "    <tr>\n",
       "      <th>Pall Mall</th>\n",
       "      <td>140</td>\n",
       "      <td>70</td>\n",
       "      <td>10</td>\n",
       "      <td>50.0</td>\n",
       "      <td>150.0</td>\n",
       "      <td>450.0</td>\n",
       "      <td>625.0</td>\n",
       "      <td>750.0</td>\n",
       "    </tr>\n",
       "    <tr>\n",
       "      <th>Electric Company</th>\n",
       "      <td>150</td>\n",
       "      <td>75</td>\n",
       "      <td>4×dice or 10×dice</td>\n",
       "      <td>NaN</td>\n",
       "      <td>NaN</td>\n",
       "      <td>NaN</td>\n",
       "      <td>NaN</td>\n",
       "      <td>NaN</td>\n",
       "    </tr>\n",
       "    <tr>\n",
       "      <th>Whitehall</th>\n",
       "      <td>140</td>\n",
       "      <td>70</td>\n",
       "      <td>10</td>\n",
       "      <td>50.0</td>\n",
       "      <td>150.0</td>\n",
       "      <td>450.0</td>\n",
       "      <td>625.0</td>\n",
       "      <td>750.0</td>\n",
       "    </tr>\n",
       "    <tr>\n",
       "      <th>Northumberland Avenue</th>\n",
       "      <td>160</td>\n",
       "      <td>80</td>\n",
       "      <td>12</td>\n",
       "      <td>60.0</td>\n",
       "      <td>180.0</td>\n",
       "      <td>500.0</td>\n",
       "      <td>700.0</td>\n",
       "      <td>900.0</td>\n",
       "    </tr>\n",
       "    <tr>\n",
       "      <th>Marylebone Station</th>\n",
       "      <td>200</td>\n",
       "      <td>100</td>\n",
       "      <td>25 or 50 or 100 or 200</td>\n",
       "      <td>NaN</td>\n",
       "      <td>NaN</td>\n",
       "      <td>NaN</td>\n",
       "      <td>NaN</td>\n",
       "      <td>NaN</td>\n",
       "    </tr>\n",
       "    <tr>\n",
       "      <th>Bow Street</th>\n",
       "      <td>180</td>\n",
       "      <td>90</td>\n",
       "      <td>14</td>\n",
       "      <td>70.0</td>\n",
       "      <td>200.0</td>\n",
       "      <td>550.0</td>\n",
       "      <td>750.0</td>\n",
       "      <td>950.0</td>\n",
       "    </tr>\n",
       "    <tr>\n",
       "      <th>Marlborough Street</th>\n",
       "      <td>180</td>\n",
       "      <td>90</td>\n",
       "      <td>14</td>\n",
       "      <td>70.0</td>\n",
       "      <td>200.0</td>\n",
       "      <td>550.0</td>\n",
       "      <td>750.0</td>\n",
       "      <td>950.0</td>\n",
       "    </tr>\n",
       "    <tr>\n",
       "      <th>Vine Street</th>\n",
       "      <td>200</td>\n",
       "      <td>100</td>\n",
       "      <td>16</td>\n",
       "      <td>80.0</td>\n",
       "      <td>220.0</td>\n",
       "      <td>600.0</td>\n",
       "      <td>800.0</td>\n",
       "      <td>1000.0</td>\n",
       "    </tr>\n",
       "    <tr>\n",
       "      <th>The Strand</th>\n",
       "      <td>220</td>\n",
       "      <td>110</td>\n",
       "      <td>18</td>\n",
       "      <td>90.0</td>\n",
       "      <td>250.0</td>\n",
       "      <td>700.0</td>\n",
       "      <td>875.0</td>\n",
       "      <td>1050.0</td>\n",
       "    </tr>\n",
       "    <tr>\n",
       "      <th>Fleet Street</th>\n",
       "      <td>220</td>\n",
       "      <td>110</td>\n",
       "      <td>18</td>\n",
       "      <td>90.0</td>\n",
       "      <td>250.0</td>\n",
       "      <td>700.0</td>\n",
       "      <td>875.0</td>\n",
       "      <td>1050.0</td>\n",
       "    </tr>\n",
       "    <tr>\n",
       "      <th>Trafalgar Square</th>\n",
       "      <td>240</td>\n",
       "      <td>120</td>\n",
       "      <td>20</td>\n",
       "      <td>100.0</td>\n",
       "      <td>300.0</td>\n",
       "      <td>750.0</td>\n",
       "      <td>925.0</td>\n",
       "      <td>1100.0</td>\n",
       "    </tr>\n",
       "    <tr>\n",
       "      <th>Fenchurch St Station</th>\n",
       "      <td>200</td>\n",
       "      <td>100</td>\n",
       "      <td>25 or 50 or 100 or 200</td>\n",
       "      <td>NaN</td>\n",
       "      <td>NaN</td>\n",
       "      <td>NaN</td>\n",
       "      <td>NaN</td>\n",
       "      <td>NaN</td>\n",
       "    </tr>\n",
       "    <tr>\n",
       "      <th>Leicester Square</th>\n",
       "      <td>260</td>\n",
       "      <td>130</td>\n",
       "      <td>22</td>\n",
       "      <td>110.0</td>\n",
       "      <td>330.0</td>\n",
       "      <td>800.0</td>\n",
       "      <td>975.0</td>\n",
       "      <td>1150.0</td>\n",
       "    </tr>\n",
       "    <tr>\n",
       "      <th>Coventry Street</th>\n",
       "      <td>260</td>\n",
       "      <td>130</td>\n",
       "      <td>22</td>\n",
       "      <td>110.0</td>\n",
       "      <td>330.0</td>\n",
       "      <td>800.0</td>\n",
       "      <td>975.0</td>\n",
       "      <td>1150.0</td>\n",
       "    </tr>\n",
       "    <tr>\n",
       "      <th>Water Works</th>\n",
       "      <td>150</td>\n",
       "      <td>75</td>\n",
       "      <td>4×dice or 10×dice</td>\n",
       "      <td>NaN</td>\n",
       "      <td>NaN</td>\n",
       "      <td>NaN</td>\n",
       "      <td>NaN</td>\n",
       "      <td>NaN</td>\n",
       "    </tr>\n",
       "    <tr>\n",
       "      <th>Piccadilly</th>\n",
       "      <td>280</td>\n",
       "      <td>140</td>\n",
       "      <td>22</td>\n",
       "      <td>120.0</td>\n",
       "      <td>360.0</td>\n",
       "      <td>850.0</td>\n",
       "      <td>1025.0</td>\n",
       "      <td>1200.0</td>\n",
       "    </tr>\n",
       "    <tr>\n",
       "      <th>Regent Street</th>\n",
       "      <td>300</td>\n",
       "      <td>150</td>\n",
       "      <td>26</td>\n",
       "      <td>130.0</td>\n",
       "      <td>390.0</td>\n",
       "      <td>900.0</td>\n",
       "      <td>1100.0</td>\n",
       "      <td>1275.0</td>\n",
       "    </tr>\n",
       "    <tr>\n",
       "      <th>Oxford Street</th>\n",
       "      <td>300</td>\n",
       "      <td>150</td>\n",
       "      <td>26</td>\n",
       "      <td>130.0</td>\n",
       "      <td>390.0</td>\n",
       "      <td>900.0</td>\n",
       "      <td>1100.0</td>\n",
       "      <td>1275.0</td>\n",
       "    </tr>\n",
       "    <tr>\n",
       "      <th>Bond Street</th>\n",
       "      <td>320</td>\n",
       "      <td>160</td>\n",
       "      <td>28</td>\n",
       "      <td>150.0</td>\n",
       "      <td>450.0</td>\n",
       "      <td>1000.0</td>\n",
       "      <td>1200.0</td>\n",
       "      <td>1400.0</td>\n",
       "    </tr>\n",
       "    <tr>\n",
       "      <th>Liverpool Street Station</th>\n",
       "      <td>200</td>\n",
       "      <td>100</td>\n",
       "      <td>25 or 50 or 100 or 200</td>\n",
       "      <td>NaN</td>\n",
       "      <td>NaN</td>\n",
       "      <td>NaN</td>\n",
       "      <td>NaN</td>\n",
       "      <td>NaN</td>\n",
       "    </tr>\n",
       "    <tr>\n",
       "      <th>Park Lane</th>\n",
       "      <td>350</td>\n",
       "      <td>175</td>\n",
       "      <td>35</td>\n",
       "      <td>175.0</td>\n",
       "      <td>500.0</td>\n",
       "      <td>1100.0</td>\n",
       "      <td>1300.0</td>\n",
       "      <td>1500.0</td>\n",
       "    </tr>\n",
       "    <tr>\n",
       "      <th>Mayfair</th>\n",
       "      <td>400</td>\n",
       "      <td>200</td>\n",
       "      <td>50</td>\n",
       "      <td>200.0</td>\n",
       "      <td>600.0</td>\n",
       "      <td>1400.0</td>\n",
       "      <td>1700.0</td>\n",
       "      <td>2000.0</td>\n",
       "    </tr>\n",
       "  </tbody>\n",
       "</table>\n",
       "</div>"
      ],
      "text/plain": [
       "                          Cost  M’tg                    Site  1 hse  2 hses  \\\n",
       "Property                                                                      \n",
       "Old Kent Road               60    30                       2   10.0    30.0   \n",
       "Whitechapel Road            60    30                       4   20.0    60.0   \n",
       "Kings Cross Station        200   100  25 or 50 or 100 or 200    NaN     NaN   \n",
       "The Angel Islington        100    50                       6   30.0    90.0   \n",
       "Euston Road                100    50                       6   30.0    90.0   \n",
       "Pentonville Road           120    60                       8   40.0   100.0   \n",
       "Pall Mall                  140    70                      10   50.0   150.0   \n",
       "Electric Company           150    75       4×dice or 10×dice    NaN     NaN   \n",
       "Whitehall                  140    70                      10   50.0   150.0   \n",
       "Northumberland Avenue      160    80                      12   60.0   180.0   \n",
       "Marylebone Station         200   100  25 or 50 or 100 or 200    NaN     NaN   \n",
       "Bow Street                 180    90                      14   70.0   200.0   \n",
       "Marlborough Street         180    90                      14   70.0   200.0   \n",
       "Vine Street                200   100                      16   80.0   220.0   \n",
       "The Strand                 220   110                      18   90.0   250.0   \n",
       "Fleet Street               220   110                      18   90.0   250.0   \n",
       "Trafalgar Square           240   120                      20  100.0   300.0   \n",
       "Fenchurch St Station       200   100  25 or 50 or 100 or 200    NaN     NaN   \n",
       "Leicester Square           260   130                      22  110.0   330.0   \n",
       "Coventry Street            260   130                      22  110.0   330.0   \n",
       "Water Works                150    75       4×dice or 10×dice    NaN     NaN   \n",
       "Piccadilly                 280   140                      22  120.0   360.0   \n",
       "Regent Street              300   150                      26  130.0   390.0   \n",
       "Oxford Street              300   150                      26  130.0   390.0   \n",
       "Bond Street                320   160                      28  150.0   450.0   \n",
       "Liverpool Street Station   200   100  25 or 50 or 100 or 200    NaN     NaN   \n",
       "Park Lane                  350   175                      35  175.0   500.0   \n",
       "Mayfair                    400   200                      50  200.0   600.0   \n",
       "\n",
       "                          3 hses  4 hses   Hotel  \n",
       "Property                                          \n",
       "Old Kent Road               90.0   160.0   250.0  \n",
       "Whitechapel Road           180.0   320.0   450.0  \n",
       "Kings Cross Station          NaN     NaN     NaN  \n",
       "The Angel Islington        270.0   400.0   550.0  \n",
       "Euston Road                270.0   400.0   550.0  \n",
       "Pentonville Road           300.0   450.0   600.0  \n",
       "Pall Mall                  450.0   625.0   750.0  \n",
       "Electric Company             NaN     NaN     NaN  \n",
       "Whitehall                  450.0   625.0   750.0  \n",
       "Northumberland Avenue      500.0   700.0   900.0  \n",
       "Marylebone Station           NaN     NaN     NaN  \n",
       "Bow Street                 550.0   750.0   950.0  \n",
       "Marlborough Street         550.0   750.0   950.0  \n",
       "Vine Street                600.0   800.0  1000.0  \n",
       "The Strand                 700.0   875.0  1050.0  \n",
       "Fleet Street               700.0   875.0  1050.0  \n",
       "Trafalgar Square           750.0   925.0  1100.0  \n",
       "Fenchurch St Station         NaN     NaN     NaN  \n",
       "Leicester Square           800.0   975.0  1150.0  \n",
       "Coventry Street            800.0   975.0  1150.0  \n",
       "Water Works                  NaN     NaN     NaN  \n",
       "Piccadilly                 850.0  1025.0  1200.0  \n",
       "Regent Street              900.0  1100.0  1275.0  \n",
       "Oxford Street              900.0  1100.0  1275.0  \n",
       "Bond Street               1000.0  1200.0  1400.0  \n",
       "Liverpool Street Station     NaN     NaN     NaN  \n",
       "Park Lane                 1100.0  1300.0  1500.0  \n",
       "Mayfair                   1400.0  1700.0  2000.0  "
      ]
     },
     "execution_count": 242,
     "metadata": {},
     "output_type": "execute_result"
    }
   ],
   "source": [
    "dfs[0].copy()"
   ]
  },
  {
   "cell_type": "code",
   "execution_count": 243,
   "metadata": {
    "collapsed": false,
    "scrolled": true
   },
   "outputs": [
    {
     "data": {
      "text/html": [
       "<div>\n",
       "<table border=\"1\" class=\"dataframe\">\n",
       "  <thead>\n",
       "    <tr style=\"text-align: right;\">\n",
       "      <th></th>\n",
       "      <th>Cost</th>\n",
       "      <th>M’tg</th>\n",
       "      <th>Site</th>\n",
       "      <th>1 hse</th>\n",
       "      <th>2 hses</th>\n",
       "      <th>3 hses</th>\n",
       "      <th>4 hses</th>\n",
       "      <th>Hotel</th>\n",
       "    </tr>\n",
       "    <tr>\n",
       "      <th>Property</th>\n",
       "      <th></th>\n",
       "      <th></th>\n",
       "      <th></th>\n",
       "      <th></th>\n",
       "      <th></th>\n",
       "      <th></th>\n",
       "      <th></th>\n",
       "      <th></th>\n",
       "    </tr>\n",
       "  </thead>\n",
       "  <tbody>\n",
       "    <tr>\n",
       "      <th>Old Kent Road</th>\n",
       "      <td>60</td>\n",
       "      <td>30</td>\n",
       "      <td>2</td>\n",
       "      <td>10.0</td>\n",
       "      <td>30.0</td>\n",
       "      <td>90.0</td>\n",
       "      <td>160.0</td>\n",
       "      <td>250.0</td>\n",
       "    </tr>\n",
       "    <tr>\n",
       "      <th>Whitechapel Road</th>\n",
       "      <td>60</td>\n",
       "      <td>30</td>\n",
       "      <td>4</td>\n",
       "      <td>20.0</td>\n",
       "      <td>60.0</td>\n",
       "      <td>180.0</td>\n",
       "      <td>320.0</td>\n",
       "      <td>450.0</td>\n",
       "    </tr>\n",
       "    <tr>\n",
       "      <th>The Angel Islington</th>\n",
       "      <td>100</td>\n",
       "      <td>50</td>\n",
       "      <td>6</td>\n",
       "      <td>30.0</td>\n",
       "      <td>90.0</td>\n",
       "      <td>270.0</td>\n",
       "      <td>400.0</td>\n",
       "      <td>550.0</td>\n",
       "    </tr>\n",
       "    <tr>\n",
       "      <th>Euston Road</th>\n",
       "      <td>100</td>\n",
       "      <td>50</td>\n",
       "      <td>6</td>\n",
       "      <td>30.0</td>\n",
       "      <td>90.0</td>\n",
       "      <td>270.0</td>\n",
       "      <td>400.0</td>\n",
       "      <td>550.0</td>\n",
       "    </tr>\n",
       "    <tr>\n",
       "      <th>Pentonville Road</th>\n",
       "      <td>120</td>\n",
       "      <td>60</td>\n",
       "      <td>8</td>\n",
       "      <td>40.0</td>\n",
       "      <td>100.0</td>\n",
       "      <td>300.0</td>\n",
       "      <td>450.0</td>\n",
       "      <td>600.0</td>\n",
       "    </tr>\n",
       "    <tr>\n",
       "      <th>Pall Mall</th>\n",
       "      <td>140</td>\n",
       "      <td>70</td>\n",
       "      <td>10</td>\n",
       "      <td>50.0</td>\n",
       "      <td>150.0</td>\n",
       "      <td>450.0</td>\n",
       "      <td>625.0</td>\n",
       "      <td>750.0</td>\n",
       "    </tr>\n",
       "    <tr>\n",
       "      <th>Whitehall</th>\n",
       "      <td>140</td>\n",
       "      <td>70</td>\n",
       "      <td>10</td>\n",
       "      <td>50.0</td>\n",
       "      <td>150.0</td>\n",
       "      <td>450.0</td>\n",
       "      <td>625.0</td>\n",
       "      <td>750.0</td>\n",
       "    </tr>\n",
       "    <tr>\n",
       "      <th>Northumberland Avenue</th>\n",
       "      <td>160</td>\n",
       "      <td>80</td>\n",
       "      <td>12</td>\n",
       "      <td>60.0</td>\n",
       "      <td>180.0</td>\n",
       "      <td>500.0</td>\n",
       "      <td>700.0</td>\n",
       "      <td>900.0</td>\n",
       "    </tr>\n",
       "    <tr>\n",
       "      <th>Bow Street</th>\n",
       "      <td>180</td>\n",
       "      <td>90</td>\n",
       "      <td>14</td>\n",
       "      <td>70.0</td>\n",
       "      <td>200.0</td>\n",
       "      <td>550.0</td>\n",
       "      <td>750.0</td>\n",
       "      <td>950.0</td>\n",
       "    </tr>\n",
       "    <tr>\n",
       "      <th>Marlborough Street</th>\n",
       "      <td>180</td>\n",
       "      <td>90</td>\n",
       "      <td>14</td>\n",
       "      <td>70.0</td>\n",
       "      <td>200.0</td>\n",
       "      <td>550.0</td>\n",
       "      <td>750.0</td>\n",
       "      <td>950.0</td>\n",
       "    </tr>\n",
       "    <tr>\n",
       "      <th>Vine Street</th>\n",
       "      <td>200</td>\n",
       "      <td>100</td>\n",
       "      <td>16</td>\n",
       "      <td>80.0</td>\n",
       "      <td>220.0</td>\n",
       "      <td>600.0</td>\n",
       "      <td>800.0</td>\n",
       "      <td>1000.0</td>\n",
       "    </tr>\n",
       "    <tr>\n",
       "      <th>The Strand</th>\n",
       "      <td>220</td>\n",
       "      <td>110</td>\n",
       "      <td>18</td>\n",
       "      <td>90.0</td>\n",
       "      <td>250.0</td>\n",
       "      <td>700.0</td>\n",
       "      <td>875.0</td>\n",
       "      <td>1050.0</td>\n",
       "    </tr>\n",
       "    <tr>\n",
       "      <th>Fleet Street</th>\n",
       "      <td>220</td>\n",
       "      <td>110</td>\n",
       "      <td>18</td>\n",
       "      <td>90.0</td>\n",
       "      <td>250.0</td>\n",
       "      <td>700.0</td>\n",
       "      <td>875.0</td>\n",
       "      <td>1050.0</td>\n",
       "    </tr>\n",
       "    <tr>\n",
       "      <th>Trafalgar Square</th>\n",
       "      <td>240</td>\n",
       "      <td>120</td>\n",
       "      <td>20</td>\n",
       "      <td>100.0</td>\n",
       "      <td>300.0</td>\n",
       "      <td>750.0</td>\n",
       "      <td>925.0</td>\n",
       "      <td>1100.0</td>\n",
       "    </tr>\n",
       "    <tr>\n",
       "      <th>Leicester Square</th>\n",
       "      <td>260</td>\n",
       "      <td>130</td>\n",
       "      <td>22</td>\n",
       "      <td>110.0</td>\n",
       "      <td>330.0</td>\n",
       "      <td>800.0</td>\n",
       "      <td>975.0</td>\n",
       "      <td>1150.0</td>\n",
       "    </tr>\n",
       "    <tr>\n",
       "      <th>Coventry Street</th>\n",
       "      <td>260</td>\n",
       "      <td>130</td>\n",
       "      <td>22</td>\n",
       "      <td>110.0</td>\n",
       "      <td>330.0</td>\n",
       "      <td>800.0</td>\n",
       "      <td>975.0</td>\n",
       "      <td>1150.0</td>\n",
       "    </tr>\n",
       "    <tr>\n",
       "      <th>Piccadilly</th>\n",
       "      <td>280</td>\n",
       "      <td>140</td>\n",
       "      <td>22</td>\n",
       "      <td>120.0</td>\n",
       "      <td>360.0</td>\n",
       "      <td>850.0</td>\n",
       "      <td>1025.0</td>\n",
       "      <td>1200.0</td>\n",
       "    </tr>\n",
       "    <tr>\n",
       "      <th>Regent Street</th>\n",
       "      <td>300</td>\n",
       "      <td>150</td>\n",
       "      <td>26</td>\n",
       "      <td>130.0</td>\n",
       "      <td>390.0</td>\n",
       "      <td>900.0</td>\n",
       "      <td>1100.0</td>\n",
       "      <td>1275.0</td>\n",
       "    </tr>\n",
       "    <tr>\n",
       "      <th>Oxford Street</th>\n",
       "      <td>300</td>\n",
       "      <td>150</td>\n",
       "      <td>26</td>\n",
       "      <td>130.0</td>\n",
       "      <td>390.0</td>\n",
       "      <td>900.0</td>\n",
       "      <td>1100.0</td>\n",
       "      <td>1275.0</td>\n",
       "    </tr>\n",
       "    <tr>\n",
       "      <th>Bond Street</th>\n",
       "      <td>320</td>\n",
       "      <td>160</td>\n",
       "      <td>28</td>\n",
       "      <td>150.0</td>\n",
       "      <td>450.0</td>\n",
       "      <td>1000.0</td>\n",
       "      <td>1200.0</td>\n",
       "      <td>1400.0</td>\n",
       "    </tr>\n",
       "    <tr>\n",
       "      <th>Park Lane</th>\n",
       "      <td>350</td>\n",
       "      <td>175</td>\n",
       "      <td>35</td>\n",
       "      <td>175.0</td>\n",
       "      <td>500.0</td>\n",
       "      <td>1100.0</td>\n",
       "      <td>1300.0</td>\n",
       "      <td>1500.0</td>\n",
       "    </tr>\n",
       "    <tr>\n",
       "      <th>Mayfair</th>\n",
       "      <td>400</td>\n",
       "      <td>200</td>\n",
       "      <td>50</td>\n",
       "      <td>200.0</td>\n",
       "      <td>600.0</td>\n",
       "      <td>1400.0</td>\n",
       "      <td>1700.0</td>\n",
       "      <td>2000.0</td>\n",
       "    </tr>\n",
       "  </tbody>\n",
       "</table>\n",
       "</div>"
      ],
      "text/plain": [
       "                       Cost  M’tg Site  1 hse  2 hses  3 hses  4 hses   Hotel\n",
       "Property                                                                     \n",
       "Old Kent Road            60    30    2   10.0    30.0    90.0   160.0   250.0\n",
       "Whitechapel Road         60    30    4   20.0    60.0   180.0   320.0   450.0\n",
       "The Angel Islington     100    50    6   30.0    90.0   270.0   400.0   550.0\n",
       "Euston Road             100    50    6   30.0    90.0   270.0   400.0   550.0\n",
       "Pentonville Road        120    60    8   40.0   100.0   300.0   450.0   600.0\n",
       "Pall Mall               140    70   10   50.0   150.0   450.0   625.0   750.0\n",
       "Whitehall               140    70   10   50.0   150.0   450.0   625.0   750.0\n",
       "Northumberland Avenue   160    80   12   60.0   180.0   500.0   700.0   900.0\n",
       "Bow Street              180    90   14   70.0   200.0   550.0   750.0   950.0\n",
       "Marlborough Street      180    90   14   70.0   200.0   550.0   750.0   950.0\n",
       "Vine Street             200   100   16   80.0   220.0   600.0   800.0  1000.0\n",
       "The Strand              220   110   18   90.0   250.0   700.0   875.0  1050.0\n",
       "Fleet Street            220   110   18   90.0   250.0   700.0   875.0  1050.0\n",
       "Trafalgar Square        240   120   20  100.0   300.0   750.0   925.0  1100.0\n",
       "Leicester Square        260   130   22  110.0   330.0   800.0   975.0  1150.0\n",
       "Coventry Street         260   130   22  110.0   330.0   800.0   975.0  1150.0\n",
       "Piccadilly              280   140   22  120.0   360.0   850.0  1025.0  1200.0\n",
       "Regent Street           300   150   26  130.0   390.0   900.0  1100.0  1275.0\n",
       "Oxford Street           300   150   26  130.0   390.0   900.0  1100.0  1275.0\n",
       "Bond Street             320   160   28  150.0   450.0  1000.0  1200.0  1400.0\n",
       "Park Lane               350   175   35  175.0   500.0  1100.0  1300.0  1500.0\n",
       "Mayfair                 400   200   50  200.0   600.0  1400.0  1700.0  2000.0"
      ]
     },
     "execution_count": 243,
     "metadata": {},
     "output_type": "execute_result"
    }
   ],
   "source": [
    "monopoly = dfs[0].copy().dropna()\n",
    "monopoly"
   ]
  },
  {
   "cell_type": "code",
   "execution_count": 244,
   "metadata": {
    "collapsed": false
   },
   "outputs": [
    {
     "data": {
      "text/plain": [
       "Index([u'Old Kent Road', u'Whitechapel Road', u'The Angel Islington',\n",
       "       u'Euston Road', u'Pentonville Road', u'Pall Mall', u'Whitehall',\n",
       "       u'Northumberland Avenue', u'Bow Street', u'Marlborough Street',\n",
       "       u'Vine Street', u'The Strand', u'Fleet Street', u'Trafalgar Square',\n",
       "       u'Leicester Square', u'Coventry Street', u'Piccadilly',\n",
       "       u'Regent Street', u'Oxford Street', u'Bond Street', u'Park Lane',\n",
       "       u'Mayfair'],\n",
       "      dtype='object', name=u'Property')"
      ]
     },
     "execution_count": 244,
     "metadata": {},
     "output_type": "execute_result"
    }
   ],
   "source": [
    "# The index is the name of the property.\n",
    "monopoly.index"
   ]
  },
  {
   "cell_type": "code",
   "execution_count": 245,
   "metadata": {
    "collapsed": false
   },
   "outputs": [
    {
     "data": {
      "text/plain": [
       "Index([u'Cost', u'M’tg', u'Site', u'1 hse', u'2 hses', u'3 hses', u'4 hses',\n",
       "       u'Hotel'],\n",
       "      dtype='object')"
      ]
     },
     "execution_count": 245,
     "metadata": {},
     "output_type": "execute_result"
    }
   ],
   "source": [
    "# Have a look at the column names\n",
    "#  - \"1 hse\" means the rent when there is one house on the property\n",
    "#  - \"M'tg\" means the price to mortgage the property\n",
    "monopoly.columns"
   ]
  },
  {
   "cell_type": "code",
   "execution_count": 246,
   "metadata": {
    "collapsed": false,
    "scrolled": true
   },
   "outputs": [
    {
     "data": {
      "text/html": [
       "<div>\n",
       "<table border=\"1\" class=\"dataframe\">\n",
       "  <thead>\n",
       "    <tr style=\"text-align: right;\">\n",
       "      <th></th>\n",
       "      <th>Site</th>\n",
       "    </tr>\n",
       "    <tr>\n",
       "      <th>Property</th>\n",
       "      <th></th>\n",
       "    </tr>\n",
       "  </thead>\n",
       "  <tbody>\n",
       "    <tr>\n",
       "      <th>Old Kent Road</th>\n",
       "      <td>2</td>\n",
       "    </tr>\n",
       "    <tr>\n",
       "      <th>Whitechapel Road</th>\n",
       "      <td>4</td>\n",
       "    </tr>\n",
       "    <tr>\n",
       "      <th>The Angel Islington</th>\n",
       "      <td>6</td>\n",
       "    </tr>\n",
       "    <tr>\n",
       "      <th>Euston Road</th>\n",
       "      <td>6</td>\n",
       "    </tr>\n",
       "    <tr>\n",
       "      <th>Pentonville Road</th>\n",
       "      <td>8</td>\n",
       "    </tr>\n",
       "    <tr>\n",
       "      <th>Pall Mall</th>\n",
       "      <td>10</td>\n",
       "    </tr>\n",
       "    <tr>\n",
       "      <th>Whitehall</th>\n",
       "      <td>10</td>\n",
       "    </tr>\n",
       "    <tr>\n",
       "      <th>Northumberland Avenue</th>\n",
       "      <td>12</td>\n",
       "    </tr>\n",
       "    <tr>\n",
       "      <th>Bow Street</th>\n",
       "      <td>14</td>\n",
       "    </tr>\n",
       "    <tr>\n",
       "      <th>Marlborough Street</th>\n",
       "      <td>14</td>\n",
       "    </tr>\n",
       "    <tr>\n",
       "      <th>Vine Street</th>\n",
       "      <td>16</td>\n",
       "    </tr>\n",
       "    <tr>\n",
       "      <th>The Strand</th>\n",
       "      <td>18</td>\n",
       "    </tr>\n",
       "    <tr>\n",
       "      <th>Fleet Street</th>\n",
       "      <td>18</td>\n",
       "    </tr>\n",
       "    <tr>\n",
       "      <th>Trafalgar Square</th>\n",
       "      <td>20</td>\n",
       "    </tr>\n",
       "    <tr>\n",
       "      <th>Leicester Square</th>\n",
       "      <td>22</td>\n",
       "    </tr>\n",
       "    <tr>\n",
       "      <th>Coventry Street</th>\n",
       "      <td>22</td>\n",
       "    </tr>\n",
       "    <tr>\n",
       "      <th>Piccadilly</th>\n",
       "      <td>22</td>\n",
       "    </tr>\n",
       "    <tr>\n",
       "      <th>Regent Street</th>\n",
       "      <td>26</td>\n",
       "    </tr>\n",
       "    <tr>\n",
       "      <th>Oxford Street</th>\n",
       "      <td>26</td>\n",
       "    </tr>\n",
       "    <tr>\n",
       "      <th>Bond Street</th>\n",
       "      <td>28</td>\n",
       "    </tr>\n",
       "    <tr>\n",
       "      <th>Park Lane</th>\n",
       "      <td>35</td>\n",
       "    </tr>\n",
       "    <tr>\n",
       "      <th>Mayfair</th>\n",
       "      <td>50</td>\n",
       "    </tr>\n",
       "  </tbody>\n",
       "</table>\n",
       "</div>"
      ],
      "text/plain": [
       "                      Site\n",
       "Property                  \n",
       "Old Kent Road            2\n",
       "Whitechapel Road         4\n",
       "The Angel Islington      6\n",
       "Euston Road              6\n",
       "Pentonville Road         8\n",
       "Pall Mall               10\n",
       "Whitehall               10\n",
       "Northumberland Avenue   12\n",
       "Bow Street              14\n",
       "Marlborough Street      14\n",
       "Vine Street             16\n",
       "The Strand              18\n",
       "Fleet Street            18\n",
       "Trafalgar Square        20\n",
       "Leicester Square        22\n",
       "Coventry Street         22\n",
       "Piccadilly              22\n",
       "Regent Street           26\n",
       "Oxford Street           26\n",
       "Bond Street             28\n",
       "Park Lane               35\n",
       "Mayfair                 50"
      ]
     },
     "execution_count": 246,
     "metadata": {},
     "output_type": "execute_result"
    }
   ],
   "source": [
    "# Make a dataframe X which contains the \"Site\" column\n",
    "X = monopoly[['Site']]\n",
    "X"
   ]
  },
  {
   "cell_type": "code",
   "execution_count": 247,
   "metadata": {
    "collapsed": false,
    "scrolled": true
   },
   "outputs": [
    {
     "data": {
      "text/plain": [
       "Property\n",
       "Old Kent Road             250.0\n",
       "Whitechapel Road          450.0\n",
       "The Angel Islington       550.0\n",
       "Euston Road               550.0\n",
       "Pentonville Road          600.0\n",
       "Pall Mall                 750.0\n",
       "Whitehall                 750.0\n",
       "Northumberland Avenue     900.0\n",
       "Bow Street                950.0\n",
       "Marlborough Street        950.0\n",
       "Vine Street              1000.0\n",
       "The Strand               1050.0\n",
       "Fleet Street             1050.0\n",
       "Trafalgar Square         1100.0\n",
       "Leicester Square         1150.0\n",
       "Coventry Street          1150.0\n",
       "Piccadilly               1200.0\n",
       "Regent Street            1275.0\n",
       "Oxford Street            1275.0\n",
       "Bond Street              1400.0\n",
       "Park Lane                1500.0\n",
       "Mayfair                  2000.0\n",
       "Name: Hotel, dtype: float64"
      ]
     },
     "execution_count": 247,
     "metadata": {},
     "output_type": "execute_result"
    }
   ],
   "source": [
    "# Make a series Y which contains the \"Hotel\" column\n",
    "Y = monopoly.Hotel\n",
    "Y"
   ]
  },
  {
   "cell_type": "code",
   "execution_count": 248,
   "metadata": {
    "collapsed": false
   },
   "outputs": [],
   "source": [
    "# Use sklearn.cross_validation.train_test_split to split X and y\n",
    "# into train and test sets\n",
    "from sklearn.cross_validation import train_test_split\n",
    "\n",
    "(X_train, X_test, Y_train, Y_test) = train_test_split(\n",
    "X, Y)\n"
   ]
  },
  {
   "cell_type": "code",
   "execution_count": 249,
   "metadata": {
    "collapsed": false
   },
   "outputs": [
    {
     "data": {
      "text/plain": [
       "Index([u'Bow Street', u'Vine Street', u'Pall Mall', u'Trafalgar Square',\n",
       "       u'Oxford Street', u'Bond Street', u'Fleet Street', u'Piccadilly',\n",
       "       u'Northumberland Avenue', u'Coventry Street', u'The Strand',\n",
       "       u'Regent Street', u'Whitechapel Road', u'Mayfair', u'Pentonville Road',\n",
       "       u'Leicester Square'],\n",
       "      dtype='object', name=u'Property')"
      ]
     },
     "execution_count": 249,
     "metadata": {},
     "output_type": "execute_result"
    }
   ],
   "source": [
    "# Check the index of the X_training data to see what properties were\n",
    "# included. How many are there?\n",
    "X_train.index"
   ]
  },
  {
   "cell_type": "code",
   "execution_count": 250,
   "metadata": {
    "collapsed": false
   },
   "outputs": [
    {
     "data": {
      "text/plain": [
       "Site    16\n",
       "dtype: int64"
      ]
     },
     "execution_count": 250,
     "metadata": {},
     "output_type": "execute_result"
    }
   ],
   "source": [
    "X_train.count()"
   ]
  },
  {
   "cell_type": "code",
   "execution_count": 251,
   "metadata": {
    "collapsed": false
   },
   "outputs": [
    {
     "data": {
      "text/plain": [
       "Index([u'The Angel Islington', u'Marlborough Street', u'Old Kent Road',\n",
       "       u'Whitehall', u'Park Lane', u'Euston Road'],\n",
       "      dtype='object', name=u'Property')"
      ]
     },
     "execution_count": 251,
     "metadata": {},
     "output_type": "execute_result"
    }
   ],
   "source": [
    "# Check the index of the X_test data to see what properties were\n",
    "# included. How many are there?\n",
    "X_test.index"
   ]
  },
  {
   "cell_type": "code",
   "execution_count": 252,
   "metadata": {
    "collapsed": false
   },
   "outputs": [
    {
     "data": {
      "text/plain": [
       "Site    6\n",
       "dtype: int64"
      ]
     },
     "execution_count": 252,
     "metadata": {},
     "output_type": "execute_result"
    }
   ],
   "source": [
    "X_test.count()"
   ]
  },
  {
   "cell_type": "code",
   "execution_count": 253,
   "metadata": {
    "collapsed": false
   },
   "outputs": [],
   "source": [
    "# Do a train_test_split again, but this time, specify test_size\n",
    "from sklearn.cross_validation import train_test_split\n",
    "\n",
    "(X_train, X_test, Y_train, Y_test) = train_test_split(\n",
    "X, Y, test_size = 0.3)\n"
   ]
  },
  {
   "cell_type": "code",
   "execution_count": 254,
   "metadata": {
    "collapsed": false
   },
   "outputs": [
    {
     "data": {
      "text/plain": [
       "Index([u'Regent Street', u'Vine Street', u'Pentonville Road', u'Pall Mall',\n",
       "       u'Old Kent Road', u'The Strand', u'Euston Road', u'Fleet Street',\n",
       "       u'Marlborough Street', u'Bow Street', u'Park Lane', u'Trafalgar Square',\n",
       "       u'The Angel Islington', u'Whitechapel Road', u'Piccadilly'],\n",
       "      dtype='object', name=u'Property')"
      ]
     },
     "execution_count": 254,
     "metadata": {},
     "output_type": "execute_result"
    }
   ],
   "source": [
    "X_train.index"
   ]
  },
  {
   "cell_type": "code",
   "execution_count": 255,
   "metadata": {
    "collapsed": false
   },
   "outputs": [
    {
     "data": {
      "text/plain": [
       "Site    15\n",
       "dtype: int64"
      ]
     },
     "execution_count": 255,
     "metadata": {},
     "output_type": "execute_result"
    }
   ],
   "source": [
    "X_train.count()"
   ]
  },
  {
   "cell_type": "code",
   "execution_count": 256,
   "metadata": {
    "collapsed": false
   },
   "outputs": [
    {
     "data": {
      "text/plain": [
       "Site    7\n",
       "dtype: int64"
      ]
     },
     "execution_count": 256,
     "metadata": {},
     "output_type": "execute_result"
    }
   ],
   "source": [
    "X_test.count()"
   ]
  },
  {
   "cell_type": "code",
   "execution_count": 257,
   "metadata": {
    "collapsed": false
   },
   "outputs": [
    {
     "data": {
      "text/plain": [
       "LinearRegression(copy_X=True, fit_intercept=True, n_jobs=1, normalize=False)"
      ]
     },
     "execution_count": 257,
     "metadata": {},
     "output_type": "execute_result"
    }
   ],
   "source": [
    "# Make a LinearRegression object, and try to fit the X_train data\n",
    "# to Y_train\n",
    "import sklearn.linear_model\n",
    "l = sklearn.linear_model.LinearRegression()\n",
    "l.fit(X_train[['Site']],Y_train)"
   ]
  },
  {
   "cell_type": "code",
   "execution_count": 258,
   "metadata": {
    "collapsed": false
   },
   "outputs": [
    {
     "data": {
      "text/plain": [
       "0.95309258716612466"
      ]
     },
     "execution_count": 258,
     "metadata": {},
     "output_type": "execute_result"
    }
   ],
   "source": [
    "# Your LinearRegression object has a .score() method.\n",
    "# Try it on your X_train and Y_train data.\n",
    "# It will be good, but it will be overly confident about its accuracy\n",
    "l.score(X_train[['Site']],Y_train)"
   ]
  },
  {
   "cell_type": "code",
   "execution_count": 259,
   "metadata": {
    "collapsed": false
   },
   "outputs": [
    {
     "data": {
      "text/plain": [
       "array([ 1382.16771967,  1307.46606997,   784.55452205,   709.85287235,\n",
       "        1158.06277056,  1158.06277056,  2203.88586639])"
      ]
     },
     "execution_count": 259,
     "metadata": {},
     "output_type": "execute_result"
    }
   ],
   "source": [
    "# Make predictions for your X_test data\n",
    "predictions = l.predict(X_test[['Site']])\n",
    "predictions"
   ]
  },
  {
   "cell_type": "code",
   "execution_count": 260,
   "metadata": {
    "collapsed": false
   },
   "outputs": [
    {
     "data": {
      "text/plain": [
       "[(1400.0, 1382.1677196677192),\n",
       " (1275.0, 1307.4660699660697),\n",
       " (900.0, 784.55452205452207),\n",
       " (750.0, 709.85287235287251),\n",
       " (1150.0, 1158.0627705627703),\n",
       " (1150.0, 1158.0627705627703),\n",
       " (2000.0, 2203.8858663858655)]"
      ]
     },
     "execution_count": 260,
     "metadata": {},
     "output_type": "execute_result"
    },
    {
     "data": {
      "image/png": "[encoded data removed]",
      "text/plain": [
       "<matplotlib.figure.Figure at 0x11a1faa50>"
      ]
     },
     "metadata": {},
     "output_type": "display_data"
    }
   ],
   "source": [
    "# Zip these predictions with the correct answers (Y_test) and compare\n",
    "# them visually. You could graph them too if you want to.\n",
    "\n",
    "import matplotlib.pyplot as plt\n",
    "plt.scatter(Y_test,predictions)\n",
    "zip(list(Y_test.values),predictions)"
   ]
  },
  {
   "cell_type": "code",
   "execution_count": 261,
   "metadata": {
    "collapsed": false
   },
   "outputs": [
    {
     "data": {
      "text/plain": [
       "32.466069966069654"
      ]
     },
     "execution_count": 261,
     "metadata": {},
     "output_type": "execute_result"
    }
   ],
   "source": [
    "# sklearn.metrics.median_absolute_error to get a sense of how\n",
    "# far wrong it was\n",
    "sklearn.metrics.median_absolute_error(Y_test,predictions)"
   ]
  },
  {
   "cell_type": "code",
   "execution_count": 262,
   "metadata": {
    "collapsed": false
   },
   "outputs": [
    {
     "data": {
      "text/plain": [
       "DummyRegressor(constant=None, quantile=None, strategy='mean')"
      ]
     },
     "execution_count": 262,
     "metadata": {},
     "output_type": "execute_result"
    }
   ],
   "source": [
    "# Try the same with a sklearn.dummy.DummyRegressor() and \n",
    "# sklearn.tree.DecisionTreeRegressor()\n",
    "import sklearn.dummy\n",
    "d = sklearn.dummy.DummyRegressor()\n",
    "d.fit(X_train[['Site']],Y_train)"
   ]
  },
  {
   "cell_type": "code",
   "execution_count": 263,
   "metadata": {
    "collapsed": false
   },
   "outputs": [
    {
     "data": {
      "text/plain": [
       "0.0"
      ]
     },
     "execution_count": 263,
     "metadata": {},
     "output_type": "execute_result"
    }
   ],
   "source": [
    "d.score(X_train[['Site']],Y_train)"
   ]
  },
  {
   "cell_type": "code",
   "execution_count": 264,
   "metadata": {
    "collapsed": true
   },
   "outputs": [],
   "source": [
    "predictions = d.predict(X_test[['Site']])"
   ]
  },
  {
   "cell_type": "code",
   "execution_count": 265,
   "metadata": {
    "collapsed": false
   },
   "outputs": [
    {
     "data": {
      "text/plain": [
       "<matplotlib.collections.PathCollection at 0x11a5b27d0>"
      ]
     },
     "execution_count": 265,
     "metadata": {},
     "output_type": "execute_result"
    },
    {
     "data": {
      "image/png": "[encoded data removed]",
      "text/plain": [
       "<matplotlib.figure.Figure at 0x11a1fa310>"
      ]
     },
     "metadata": {},
     "output_type": "display_data"
    }
   ],
   "source": [
    "import matplotlib.pyplot as plt\n",
    "plt.scatter(Y_test,predictions)"
   ]
  },
  {
   "cell_type": "code",
   "execution_count": 266,
   "metadata": {
    "collapsed": false
   },
   "outputs": [
    {
     "data": {
      "text/plain": [
       "268.33333333333337"
      ]
     },
     "execution_count": 266,
     "metadata": {},
     "output_type": "execute_result"
    }
   ],
   "source": [
    "sklearn.metrics.median_absolute_error(Y_test,predictions)"
   ]
  },
  {
   "cell_type": "code",
   "execution_count": 267,
   "metadata": {
    "collapsed": false
   },
   "outputs": [
    {
     "data": {
      "text/plain": [
       "DecisionTreeRegressor(criterion='mse', max_depth=None, max_features=None,\n",
       "           max_leaf_nodes=None, min_samples_leaf=1, min_samples_split=2,\n",
       "           min_weight_fraction_leaf=0.0, presort=False, random_state=None,\n",
       "           splitter='best')"
      ]
     },
     "execution_count": 267,
     "metadata": {},
     "output_type": "execute_result"
    }
   ],
   "source": [
    "import sklearn.tree\n",
    "t = sklearn.tree.DecisionTreeRegressor()\n",
    "t.fit(X_train[['Site']],Y_train)"
   ]
  },
  {
   "cell_type": "code",
   "execution_count": 268,
   "metadata": {
    "collapsed": false
   },
   "outputs": [
    {
     "data": {
      "text/plain": [
       "1.0"
      ]
     },
     "execution_count": 268,
     "metadata": {},
     "output_type": "execute_result"
    }
   ],
   "source": [
    "t.score(X_train[['Site']],Y_train)"
   ]
  },
  {
   "cell_type": "code",
   "execution_count": 269,
   "metadata": {
    "collapsed": true
   },
   "outputs": [],
   "source": [
    "predictions = t.predict(X_test[['Site']])"
   ]
  },
  {
   "cell_type": "code",
   "execution_count": 270,
   "metadata": {
    "collapsed": false
   },
   "outputs": [
    {
     "data": {
      "text/plain": [
       "<matplotlib.collections.PathCollection at 0x11a2f9c90>"
      ]
     },
     "execution_count": 270,
     "metadata": {},
     "output_type": "execute_result"
    },
    {
     "data": {
      "image/png": "[encoded data removed]",
      "text/plain": [
       "<matplotlib.figure.Figure at 0x11a691950>"
      ]
     },
     "metadata": {},
     "output_type": "display_data"
    }
   ],
   "source": [
    "import matplotlib.pyplot as plt\n",
    "plt.scatter(Y_test,predictions)"
   ]
  },
  {
   "cell_type": "code",
   "execution_count": 271,
   "metadata": {
    "collapsed": false
   },
   "outputs": [
    {
     "data": {
      "text/plain": [
       "[(1400.0, 1275.0),\n",
       " (1275.0, 1275.0),\n",
       " (900.0, 750.0),\n",
       " (750.0, 750.0),\n",
       " (1150.0, 1200.0),\n",
       " (1150.0, 1200.0),\n",
       " (2000.0, 1500.0)]"
      ]
     },
     "execution_count": 271,
     "metadata": {},
     "output_type": "execute_result"
    }
   ],
   "source": [
    "zip(Y_test, predictions)"
   ]
  },
  {
   "cell_type": "code",
   "execution_count": 272,
   "metadata": {
    "collapsed": false
   },
   "outputs": [
    {
     "data": {
      "text/plain": [
       "50.0"
      ]
     },
     "execution_count": 272,
     "metadata": {},
     "output_type": "execute_result"
    }
   ],
   "source": [
    "sklearn.metrics.median_absolute_error(Y_test,predictions)"
   ]
  },
  {
   "cell_type": "markdown",
   "metadata": {},
   "source": [
    "# Grid search"
   ]
  },
  {
   "cell_type": "code",
   "execution_count": 273,
   "metadata": {
    "collapsed": false
   },
   "outputs": [
    {
     "data": {
      "text/plain": [
       "GridSearchCV(cv=10, error_score='raise',\n",
       "       estimator=DecisionTreeRegressor(criterion='mse', max_depth=None, max_features=None,\n",
       "           max_leaf_nodes=None, min_samples_leaf=1, min_samples_split=2,\n",
       "           min_weight_fraction_leaf=0.0, presort=False, random_state=None,\n",
       "           splitter='best'),\n",
       "       fit_params={}, iid=True, n_jobs=1,\n",
       "       param_grid={'max_depth': [1, 2, 3, 4, 5, 6, 7, 8, 9]},\n",
       "       pre_dispatch='2*n_jobs', refit=True, scoring=None, verbose=0)"
      ]
     },
     "execution_count": 273,
     "metadata": {},
     "output_type": "execute_result"
    }
   ],
   "source": [
    "params = {\n",
    "'max_depth': range(1,10),\n",
    "}\n",
    "t = sklearn.tree.DecisionTreeRegressor()\n",
    "searcher = sklearn.grid_search.GridSearchCV(t,params,cv=10)\n",
    "searcher.fit(X,Y)"
   ]
  },
  {
   "cell_type": "code",
   "execution_count": 274,
   "metadata": {
    "collapsed": false
   },
   "outputs": [
    {
     "data": {
      "text/plain": [
       "-0.56693195693195697"
      ]
     },
     "execution_count": 274,
     "metadata": {},
     "output_type": "execute_result"
    }
   ],
   "source": [
    "searcher.best_score_"
   ]
  },
  {
   "cell_type": "code",
   "execution_count": 275,
   "metadata": {
    "collapsed": false
   },
   "outputs": [
    {
     "data": {
      "text/plain": [
       "{'max_depth': 6}"
      ]
     },
     "execution_count": 275,
     "metadata": {},
     "output_type": "execute_result"
    }
   ],
   "source": [
    "searcher.best_params_"
   ]
  },
  {
   "cell_type": "code",
   "execution_count": 276,
   "metadata": {
    "collapsed": false
   },
   "outputs": [
    {
     "data": {
      "text/plain": [
       "DecisionTreeRegressor(criterion='mse', max_depth=6, max_features=None,\n",
       "           max_leaf_nodes=None, min_samples_leaf=1, min_samples_split=2,\n",
       "           min_weight_fraction_leaf=0.0, presort=False, random_state=None,\n",
       "           splitter='best')"
      ]
     },
     "execution_count": 276,
     "metadata": {},
     "output_type": "execute_result"
    }
   ],
   "source": [
    "t = sklearn.tree.DecisionTreeRegressor()\n",
    "t.max_depth = 6\n",
    "t.fit(X[['Site']],Y)"
   ]
  },
  {
   "cell_type": "code",
   "execution_count": 277,
   "metadata": {
    "collapsed": false
   },
   "outputs": [],
   "source": [
    "predictions = t.predict(X[['Site']])"
   ]
  },
  {
   "cell_type": "code",
   "execution_count": 278,
   "metadata": {
    "collapsed": false
   },
   "outputs": [
    {
     "data": {
      "text/plain": [
       "<matplotlib.collections.PathCollection at 0x11a6fd450>"
      ]
     },
     "execution_count": 278,
     "metadata": {},
     "output_type": "execute_result"
    },
    {
     "data": {
      "image/png": "[encoded data removed]",
      "text/plain": [
       "<matplotlib.figure.Figure at 0x119aafc90>"
      ]
     },
     "metadata": {},
     "output_type": "display_data"
    }
   ],
   "source": [
    "plt.scatter(X[['Site']],Y)\n",
    "plt.scatter(X[['Site']],predictions,color='red')"
   ]
  },
  {
   "cell_type": "markdown",
   "metadata": {
    "collapsed": true
   },
   "source": [
    "Look at dots\n",
    "If there is a linear relationship with few outliers, we should use linear regression\n",
    "If.....................................lots........................RANSAC\n",
    "If there has no any linear relationship(even non-linear) and some clusters, we use decision tree."
   ]
  }
 ],
 "metadata": {
  "kernelspec": {
   "display_name": "Python 2",
   "language": "python",
   "name": "python2"
  },
  "language_info": {
   "codemirror_mode": {
    "name": "ipython",
    "version": 2
   },
   "file_extension": ".py",
   "mimetype": "text/x-python",
   "name": "python",
   "nbconvert_exporter": "python",
   "pygments_lexer": "ipython2",
   "version": "2.7.12"
  }
 },
 "nbformat": 4,
 "nbformat_minor": 0
}
