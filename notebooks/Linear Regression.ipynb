{
 "cells": [
  {
   "cell_type": "code",
   "execution_count": 150,
   "metadata": {
    "collapsed": true
   },
   "outputs": [],
   "source": [
    "import sklearn.linear_model"
   ]
  },
  {
   "cell_type": "code",
   "execution_count": 151,
   "metadata": {
    "collapsed": true
   },
   "outputs": [],
   "source": [
    "import pandas"
   ]
  },
  {
   "cell_type": "code",
   "execution_count": 152,
   "metadata": {
    "collapsed": false
   },
   "outputs": [
    {
     "data": {
      "text/html": [
       "<div>\n",
       "<table border=\"1\" class=\"dataframe\">\n",
       "  <thead>\n",
       "    <tr style=\"text-align: right;\">\n",
       "      <th></th>\n",
       "      <th>jam_price</th>\n",
       "      <th>jam_rating</th>\n",
       "    </tr>\n",
       "  </thead>\n",
       "  <tbody>\n",
       "    <tr>\n",
       "      <th>0</th>\n",
       "      <td>1</td>\n",
       "      <td>2</td>\n",
       "    </tr>\n",
       "    <tr>\n",
       "      <th>1</th>\n",
       "      <td>2</td>\n",
       "      <td>4</td>\n",
       "    </tr>\n",
       "    <tr>\n",
       "      <th>2</th>\n",
       "      <td>3</td>\n",
       "      <td>7</td>\n",
       "    </tr>\n",
       "    <tr>\n",
       "      <th>3</th>\n",
       "      <td>4</td>\n",
       "      <td>8</td>\n",
       "    </tr>\n",
       "    <tr>\n",
       "      <th>4</th>\n",
       "      <td>5</td>\n",
       "      <td>9</td>\n",
       "    </tr>\n",
       "  </tbody>\n",
       "</table>\n",
       "</div>"
      ],
      "text/plain": [
       "   jam_price  jam_rating\n",
       "0          1           2\n",
       "1          2           4\n",
       "2          3           7\n",
       "3          4           8\n",
       "4          5           9"
      ]
     },
     "execution_count": 152,
     "metadata": {},
     "output_type": "execute_result"
    }
   ],
   "source": [
    "df = pandas.DataFrame(\n",
    "   {'jam_rating':[2,4,7,8,9],\n",
    "    'jam_price':[1,2,3,4,5]}\n",
    "\n",
    ")\n",
    "df"
   ]
  },
  {
   "cell_type": "code",
   "execution_count": 153,
   "metadata": {
    "collapsed": true
   },
   "outputs": [],
   "source": [
    "%matplotlib inline"
   ]
  },
  {
   "cell_type": "code",
   "execution_count": 154,
   "metadata": {
    "collapsed": false
   },
   "outputs": [
    {
     "data": {
      "text/plain": [
       "<matplotlib.axes._subplots.AxesSubplot at 0x125675290>"
      ]
     },
     "execution_count": 154,
     "metadata": {},
     "output_type": "execute_result"
    },
    {
     "data": {
      "image/png": "[encoded data removed]",
      "text/plain": [
       "<matplotlib.figure.Figure at 0x126e58f10>"
      ]
     },
     "metadata": {},
     "output_type": "display_data"
    }
   ],
   "source": [
    "df.plot.scatter('jam_price','jam_rating')"
   ]
  },
  {
   "cell_type": "code",
   "execution_count": 155,
   "metadata": {
    "collapsed": true
   },
   "outputs": [],
   "source": [
    "import seaborn"
   ]
  },
  {
   "cell_type": "code",
   "execution_count": 156,
   "metadata": {
    "collapsed": false
   },
   "outputs": [
    {
     "data": {
      "text/plain": [
       "<seaborn.axisgrid.PairGrid at 0x12ad62210>"
      ]
     },
     "execution_count": 156,
     "metadata": {},
     "output_type": "execute_result"
    },
    {
     "data": {
      "image/png": "[encoded data removed]",
      "text/plain": [
       "<matplotlib.figure.Figure at 0x12ad62090>"
      ]
     },
     "metadata": {},
     "output_type": "display_data"
    }
   ],
   "source": [
    "seaborn.pairplot(data=df)"
   ]
  },
  {
   "cell_type": "code",
   "execution_count": 157,
   "metadata": {
    "collapsed": true
   },
   "outputs": [],
   "source": [
    "ransac = sklearn.linear_model.RANSACRegressor()"
   ]
  },
  {
   "cell_type": "code",
   "execution_count": 158,
   "metadata": {
    "collapsed": false
   },
   "outputs": [
    {
     "data": {
      "text/plain": [
       "RANSACRegressor(base_estimator=None, is_data_valid=None, is_model_valid=None,\n",
       "        max_trials=100, min_samples=None, random_state=None,\n",
       "        residual_metric=None, residual_threshold=None, stop_n_inliers=inf,\n",
       "        stop_probability=0.99, stop_score=inf)"
      ]
     },
     "execution_count": 158,
     "metadata": {},
     "output_type": "execute_result"
    }
   ],
   "source": [
    "ransac.fit(df[['jam_price']], df.jam_rating)"
   ]
  },
  {
   "cell_type": "code",
   "execution_count": 159,
   "metadata": {
    "collapsed": false
   },
   "outputs": [
    {
     "data": {
      "text/plain": [
       "LinearRegression(copy_X=True, fit_intercept=True, n_jobs=1, normalize=False)"
      ]
     },
     "execution_count": 159,
     "metadata": {},
     "output_type": "execute_result"
    }
   ],
   "source": [
    "ransac.estimator_"
   ]
  },
  {
   "cell_type": "code",
   "execution_count": 160,
   "metadata": {
    "collapsed": false
   },
   "outputs": [
    {
     "data": {
      "text/plain": [
       "array([ 1.8])"
      ]
     },
     "execution_count": 160,
     "metadata": {},
     "output_type": "execute_result"
    }
   ],
   "source": [
    "ransac.estimator_.coef_"
   ]
  },
  {
   "cell_type": "code",
   "execution_count": 161,
   "metadata": {
    "collapsed": false
   },
   "outputs": [
    {
     "data": {
      "text/plain": [
       "0.60000000000000053"
      ]
     },
     "execution_count": 161,
     "metadata": {},
     "output_type": "execute_result"
    }
   ],
   "source": [
    "ransac.estimator_.intercept_"
   ]
  },
  {
   "cell_type": "code",
   "execution_count": 162,
   "metadata": {
    "collapsed": false
   },
   "outputs": [
    {
     "name": "stderr",
     "output_type": "stream",
     "text": [
      "/Users/tianjiaoxie/anaconda/lib/python2.7/site-packages/sklearn/utils/validation.py:386: DeprecationWarning: Passing 1d arrays as data is deprecated in 0.17 and willraise ValueError in 0.19. Reshape your data either using X.reshape(-1, 1) if your data has a single feature or X.reshape(1, -1) if it contains a single sample.\n",
      "  DeprecationWarning)\n"
     ]
    },
    {
     "data": {
      "text/plain": [
       "array([ 5.1])"
      ]
     },
     "execution_count": 162,
     "metadata": {},
     "output_type": "execute_result"
    }
   ],
   "source": [
    "ransac.predict([2.5])"
   ]
  },
  {
   "cell_type": "code",
   "execution_count": 163,
   "metadata": {
    "collapsed": false
   },
   "outputs": [
    {
     "data": {
      "text/plain": [
       "array([ 5.1,  6.9,  8.7])"
      ]
     },
     "execution_count": 163,
     "metadata": {},
     "output_type": "execute_result"
    }
   ],
   "source": [
    "ransac.predict([[2.5],[3.5],[4.5]])"
   ]
  },
  {
   "cell_type": "code",
   "execution_count": 164,
   "metadata": {
    "collapsed": false
   },
   "outputs": [
    {
     "data": {
      "text/plain": [
       "array([ 2.4,  4.2,  6. ,  7.8,  9.6])"
      ]
     },
     "execution_count": 164,
     "metadata": {},
     "output_type": "execute_result"
    }
   ],
   "source": [
    "predictions = ransac.predict(df[['jam_price']])\n",
    "predictions"
   ]
  },
  {
   "cell_type": "code",
   "execution_count": 165,
   "metadata": {
    "collapsed": false
   },
   "outputs": [],
   "source": [
    "import matplotlib.pyplot"
   ]
  },
  {
   "cell_type": "code",
   "execution_count": 166,
   "metadata": {
    "collapsed": false
   },
   "outputs": [
    {
     "data": {
      "text/plain": [
       "<matplotlib.collections.PathCollection at 0x12b5a9390>"
      ]
     },
     "execution_count": 166,
     "metadata": {},
     "output_type": "execute_result"
    },
    {
     "data": {
      "image/png": "[encoded data removed]",
      "text/plain": [
       "<matplotlib.figure.Figure at 0x12b500490>"
      ]
     },
     "metadata": {},
     "output_type": "display_data"
    }
   ],
   "source": [
    "matplotlib.pyplot.scatter(df.jam_price,df.jam_rating)\n",
    "matplotlib.pyplot.scatter(df.jam_price,predictions,color='red')"
   ]
  },
  {
   "cell_type": "code",
   "execution_count": 167,
   "metadata": {
    "collapsed": false,
    "scrolled": true
   },
   "outputs": [
    {
     "data": {
      "text/plain": [
       "[(1, 2.034727287982228),\n",
       " (2, 4.0204735951594195),\n",
       " (3, 6.0062199023366114),\n",
       " (4, 7.9919662095138033),\n",
       " (5, 9.9777125166909943)]"
      ]
     },
     "execution_count": 167,
     "metadata": {},
     "output_type": "execute_result"
    },
    {
     "data": {
      "image/png": "[encoded data removed]",
      "text/plain": [
       "<matplotlib.figure.Figure at 0x126ee03d0>"
      ]
     },
     "metadata": {},
     "output_type": "display_data"
    }
   ],
   "source": [
    "theilsen = sklearn.linear_model.TheilSenRegressor()\n",
    "theilsen.fit(df[['jam_price']],df.jam_rating)\n",
    "theilsen_predictions = theilsen.predict(df[['jam_price']])\n",
    "matplotlib.pyplot.scatter(df.jam_price,df.jam_rating)\n",
    "matplotlib.pyplot.scatter(df.jam_price,theilsen_predictions,color='red')\n",
    "zip(df.jam_price,theilsen_predictions)"
   ]
  },
  {
   "cell_type": "code",
   "execution_count": 168,
   "metadata": {
    "collapsed": false
   },
   "outputs": [
    {
     "data": {
      "text/plain": [
       "array([ 1.98574631])"
      ]
     },
     "execution_count": 168,
     "metadata": {},
     "output_type": "execute_result"
    }
   ],
   "source": [
    "theilsen.coef_"
   ]
  },
  {
   "cell_type": "code",
   "execution_count": 169,
   "metadata": {
    "collapsed": false
   },
   "outputs": [
    {
     "data": {
      "text/plain": [
       "0.048980980805036024"
      ]
     },
     "execution_count": 169,
     "metadata": {},
     "output_type": "execute_result"
    }
   ],
   "source": [
    "theilsen.intercept_"
   ]
  },
  {
   "cell_type": "code",
   "execution_count": 170,
   "metadata": {
    "collapsed": false,
    "scrolled": true
   },
   "outputs": [
    {
     "data": {
      "text/plain": [
       "[(1, 2.034727287982228),\n",
       " (2, 4.0204735951594195),\n",
       " (3, 6.0062199023366114),\n",
       " (4, 7.9919662095138033),\n",
       " (5, 9.9777125166909943)]"
      ]
     },
     "execution_count": 170,
     "metadata": {},
     "output_type": "execute_result"
    },
    {
     "data": {
      "image/png": "[encoded data removed]",
      "text/plain": [
       "<matplotlib.figure.Figure at 0x12b557c50>"
      ]
     },
     "metadata": {},
     "output_type": "display_data"
    }
   ],
   "source": [
    "l = sklearn.linear_model.TheilSenRegressor()\n",
    "l.fit(df[['jam_price']],df.jam_rating)\n",
    "l_predictions = theilsen.predict(df[['jam_price']])\n",
    "matplotlib.pyplot.scatter(df.jam_price,df.jam_rating)\n",
    "matplotlib.pyplot.scatter(df.jam_price,l_predictions,color='red')\n",
    "zip(df.jam_price,l_predictions)"
   ]
  },
  {
   "cell_type": "code",
   "execution_count": 171,
   "metadata": {
    "collapsed": false
   },
   "outputs": [
    {
     "data": {
      "text/plain": [
       "array([ 1.98574631])"
      ]
     },
     "execution_count": 171,
     "metadata": {},
     "output_type": "execute_result"
    }
   ],
   "source": [
    "l.coef_"
   ]
  },
  {
   "cell_type": "code",
   "execution_count": 172,
   "metadata": {
    "collapsed": false
   },
   "outputs": [
    {
     "data": {
      "text/plain": [
       "0.048980980805036024"
      ]
     },
     "execution_count": 172,
     "metadata": {},
     "output_type": "execute_result"
    }
   ],
   "source": [
    "l.intercept_"
   ]
  },
  {
   "cell_type": "code",
   "execution_count": null,
   "metadata": {
    "collapsed": true
   },
   "outputs": [],
   "source": []
  },
  {
   "cell_type": "markdown",
   "metadata": {},
   "source": [
    "# Multi-dimensional linear regression"
   ]
  },
  {
   "cell_type": "code",
   "execution_count": 173,
   "metadata": {
    "collapsed": false
   },
   "outputs": [
    {
     "data": {
      "text/html": [
       "<div>\n",
       "<table border=\"1\" class=\"dataframe\">\n",
       "  <thead>\n",
       "    <tr style=\"text-align: right;\">\n",
       "      <th></th>\n",
       "      <th>city</th>\n",
       "      <th>zip</th>\n",
       "      <th>state</th>\n",
       "      <th>beds</th>\n",
       "      <th>baths</th>\n",
       "      <th>sq__ft</th>\n",
       "      <th>type</th>\n",
       "      <th>sale_date</th>\n",
       "      <th>price</th>\n",
       "      <th>latitude</th>\n",
       "      <th>longitude</th>\n",
       "    </tr>\n",
       "    <tr>\n",
       "      <th>street</th>\n",
       "      <th></th>\n",
       "      <th></th>\n",
       "      <th></th>\n",
       "      <th></th>\n",
       "      <th></th>\n",
       "      <th></th>\n",
       "      <th></th>\n",
       "      <th></th>\n",
       "      <th></th>\n",
       "      <th></th>\n",
       "      <th></th>\n",
       "    </tr>\n",
       "  </thead>\n",
       "  <tbody>\n",
       "    <tr>\n",
       "      <th>3526 HIGH ST</th>\n",
       "      <td>SACRAMENTO</td>\n",
       "      <td>95838</td>\n",
       "      <td>CA</td>\n",
       "      <td>2</td>\n",
       "      <td>1</td>\n",
       "      <td>836</td>\n",
       "      <td>Residential</td>\n",
       "      <td>Wed May 21 00:00:00 EDT 2008</td>\n",
       "      <td>59222</td>\n",
       "      <td>38.631913</td>\n",
       "      <td>-121.434879</td>\n",
       "    </tr>\n",
       "    <tr>\n",
       "      <th>51 OMAHA CT</th>\n",
       "      <td>SACRAMENTO</td>\n",
       "      <td>95823</td>\n",
       "      <td>CA</td>\n",
       "      <td>3</td>\n",
       "      <td>1</td>\n",
       "      <td>1167</td>\n",
       "      <td>Residential</td>\n",
       "      <td>Wed May 21 00:00:00 EDT 2008</td>\n",
       "      <td>68212</td>\n",
       "      <td>38.478902</td>\n",
       "      <td>-121.431028</td>\n",
       "    </tr>\n",
       "    <tr>\n",
       "      <th>2796 BRANCH ST</th>\n",
       "      <td>SACRAMENTO</td>\n",
       "      <td>95815</td>\n",
       "      <td>CA</td>\n",
       "      <td>2</td>\n",
       "      <td>1</td>\n",
       "      <td>796</td>\n",
       "      <td>Residential</td>\n",
       "      <td>Wed May 21 00:00:00 EDT 2008</td>\n",
       "      <td>68880</td>\n",
       "      <td>38.618305</td>\n",
       "      <td>-121.443839</td>\n",
       "    </tr>\n",
       "    <tr>\n",
       "      <th>2805 JANETTE WAY</th>\n",
       "      <td>SACRAMENTO</td>\n",
       "      <td>95815</td>\n",
       "      <td>CA</td>\n",
       "      <td>2</td>\n",
       "      <td>1</td>\n",
       "      <td>852</td>\n",
       "      <td>Residential</td>\n",
       "      <td>Wed May 21 00:00:00 EDT 2008</td>\n",
       "      <td>69307</td>\n",
       "      <td>38.616835</td>\n",
       "      <td>-121.439146</td>\n",
       "    </tr>\n",
       "    <tr>\n",
       "      <th>6001 MCMAHON DR</th>\n",
       "      <td>SACRAMENTO</td>\n",
       "      <td>95824</td>\n",
       "      <td>CA</td>\n",
       "      <td>2</td>\n",
       "      <td>1</td>\n",
       "      <td>797</td>\n",
       "      <td>Residential</td>\n",
       "      <td>Wed May 21 00:00:00 EDT 2008</td>\n",
       "      <td>81900</td>\n",
       "      <td>38.519470</td>\n",
       "      <td>-121.435768</td>\n",
       "    </tr>\n",
       "    <tr>\n",
       "      <th>5828 PEPPERMILL CT</th>\n",
       "      <td>SACRAMENTO</td>\n",
       "      <td>95841</td>\n",
       "      <td>CA</td>\n",
       "      <td>3</td>\n",
       "      <td>1</td>\n",
       "      <td>1122</td>\n",
       "      <td>Condo</td>\n",
       "      <td>Wed May 21 00:00:00 EDT 2008</td>\n",
       "      <td>89921</td>\n",
       "      <td>38.662595</td>\n",
       "      <td>-121.327813</td>\n",
       "    </tr>\n",
       "    <tr>\n",
       "      <th>6048 OGDEN NASH WAY</th>\n",
       "      <td>SACRAMENTO</td>\n",
       "      <td>95842</td>\n",
       "      <td>CA</td>\n",
       "      <td>3</td>\n",
       "      <td>2</td>\n",
       "      <td>1104</td>\n",
       "      <td>Residential</td>\n",
       "      <td>Wed May 21 00:00:00 EDT 2008</td>\n",
       "      <td>90895</td>\n",
       "      <td>38.681659</td>\n",
       "      <td>-121.351705</td>\n",
       "    </tr>\n",
       "    <tr>\n",
       "      <th>2561 19TH AVE</th>\n",
       "      <td>SACRAMENTO</td>\n",
       "      <td>95820</td>\n",
       "      <td>CA</td>\n",
       "      <td>3</td>\n",
       "      <td>1</td>\n",
       "      <td>1177</td>\n",
       "      <td>Residential</td>\n",
       "      <td>Wed May 21 00:00:00 EDT 2008</td>\n",
       "      <td>91002</td>\n",
       "      <td>38.535092</td>\n",
       "      <td>-121.481367</td>\n",
       "    </tr>\n",
       "    <tr>\n",
       "      <th>11150 TRINITY RIVER DR Unit 114</th>\n",
       "      <td>RANCHO CORDOVA</td>\n",
       "      <td>95670</td>\n",
       "      <td>CA</td>\n",
       "      <td>2</td>\n",
       "      <td>2</td>\n",
       "      <td>941</td>\n",
       "      <td>Condo</td>\n",
       "      <td>Wed May 21 00:00:00 EDT 2008</td>\n",
       "      <td>94905</td>\n",
       "      <td>38.621188</td>\n",
       "      <td>-121.270555</td>\n",
       "    </tr>\n",
       "    <tr>\n",
       "      <th>7325 10TH ST</th>\n",
       "      <td>RIO LINDA</td>\n",
       "      <td>95673</td>\n",
       "      <td>CA</td>\n",
       "      <td>3</td>\n",
       "      <td>2</td>\n",
       "      <td>1146</td>\n",
       "      <td>Residential</td>\n",
       "      <td>Wed May 21 00:00:00 EDT 2008</td>\n",
       "      <td>98937</td>\n",
       "      <td>38.700909</td>\n",
       "      <td>-121.442979</td>\n",
       "    </tr>\n",
       "    <tr>\n",
       "      <th>645 MORRISON AVE</th>\n",
       "      <td>SACRAMENTO</td>\n",
       "      <td>95838</td>\n",
       "      <td>CA</td>\n",
       "      <td>3</td>\n",
       "      <td>2</td>\n",
       "      <td>909</td>\n",
       "      <td>Residential</td>\n",
       "      <td>Wed May 21 00:00:00 EDT 2008</td>\n",
       "      <td>100309</td>\n",
       "      <td>38.637663</td>\n",
       "      <td>-121.451520</td>\n",
       "    </tr>\n",
       "    <tr>\n",
       "      <th>4085 FAWN CIR</th>\n",
       "      <td>SACRAMENTO</td>\n",
       "      <td>95823</td>\n",
       "      <td>CA</td>\n",
       "      <td>3</td>\n",
       "      <td>2</td>\n",
       "      <td>1289</td>\n",
       "      <td>Residential</td>\n",
       "      <td>Wed May 21 00:00:00 EDT 2008</td>\n",
       "      <td>106250</td>\n",
       "      <td>38.470746</td>\n",
       "      <td>-121.458918</td>\n",
       "    </tr>\n",
       "    <tr>\n",
       "      <th>2930 LA ROSA RD</th>\n",
       "      <td>SACRAMENTO</td>\n",
       "      <td>95815</td>\n",
       "      <td>CA</td>\n",
       "      <td>1</td>\n",
       "      <td>1</td>\n",
       "      <td>871</td>\n",
       "      <td>Residential</td>\n",
       "      <td>Wed May 21 00:00:00 EDT 2008</td>\n",
       "      <td>106852</td>\n",
       "      <td>38.618698</td>\n",
       "      <td>-121.435833</td>\n",
       "    </tr>\n",
       "    <tr>\n",
       "      <th>2113 KIRK WAY</th>\n",
       "      <td>SACRAMENTO</td>\n",
       "      <td>95822</td>\n",
       "      <td>CA</td>\n",
       "      <td>3</td>\n",
       "      <td>1</td>\n",
       "      <td>1020</td>\n",
       "      <td>Residential</td>\n",
       "      <td>Wed May 21 00:00:00 EDT 2008</td>\n",
       "      <td>107502</td>\n",
       "      <td>38.482215</td>\n",
       "      <td>-121.492603</td>\n",
       "    </tr>\n",
       "    <tr>\n",
       "      <th>4533 LOCH HAVEN WAY</th>\n",
       "      <td>SACRAMENTO</td>\n",
       "      <td>95842</td>\n",
       "      <td>CA</td>\n",
       "      <td>2</td>\n",
       "      <td>2</td>\n",
       "      <td>1022</td>\n",
       "      <td>Residential</td>\n",
       "      <td>Wed May 21 00:00:00 EDT 2008</td>\n",
       "      <td>108750</td>\n",
       "      <td>38.672914</td>\n",
       "      <td>-121.359340</td>\n",
       "    </tr>\n",
       "    <tr>\n",
       "      <th>7340 HAMDEN PL</th>\n",
       "      <td>SACRAMENTO</td>\n",
       "      <td>95842</td>\n",
       "      <td>CA</td>\n",
       "      <td>2</td>\n",
       "      <td>2</td>\n",
       "      <td>1134</td>\n",
       "      <td>Condo</td>\n",
       "      <td>Wed May 21 00:00:00 EDT 2008</td>\n",
       "      <td>110700</td>\n",
       "      <td>38.700051</td>\n",
       "      <td>-121.351278</td>\n",
       "    </tr>\n",
       "    <tr>\n",
       "      <th>6715 6TH ST</th>\n",
       "      <td>RIO LINDA</td>\n",
       "      <td>95673</td>\n",
       "      <td>CA</td>\n",
       "      <td>2</td>\n",
       "      <td>1</td>\n",
       "      <td>844</td>\n",
       "      <td>Residential</td>\n",
       "      <td>Wed May 21 00:00:00 EDT 2008</td>\n",
       "      <td>113263</td>\n",
       "      <td>38.689591</td>\n",
       "      <td>-121.452239</td>\n",
       "    </tr>\n",
       "    <tr>\n",
       "      <th>6236 LONGFORD DR Unit 1</th>\n",
       "      <td>CITRUS HEIGHTS</td>\n",
       "      <td>95621</td>\n",
       "      <td>CA</td>\n",
       "      <td>2</td>\n",
       "      <td>1</td>\n",
       "      <td>795</td>\n",
       "      <td>Condo</td>\n",
       "      <td>Wed May 21 00:00:00 EDT 2008</td>\n",
       "      <td>116250</td>\n",
       "      <td>38.679776</td>\n",
       "      <td>-121.314089</td>\n",
       "    </tr>\n",
       "    <tr>\n",
       "      <th>250 PERALTA AVE</th>\n",
       "      <td>SACRAMENTO</td>\n",
       "      <td>95833</td>\n",
       "      <td>CA</td>\n",
       "      <td>2</td>\n",
       "      <td>1</td>\n",
       "      <td>588</td>\n",
       "      <td>Residential</td>\n",
       "      <td>Wed May 21 00:00:00 EDT 2008</td>\n",
       "      <td>120000</td>\n",
       "      <td>38.612099</td>\n",
       "      <td>-121.469095</td>\n",
       "    </tr>\n",
       "    <tr>\n",
       "      <th>113 LEEWILL AVE</th>\n",
       "      <td>RIO LINDA</td>\n",
       "      <td>95673</td>\n",
       "      <td>CA</td>\n",
       "      <td>3</td>\n",
       "      <td>2</td>\n",
       "      <td>1356</td>\n",
       "      <td>Residential</td>\n",
       "      <td>Wed May 21 00:00:00 EDT 2008</td>\n",
       "      <td>121630</td>\n",
       "      <td>38.689999</td>\n",
       "      <td>-121.463220</td>\n",
       "    </tr>\n",
       "    <tr>\n",
       "      <th>6118 STONEHAND AVE</th>\n",
       "      <td>CITRUS HEIGHTS</td>\n",
       "      <td>95621</td>\n",
       "      <td>CA</td>\n",
       "      <td>3</td>\n",
       "      <td>2</td>\n",
       "      <td>1118</td>\n",
       "      <td>Residential</td>\n",
       "      <td>Wed May 21 00:00:00 EDT 2008</td>\n",
       "      <td>122000</td>\n",
       "      <td>38.707851</td>\n",
       "      <td>-121.320707</td>\n",
       "    </tr>\n",
       "    <tr>\n",
       "      <th>4882 BANDALIN WAY</th>\n",
       "      <td>SACRAMENTO</td>\n",
       "      <td>95823</td>\n",
       "      <td>CA</td>\n",
       "      <td>4</td>\n",
       "      <td>2</td>\n",
       "      <td>1329</td>\n",
       "      <td>Residential</td>\n",
       "      <td>Wed May 21 00:00:00 EDT 2008</td>\n",
       "      <td>122682</td>\n",
       "      <td>38.468173</td>\n",
       "      <td>-121.444071</td>\n",
       "    </tr>\n",
       "    <tr>\n",
       "      <th>7511 OAKVALE CT</th>\n",
       "      <td>NORTH HIGHLANDS</td>\n",
       "      <td>95660</td>\n",
       "      <td>CA</td>\n",
       "      <td>4</td>\n",
       "      <td>2</td>\n",
       "      <td>1240</td>\n",
       "      <td>Residential</td>\n",
       "      <td>Wed May 21 00:00:00 EDT 2008</td>\n",
       "      <td>123000</td>\n",
       "      <td>38.702792</td>\n",
       "      <td>-121.382210</td>\n",
       "    </tr>\n",
       "    <tr>\n",
       "      <th>9 PASTURE CT</th>\n",
       "      <td>SACRAMENTO</td>\n",
       "      <td>95834</td>\n",
       "      <td>CA</td>\n",
       "      <td>3</td>\n",
       "      <td>2</td>\n",
       "      <td>1601</td>\n",
       "      <td>Residential</td>\n",
       "      <td>Wed May 21 00:00:00 EDT 2008</td>\n",
       "      <td>124100</td>\n",
       "      <td>38.628631</td>\n",
       "      <td>-121.488097</td>\n",
       "    </tr>\n",
       "    <tr>\n",
       "      <th>3729 BAINBRIDGE DR</th>\n",
       "      <td>NORTH HIGHLANDS</td>\n",
       "      <td>95660</td>\n",
       "      <td>CA</td>\n",
       "      <td>3</td>\n",
       "      <td>2</td>\n",
       "      <td>901</td>\n",
       "      <td>Residential</td>\n",
       "      <td>Wed May 21 00:00:00 EDT 2008</td>\n",
       "      <td>125000</td>\n",
       "      <td>38.701499</td>\n",
       "      <td>-121.376220</td>\n",
       "    </tr>\n",
       "    <tr>\n",
       "      <th>3828 BLACKFOOT WAY</th>\n",
       "      <td>ANTELOPE</td>\n",
       "      <td>95843</td>\n",
       "      <td>CA</td>\n",
       "      <td>3</td>\n",
       "      <td>2</td>\n",
       "      <td>1088</td>\n",
       "      <td>Residential</td>\n",
       "      <td>Wed May 21 00:00:00 EDT 2008</td>\n",
       "      <td>126640</td>\n",
       "      <td>38.709740</td>\n",
       "      <td>-121.373770</td>\n",
       "    </tr>\n",
       "    <tr>\n",
       "      <th>4108 NORTON WAY</th>\n",
       "      <td>SACRAMENTO</td>\n",
       "      <td>95820</td>\n",
       "      <td>CA</td>\n",
       "      <td>3</td>\n",
       "      <td>1</td>\n",
       "      <td>963</td>\n",
       "      <td>Residential</td>\n",
       "      <td>Wed May 21 00:00:00 EDT 2008</td>\n",
       "      <td>127281</td>\n",
       "      <td>38.537526</td>\n",
       "      <td>-121.478315</td>\n",
       "    </tr>\n",
       "    <tr>\n",
       "      <th>1469 JANRICK AVE</th>\n",
       "      <td>SACRAMENTO</td>\n",
       "      <td>95832</td>\n",
       "      <td>CA</td>\n",
       "      <td>3</td>\n",
       "      <td>2</td>\n",
       "      <td>1119</td>\n",
       "      <td>Residential</td>\n",
       "      <td>Wed May 21 00:00:00 EDT 2008</td>\n",
       "      <td>129000</td>\n",
       "      <td>38.476472</td>\n",
       "      <td>-121.501711</td>\n",
       "    </tr>\n",
       "    <tr>\n",
       "      <th>9861 CULP WAY</th>\n",
       "      <td>SACRAMENTO</td>\n",
       "      <td>95827</td>\n",
       "      <td>CA</td>\n",
       "      <td>4</td>\n",
       "      <td>2</td>\n",
       "      <td>1380</td>\n",
       "      <td>Residential</td>\n",
       "      <td>Wed May 21 00:00:00 EDT 2008</td>\n",
       "      <td>131200</td>\n",
       "      <td>38.558423</td>\n",
       "      <td>-121.327948</td>\n",
       "    </tr>\n",
       "    <tr>\n",
       "      <th>7825 CREEK VALLEY CIR</th>\n",
       "      <td>SACRAMENTO</td>\n",
       "      <td>95828</td>\n",
       "      <td>CA</td>\n",
       "      <td>3</td>\n",
       "      <td>2</td>\n",
       "      <td>1248</td>\n",
       "      <td>Residential</td>\n",
       "      <td>Wed May 21 00:00:00 EDT 2008</td>\n",
       "      <td>132000</td>\n",
       "      <td>38.472122</td>\n",
       "      <td>-121.404199</td>\n",
       "    </tr>\n",
       "    <tr>\n",
       "      <th>...</th>\n",
       "      <td>...</td>\n",
       "      <td>...</td>\n",
       "      <td>...</td>\n",
       "      <td>...</td>\n",
       "      <td>...</td>\n",
       "      <td>...</td>\n",
       "      <td>...</td>\n",
       "      <td>...</td>\n",
       "      <td>...</td>\n",
       "      <td>...</td>\n",
       "      <td>...</td>\n",
       "    </tr>\n",
       "    <tr>\n",
       "      <th>2100 BEATTY WAY</th>\n",
       "      <td>ROSEVILLE</td>\n",
       "      <td>95747</td>\n",
       "      <td>CA</td>\n",
       "      <td>3</td>\n",
       "      <td>2</td>\n",
       "      <td>1371</td>\n",
       "      <td>Residential</td>\n",
       "      <td>Thu May 15 00:00:00 EDT 2008</td>\n",
       "      <td>208250</td>\n",
       "      <td>38.737882</td>\n",
       "      <td>-121.308142</td>\n",
       "    </tr>\n",
       "    <tr>\n",
       "      <th>6920 GILLINGHAM WAY</th>\n",
       "      <td>NORTH HIGHLANDS</td>\n",
       "      <td>95660</td>\n",
       "      <td>CA</td>\n",
       "      <td>3</td>\n",
       "      <td>1</td>\n",
       "      <td>1310</td>\n",
       "      <td>Residential</td>\n",
       "      <td>Thu May 15 00:00:00 EDT 2008</td>\n",
       "      <td>208318</td>\n",
       "      <td>38.694279</td>\n",
       "      <td>-121.373395</td>\n",
       "    </tr>\n",
       "    <tr>\n",
       "      <th>82 WILDFLOWER DR</th>\n",
       "      <td>GALT</td>\n",
       "      <td>95632</td>\n",
       "      <td>CA</td>\n",
       "      <td>3</td>\n",
       "      <td>2</td>\n",
       "      <td>1262</td>\n",
       "      <td>Residential</td>\n",
       "      <td>Thu May 15 00:00:00 EDT 2008</td>\n",
       "      <td>209347</td>\n",
       "      <td>38.259708</td>\n",
       "      <td>-121.311616</td>\n",
       "    </tr>\n",
       "    <tr>\n",
       "      <th>8652 BANTON CIR</th>\n",
       "      <td>ELK GROVE</td>\n",
       "      <td>95624</td>\n",
       "      <td>CA</td>\n",
       "      <td>4</td>\n",
       "      <td>2</td>\n",
       "      <td>1740</td>\n",
       "      <td>Residential</td>\n",
       "      <td>Thu May 15 00:00:00 EDT 2008</td>\n",
       "      <td>211500</td>\n",
       "      <td>38.444000</td>\n",
       "      <td>-121.370993</td>\n",
       "    </tr>\n",
       "    <tr>\n",
       "      <th>8428 MISTY PASS WAY</th>\n",
       "      <td>ANTELOPE</td>\n",
       "      <td>95843</td>\n",
       "      <td>CA</td>\n",
       "      <td>3</td>\n",
       "      <td>2</td>\n",
       "      <td>1517</td>\n",
       "      <td>Residential</td>\n",
       "      <td>Thu May 15 00:00:00 EDT 2008</td>\n",
       "      <td>212000</td>\n",
       "      <td>38.722959</td>\n",
       "      <td>-121.347115</td>\n",
       "    </tr>\n",
       "    <tr>\n",
       "      <th>7958 ROSEVIEW WAY</th>\n",
       "      <td>SACRAMENTO</td>\n",
       "      <td>95828</td>\n",
       "      <td>CA</td>\n",
       "      <td>3</td>\n",
       "      <td>2</td>\n",
       "      <td>1450</td>\n",
       "      <td>Residential</td>\n",
       "      <td>Thu May 15 00:00:00 EDT 2008</td>\n",
       "      <td>213000</td>\n",
       "      <td>38.467836</td>\n",
       "      <td>-121.410366</td>\n",
       "    </tr>\n",
       "    <tr>\n",
       "      <th>9020 LUKEN CT</th>\n",
       "      <td>ELK GROVE</td>\n",
       "      <td>95624</td>\n",
       "      <td>CA</td>\n",
       "      <td>3</td>\n",
       "      <td>2</td>\n",
       "      <td>1416</td>\n",
       "      <td>Residential</td>\n",
       "      <td>Thu May 15 00:00:00 EDT 2008</td>\n",
       "      <td>216000</td>\n",
       "      <td>38.451398</td>\n",
       "      <td>-121.366614</td>\n",
       "    </tr>\n",
       "    <tr>\n",
       "      <th>7809 VALLECITOS WAY</th>\n",
       "      <td>SACRAMENTO</td>\n",
       "      <td>95828</td>\n",
       "      <td>CA</td>\n",
       "      <td>3</td>\n",
       "      <td>1</td>\n",
       "      <td>888</td>\n",
       "      <td>Residential</td>\n",
       "      <td>Thu May 15 00:00:00 EDT 2008</td>\n",
       "      <td>216021</td>\n",
       "      <td>38.508217</td>\n",
       "      <td>-121.411207</td>\n",
       "    </tr>\n",
       "    <tr>\n",
       "      <th>8445 OLD AUBURN RD</th>\n",
       "      <td>CITRUS HEIGHTS</td>\n",
       "      <td>95610</td>\n",
       "      <td>CA</td>\n",
       "      <td>3</td>\n",
       "      <td>2</td>\n",
       "      <td>1882</td>\n",
       "      <td>Residential</td>\n",
       "      <td>Thu May 15 00:00:00 EDT 2008</td>\n",
       "      <td>219000</td>\n",
       "      <td>38.715423</td>\n",
       "      <td>-121.246743</td>\n",
       "    </tr>\n",
       "    <tr>\n",
       "      <th>10085 ATKINS DR</th>\n",
       "      <td>ELK GROVE</td>\n",
       "      <td>95757</td>\n",
       "      <td>CA</td>\n",
       "      <td>3</td>\n",
       "      <td>2</td>\n",
       "      <td>1302</td>\n",
       "      <td>Residential</td>\n",
       "      <td>Thu May 15 00:00:00 EDT 2008</td>\n",
       "      <td>219794</td>\n",
       "      <td>38.390893</td>\n",
       "      <td>-121.437821</td>\n",
       "    </tr>\n",
       "    <tr>\n",
       "      <th>9185 CERROLINDA CIR</th>\n",
       "      <td>ELK GROVE</td>\n",
       "      <td>95758</td>\n",
       "      <td>CA</td>\n",
       "      <td>3</td>\n",
       "      <td>2</td>\n",
       "      <td>1418</td>\n",
       "      <td>Residential</td>\n",
       "      <td>Thu May 15 00:00:00 EDT 2008</td>\n",
       "      <td>220000</td>\n",
       "      <td>38.424497</td>\n",
       "      <td>-121.426595</td>\n",
       "    </tr>\n",
       "    <tr>\n",
       "      <th>9197 CORTINA CIR</th>\n",
       "      <td>ROSEVILLE</td>\n",
       "      <td>95678</td>\n",
       "      <td>CA</td>\n",
       "      <td>3</td>\n",
       "      <td>2</td>\n",
       "      <td>0</td>\n",
       "      <td>Condo</td>\n",
       "      <td>Thu May 15 00:00:00 EDT 2008</td>\n",
       "      <td>220000</td>\n",
       "      <td>38.793152</td>\n",
       "      <td>-121.290025</td>\n",
       "    </tr>\n",
       "    <tr>\n",
       "      <th>5429 HESPER WAY</th>\n",
       "      <td>CARMICHAEL</td>\n",
       "      <td>95608</td>\n",
       "      <td>CA</td>\n",
       "      <td>4</td>\n",
       "      <td>2</td>\n",
       "      <td>1319</td>\n",
       "      <td>Residential</td>\n",
       "      <td>Thu May 15 00:00:00 EDT 2008</td>\n",
       "      <td>220000</td>\n",
       "      <td>38.665104</td>\n",
       "      <td>-121.315901</td>\n",
       "    </tr>\n",
       "    <tr>\n",
       "      <th>1178 WARMWOOD CT</th>\n",
       "      <td>GALT</td>\n",
       "      <td>95632</td>\n",
       "      <td>CA</td>\n",
       "      <td>4</td>\n",
       "      <td>2</td>\n",
       "      <td>1770</td>\n",
       "      <td>Residential</td>\n",
       "      <td>Thu May 15 00:00:00 EDT 2008</td>\n",
       "      <td>220000</td>\n",
       "      <td>38.289544</td>\n",
       "      <td>-121.284607</td>\n",
       "    </tr>\n",
       "    <tr>\n",
       "      <th>4900 ELUDE CT</th>\n",
       "      <td>SACRAMENTO</td>\n",
       "      <td>95842</td>\n",
       "      <td>CA</td>\n",
       "      <td>4</td>\n",
       "      <td>2</td>\n",
       "      <td>1627</td>\n",
       "      <td>Residential</td>\n",
       "      <td>Thu May 15 00:00:00 EDT 2008</td>\n",
       "      <td>223000</td>\n",
       "      <td>38.696740</td>\n",
       "      <td>-121.350519</td>\n",
       "    </tr>\n",
       "    <tr>\n",
       "      <th>3557 SODA WAY</th>\n",
       "      <td>SACRAMENTO</td>\n",
       "      <td>95834</td>\n",
       "      <td>CA</td>\n",
       "      <td>0</td>\n",
       "      <td>0</td>\n",
       "      <td>0</td>\n",
       "      <td>Residential</td>\n",
       "      <td>Thu May 15 00:00:00 EDT 2008</td>\n",
       "      <td>224000</td>\n",
       "      <td>38.631026</td>\n",
       "      <td>-121.501879</td>\n",
       "    </tr>\n",
       "    <tr>\n",
       "      <th>3528 SAINT GEORGE DR</th>\n",
       "      <td>SACRAMENTO</td>\n",
       "      <td>95821</td>\n",
       "      <td>CA</td>\n",
       "      <td>3</td>\n",
       "      <td>1</td>\n",
       "      <td>1040</td>\n",
       "      <td>Residential</td>\n",
       "      <td>Thu May 15 00:00:00 EDT 2008</td>\n",
       "      <td>224000</td>\n",
       "      <td>38.629468</td>\n",
       "      <td>-121.376445</td>\n",
       "    </tr>\n",
       "    <tr>\n",
       "      <th>7381 WASHBURN WAY</th>\n",
       "      <td>NORTH HIGHLANDS</td>\n",
       "      <td>95660</td>\n",
       "      <td>CA</td>\n",
       "      <td>3</td>\n",
       "      <td>1</td>\n",
       "      <td>960</td>\n",
       "      <td>Residential</td>\n",
       "      <td>Thu May 15 00:00:00 EDT 2008</td>\n",
       "      <td>224252</td>\n",
       "      <td>38.703550</td>\n",
       "      <td>-121.375103</td>\n",
       "    </tr>\n",
       "    <tr>\n",
       "      <th>2181 WINTERHAVEN CIR</th>\n",
       "      <td>CAMERON PARK</td>\n",
       "      <td>95682</td>\n",
       "      <td>CA</td>\n",
       "      <td>3</td>\n",
       "      <td>2</td>\n",
       "      <td>0</td>\n",
       "      <td>Residential</td>\n",
       "      <td>Thu May 15 00:00:00 EDT 2008</td>\n",
       "      <td>224500</td>\n",
       "      <td>38.697570</td>\n",
       "      <td>-120.995739</td>\n",
       "    </tr>\n",
       "    <tr>\n",
       "      <th>7540 HICKORY AVE</th>\n",
       "      <td>ORANGEVALE</td>\n",
       "      <td>95662</td>\n",
       "      <td>CA</td>\n",
       "      <td>3</td>\n",
       "      <td>1</td>\n",
       "      <td>1456</td>\n",
       "      <td>Residential</td>\n",
       "      <td>Thu May 15 00:00:00 EDT 2008</td>\n",
       "      <td>225000</td>\n",
       "      <td>38.703056</td>\n",
       "      <td>-121.235221</td>\n",
       "    </tr>\n",
       "    <tr>\n",
       "      <th>5024 CHAMBERLIN CIR</th>\n",
       "      <td>ELK GROVE</td>\n",
       "      <td>95757</td>\n",
       "      <td>CA</td>\n",
       "      <td>3</td>\n",
       "      <td>2</td>\n",
       "      <td>1450</td>\n",
       "      <td>Residential</td>\n",
       "      <td>Thu May 15 00:00:00 EDT 2008</td>\n",
       "      <td>228000</td>\n",
       "      <td>38.389756</td>\n",
       "      <td>-121.446246</td>\n",
       "    </tr>\n",
       "    <tr>\n",
       "      <th>2400 INVERNESS DR</th>\n",
       "      <td>LINCOLN</td>\n",
       "      <td>95648</td>\n",
       "      <td>CA</td>\n",
       "      <td>3</td>\n",
       "      <td>2</td>\n",
       "      <td>1358</td>\n",
       "      <td>Residential</td>\n",
       "      <td>Thu May 15 00:00:00 EDT 2008</td>\n",
       "      <td>229027</td>\n",
       "      <td>38.897814</td>\n",
       "      <td>-121.324691</td>\n",
       "    </tr>\n",
       "    <tr>\n",
       "      <th>5 BISHOPGATE CT</th>\n",
       "      <td>SACRAMENTO</td>\n",
       "      <td>95823</td>\n",
       "      <td>CA</td>\n",
       "      <td>4</td>\n",
       "      <td>2</td>\n",
       "      <td>1329</td>\n",
       "      <td>Residential</td>\n",
       "      <td>Thu May 15 00:00:00 EDT 2008</td>\n",
       "      <td>229500</td>\n",
       "      <td>38.467936</td>\n",
       "      <td>-121.445477</td>\n",
       "    </tr>\n",
       "    <tr>\n",
       "      <th>5601 REXLEIGH DR</th>\n",
       "      <td>SACRAMENTO</td>\n",
       "      <td>95823</td>\n",
       "      <td>CA</td>\n",
       "      <td>4</td>\n",
       "      <td>2</td>\n",
       "      <td>1715</td>\n",
       "      <td>Residential</td>\n",
       "      <td>Thu May 15 00:00:00 EDT 2008</td>\n",
       "      <td>230000</td>\n",
       "      <td>38.445342</td>\n",
       "      <td>-121.441504</td>\n",
       "    </tr>\n",
       "    <tr>\n",
       "      <th>1909 YARNELL WAY</th>\n",
       "      <td>ELK GROVE</td>\n",
       "      <td>95758</td>\n",
       "      <td>CA</td>\n",
       "      <td>3</td>\n",
       "      <td>2</td>\n",
       "      <td>1262</td>\n",
       "      <td>Residential</td>\n",
       "      <td>Thu May 15 00:00:00 EDT 2008</td>\n",
       "      <td>230000</td>\n",
       "      <td>38.417382</td>\n",
       "      <td>-121.484325</td>\n",
       "    </tr>\n",
       "    <tr>\n",
       "      <th>9169 GARLINGTON CT</th>\n",
       "      <td>SACRAMENTO</td>\n",
       "      <td>95829</td>\n",
       "      <td>CA</td>\n",
       "      <td>4</td>\n",
       "      <td>3</td>\n",
       "      <td>2280</td>\n",
       "      <td>Residential</td>\n",
       "      <td>Thu May 15 00:00:00 EDT 2008</td>\n",
       "      <td>232425</td>\n",
       "      <td>38.457679</td>\n",
       "      <td>-121.359620</td>\n",
       "    </tr>\n",
       "    <tr>\n",
       "      <th>6932 RUSKUT WAY</th>\n",
       "      <td>SACRAMENTO</td>\n",
       "      <td>95823</td>\n",
       "      <td>CA</td>\n",
       "      <td>3</td>\n",
       "      <td>2</td>\n",
       "      <td>1477</td>\n",
       "      <td>Residential</td>\n",
       "      <td>Thu May 15 00:00:00 EDT 2008</td>\n",
       "      <td>234000</td>\n",
       "      <td>38.499893</td>\n",
       "      <td>-121.458890</td>\n",
       "    </tr>\n",
       "    <tr>\n",
       "      <th>7933 DAFFODIL WAY</th>\n",
       "      <td>CITRUS HEIGHTS</td>\n",
       "      <td>95610</td>\n",
       "      <td>CA</td>\n",
       "      <td>3</td>\n",
       "      <td>2</td>\n",
       "      <td>1216</td>\n",
       "      <td>Residential</td>\n",
       "      <td>Thu May 15 00:00:00 EDT 2008</td>\n",
       "      <td>235000</td>\n",
       "      <td>38.708824</td>\n",
       "      <td>-121.256803</td>\n",
       "    </tr>\n",
       "    <tr>\n",
       "      <th>8304 RED FOX WAY</th>\n",
       "      <td>ELK GROVE</td>\n",
       "      <td>95758</td>\n",
       "      <td>CA</td>\n",
       "      <td>4</td>\n",
       "      <td>2</td>\n",
       "      <td>1685</td>\n",
       "      <td>Residential</td>\n",
       "      <td>Thu May 15 00:00:00 EDT 2008</td>\n",
       "      <td>235301</td>\n",
       "      <td>38.417000</td>\n",
       "      <td>-121.397424</td>\n",
       "    </tr>\n",
       "    <tr>\n",
       "      <th>3882 YELLOWSTONE LN</th>\n",
       "      <td>EL DORADO HILLS</td>\n",
       "      <td>95762</td>\n",
       "      <td>CA</td>\n",
       "      <td>3</td>\n",
       "      <td>2</td>\n",
       "      <td>1362</td>\n",
       "      <td>Residential</td>\n",
       "      <td>Thu May 15 00:00:00 EDT 2008</td>\n",
       "      <td>235738</td>\n",
       "      <td>38.655245</td>\n",
       "      <td>-121.075915</td>\n",
       "    </tr>\n",
       "  </tbody>\n",
       "</table>\n",
       "<p>985 rows × 11 columns</p>\n",
       "</div>"
      ],
      "text/plain": [
       "                                            city    zip state  beds  baths  \\\n",
       "street                                                                       \n",
       "3526 HIGH ST                          SACRAMENTO  95838    CA     2      1   \n",
       "51 OMAHA CT                           SACRAMENTO  95823    CA     3      1   \n",
       "2796 BRANCH ST                        SACRAMENTO  95815    CA     2      1   \n",
       "2805 JANETTE WAY                      SACRAMENTO  95815    CA     2      1   \n",
       "6001 MCMAHON DR                       SACRAMENTO  95824    CA     2      1   \n",
       "5828 PEPPERMILL CT                    SACRAMENTO  95841    CA     3      1   \n",
       "6048 OGDEN NASH WAY                   SACRAMENTO  95842    CA     3      2   \n",
       "2561 19TH AVE                         SACRAMENTO  95820    CA     3      1   \n",
       "11150 TRINITY RIVER DR Unit 114   RANCHO CORDOVA  95670    CA     2      2   \n",
       "7325 10TH ST                           RIO LINDA  95673    CA     3      2   \n",
       "645 MORRISON AVE                      SACRAMENTO  95838    CA     3      2   \n",
       "4085 FAWN CIR                         SACRAMENTO  95823    CA     3      2   \n",
       "2930 LA ROSA RD                       SACRAMENTO  95815    CA     1      1   \n",
       "2113 KIRK WAY                         SACRAMENTO  95822    CA     3      1   \n",
       "4533 LOCH HAVEN WAY                   SACRAMENTO  95842    CA     2      2   \n",
       "7340 HAMDEN PL                        SACRAMENTO  95842    CA     2      2   \n",
       "6715 6TH ST                            RIO LINDA  95673    CA     2      1   \n",
       "6236 LONGFORD DR Unit 1           CITRUS HEIGHTS  95621    CA     2      1   \n",
       "250 PERALTA AVE                       SACRAMENTO  95833    CA     2      1   \n",
       "113 LEEWILL AVE                        RIO LINDA  95673    CA     3      2   \n",
       "6118 STONEHAND AVE                CITRUS HEIGHTS  95621    CA     3      2   \n",
       "4882 BANDALIN WAY                     SACRAMENTO  95823    CA     4      2   \n",
       "7511 OAKVALE CT                  NORTH HIGHLANDS  95660    CA     4      2   \n",
       "9 PASTURE CT                          SACRAMENTO  95834    CA     3      2   \n",
       "3729 BAINBRIDGE DR               NORTH HIGHLANDS  95660    CA     3      2   \n",
       "3828 BLACKFOOT WAY                      ANTELOPE  95843    CA     3      2   \n",
       "4108 NORTON WAY                       SACRAMENTO  95820    CA     3      1   \n",
       "1469 JANRICK AVE                      SACRAMENTO  95832    CA     3      2   \n",
       "9861 CULP WAY                         SACRAMENTO  95827    CA     4      2   \n",
       "7825 CREEK VALLEY CIR                 SACRAMENTO  95828    CA     3      2   \n",
       "...                                          ...    ...   ...   ...    ...   \n",
       "2100 BEATTY WAY                        ROSEVILLE  95747    CA     3      2   \n",
       "6920 GILLINGHAM WAY              NORTH HIGHLANDS  95660    CA     3      1   \n",
       "82 WILDFLOWER DR                            GALT  95632    CA     3      2   \n",
       "8652 BANTON CIR                        ELK GROVE  95624    CA     4      2   \n",
       "8428 MISTY PASS WAY                     ANTELOPE  95843    CA     3      2   \n",
       "7958 ROSEVIEW WAY                     SACRAMENTO  95828    CA     3      2   \n",
       "9020 LUKEN CT                          ELK GROVE  95624    CA     3      2   \n",
       "7809 VALLECITOS WAY                   SACRAMENTO  95828    CA     3      1   \n",
       "8445 OLD AUBURN RD                CITRUS HEIGHTS  95610    CA     3      2   \n",
       "10085 ATKINS DR                        ELK GROVE  95757    CA     3      2   \n",
       "9185 CERROLINDA CIR                    ELK GROVE  95758    CA     3      2   \n",
       "9197 CORTINA CIR                       ROSEVILLE  95678    CA     3      2   \n",
       "5429 HESPER WAY                       CARMICHAEL  95608    CA     4      2   \n",
       "1178 WARMWOOD CT                            GALT  95632    CA     4      2   \n",
       "4900 ELUDE CT                         SACRAMENTO  95842    CA     4      2   \n",
       "3557 SODA WAY                         SACRAMENTO  95834    CA     0      0   \n",
       "3528 SAINT GEORGE DR                  SACRAMENTO  95821    CA     3      1   \n",
       "7381 WASHBURN WAY                NORTH HIGHLANDS  95660    CA     3      1   \n",
       "2181 WINTERHAVEN CIR                CAMERON PARK  95682    CA     3      2   \n",
       "7540 HICKORY AVE                      ORANGEVALE  95662    CA     3      1   \n",
       "5024 CHAMBERLIN CIR                    ELK GROVE  95757    CA     3      2   \n",
       "2400 INVERNESS DR                        LINCOLN  95648    CA     3      2   \n",
       "5 BISHOPGATE CT                       SACRAMENTO  95823    CA     4      2   \n",
       "5601 REXLEIGH DR                      SACRAMENTO  95823    CA     4      2   \n",
       "1909 YARNELL WAY                       ELK GROVE  95758    CA     3      2   \n",
       "9169 GARLINGTON CT                    SACRAMENTO  95829    CA     4      3   \n",
       "6932 RUSKUT WAY                       SACRAMENTO  95823    CA     3      2   \n",
       "7933 DAFFODIL WAY                 CITRUS HEIGHTS  95610    CA     3      2   \n",
       "8304 RED FOX WAY                       ELK GROVE  95758    CA     4      2   \n",
       "3882 YELLOWSTONE LN              EL DORADO HILLS  95762    CA     3      2   \n",
       "\n",
       "                                 sq__ft         type  \\\n",
       "street                                                 \n",
       "3526 HIGH ST                        836  Residential   \n",
       "51 OMAHA CT                        1167  Residential   \n",
       "2796 BRANCH ST                      796  Residential   \n",
       "2805 JANETTE WAY                    852  Residential   \n",
       "6001 MCMAHON DR                     797  Residential   \n",
       "5828 PEPPERMILL CT                 1122        Condo   \n",
       "6048 OGDEN NASH WAY                1104  Residential   \n",
       "2561 19TH AVE                      1177  Residential   \n",
       "11150 TRINITY RIVER DR Unit 114     941        Condo   \n",
       "7325 10TH ST                       1146  Residential   \n",
       "645 MORRISON AVE                    909  Residential   \n",
       "4085 FAWN CIR                      1289  Residential   \n",
       "2930 LA ROSA RD                     871  Residential   \n",
       "2113 KIRK WAY                      1020  Residential   \n",
       "4533 LOCH HAVEN WAY                1022  Residential   \n",
       "7340 HAMDEN PL                     1134        Condo   \n",
       "6715 6TH ST                         844  Residential   \n",
       "6236 LONGFORD DR Unit 1             795        Condo   \n",
       "250 PERALTA AVE                     588  Residential   \n",
       "113 LEEWILL AVE                    1356  Residential   \n",
       "6118 STONEHAND AVE                 1118  Residential   \n",
       "4882 BANDALIN WAY                  1329  Residential   \n",
       "7511 OAKVALE CT                    1240  Residential   \n",
       "9 PASTURE CT                       1601  Residential   \n",
       "3729 BAINBRIDGE DR                  901  Residential   \n",
       "3828 BLACKFOOT WAY                 1088  Residential   \n",
       "4108 NORTON WAY                     963  Residential   \n",
       "1469 JANRICK AVE                   1119  Residential   \n",
       "9861 CULP WAY                      1380  Residential   \n",
       "7825 CREEK VALLEY CIR              1248  Residential   \n",
       "...                                 ...          ...   \n",
       "2100 BEATTY WAY                    1371  Residential   \n",
       "6920 GILLINGHAM WAY                1310  Residential   \n",
       "82 WILDFLOWER DR                   1262  Residential   \n",
       "8652 BANTON CIR                    1740  Residential   \n",
       "8428 MISTY PASS WAY                1517  Residential   \n",
       "7958 ROSEVIEW WAY                  1450  Residential   \n",
       "9020 LUKEN CT                      1416  Residential   \n",
       "7809 VALLECITOS WAY                 888  Residential   \n",
       "8445 OLD AUBURN RD                 1882  Residential   \n",
       "10085 ATKINS DR                    1302  Residential   \n",
       "9185 CERROLINDA CIR                1418  Residential   \n",
       "9197 CORTINA CIR                      0        Condo   \n",
       "5429 HESPER WAY                    1319  Residential   \n",
       "1178 WARMWOOD CT                   1770  Residential   \n",
       "4900 ELUDE CT                      1627  Residential   \n",
       "3557 SODA WAY                         0  Residential   \n",
       "3528 SAINT GEORGE DR               1040  Residential   \n",
       "7381 WASHBURN WAY                   960  Residential   \n",
       "2181 WINTERHAVEN CIR                  0  Residential   \n",
       "7540 HICKORY AVE                   1456  Residential   \n",
       "5024 CHAMBERLIN CIR                1450  Residential   \n",
       "2400 INVERNESS DR                  1358  Residential   \n",
       "5 BISHOPGATE CT                    1329  Residential   \n",
       "5601 REXLEIGH DR                   1715  Residential   \n",
       "1909 YARNELL WAY                   1262  Residential   \n",
       "9169 GARLINGTON CT                 2280  Residential   \n",
       "6932 RUSKUT WAY                    1477  Residential   \n",
       "7933 DAFFODIL WAY                  1216  Residential   \n",
       "8304 RED FOX WAY                   1685  Residential   \n",
       "3882 YELLOWSTONE LN                1362  Residential   \n",
       "\n",
       "                                                    sale_date   price  \\\n",
       "street                                                                  \n",
       "3526 HIGH ST                     Wed May 21 00:00:00 EDT 2008   59222   \n",
       "51 OMAHA CT                      Wed May 21 00:00:00 EDT 2008   68212   \n",
       "2796 BRANCH ST                   Wed May 21 00:00:00 EDT 2008   68880   \n",
       "2805 JANETTE WAY                 Wed May 21 00:00:00 EDT 2008   69307   \n",
       "6001 MCMAHON DR                  Wed May 21 00:00:00 EDT 2008   81900   \n",
       "5828 PEPPERMILL CT               Wed May 21 00:00:00 EDT 2008   89921   \n",
       "6048 OGDEN NASH WAY              Wed May 21 00:00:00 EDT 2008   90895   \n",
       "2561 19TH AVE                    Wed May 21 00:00:00 EDT 2008   91002   \n",
       "11150 TRINITY RIVER DR Unit 114  Wed May 21 00:00:00 EDT 2008   94905   \n",
       "7325 10TH ST                     Wed May 21 00:00:00 EDT 2008   98937   \n",
       "645 MORRISON AVE                 Wed May 21 00:00:00 EDT 2008  100309   \n",
       "4085 FAWN CIR                    Wed May 21 00:00:00 EDT 2008  106250   \n",
       "2930 LA ROSA RD                  Wed May 21 00:00:00 EDT 2008  106852   \n",
       "2113 KIRK WAY                    Wed May 21 00:00:00 EDT 2008  107502   \n",
       "4533 LOCH HAVEN WAY              Wed May 21 00:00:00 EDT 2008  108750   \n",
       "7340 HAMDEN PL                   Wed May 21 00:00:00 EDT 2008  110700   \n",
       "6715 6TH ST                      Wed May 21 00:00:00 EDT 2008  113263   \n",
       "6236 LONGFORD DR Unit 1          Wed May 21 00:00:00 EDT 2008  116250   \n",
       "250 PERALTA AVE                  Wed May 21 00:00:00 EDT 2008  120000   \n",
       "113 LEEWILL AVE                  Wed May 21 00:00:00 EDT 2008  121630   \n",
       "6118 STONEHAND AVE               Wed May 21 00:00:00 EDT 2008  122000   \n",
       "4882 BANDALIN WAY                Wed May 21 00:00:00 EDT 2008  122682   \n",
       "7511 OAKVALE CT                  Wed May 21 00:00:00 EDT 2008  123000   \n",
       "9 PASTURE CT                     Wed May 21 00:00:00 EDT 2008  124100   \n",
       "3729 BAINBRIDGE DR               Wed May 21 00:00:00 EDT 2008  125000   \n",
       "3828 BLACKFOOT WAY               Wed May 21 00:00:00 EDT 2008  126640   \n",
       "4108 NORTON WAY                  Wed May 21 00:00:00 EDT 2008  127281   \n",
       "1469 JANRICK AVE                 Wed May 21 00:00:00 EDT 2008  129000   \n",
       "9861 CULP WAY                    Wed May 21 00:00:00 EDT 2008  131200   \n",
       "7825 CREEK VALLEY CIR            Wed May 21 00:00:00 EDT 2008  132000   \n",
       "...                                                       ...     ...   \n",
       "2100 BEATTY WAY                  Thu May 15 00:00:00 EDT 2008  208250   \n",
       "6920 GILLINGHAM WAY              Thu May 15 00:00:00 EDT 2008  208318   \n",
       "82 WILDFLOWER DR                 Thu May 15 00:00:00 EDT 2008  209347   \n",
       "8652 BANTON CIR                  Thu May 15 00:00:00 EDT 2008  211500   \n",
       "8428 MISTY PASS WAY              Thu May 15 00:00:00 EDT 2008  212000   \n",
       "7958 ROSEVIEW WAY                Thu May 15 00:00:00 EDT 2008  213000   \n",
       "9020 LUKEN CT                    Thu May 15 00:00:00 EDT 2008  216000   \n",
       "7809 VALLECITOS WAY              Thu May 15 00:00:00 EDT 2008  216021   \n",
       "8445 OLD AUBURN RD               Thu May 15 00:00:00 EDT 2008  219000   \n",
       "10085 ATKINS DR                  Thu May 15 00:00:00 EDT 2008  219794   \n",
       "9185 CERROLINDA CIR              Thu May 15 00:00:00 EDT 2008  220000   \n",
       "9197 CORTINA CIR                 Thu May 15 00:00:00 EDT 2008  220000   \n",
       "5429 HESPER WAY                  Thu May 15 00:00:00 EDT 2008  220000   \n",
       "1178 WARMWOOD CT                 Thu May 15 00:00:00 EDT 2008  220000   \n",
       "4900 ELUDE CT                    Thu May 15 00:00:00 EDT 2008  223000   \n",
       "3557 SODA WAY                    Thu May 15 00:00:00 EDT 2008  224000   \n",
       "3528 SAINT GEORGE DR             Thu May 15 00:00:00 EDT 2008  224000   \n",
       "7381 WASHBURN WAY                Thu May 15 00:00:00 EDT 2008  224252   \n",
       "2181 WINTERHAVEN CIR             Thu May 15 00:00:00 EDT 2008  224500   \n",
       "7540 HICKORY AVE                 Thu May 15 00:00:00 EDT 2008  225000   \n",
       "5024 CHAMBERLIN CIR              Thu May 15 00:00:00 EDT 2008  228000   \n",
       "2400 INVERNESS DR                Thu May 15 00:00:00 EDT 2008  229027   \n",
       "5 BISHOPGATE CT                  Thu May 15 00:00:00 EDT 2008  229500   \n",
       "5601 REXLEIGH DR                 Thu May 15 00:00:00 EDT 2008  230000   \n",
       "1909 YARNELL WAY                 Thu May 15 00:00:00 EDT 2008  230000   \n",
       "9169 GARLINGTON CT               Thu May 15 00:00:00 EDT 2008  232425   \n",
       "6932 RUSKUT WAY                  Thu May 15 00:00:00 EDT 2008  234000   \n",
       "7933 DAFFODIL WAY                Thu May 15 00:00:00 EDT 2008  235000   \n",
       "8304 RED FOX WAY                 Thu May 15 00:00:00 EDT 2008  235301   \n",
       "3882 YELLOWSTONE LN              Thu May 15 00:00:00 EDT 2008  235738   \n",
       "\n",
       "                                  latitude   longitude  \n",
       "street                                                  \n",
       "3526 HIGH ST                     38.631913 -121.434879  \n",
       "51 OMAHA CT                      38.478902 -121.431028  \n",
       "2796 BRANCH ST                   38.618305 -121.443839  \n",
       "2805 JANETTE WAY                 38.616835 -121.439146  \n",
       "6001 MCMAHON DR                  38.519470 -121.435768  \n",
       "5828 PEPPERMILL CT               38.662595 -121.327813  \n",
       "6048 OGDEN NASH WAY              38.681659 -121.351705  \n",
       "2561 19TH AVE                    38.535092 -121.481367  \n",
       "11150 TRINITY RIVER DR Unit 114  38.621188 -121.270555  \n",
       "7325 10TH ST                     38.700909 -121.442979  \n",
       "645 MORRISON AVE                 38.637663 -121.451520  \n",
       "4085 FAWN CIR                    38.470746 -121.458918  \n",
       "2930 LA ROSA RD                  38.618698 -121.435833  \n",
       "2113 KIRK WAY                    38.482215 -121.492603  \n",
       "4533 LOCH HAVEN WAY              38.672914 -121.359340  \n",
       "7340 HAMDEN PL                   38.700051 -121.351278  \n",
       "6715 6TH ST                      38.689591 -121.452239  \n",
       "6236 LONGFORD DR Unit 1          38.679776 -121.314089  \n",
       "250 PERALTA AVE                  38.612099 -121.469095  \n",
       "113 LEEWILL AVE                  38.689999 -121.463220  \n",
       "6118 STONEHAND AVE               38.707851 -121.320707  \n",
       "4882 BANDALIN WAY                38.468173 -121.444071  \n",
       "7511 OAKVALE CT                  38.702792 -121.382210  \n",
       "9 PASTURE CT                     38.628631 -121.488097  \n",
       "3729 BAINBRIDGE DR               38.701499 -121.376220  \n",
       "3828 BLACKFOOT WAY               38.709740 -121.373770  \n",
       "4108 NORTON WAY                  38.537526 -121.478315  \n",
       "1469 JANRICK AVE                 38.476472 -121.501711  \n",
       "9861 CULP WAY                    38.558423 -121.327948  \n",
       "7825 CREEK VALLEY CIR            38.472122 -121.404199  \n",
       "...                                    ...         ...  \n",
       "2100 BEATTY WAY                  38.737882 -121.308142  \n",
       "6920 GILLINGHAM WAY              38.694279 -121.373395  \n",
       "82 WILDFLOWER DR                 38.259708 -121.311616  \n",
       "8652 BANTON CIR                  38.444000 -121.370993  \n",
       "8428 MISTY PASS WAY              38.722959 -121.347115  \n",
       "7958 ROSEVIEW WAY                38.467836 -121.410366  \n",
       "9020 LUKEN CT                    38.451398 -121.366614  \n",
       "7809 VALLECITOS WAY              38.508217 -121.411207  \n",
       "8445 OLD AUBURN RD               38.715423 -121.246743  \n",
       "10085 ATKINS DR                  38.390893 -121.437821  \n",
       "9185 CERROLINDA CIR              38.424497 -121.426595  \n",
       "9197 CORTINA CIR                 38.793152 -121.290025  \n",
       "5429 HESPER WAY                  38.665104 -121.315901  \n",
       "1178 WARMWOOD CT                 38.289544 -121.284607  \n",
       "4900 ELUDE CT                    38.696740 -121.350519  \n",
       "3557 SODA WAY                    38.631026 -121.501879  \n",
       "3528 SAINT GEORGE DR             38.629468 -121.376445  \n",
       "7381 WASHBURN WAY                38.703550 -121.375103  \n",
       "2181 WINTERHAVEN CIR             38.697570 -120.995739  \n",
       "7540 HICKORY AVE                 38.703056 -121.235221  \n",
       "5024 CHAMBERLIN CIR              38.389756 -121.446246  \n",
       "2400 INVERNESS DR                38.897814 -121.324691  \n",
       "5 BISHOPGATE CT                  38.467936 -121.445477  \n",
       "5601 REXLEIGH DR                 38.445342 -121.441504  \n",
       "1909 YARNELL WAY                 38.417382 -121.484325  \n",
       "9169 GARLINGTON CT               38.457679 -121.359620  \n",
       "6932 RUSKUT WAY                  38.499893 -121.458890  \n",
       "7933 DAFFODIL WAY                38.708824 -121.256803  \n",
       "8304 RED FOX WAY                 38.417000 -121.397424  \n",
       "3882 YELLOWSTONE LN              38.655245 -121.075915  \n",
       "\n",
       "[985 rows x 11 columns]"
      ]
     },
     "execution_count": 173,
     "metadata": {},
     "output_type": "execute_result"
    }
   ],
   "source": [
    "sac = pandas.read_csv('3.2-lab/assets/datasets/Sacramentorealestatetransactions.csv',index_col=0)\n",
    "sac"
   ]
  },
  {
   "cell_type": "code",
   "execution_count": 174,
   "metadata": {
    "collapsed": false
   },
   "outputs": [
    {
     "data": {
      "text/plain": [
       "Index([u'city', u'zip', u'state', u'beds', u'baths', u'sq__ft', u'type',\n",
       "       u'sale_date', u'price', u'latitude', u'longitude'],\n",
       "      dtype='object')"
      ]
     },
     "execution_count": 174,
     "metadata": {},
     "output_type": "execute_result"
    }
   ],
   "source": [
    "sac.columns"
   ]
  },
  {
   "cell_type": "code",
   "execution_count": 175,
   "metadata": {
    "collapsed": false,
    "scrolled": true
   },
   "outputs": [],
   "source": [
    "x = sac[['beds','baths','sq__ft','latitude','longitude']]"
   ]
  },
  {
   "cell_type": "code",
   "execution_count": 176,
   "metadata": {
    "collapsed": true
   },
   "outputs": [],
   "source": [
    "y = sac.price"
   ]
  },
  {
   "cell_type": "code",
   "execution_count": 177,
   "metadata": {
    "collapsed": false,
    "scrolled": true
   },
   "outputs": [
    {
     "data": {
      "text/plain": [
       "<seaborn.axisgrid.PairGrid at 0x12b0ad350>"
      ]
     },
     "execution_count": 177,
     "metadata": {},
     "output_type": "execute_result"
    },
    {
     "data": {
      "image/png": "[encoded data removed]",
      "text/plain": [
       "<matplotlib.figure.Figure at 0x125675990>"
      ]
     },
     "metadata": {},
     "output_type": "display_data"
    }
   ],
   "source": [
    "seaborn.pairplot(sac)"
   ]
  },
  {
   "cell_type": "code",
   "execution_count": 178,
   "metadata": {
    "collapsed": false
   },
   "outputs": [
    {
     "data": {
      "text/plain": [
       "[('beds', -5177.0604470771859),\n",
       " ('baths', 47018.31751263779),\n",
       " ('sq__ft', 34.440179386991076),\n",
       " ('latitude', -25449.698100080914),\n",
       " ('longitude', 325120.7717371895)]"
      ]
     },
     "execution_count": 178,
     "metadata": {},
     "output_type": "execute_result"
    }
   ],
   "source": [
    "ols = sklearn.linear_model.LinearRegression()\n",
    "ols.fit(x,y)\n",
    "zip(['beds','baths','sq__ft','latitude','longitude'],ols.coef_)"
   ]
  },
  {
   "cell_type": "code",
   "execution_count": 179,
   "metadata": {
    "collapsed": false
   },
   "outputs": [
    {
     "data": {
      "text/plain": [
       "0.27428458034206371"
      ]
     },
     "execution_count": 179,
     "metadata": {},
     "output_type": "execute_result"
    }
   ],
   "source": [
    "ols.score(x,y)"
   ]
  },
  {
   "cell_type": "code",
   "execution_count": 180,
   "metadata": {
    "collapsed": false
   },
   "outputs": [
    {
     "data": {
      "text/plain": [
       "[('beds', 111104.49919792578),\n",
       " ('baths', 262990.94513218448),\n",
       " ('sq__ft', 84.749431434103855),\n",
       " ('latitude', -6688.789963697629),\n",
       " ('longitude', 197568.16117380431)]"
      ]
     },
     "execution_count": 180,
     "metadata": {},
     "output_type": "execute_result"
    }
   ],
   "source": [
    "t2 = sklearn.linear_model.TheilSenRegressor()\n",
    "t2.fit(x,y)\n",
    "zip(['beds','baths','sq__ft','latitude','longitude'],t2.coef_)"
   ]
  },
  {
   "cell_type": "code",
   "execution_count": 181,
   "metadata": {
    "collapsed": false
   },
   "outputs": [
    {
     "data": {
      "text/plain": [
       "-7.2962822080195302"
      ]
     },
     "execution_count": 181,
     "metadata": {},
     "output_type": "execute_result"
    }
   ],
   "source": [
    "t2.score(x,y)"
   ]
  },
  {
   "cell_type": "code",
   "execution_count": 182,
   "metadata": {
    "collapsed": false
   },
   "outputs": [
    {
     "data": {
      "text/plain": [
       "[('beds', -949.89670712818679),\n",
       " ('baths', 16879.241795854905),\n",
       " ('sq__ft', 109.24852531048964),\n",
       " ('latitude', 29678.723609713896),\n",
       " ('longitude', 114460.6556239401)]"
      ]
     },
     "execution_count": 182,
     "metadata": {},
     "output_type": "execute_result"
    }
   ],
   "source": [
    "r2 = sklearn.linear_model.RANSACRegressor()\n",
    "r2.fit(x,y)\n",
    "zip(['beds','baths','sq__ft','latitude','longitude'],r2.estimator_.coef_)"
   ]
  },
  {
   "cell_type": "code",
   "execution_count": 183,
   "metadata": {
    "collapsed": false
   },
   "outputs": [
    {
     "data": {
      "text/plain": [
       "[('beds', 0.0),\n",
       " ('baths', 31413.877120481931),\n",
       " ('sq__ft', 32.195447112137231),\n",
       " ('latitude', 0.0),\n",
       " ('longitude', 0.0)]"
      ]
     },
     "execution_count": 183,
     "metadata": {},
     "output_type": "execute_result"
    }
   ],
   "source": [
    "lasso = sklearn.linear_model.Lasso(alpha=10000)\n",
    "lasso.fit(x,y)\n",
    "zip(['beds','baths','sq__ft','latitude','longitude'],lasso.coef_)"
   ]
  },
  {
   "cell_type": "code",
   "execution_count": 184,
   "metadata": {
    "collapsed": false
   },
   "outputs": [
    {
     "data": {
      "text/plain": [
       "0.16732308502626614"
      ]
     },
     "execution_count": 184,
     "metadata": {},
     "output_type": "execute_result"
    }
   ],
   "source": [
    "lasso.score(x,y)"
   ]
  },
  {
   "cell_type": "code",
   "execution_count": 185,
   "metadata": {
    "collapsed": false
   },
   "outputs": [
    {
     "data": {
      "text/plain": [
       "<matplotlib.collections.PathCollection at 0x1303e3110>"
      ]
     },
     "execution_count": 185,
     "metadata": {},
     "output_type": "execute_result"
    },
    {
     "data": {
      "image/png": "[encoded data removed]",
      "text/plain": [
       "<matplotlib.figure.Figure at 0x1252ef510>"
      ]
     },
     "metadata": {},
     "output_type": "display_data"
    }
   ],
   "source": [
    "lasso_prediction = lasso.predict(x)\n",
    "matplotlib.pyplot.scatter(sac.baths,sac.price)\n",
    "matplotlib.pyplot.scatter(sac.baths,lasso_prediction,color='red')"
   ]
  },
  {
   "cell_type": "code",
   "execution_count": 186,
   "metadata": {
    "collapsed": false
   },
   "outputs": [
    {
     "data": {
      "text/plain": [
       "numpy.ndarray"
      ]
     },
     "execution_count": 186,
     "metadata": {},
     "output_type": "execute_result"
    }
   ],
   "source": [
    "type(lasso_prediction)"
   ]
  },
  {
   "cell_type": "markdown",
   "metadata": {},
   "source": [
    "# how could we improve?\n",
    "lets do some non-linear stuff"
   ]
  },
  {
   "cell_type": "code",
   "execution_count": 187,
   "metadata": {
    "collapsed": false
   },
   "outputs": [
    {
     "data": {
      "text/plain": [
       "<matplotlib.collections.PathCollection at 0x130e03f90>"
      ]
     },
     "execution_count": 187,
     "metadata": {},
     "output_type": "execute_result"
    },
    {
     "data": {
      "image/png": "[encoded data removed]",
      "text/plain": [
       "<matplotlib.figure.Figure at 0x12f8bf290>"
      ]
     },
     "metadata": {},
     "output_type": "display_data"
    }
   ],
   "source": [
    "matplotlib.pyplot.scatter(sac.latitude, sac.price)"
   ]
  },
  {
   "cell_type": "code",
   "execution_count": 188,
   "metadata": {
    "collapsed": false
   },
   "outputs": [
    {
     "data": {
      "text/plain": [
       "False    962\n",
       "True      23\n",
       "Name: latitude, dtype: int64"
      ]
     },
     "execution_count": 188,
     "metadata": {},
     "output_type": "execute_result"
    }
   ],
   "source": [
    "(sac.latitude < 38.35).value_counts()"
   ]
  },
  {
   "cell_type": "code",
   "execution_count": 189,
   "metadata": {
    "collapsed": false
   },
   "outputs": [
    {
     "data": {
      "text/plain": [
       "False    963\n",
       "True      22\n",
       "Name: latitude, dtype: int64"
      ]
     },
     "execution_count": 189,
     "metadata": {},
     "output_type": "execute_result"
    }
   ],
   "source": [
    "(sac.latitude < 38.3).value_counts()"
   ]
  },
  {
   "cell_type": "code",
   "execution_count": 190,
   "metadata": {
    "collapsed": true
   },
   "outputs": [],
   "source": [
    "import numpy\n",
    "sac['river_south'] = numpy.where(sac.latitude < 38.35,1,0)"
   ]
  },
  {
   "cell_type": "code",
   "execution_count": 191,
   "metadata": {
    "collapsed": true
   },
   "outputs": [],
   "source": [
    "x = sac[['beds','baths','sq__ft','latitude','longitude','river_south']]"
   ]
  },
  {
   "cell_type": "code",
   "execution_count": 192,
   "metadata": {
    "collapsed": false
   },
   "outputs": [
    {
     "data": {
      "text/plain": [
       "LinearRegression(copy_X=True, fit_intercept=True, n_jobs=1, normalize=False)"
      ]
     },
     "execution_count": 192,
     "metadata": {},
     "output_type": "execute_result"
    }
   ],
   "source": [
    "ols.fit(x,y)"
   ]
  },
  {
   "cell_type": "code",
   "execution_count": 193,
   "metadata": {
    "collapsed": false
   },
   "outputs": [
    {
     "data": {
      "text/plain": [
       "[('beds', -5210.2467788956574),\n",
       " ('baths', 46814.697557668442),\n",
       " ('sq__ft', 34.031674132944318),\n",
       " ('latitude', -40180.517431029119),\n",
       " ('longitude', 332190.09876962402),\n",
       " ('river_south', -29114.578355446534)]"
      ]
     },
     "execution_count": 193,
     "metadata": {},
     "output_type": "execute_result"
    }
   ],
   "source": [
    "zip(['beds','baths','sq__ft','latitude','longitude','river_south'],ols.coef_)"
   ]
  },
  {
   "cell_type": "code",
   "execution_count": 194,
   "metadata": {
    "collapsed": false
   },
   "outputs": [
    {
     "data": {
      "text/plain": [
       "0.27511225117176896"
      ]
     },
     "execution_count": 194,
     "metadata": {},
     "output_type": "execute_result"
    }
   ],
   "source": [
    "ols.score(x,y)"
   ]
  },
  {
   "cell_type": "code",
   "execution_count": 195,
   "metadata": {
    "collapsed": false
   },
   "outputs": [
    {
     "data": {
      "text/plain": [
       "213750.0"
      ]
     },
     "execution_count": 195,
     "metadata": {},
     "output_type": "execute_result"
    }
   ],
   "source": [
    "sac.price.median()"
   ]
  },
  {
   "cell_type": "code",
   "execution_count": 196,
   "metadata": {
    "collapsed": false
   },
   "outputs": [
    {
     "data": {
      "text/plain": [
       "234144.26395939087"
      ]
     },
     "execution_count": 196,
     "metadata": {},
     "output_type": "execute_result"
    }
   ],
   "source": [
    "sac.price.mean()"
   ]
  },
  {
   "cell_type": "code",
   "execution_count": 200,
   "metadata": {
    "collapsed": false
   },
   "outputs": [
    {
     "data": {
      "text/plain": [
       "<matplotlib.collections.PathCollection at 0x130a9db90>"
      ]
     },
     "execution_count": 200,
     "metadata": {},
     "output_type": "execute_result"
    },
    {
     "data": {
      "image/png": "[encoded data removed]",
      "text/plain": [
       "<matplotlib.figure.Figure at 0x128c8bcd0>"
      ]
     },
     "metadata": {},
     "output_type": "display_data"
    }
   ],
   "source": [
    "expensive_houses = sac[sac.price>250000]\n",
    "cheap_houses = sac[sac.price <=250000]\n",
    "matplotlib.pyplot.scatter(expensive_houses.longitude,expensive_houses.latitude, color='red')\n",
    "matplotlib.pyplot.scatter(cheap_houses.longitude,cheap_houses.latitude, color='blue')"
   ]
  },
  {
   "cell_type": "markdown",
   "metadata": {},
   "source": [
    "lets add another variable for 'north eastern'-ness"
   ]
  },
  {
   "cell_type": "code",
   "execution_count": 201,
   "metadata": {
    "collapsed": false
   },
   "outputs": [],
   "source": [
    "northeastern = (sac.latitude>38.6)&(sac.longitude>-121.4)"
   ]
  },
  {
   "cell_type": "code",
   "execution_count": 202,
   "metadata": {
    "collapsed": false
   },
   "outputs": [
    {
     "data": {
      "text/html": [
       "<div>\n",
       "<table border=\"1\" class=\"dataframe\">\n",
       "  <thead>\n",
       "    <tr style=\"text-align: right;\">\n",
       "      <th></th>\n",
       "      <th>city</th>\n",
       "      <th>zip</th>\n",
       "      <th>state</th>\n",
       "      <th>beds</th>\n",
       "      <th>baths</th>\n",
       "      <th>sq__ft</th>\n",
       "      <th>type</th>\n",
       "      <th>sale_date</th>\n",
       "      <th>price</th>\n",
       "      <th>latitude</th>\n",
       "      <th>longitude</th>\n",
       "      <th>river_south</th>\n",
       "    </tr>\n",
       "    <tr>\n",
       "      <th>street</th>\n",
       "      <th></th>\n",
       "      <th></th>\n",
       "      <th></th>\n",
       "      <th></th>\n",
       "      <th></th>\n",
       "      <th></th>\n",
       "      <th></th>\n",
       "      <th></th>\n",
       "      <th></th>\n",
       "      <th></th>\n",
       "      <th></th>\n",
       "      <th></th>\n",
       "    </tr>\n",
       "  </thead>\n",
       "  <tbody>\n",
       "    <tr>\n",
       "      <th>3526 HIGH ST</th>\n",
       "      <td>SACRAMENTO</td>\n",
       "      <td>95838</td>\n",
       "      <td>CA</td>\n",
       "      <td>2</td>\n",
       "      <td>1</td>\n",
       "      <td>836</td>\n",
       "      <td>Residential</td>\n",
       "      <td>Wed May 21 00:00:00 EDT 2008</td>\n",
       "      <td>59222</td>\n",
       "      <td>38.631913</td>\n",
       "      <td>-121.434879</td>\n",
       "      <td>0</td>\n",
       "    </tr>\n",
       "    <tr>\n",
       "      <th>51 OMAHA CT</th>\n",
       "      <td>SACRAMENTO</td>\n",
       "      <td>95823</td>\n",
       "      <td>CA</td>\n",
       "      <td>3</td>\n",
       "      <td>1</td>\n",
       "      <td>1167</td>\n",
       "      <td>Residential</td>\n",
       "      <td>Wed May 21 00:00:00 EDT 2008</td>\n",
       "      <td>68212</td>\n",
       "      <td>38.478902</td>\n",
       "      <td>-121.431028</td>\n",
       "      <td>0</td>\n",
       "    </tr>\n",
       "    <tr>\n",
       "      <th>2796 BRANCH ST</th>\n",
       "      <td>SACRAMENTO</td>\n",
       "      <td>95815</td>\n",
       "      <td>CA</td>\n",
       "      <td>2</td>\n",
       "      <td>1</td>\n",
       "      <td>796</td>\n",
       "      <td>Residential</td>\n",
       "      <td>Wed May 21 00:00:00 EDT 2008</td>\n",
       "      <td>68880</td>\n",
       "      <td>38.618305</td>\n",
       "      <td>-121.443839</td>\n",
       "      <td>0</td>\n",
       "    </tr>\n",
       "    <tr>\n",
       "      <th>2805 JANETTE WAY</th>\n",
       "      <td>SACRAMENTO</td>\n",
       "      <td>95815</td>\n",
       "      <td>CA</td>\n",
       "      <td>2</td>\n",
       "      <td>1</td>\n",
       "      <td>852</td>\n",
       "      <td>Residential</td>\n",
       "      <td>Wed May 21 00:00:00 EDT 2008</td>\n",
       "      <td>69307</td>\n",
       "      <td>38.616835</td>\n",
       "      <td>-121.439146</td>\n",
       "      <td>0</td>\n",
       "    </tr>\n",
       "    <tr>\n",
       "      <th>6001 MCMAHON DR</th>\n",
       "      <td>SACRAMENTO</td>\n",
       "      <td>95824</td>\n",
       "      <td>CA</td>\n",
       "      <td>2</td>\n",
       "      <td>1</td>\n",
       "      <td>797</td>\n",
       "      <td>Residential</td>\n",
       "      <td>Wed May 21 00:00:00 EDT 2008</td>\n",
       "      <td>81900</td>\n",
       "      <td>38.519470</td>\n",
       "      <td>-121.435768</td>\n",
       "      <td>0</td>\n",
       "    </tr>\n",
       "    <tr>\n",
       "      <th>5828 PEPPERMILL CT</th>\n",
       "      <td>SACRAMENTO</td>\n",
       "      <td>95841</td>\n",
       "      <td>CA</td>\n",
       "      <td>3</td>\n",
       "      <td>1</td>\n",
       "      <td>1122</td>\n",
       "      <td>Condo</td>\n",
       "      <td>Wed May 21 00:00:00 EDT 2008</td>\n",
       "      <td>89921</td>\n",
       "      <td>38.662595</td>\n",
       "      <td>-121.327813</td>\n",
       "      <td>0</td>\n",
       "    </tr>\n",
       "    <tr>\n",
       "      <th>6048 OGDEN NASH WAY</th>\n",
       "      <td>SACRAMENTO</td>\n",
       "      <td>95842</td>\n",
       "      <td>CA</td>\n",
       "      <td>3</td>\n",
       "      <td>2</td>\n",
       "      <td>1104</td>\n",
       "      <td>Residential</td>\n",
       "      <td>Wed May 21 00:00:00 EDT 2008</td>\n",
       "      <td>90895</td>\n",
       "      <td>38.681659</td>\n",
       "      <td>-121.351705</td>\n",
       "      <td>0</td>\n",
       "    </tr>\n",
       "    <tr>\n",
       "      <th>2561 19TH AVE</th>\n",
       "      <td>SACRAMENTO</td>\n",
       "      <td>95820</td>\n",
       "      <td>CA</td>\n",
       "      <td>3</td>\n",
       "      <td>1</td>\n",
       "      <td>1177</td>\n",
       "      <td>Residential</td>\n",
       "      <td>Wed May 21 00:00:00 EDT 2008</td>\n",
       "      <td>91002</td>\n",
       "      <td>38.535092</td>\n",
       "      <td>-121.481367</td>\n",
       "      <td>0</td>\n",
       "    </tr>\n",
       "    <tr>\n",
       "      <th>11150 TRINITY RIVER DR Unit 114</th>\n",
       "      <td>RANCHO CORDOVA</td>\n",
       "      <td>95670</td>\n",
       "      <td>CA</td>\n",
       "      <td>2</td>\n",
       "      <td>2</td>\n",
       "      <td>941</td>\n",
       "      <td>Condo</td>\n",
       "      <td>Wed May 21 00:00:00 EDT 2008</td>\n",
       "      <td>94905</td>\n",
       "      <td>38.621188</td>\n",
       "      <td>-121.270555</td>\n",
       "      <td>0</td>\n",
       "    </tr>\n",
       "    <tr>\n",
       "      <th>7325 10TH ST</th>\n",
       "      <td>RIO LINDA</td>\n",
       "      <td>95673</td>\n",
       "      <td>CA</td>\n",
       "      <td>3</td>\n",
       "      <td>2</td>\n",
       "      <td>1146</td>\n",
       "      <td>Residential</td>\n",
       "      <td>Wed May 21 00:00:00 EDT 2008</td>\n",
       "      <td>98937</td>\n",
       "      <td>38.700909</td>\n",
       "      <td>-121.442979</td>\n",
       "      <td>0</td>\n",
       "    </tr>\n",
       "    <tr>\n",
       "      <th>645 MORRISON AVE</th>\n",
       "      <td>SACRAMENTO</td>\n",
       "      <td>95838</td>\n",
       "      <td>CA</td>\n",
       "      <td>3</td>\n",
       "      <td>2</td>\n",
       "      <td>909</td>\n",
       "      <td>Residential</td>\n",
       "      <td>Wed May 21 00:00:00 EDT 2008</td>\n",
       "      <td>100309</td>\n",
       "      <td>38.637663</td>\n",
       "      <td>-121.451520</td>\n",
       "      <td>0</td>\n",
       "    </tr>\n",
       "    <tr>\n",
       "      <th>4085 FAWN CIR</th>\n",
       "      <td>SACRAMENTO</td>\n",
       "      <td>95823</td>\n",
       "      <td>CA</td>\n",
       "      <td>3</td>\n",
       "      <td>2</td>\n",
       "      <td>1289</td>\n",
       "      <td>Residential</td>\n",
       "      <td>Wed May 21 00:00:00 EDT 2008</td>\n",
       "      <td>106250</td>\n",
       "      <td>38.470746</td>\n",
       "      <td>-121.458918</td>\n",
       "      <td>0</td>\n",
       "    </tr>\n",
       "    <tr>\n",
       "      <th>2930 LA ROSA RD</th>\n",
       "      <td>SACRAMENTO</td>\n",
       "      <td>95815</td>\n",
       "      <td>CA</td>\n",
       "      <td>1</td>\n",
       "      <td>1</td>\n",
       "      <td>871</td>\n",
       "      <td>Residential</td>\n",
       "      <td>Wed May 21 00:00:00 EDT 2008</td>\n",
       "      <td>106852</td>\n",
       "      <td>38.618698</td>\n",
       "      <td>-121.435833</td>\n",
       "      <td>0</td>\n",
       "    </tr>\n",
       "    <tr>\n",
       "      <th>2113 KIRK WAY</th>\n",
       "      <td>SACRAMENTO</td>\n",
       "      <td>95822</td>\n",
       "      <td>CA</td>\n",
       "      <td>3</td>\n",
       "      <td>1</td>\n",
       "      <td>1020</td>\n",
       "      <td>Residential</td>\n",
       "      <td>Wed May 21 00:00:00 EDT 2008</td>\n",
       "      <td>107502</td>\n",
       "      <td>38.482215</td>\n",
       "      <td>-121.492603</td>\n",
       "      <td>0</td>\n",
       "    </tr>\n",
       "    <tr>\n",
       "      <th>4533 LOCH HAVEN WAY</th>\n",
       "      <td>SACRAMENTO</td>\n",
       "      <td>95842</td>\n",
       "      <td>CA</td>\n",
       "      <td>2</td>\n",
       "      <td>2</td>\n",
       "      <td>1022</td>\n",
       "      <td>Residential</td>\n",
       "      <td>Wed May 21 00:00:00 EDT 2008</td>\n",
       "      <td>108750</td>\n",
       "      <td>38.672914</td>\n",
       "      <td>-121.359340</td>\n",
       "      <td>0</td>\n",
       "    </tr>\n",
       "    <tr>\n",
       "      <th>7340 HAMDEN PL</th>\n",
       "      <td>SACRAMENTO</td>\n",
       "      <td>95842</td>\n",
       "      <td>CA</td>\n",
       "      <td>2</td>\n",
       "      <td>2</td>\n",
       "      <td>1134</td>\n",
       "      <td>Condo</td>\n",
       "      <td>Wed May 21 00:00:00 EDT 2008</td>\n",
       "      <td>110700</td>\n",
       "      <td>38.700051</td>\n",
       "      <td>-121.351278</td>\n",
       "      <td>0</td>\n",
       "    </tr>\n",
       "    <tr>\n",
       "      <th>6715 6TH ST</th>\n",
       "      <td>RIO LINDA</td>\n",
       "      <td>95673</td>\n",
       "      <td>CA</td>\n",
       "      <td>2</td>\n",
       "      <td>1</td>\n",
       "      <td>844</td>\n",
       "      <td>Residential</td>\n",
       "      <td>Wed May 21 00:00:00 EDT 2008</td>\n",
       "      <td>113263</td>\n",
       "      <td>38.689591</td>\n",
       "      <td>-121.452239</td>\n",
       "      <td>0</td>\n",
       "    </tr>\n",
       "    <tr>\n",
       "      <th>6236 LONGFORD DR Unit 1</th>\n",
       "      <td>CITRUS HEIGHTS</td>\n",
       "      <td>95621</td>\n",
       "      <td>CA</td>\n",
       "      <td>2</td>\n",
       "      <td>1</td>\n",
       "      <td>795</td>\n",
       "      <td>Condo</td>\n",
       "      <td>Wed May 21 00:00:00 EDT 2008</td>\n",
       "      <td>116250</td>\n",
       "      <td>38.679776</td>\n",
       "      <td>-121.314089</td>\n",
       "      <td>0</td>\n",
       "    </tr>\n",
       "    <tr>\n",
       "      <th>250 PERALTA AVE</th>\n",
       "      <td>SACRAMENTO</td>\n",
       "      <td>95833</td>\n",
       "      <td>CA</td>\n",
       "      <td>2</td>\n",
       "      <td>1</td>\n",
       "      <td>588</td>\n",
       "      <td>Residential</td>\n",
       "      <td>Wed May 21 00:00:00 EDT 2008</td>\n",
       "      <td>120000</td>\n",
       "      <td>38.612099</td>\n",
       "      <td>-121.469095</td>\n",
       "      <td>0</td>\n",
       "    </tr>\n",
       "    <tr>\n",
       "      <th>113 LEEWILL AVE</th>\n",
       "      <td>RIO LINDA</td>\n",
       "      <td>95673</td>\n",
       "      <td>CA</td>\n",
       "      <td>3</td>\n",
       "      <td>2</td>\n",
       "      <td>1356</td>\n",
       "      <td>Residential</td>\n",
       "      <td>Wed May 21 00:00:00 EDT 2008</td>\n",
       "      <td>121630</td>\n",
       "      <td>38.689999</td>\n",
       "      <td>-121.463220</td>\n",
       "      <td>0</td>\n",
       "    </tr>\n",
       "    <tr>\n",
       "      <th>6118 STONEHAND AVE</th>\n",
       "      <td>CITRUS HEIGHTS</td>\n",
       "      <td>95621</td>\n",
       "      <td>CA</td>\n",
       "      <td>3</td>\n",
       "      <td>2</td>\n",
       "      <td>1118</td>\n",
       "      <td>Residential</td>\n",
       "      <td>Wed May 21 00:00:00 EDT 2008</td>\n",
       "      <td>122000</td>\n",
       "      <td>38.707851</td>\n",
       "      <td>-121.320707</td>\n",
       "      <td>0</td>\n",
       "    </tr>\n",
       "    <tr>\n",
       "      <th>4882 BANDALIN WAY</th>\n",
       "      <td>SACRAMENTO</td>\n",
       "      <td>95823</td>\n",
       "      <td>CA</td>\n",
       "      <td>4</td>\n",
       "      <td>2</td>\n",
       "      <td>1329</td>\n",
       "      <td>Residential</td>\n",
       "      <td>Wed May 21 00:00:00 EDT 2008</td>\n",
       "      <td>122682</td>\n",
       "      <td>38.468173</td>\n",
       "      <td>-121.444071</td>\n",
       "      <td>0</td>\n",
       "    </tr>\n",
       "    <tr>\n",
       "      <th>7511 OAKVALE CT</th>\n",
       "      <td>NORTH HIGHLANDS</td>\n",
       "      <td>95660</td>\n",
       "      <td>CA</td>\n",
       "      <td>4</td>\n",
       "      <td>2</td>\n",
       "      <td>1240</td>\n",
       "      <td>Residential</td>\n",
       "      <td>Wed May 21 00:00:00 EDT 2008</td>\n",
       "      <td>123000</td>\n",
       "      <td>38.702792</td>\n",
       "      <td>-121.382210</td>\n",
       "      <td>0</td>\n",
       "    </tr>\n",
       "    <tr>\n",
       "      <th>9 PASTURE CT</th>\n",
       "      <td>SACRAMENTO</td>\n",
       "      <td>95834</td>\n",
       "      <td>CA</td>\n",
       "      <td>3</td>\n",
       "      <td>2</td>\n",
       "      <td>1601</td>\n",
       "      <td>Residential</td>\n",
       "      <td>Wed May 21 00:00:00 EDT 2008</td>\n",
       "      <td>124100</td>\n",
       "      <td>38.628631</td>\n",
       "      <td>-121.488097</td>\n",
       "      <td>0</td>\n",
       "    </tr>\n",
       "    <tr>\n",
       "      <th>3729 BAINBRIDGE DR</th>\n",
       "      <td>NORTH HIGHLANDS</td>\n",
       "      <td>95660</td>\n",
       "      <td>CA</td>\n",
       "      <td>3</td>\n",
       "      <td>2</td>\n",
       "      <td>901</td>\n",
       "      <td>Residential</td>\n",
       "      <td>Wed May 21 00:00:00 EDT 2008</td>\n",
       "      <td>125000</td>\n",
       "      <td>38.701499</td>\n",
       "      <td>-121.376220</td>\n",
       "      <td>0</td>\n",
       "    </tr>\n",
       "    <tr>\n",
       "      <th>3828 BLACKFOOT WAY</th>\n",
       "      <td>ANTELOPE</td>\n",
       "      <td>95843</td>\n",
       "      <td>CA</td>\n",
       "      <td>3</td>\n",
       "      <td>2</td>\n",
       "      <td>1088</td>\n",
       "      <td>Residential</td>\n",
       "      <td>Wed May 21 00:00:00 EDT 2008</td>\n",
       "      <td>126640</td>\n",
       "      <td>38.709740</td>\n",
       "      <td>-121.373770</td>\n",
       "      <td>0</td>\n",
       "    </tr>\n",
       "    <tr>\n",
       "      <th>4108 NORTON WAY</th>\n",
       "      <td>SACRAMENTO</td>\n",
       "      <td>95820</td>\n",
       "      <td>CA</td>\n",
       "      <td>3</td>\n",
       "      <td>1</td>\n",
       "      <td>963</td>\n",
       "      <td>Residential</td>\n",
       "      <td>Wed May 21 00:00:00 EDT 2008</td>\n",
       "      <td>127281</td>\n",
       "      <td>38.537526</td>\n",
       "      <td>-121.478315</td>\n",
       "      <td>0</td>\n",
       "    </tr>\n",
       "    <tr>\n",
       "      <th>1469 JANRICK AVE</th>\n",
       "      <td>SACRAMENTO</td>\n",
       "      <td>95832</td>\n",
       "      <td>CA</td>\n",
       "      <td>3</td>\n",
       "      <td>2</td>\n",
       "      <td>1119</td>\n",
       "      <td>Residential</td>\n",
       "      <td>Wed May 21 00:00:00 EDT 2008</td>\n",
       "      <td>129000</td>\n",
       "      <td>38.476472</td>\n",
       "      <td>-121.501711</td>\n",
       "      <td>0</td>\n",
       "    </tr>\n",
       "    <tr>\n",
       "      <th>9861 CULP WAY</th>\n",
       "      <td>SACRAMENTO</td>\n",
       "      <td>95827</td>\n",
       "      <td>CA</td>\n",
       "      <td>4</td>\n",
       "      <td>2</td>\n",
       "      <td>1380</td>\n",
       "      <td>Residential</td>\n",
       "      <td>Wed May 21 00:00:00 EDT 2008</td>\n",
       "      <td>131200</td>\n",
       "      <td>38.558423</td>\n",
       "      <td>-121.327948</td>\n",
       "      <td>0</td>\n",
       "    </tr>\n",
       "    <tr>\n",
       "      <th>7825 CREEK VALLEY CIR</th>\n",
       "      <td>SACRAMENTO</td>\n",
       "      <td>95828</td>\n",
       "      <td>CA</td>\n",
       "      <td>3</td>\n",
       "      <td>2</td>\n",
       "      <td>1248</td>\n",
       "      <td>Residential</td>\n",
       "      <td>Wed May 21 00:00:00 EDT 2008</td>\n",
       "      <td>132000</td>\n",
       "      <td>38.472122</td>\n",
       "      <td>-121.404199</td>\n",
       "      <td>0</td>\n",
       "    </tr>\n",
       "    <tr>\n",
       "      <th>...</th>\n",
       "      <td>...</td>\n",
       "      <td>...</td>\n",
       "      <td>...</td>\n",
       "      <td>...</td>\n",
       "      <td>...</td>\n",
       "      <td>...</td>\n",
       "      <td>...</td>\n",
       "      <td>...</td>\n",
       "      <td>...</td>\n",
       "      <td>...</td>\n",
       "      <td>...</td>\n",
       "      <td>...</td>\n",
       "    </tr>\n",
       "    <tr>\n",
       "      <th>2100 BEATTY WAY</th>\n",
       "      <td>ROSEVILLE</td>\n",
       "      <td>95747</td>\n",
       "      <td>CA</td>\n",
       "      <td>3</td>\n",
       "      <td>2</td>\n",
       "      <td>1371</td>\n",
       "      <td>Residential</td>\n",
       "      <td>Thu May 15 00:00:00 EDT 2008</td>\n",
       "      <td>208250</td>\n",
       "      <td>38.737882</td>\n",
       "      <td>-121.308142</td>\n",
       "      <td>0</td>\n",
       "    </tr>\n",
       "    <tr>\n",
       "      <th>6920 GILLINGHAM WAY</th>\n",
       "      <td>NORTH HIGHLANDS</td>\n",
       "      <td>95660</td>\n",
       "      <td>CA</td>\n",
       "      <td>3</td>\n",
       "      <td>1</td>\n",
       "      <td>1310</td>\n",
       "      <td>Residential</td>\n",
       "      <td>Thu May 15 00:00:00 EDT 2008</td>\n",
       "      <td>208318</td>\n",
       "      <td>38.694279</td>\n",
       "      <td>-121.373395</td>\n",
       "      <td>0</td>\n",
       "    </tr>\n",
       "    <tr>\n",
       "      <th>82 WILDFLOWER DR</th>\n",
       "      <td>GALT</td>\n",
       "      <td>95632</td>\n",
       "      <td>CA</td>\n",
       "      <td>3</td>\n",
       "      <td>2</td>\n",
       "      <td>1262</td>\n",
       "      <td>Residential</td>\n",
       "      <td>Thu May 15 00:00:00 EDT 2008</td>\n",
       "      <td>209347</td>\n",
       "      <td>38.259708</td>\n",
       "      <td>-121.311616</td>\n",
       "      <td>1</td>\n",
       "    </tr>\n",
       "    <tr>\n",
       "      <th>8652 BANTON CIR</th>\n",
       "      <td>ELK GROVE</td>\n",
       "      <td>95624</td>\n",
       "      <td>CA</td>\n",
       "      <td>4</td>\n",
       "      <td>2</td>\n",
       "      <td>1740</td>\n",
       "      <td>Residential</td>\n",
       "      <td>Thu May 15 00:00:00 EDT 2008</td>\n",
       "      <td>211500</td>\n",
       "      <td>38.444000</td>\n",
       "      <td>-121.370993</td>\n",
       "      <td>0</td>\n",
       "    </tr>\n",
       "    <tr>\n",
       "      <th>8428 MISTY PASS WAY</th>\n",
       "      <td>ANTELOPE</td>\n",
       "      <td>95843</td>\n",
       "      <td>CA</td>\n",
       "      <td>3</td>\n",
       "      <td>2</td>\n",
       "      <td>1517</td>\n",
       "      <td>Residential</td>\n",
       "      <td>Thu May 15 00:00:00 EDT 2008</td>\n",
       "      <td>212000</td>\n",
       "      <td>38.722959</td>\n",
       "      <td>-121.347115</td>\n",
       "      <td>0</td>\n",
       "    </tr>\n",
       "    <tr>\n",
       "      <th>7958 ROSEVIEW WAY</th>\n",
       "      <td>SACRAMENTO</td>\n",
       "      <td>95828</td>\n",
       "      <td>CA</td>\n",
       "      <td>3</td>\n",
       "      <td>2</td>\n",
       "      <td>1450</td>\n",
       "      <td>Residential</td>\n",
       "      <td>Thu May 15 00:00:00 EDT 2008</td>\n",
       "      <td>213000</td>\n",
       "      <td>38.467836</td>\n",
       "      <td>-121.410366</td>\n",
       "      <td>0</td>\n",
       "    </tr>\n",
       "    <tr>\n",
       "      <th>9020 LUKEN CT</th>\n",
       "      <td>ELK GROVE</td>\n",
       "      <td>95624</td>\n",
       "      <td>CA</td>\n",
       "      <td>3</td>\n",
       "      <td>2</td>\n",
       "      <td>1416</td>\n",
       "      <td>Residential</td>\n",
       "      <td>Thu May 15 00:00:00 EDT 2008</td>\n",
       "      <td>216000</td>\n",
       "      <td>38.451398</td>\n",
       "      <td>-121.366614</td>\n",
       "      <td>0</td>\n",
       "    </tr>\n",
       "    <tr>\n",
       "      <th>7809 VALLECITOS WAY</th>\n",
       "      <td>SACRAMENTO</td>\n",
       "      <td>95828</td>\n",
       "      <td>CA</td>\n",
       "      <td>3</td>\n",
       "      <td>1</td>\n",
       "      <td>888</td>\n",
       "      <td>Residential</td>\n",
       "      <td>Thu May 15 00:00:00 EDT 2008</td>\n",
       "      <td>216021</td>\n",
       "      <td>38.508217</td>\n",
       "      <td>-121.411207</td>\n",
       "      <td>0</td>\n",
       "    </tr>\n",
       "    <tr>\n",
       "      <th>8445 OLD AUBURN RD</th>\n",
       "      <td>CITRUS HEIGHTS</td>\n",
       "      <td>95610</td>\n",
       "      <td>CA</td>\n",
       "      <td>3</td>\n",
       "      <td>2</td>\n",
       "      <td>1882</td>\n",
       "      <td>Residential</td>\n",
       "      <td>Thu May 15 00:00:00 EDT 2008</td>\n",
       "      <td>219000</td>\n",
       "      <td>38.715423</td>\n",
       "      <td>-121.246743</td>\n",
       "      <td>0</td>\n",
       "    </tr>\n",
       "    <tr>\n",
       "      <th>10085 ATKINS DR</th>\n",
       "      <td>ELK GROVE</td>\n",
       "      <td>95757</td>\n",
       "      <td>CA</td>\n",
       "      <td>3</td>\n",
       "      <td>2</td>\n",
       "      <td>1302</td>\n",
       "      <td>Residential</td>\n",
       "      <td>Thu May 15 00:00:00 EDT 2008</td>\n",
       "      <td>219794</td>\n",
       "      <td>38.390893</td>\n",
       "      <td>-121.437821</td>\n",
       "      <td>0</td>\n",
       "    </tr>\n",
       "    <tr>\n",
       "      <th>9185 CERROLINDA CIR</th>\n",
       "      <td>ELK GROVE</td>\n",
       "      <td>95758</td>\n",
       "      <td>CA</td>\n",
       "      <td>3</td>\n",
       "      <td>2</td>\n",
       "      <td>1418</td>\n",
       "      <td>Residential</td>\n",
       "      <td>Thu May 15 00:00:00 EDT 2008</td>\n",
       "      <td>220000</td>\n",
       "      <td>38.424497</td>\n",
       "      <td>-121.426595</td>\n",
       "      <td>0</td>\n",
       "    </tr>\n",
       "    <tr>\n",
       "      <th>9197 CORTINA CIR</th>\n",
       "      <td>ROSEVILLE</td>\n",
       "      <td>95678</td>\n",
       "      <td>CA</td>\n",
       "      <td>3</td>\n",
       "      <td>2</td>\n",
       "      <td>0</td>\n",
       "      <td>Condo</td>\n",
       "      <td>Thu May 15 00:00:00 EDT 2008</td>\n",
       "      <td>220000</td>\n",
       "      <td>38.793152</td>\n",
       "      <td>-121.290025</td>\n",
       "      <td>0</td>\n",
       "    </tr>\n",
       "    <tr>\n",
       "      <th>5429 HESPER WAY</th>\n",
       "      <td>CARMICHAEL</td>\n",
       "      <td>95608</td>\n",
       "      <td>CA</td>\n",
       "      <td>4</td>\n",
       "      <td>2</td>\n",
       "      <td>1319</td>\n",
       "      <td>Residential</td>\n",
       "      <td>Thu May 15 00:00:00 EDT 2008</td>\n",
       "      <td>220000</td>\n",
       "      <td>38.665104</td>\n",
       "      <td>-121.315901</td>\n",
       "      <td>0</td>\n",
       "    </tr>\n",
       "    <tr>\n",
       "      <th>1178 WARMWOOD CT</th>\n",
       "      <td>GALT</td>\n",
       "      <td>95632</td>\n",
       "      <td>CA</td>\n",
       "      <td>4</td>\n",
       "      <td>2</td>\n",
       "      <td>1770</td>\n",
       "      <td>Residential</td>\n",
       "      <td>Thu May 15 00:00:00 EDT 2008</td>\n",
       "      <td>220000</td>\n",
       "      <td>38.289544</td>\n",
       "      <td>-121.284607</td>\n",
       "      <td>1</td>\n",
       "    </tr>\n",
       "    <tr>\n",
       "      <th>4900 ELUDE CT</th>\n",
       "      <td>SACRAMENTO</td>\n",
       "      <td>95842</td>\n",
       "      <td>CA</td>\n",
       "      <td>4</td>\n",
       "      <td>2</td>\n",
       "      <td>1627</td>\n",
       "      <td>Residential</td>\n",
       "      <td>Thu May 15 00:00:00 EDT 2008</td>\n",
       "      <td>223000</td>\n",
       "      <td>38.696740</td>\n",
       "      <td>-121.350519</td>\n",
       "      <td>0</td>\n",
       "    </tr>\n",
       "    <tr>\n",
       "      <th>3557 SODA WAY</th>\n",
       "      <td>SACRAMENTO</td>\n",
       "      <td>95834</td>\n",
       "      <td>CA</td>\n",
       "      <td>0</td>\n",
       "      <td>0</td>\n",
       "      <td>0</td>\n",
       "      <td>Residential</td>\n",
       "      <td>Thu May 15 00:00:00 EDT 2008</td>\n",
       "      <td>224000</td>\n",
       "      <td>38.631026</td>\n",
       "      <td>-121.501879</td>\n",
       "      <td>0</td>\n",
       "    </tr>\n",
       "    <tr>\n",
       "      <th>3528 SAINT GEORGE DR</th>\n",
       "      <td>SACRAMENTO</td>\n",
       "      <td>95821</td>\n",
       "      <td>CA</td>\n",
       "      <td>3</td>\n",
       "      <td>1</td>\n",
       "      <td>1040</td>\n",
       "      <td>Residential</td>\n",
       "      <td>Thu May 15 00:00:00 EDT 2008</td>\n",
       "      <td>224000</td>\n",
       "      <td>38.629468</td>\n",
       "      <td>-121.376445</td>\n",
       "      <td>0</td>\n",
       "    </tr>\n",
       "    <tr>\n",
       "      <th>7381 WASHBURN WAY</th>\n",
       "      <td>NORTH HIGHLANDS</td>\n",
       "      <td>95660</td>\n",
       "      <td>CA</td>\n",
       "      <td>3</td>\n",
       "      <td>1</td>\n",
       "      <td>960</td>\n",
       "      <td>Residential</td>\n",
       "      <td>Thu May 15 00:00:00 EDT 2008</td>\n",
       "      <td>224252</td>\n",
       "      <td>38.703550</td>\n",
       "      <td>-121.375103</td>\n",
       "      <td>0</td>\n",
       "    </tr>\n",
       "    <tr>\n",
       "      <th>2181 WINTERHAVEN CIR</th>\n",
       "      <td>CAMERON PARK</td>\n",
       "      <td>95682</td>\n",
       "      <td>CA</td>\n",
       "      <td>3</td>\n",
       "      <td>2</td>\n",
       "      <td>0</td>\n",
       "      <td>Residential</td>\n",
       "      <td>Thu May 15 00:00:00 EDT 2008</td>\n",
       "      <td>224500</td>\n",
       "      <td>38.697570</td>\n",
       "      <td>-120.995739</td>\n",
       "      <td>0</td>\n",
       "    </tr>\n",
       "    <tr>\n",
       "      <th>7540 HICKORY AVE</th>\n",
       "      <td>ORANGEVALE</td>\n",
       "      <td>95662</td>\n",
       "      <td>CA</td>\n",
       "      <td>3</td>\n",
       "      <td>1</td>\n",
       "      <td>1456</td>\n",
       "      <td>Residential</td>\n",
       "      <td>Thu May 15 00:00:00 EDT 2008</td>\n",
       "      <td>225000</td>\n",
       "      <td>38.703056</td>\n",
       "      <td>-121.235221</td>\n",
       "      <td>0</td>\n",
       "    </tr>\n",
       "    <tr>\n",
       "      <th>5024 CHAMBERLIN CIR</th>\n",
       "      <td>ELK GROVE</td>\n",
       "      <td>95757</td>\n",
       "      <td>CA</td>\n",
       "      <td>3</td>\n",
       "      <td>2</td>\n",
       "      <td>1450</td>\n",
       "      <td>Residential</td>\n",
       "      <td>Thu May 15 00:00:00 EDT 2008</td>\n",
       "      <td>228000</td>\n",
       "      <td>38.389756</td>\n",
       "      <td>-121.446246</td>\n",
       "      <td>0</td>\n",
       "    </tr>\n",
       "    <tr>\n",
       "      <th>2400 INVERNESS DR</th>\n",
       "      <td>LINCOLN</td>\n",
       "      <td>95648</td>\n",
       "      <td>CA</td>\n",
       "      <td>3</td>\n",
       "      <td>2</td>\n",
       "      <td>1358</td>\n",
       "      <td>Residential</td>\n",
       "      <td>Thu May 15 00:00:00 EDT 2008</td>\n",
       "      <td>229027</td>\n",
       "      <td>38.897814</td>\n",
       "      <td>-121.324691</td>\n",
       "      <td>0</td>\n",
       "    </tr>\n",
       "    <tr>\n",
       "      <th>5 BISHOPGATE CT</th>\n",
       "      <td>SACRAMENTO</td>\n",
       "      <td>95823</td>\n",
       "      <td>CA</td>\n",
       "      <td>4</td>\n",
       "      <td>2</td>\n",
       "      <td>1329</td>\n",
       "      <td>Residential</td>\n",
       "      <td>Thu May 15 00:00:00 EDT 2008</td>\n",
       "      <td>229500</td>\n",
       "      <td>38.467936</td>\n",
       "      <td>-121.445477</td>\n",
       "      <td>0</td>\n",
       "    </tr>\n",
       "    <tr>\n",
       "      <th>5601 REXLEIGH DR</th>\n",
       "      <td>SACRAMENTO</td>\n",
       "      <td>95823</td>\n",
       "      <td>CA</td>\n",
       "      <td>4</td>\n",
       "      <td>2</td>\n",
       "      <td>1715</td>\n",
       "      <td>Residential</td>\n",
       "      <td>Thu May 15 00:00:00 EDT 2008</td>\n",
       "      <td>230000</td>\n",
       "      <td>38.445342</td>\n",
       "      <td>-121.441504</td>\n",
       "      <td>0</td>\n",
       "    </tr>\n",
       "    <tr>\n",
       "      <th>1909 YARNELL WAY</th>\n",
       "      <td>ELK GROVE</td>\n",
       "      <td>95758</td>\n",
       "      <td>CA</td>\n",
       "      <td>3</td>\n",
       "      <td>2</td>\n",
       "      <td>1262</td>\n",
       "      <td>Residential</td>\n",
       "      <td>Thu May 15 00:00:00 EDT 2008</td>\n",
       "      <td>230000</td>\n",
       "      <td>38.417382</td>\n",
       "      <td>-121.484325</td>\n",
       "      <td>0</td>\n",
       "    </tr>\n",
       "    <tr>\n",
       "      <th>9169 GARLINGTON CT</th>\n",
       "      <td>SACRAMENTO</td>\n",
       "      <td>95829</td>\n",
       "      <td>CA</td>\n",
       "      <td>4</td>\n",
       "      <td>3</td>\n",
       "      <td>2280</td>\n",
       "      <td>Residential</td>\n",
       "      <td>Thu May 15 00:00:00 EDT 2008</td>\n",
       "      <td>232425</td>\n",
       "      <td>38.457679</td>\n",
       "      <td>-121.359620</td>\n",
       "      <td>0</td>\n",
       "    </tr>\n",
       "    <tr>\n",
       "      <th>6932 RUSKUT WAY</th>\n",
       "      <td>SACRAMENTO</td>\n",
       "      <td>95823</td>\n",
       "      <td>CA</td>\n",
       "      <td>3</td>\n",
       "      <td>2</td>\n",
       "      <td>1477</td>\n",
       "      <td>Residential</td>\n",
       "      <td>Thu May 15 00:00:00 EDT 2008</td>\n",
       "      <td>234000</td>\n",
       "      <td>38.499893</td>\n",
       "      <td>-121.458890</td>\n",
       "      <td>0</td>\n",
       "    </tr>\n",
       "    <tr>\n",
       "      <th>7933 DAFFODIL WAY</th>\n",
       "      <td>CITRUS HEIGHTS</td>\n",
       "      <td>95610</td>\n",
       "      <td>CA</td>\n",
       "      <td>3</td>\n",
       "      <td>2</td>\n",
       "      <td>1216</td>\n",
       "      <td>Residential</td>\n",
       "      <td>Thu May 15 00:00:00 EDT 2008</td>\n",
       "      <td>235000</td>\n",
       "      <td>38.708824</td>\n",
       "      <td>-121.256803</td>\n",
       "      <td>0</td>\n",
       "    </tr>\n",
       "    <tr>\n",
       "      <th>8304 RED FOX WAY</th>\n",
       "      <td>ELK GROVE</td>\n",
       "      <td>95758</td>\n",
       "      <td>CA</td>\n",
       "      <td>4</td>\n",
       "      <td>2</td>\n",
       "      <td>1685</td>\n",
       "      <td>Residential</td>\n",
       "      <td>Thu May 15 00:00:00 EDT 2008</td>\n",
       "      <td>235301</td>\n",
       "      <td>38.417000</td>\n",
       "      <td>-121.397424</td>\n",
       "      <td>0</td>\n",
       "    </tr>\n",
       "    <tr>\n",
       "      <th>3882 YELLOWSTONE LN</th>\n",
       "      <td>EL DORADO HILLS</td>\n",
       "      <td>95762</td>\n",
       "      <td>CA</td>\n",
       "      <td>3</td>\n",
       "      <td>2</td>\n",
       "      <td>1362</td>\n",
       "      <td>Residential</td>\n",
       "      <td>Thu May 15 00:00:00 EDT 2008</td>\n",
       "      <td>235738</td>\n",
       "      <td>38.655245</td>\n",
       "      <td>-121.075915</td>\n",
       "      <td>0</td>\n",
       "    </tr>\n",
       "  </tbody>\n",
       "</table>\n",
       "<p>985 rows × 12 columns</p>\n",
       "</div>"
      ],
      "text/plain": [
       "                                            city    zip state  beds  baths  \\\n",
       "street                                                                       \n",
       "3526 HIGH ST                          SACRAMENTO  95838    CA     2      1   \n",
       "51 OMAHA CT                           SACRAMENTO  95823    CA     3      1   \n",
       "2796 BRANCH ST                        SACRAMENTO  95815    CA     2      1   \n",
       "2805 JANETTE WAY                      SACRAMENTO  95815    CA     2      1   \n",
       "6001 MCMAHON DR                       SACRAMENTO  95824    CA     2      1   \n",
       "5828 PEPPERMILL CT                    SACRAMENTO  95841    CA     3      1   \n",
       "6048 OGDEN NASH WAY                   SACRAMENTO  95842    CA     3      2   \n",
       "2561 19TH AVE                         SACRAMENTO  95820    CA     3      1   \n",
       "11150 TRINITY RIVER DR Unit 114   RANCHO CORDOVA  95670    CA     2      2   \n",
       "7325 10TH ST                           RIO LINDA  95673    CA     3      2   \n",
       "645 MORRISON AVE                      SACRAMENTO  95838    CA     3      2   \n",
       "4085 FAWN CIR                         SACRAMENTO  95823    CA     3      2   \n",
       "2930 LA ROSA RD                       SACRAMENTO  95815    CA     1      1   \n",
       "2113 KIRK WAY                         SACRAMENTO  95822    CA     3      1   \n",
       "4533 LOCH HAVEN WAY                   SACRAMENTO  95842    CA     2      2   \n",
       "7340 HAMDEN PL                        SACRAMENTO  95842    CA     2      2   \n",
       "6715 6TH ST                            RIO LINDA  95673    CA     2      1   \n",
       "6236 LONGFORD DR Unit 1           CITRUS HEIGHTS  95621    CA     2      1   \n",
       "250 PERALTA AVE                       SACRAMENTO  95833    CA     2      1   \n",
       "113 LEEWILL AVE                        RIO LINDA  95673    CA     3      2   \n",
       "6118 STONEHAND AVE                CITRUS HEIGHTS  95621    CA     3      2   \n",
       "4882 BANDALIN WAY                     SACRAMENTO  95823    CA     4      2   \n",
       "7511 OAKVALE CT                  NORTH HIGHLANDS  95660    CA     4      2   \n",
       "9 PASTURE CT                          SACRAMENTO  95834    CA     3      2   \n",
       "3729 BAINBRIDGE DR               NORTH HIGHLANDS  95660    CA     3      2   \n",
       "3828 BLACKFOOT WAY                      ANTELOPE  95843    CA     3      2   \n",
       "4108 NORTON WAY                       SACRAMENTO  95820    CA     3      1   \n",
       "1469 JANRICK AVE                      SACRAMENTO  95832    CA     3      2   \n",
       "9861 CULP WAY                         SACRAMENTO  95827    CA     4      2   \n",
       "7825 CREEK VALLEY CIR                 SACRAMENTO  95828    CA     3      2   \n",
       "...                                          ...    ...   ...   ...    ...   \n",
       "2100 BEATTY WAY                        ROSEVILLE  95747    CA     3      2   \n",
       "6920 GILLINGHAM WAY              NORTH HIGHLANDS  95660    CA     3      1   \n",
       "82 WILDFLOWER DR                            GALT  95632    CA     3      2   \n",
       "8652 BANTON CIR                        ELK GROVE  95624    CA     4      2   \n",
       "8428 MISTY PASS WAY                     ANTELOPE  95843    CA     3      2   \n",
       "7958 ROSEVIEW WAY                     SACRAMENTO  95828    CA     3      2   \n",
       "9020 LUKEN CT                          ELK GROVE  95624    CA     3      2   \n",
       "7809 VALLECITOS WAY                   SACRAMENTO  95828    CA     3      1   \n",
       "8445 OLD AUBURN RD                CITRUS HEIGHTS  95610    CA     3      2   \n",
       "10085 ATKINS DR                        ELK GROVE  95757    CA     3      2   \n",
       "9185 CERROLINDA CIR                    ELK GROVE  95758    CA     3      2   \n",
       "9197 CORTINA CIR                       ROSEVILLE  95678    CA     3      2   \n",
       "5429 HESPER WAY                       CARMICHAEL  95608    CA     4      2   \n",
       "1178 WARMWOOD CT                            GALT  95632    CA     4      2   \n",
       "4900 ELUDE CT                         SACRAMENTO  95842    CA     4      2   \n",
       "3557 SODA WAY                         SACRAMENTO  95834    CA     0      0   \n",
       "3528 SAINT GEORGE DR                  SACRAMENTO  95821    CA     3      1   \n",
       "7381 WASHBURN WAY                NORTH HIGHLANDS  95660    CA     3      1   \n",
       "2181 WINTERHAVEN CIR                CAMERON PARK  95682    CA     3      2   \n",
       "7540 HICKORY AVE                      ORANGEVALE  95662    CA     3      1   \n",
       "5024 CHAMBERLIN CIR                    ELK GROVE  95757    CA     3      2   \n",
       "2400 INVERNESS DR                        LINCOLN  95648    CA     3      2   \n",
       "5 BISHOPGATE CT                       SACRAMENTO  95823    CA     4      2   \n",
       "5601 REXLEIGH DR                      SACRAMENTO  95823    CA     4      2   \n",
       "1909 YARNELL WAY                       ELK GROVE  95758    CA     3      2   \n",
       "9169 GARLINGTON CT                    SACRAMENTO  95829    CA     4      3   \n",
       "6932 RUSKUT WAY                       SACRAMENTO  95823    CA     3      2   \n",
       "7933 DAFFODIL WAY                 CITRUS HEIGHTS  95610    CA     3      2   \n",
       "8304 RED FOX WAY                       ELK GROVE  95758    CA     4      2   \n",
       "3882 YELLOWSTONE LN              EL DORADO HILLS  95762    CA     3      2   \n",
       "\n",
       "                                 sq__ft         type  \\\n",
       "street                                                 \n",
       "3526 HIGH ST                        836  Residential   \n",
       "51 OMAHA CT                        1167  Residential   \n",
       "2796 BRANCH ST                      796  Residential   \n",
       "2805 JANETTE WAY                    852  Residential   \n",
       "6001 MCMAHON DR                     797  Residential   \n",
       "5828 PEPPERMILL CT                 1122        Condo   \n",
       "6048 OGDEN NASH WAY                1104  Residential   \n",
       "2561 19TH AVE                      1177  Residential   \n",
       "11150 TRINITY RIVER DR Unit 114     941        Condo   \n",
       "7325 10TH ST                       1146  Residential   \n",
       "645 MORRISON AVE                    909  Residential   \n",
       "4085 FAWN CIR                      1289  Residential   \n",
       "2930 LA ROSA RD                     871  Residential   \n",
       "2113 KIRK WAY                      1020  Residential   \n",
       "4533 LOCH HAVEN WAY                1022  Residential   \n",
       "7340 HAMDEN PL                     1134        Condo   \n",
       "6715 6TH ST                         844  Residential   \n",
       "6236 LONGFORD DR Unit 1             795        Condo   \n",
       "250 PERALTA AVE                     588  Residential   \n",
       "113 LEEWILL AVE                    1356  Residential   \n",
       "6118 STONEHAND AVE                 1118  Residential   \n",
       "4882 BANDALIN WAY                  1329  Residential   \n",
       "7511 OAKVALE CT                    1240  Residential   \n",
       "9 PASTURE CT                       1601  Residential   \n",
       "3729 BAINBRIDGE DR                  901  Residential   \n",
       "3828 BLACKFOOT WAY                 1088  Residential   \n",
       "4108 NORTON WAY                     963  Residential   \n",
       "1469 JANRICK AVE                   1119  Residential   \n",
       "9861 CULP WAY                      1380  Residential   \n",
       "7825 CREEK VALLEY CIR              1248  Residential   \n",
       "...                                 ...          ...   \n",
       "2100 BEATTY WAY                    1371  Residential   \n",
       "6920 GILLINGHAM WAY                1310  Residential   \n",
       "82 WILDFLOWER DR                   1262  Residential   \n",
       "8652 BANTON CIR                    1740  Residential   \n",
       "8428 MISTY PASS WAY                1517  Residential   \n",
       "7958 ROSEVIEW WAY                  1450  Residential   \n",
       "9020 LUKEN CT                      1416  Residential   \n",
       "7809 VALLECITOS WAY                 888  Residential   \n",
       "8445 OLD AUBURN RD                 1882  Residential   \n",
       "10085 ATKINS DR                    1302  Residential   \n",
       "9185 CERROLINDA CIR                1418  Residential   \n",
       "9197 CORTINA CIR                      0        Condo   \n",
       "5429 HESPER WAY                    1319  Residential   \n",
       "1178 WARMWOOD CT                   1770  Residential   \n",
       "4900 ELUDE CT                      1627  Residential   \n",
       "3557 SODA WAY                         0  Residential   \n",
       "3528 SAINT GEORGE DR               1040  Residential   \n",
       "7381 WASHBURN WAY                   960  Residential   \n",
       "2181 WINTERHAVEN CIR                  0  Residential   \n",
       "7540 HICKORY AVE                   1456  Residential   \n",
       "5024 CHAMBERLIN CIR                1450  Residential   \n",
       "2400 INVERNESS DR                  1358  Residential   \n",
       "5 BISHOPGATE CT                    1329  Residential   \n",
       "5601 REXLEIGH DR                   1715  Residential   \n",
       "1909 YARNELL WAY                   1262  Residential   \n",
       "9169 GARLINGTON CT                 2280  Residential   \n",
       "6932 RUSKUT WAY                    1477  Residential   \n",
       "7933 DAFFODIL WAY                  1216  Residential   \n",
       "8304 RED FOX WAY                   1685  Residential   \n",
       "3882 YELLOWSTONE LN                1362  Residential   \n",
       "\n",
       "                                                    sale_date   price  \\\n",
       "street                                                                  \n",
       "3526 HIGH ST                     Wed May 21 00:00:00 EDT 2008   59222   \n",
       "51 OMAHA CT                      Wed May 21 00:00:00 EDT 2008   68212   \n",
       "2796 BRANCH ST                   Wed May 21 00:00:00 EDT 2008   68880   \n",
       "2805 JANETTE WAY                 Wed May 21 00:00:00 EDT 2008   69307   \n",
       "6001 MCMAHON DR                  Wed May 21 00:00:00 EDT 2008   81900   \n",
       "5828 PEPPERMILL CT               Wed May 21 00:00:00 EDT 2008   89921   \n",
       "6048 OGDEN NASH WAY              Wed May 21 00:00:00 EDT 2008   90895   \n",
       "2561 19TH AVE                    Wed May 21 00:00:00 EDT 2008   91002   \n",
       "11150 TRINITY RIVER DR Unit 114  Wed May 21 00:00:00 EDT 2008   94905   \n",
       "7325 10TH ST                     Wed May 21 00:00:00 EDT 2008   98937   \n",
       "645 MORRISON AVE                 Wed May 21 00:00:00 EDT 2008  100309   \n",
       "4085 FAWN CIR                    Wed May 21 00:00:00 EDT 2008  106250   \n",
       "2930 LA ROSA RD                  Wed May 21 00:00:00 EDT 2008  106852   \n",
       "2113 KIRK WAY                    Wed May 21 00:00:00 EDT 2008  107502   \n",
       "4533 LOCH HAVEN WAY              Wed May 21 00:00:00 EDT 2008  108750   \n",
       "7340 HAMDEN PL                   Wed May 21 00:00:00 EDT 2008  110700   \n",
       "6715 6TH ST                      Wed May 21 00:00:00 EDT 2008  113263   \n",
       "6236 LONGFORD DR Unit 1          Wed May 21 00:00:00 EDT 2008  116250   \n",
       "250 PERALTA AVE                  Wed May 21 00:00:00 EDT 2008  120000   \n",
       "113 LEEWILL AVE                  Wed May 21 00:00:00 EDT 2008  121630   \n",
       "6118 STONEHAND AVE               Wed May 21 00:00:00 EDT 2008  122000   \n",
       "4882 BANDALIN WAY                Wed May 21 00:00:00 EDT 2008  122682   \n",
       "7511 OAKVALE CT                  Wed May 21 00:00:00 EDT 2008  123000   \n",
       "9 PASTURE CT                     Wed May 21 00:00:00 EDT 2008  124100   \n",
       "3729 BAINBRIDGE DR               Wed May 21 00:00:00 EDT 2008  125000   \n",
       "3828 BLACKFOOT WAY               Wed May 21 00:00:00 EDT 2008  126640   \n",
       "4108 NORTON WAY                  Wed May 21 00:00:00 EDT 2008  127281   \n",
       "1469 JANRICK AVE                 Wed May 21 00:00:00 EDT 2008  129000   \n",
       "9861 CULP WAY                    Wed May 21 00:00:00 EDT 2008  131200   \n",
       "7825 CREEK VALLEY CIR            Wed May 21 00:00:00 EDT 2008  132000   \n",
       "...                                                       ...     ...   \n",
       "2100 BEATTY WAY                  Thu May 15 00:00:00 EDT 2008  208250   \n",
       "6920 GILLINGHAM WAY              Thu May 15 00:00:00 EDT 2008  208318   \n",
       "82 WILDFLOWER DR                 Thu May 15 00:00:00 EDT 2008  209347   \n",
       "8652 BANTON CIR                  Thu May 15 00:00:00 EDT 2008  211500   \n",
       "8428 MISTY PASS WAY              Thu May 15 00:00:00 EDT 2008  212000   \n",
       "7958 ROSEVIEW WAY                Thu May 15 00:00:00 EDT 2008  213000   \n",
       "9020 LUKEN CT                    Thu May 15 00:00:00 EDT 2008  216000   \n",
       "7809 VALLECITOS WAY              Thu May 15 00:00:00 EDT 2008  216021   \n",
       "8445 OLD AUBURN RD               Thu May 15 00:00:00 EDT 2008  219000   \n",
       "10085 ATKINS DR                  Thu May 15 00:00:00 EDT 2008  219794   \n",
       "9185 CERROLINDA CIR              Thu May 15 00:00:00 EDT 2008  220000   \n",
       "9197 CORTINA CIR                 Thu May 15 00:00:00 EDT 2008  220000   \n",
       "5429 HESPER WAY                  Thu May 15 00:00:00 EDT 2008  220000   \n",
       "1178 WARMWOOD CT                 Thu May 15 00:00:00 EDT 2008  220000   \n",
       "4900 ELUDE CT                    Thu May 15 00:00:00 EDT 2008  223000   \n",
       "3557 SODA WAY                    Thu May 15 00:00:00 EDT 2008  224000   \n",
       "3528 SAINT GEORGE DR             Thu May 15 00:00:00 EDT 2008  224000   \n",
       "7381 WASHBURN WAY                Thu May 15 00:00:00 EDT 2008  224252   \n",
       "2181 WINTERHAVEN CIR             Thu May 15 00:00:00 EDT 2008  224500   \n",
       "7540 HICKORY AVE                 Thu May 15 00:00:00 EDT 2008  225000   \n",
       "5024 CHAMBERLIN CIR              Thu May 15 00:00:00 EDT 2008  228000   \n",
       "2400 INVERNESS DR                Thu May 15 00:00:00 EDT 2008  229027   \n",
       "5 BISHOPGATE CT                  Thu May 15 00:00:00 EDT 2008  229500   \n",
       "5601 REXLEIGH DR                 Thu May 15 00:00:00 EDT 2008  230000   \n",
       "1909 YARNELL WAY                 Thu May 15 00:00:00 EDT 2008  230000   \n",
       "9169 GARLINGTON CT               Thu May 15 00:00:00 EDT 2008  232425   \n",
       "6932 RUSKUT WAY                  Thu May 15 00:00:00 EDT 2008  234000   \n",
       "7933 DAFFODIL WAY                Thu May 15 00:00:00 EDT 2008  235000   \n",
       "8304 RED FOX WAY                 Thu May 15 00:00:00 EDT 2008  235301   \n",
       "3882 YELLOWSTONE LN              Thu May 15 00:00:00 EDT 2008  235738   \n",
       "\n",
       "                                  latitude   longitude  river_south  \n",
       "street                                                               \n",
       "3526 HIGH ST                     38.631913 -121.434879            0  \n",
       "51 OMAHA CT                      38.478902 -121.431028            0  \n",
       "2796 BRANCH ST                   38.618305 -121.443839            0  \n",
       "2805 JANETTE WAY                 38.616835 -121.439146            0  \n",
       "6001 MCMAHON DR                  38.519470 -121.435768            0  \n",
       "5828 PEPPERMILL CT               38.662595 -121.327813            0  \n",
       "6048 OGDEN NASH WAY              38.681659 -121.351705            0  \n",
       "2561 19TH AVE                    38.535092 -121.481367            0  \n",
       "11150 TRINITY RIVER DR Unit 114  38.621188 -121.270555            0  \n",
       "7325 10TH ST                     38.700909 -121.442979            0  \n",
       "645 MORRISON AVE                 38.637663 -121.451520            0  \n",
       "4085 FAWN CIR                    38.470746 -121.458918            0  \n",
       "2930 LA ROSA RD                  38.618698 -121.435833            0  \n",
       "2113 KIRK WAY                    38.482215 -121.492603            0  \n",
       "4533 LOCH HAVEN WAY              38.672914 -121.359340            0  \n",
       "7340 HAMDEN PL                   38.700051 -121.351278            0  \n",
       "6715 6TH ST                      38.689591 -121.452239            0  \n",
       "6236 LONGFORD DR Unit 1          38.679776 -121.314089            0  \n",
       "250 PERALTA AVE                  38.612099 -121.469095            0  \n",
       "113 LEEWILL AVE                  38.689999 -121.463220            0  \n",
       "6118 STONEHAND AVE               38.707851 -121.320707            0  \n",
       "4882 BANDALIN WAY                38.468173 -121.444071            0  \n",
       "7511 OAKVALE CT                  38.702792 -121.382210            0  \n",
       "9 PASTURE CT                     38.628631 -121.488097            0  \n",
       "3729 BAINBRIDGE DR               38.701499 -121.376220            0  \n",
       "3828 BLACKFOOT WAY               38.709740 -121.373770            0  \n",
       "4108 NORTON WAY                  38.537526 -121.478315            0  \n",
       "1469 JANRICK AVE                 38.476472 -121.501711            0  \n",
       "9861 CULP WAY                    38.558423 -121.327948            0  \n",
       "7825 CREEK VALLEY CIR            38.472122 -121.404199            0  \n",
       "...                                    ...         ...          ...  \n",
       "2100 BEATTY WAY                  38.737882 -121.308142            0  \n",
       "6920 GILLINGHAM WAY              38.694279 -121.373395            0  \n",
       "82 WILDFLOWER DR                 38.259708 -121.311616            1  \n",
       "8652 BANTON CIR                  38.444000 -121.370993            0  \n",
       "8428 MISTY PASS WAY              38.722959 -121.347115            0  \n",
       "7958 ROSEVIEW WAY                38.467836 -121.410366            0  \n",
       "9020 LUKEN CT                    38.451398 -121.366614            0  \n",
       "7809 VALLECITOS WAY              38.508217 -121.411207            0  \n",
       "8445 OLD AUBURN RD               38.715423 -121.246743            0  \n",
       "10085 ATKINS DR                  38.390893 -121.437821            0  \n",
       "9185 CERROLINDA CIR              38.424497 -121.426595            0  \n",
       "9197 CORTINA CIR                 38.793152 -121.290025            0  \n",
       "5429 HESPER WAY                  38.665104 -121.315901            0  \n",
       "1178 WARMWOOD CT                 38.289544 -121.284607            1  \n",
       "4900 ELUDE CT                    38.696740 -121.350519            0  \n",
       "3557 SODA WAY                    38.631026 -121.501879            0  \n",
       "3528 SAINT GEORGE DR             38.629468 -121.376445            0  \n",
       "7381 WASHBURN WAY                38.703550 -121.375103            0  \n",
       "2181 WINTERHAVEN CIR             38.697570 -120.995739            0  \n",
       "7540 HICKORY AVE                 38.703056 -121.235221            0  \n",
       "5024 CHAMBERLIN CIR              38.389756 -121.446246            0  \n",
       "2400 INVERNESS DR                38.897814 -121.324691            0  \n",
       "5 BISHOPGATE CT                  38.467936 -121.445477            0  \n",
       "5601 REXLEIGH DR                 38.445342 -121.441504            0  \n",
       "1909 YARNELL WAY                 38.417382 -121.484325            0  \n",
       "9169 GARLINGTON CT               38.457679 -121.359620            0  \n",
       "6932 RUSKUT WAY                  38.499893 -121.458890            0  \n",
       "7933 DAFFODIL WAY                38.708824 -121.256803            0  \n",
       "8304 RED FOX WAY                 38.417000 -121.397424            0  \n",
       "3882 YELLOWSTONE LN              38.655245 -121.075915            0  \n",
       "\n",
       "[985 rows x 12 columns]"
      ]
     },
     "execution_count": 202,
     "metadata": {},
     "output_type": "execute_result"
    }
   ],
   "source": [
    "sac"
   ]
  },
  {
   "cell_type": "code",
   "execution_count": null,
   "metadata": {
    "collapsed": true
   },
   "outputs": [],
   "source": [
    "sac.zip.map(lambda x: int(x/10))"
   ]
  },
  {
   "cell_type": "code",
   "execution_count": null,
   "metadata": {
    "collapsed": true
   },
   "outputs": [],
   "source": []
  },
  {
   "cell_type": "code",
   "execution_count": null,
   "metadata": {
    "collapsed": true
   },
   "outputs": [],
   "source": []
  },
  {
   "cell_type": "code",
   "execution_count": null,
   "metadata": {
    "collapsed": true
   },
   "outputs": [],
   "source": []
  },
  {
   "cell_type": "code",
   "execution_count": null,
   "metadata": {
    "collapsed": true
   },
   "outputs": [],
   "source": []
  },
  {
   "cell_type": "code",
   "execution_count": null,
   "metadata": {
    "collapsed": true
   },
   "outputs": [],
   "source": []
  },
  {
   "cell_type": "code",
   "execution_count": null,
   "metadata": {
    "collapsed": true
   },
   "outputs": [],
   "source": []
  }
 ],
 "metadata": {
  "kernelspec": {
   "display_name": "Python 2",
   "language": "python",
   "name": "python2"
  },
  "language_info": {
   "codemirror_mode": {
    "name": "ipython",
    "version": 2
   },
   "file_extension": ".py",
   "mimetype": "text/x-python",
   "name": "python",
   "nbconvert_exporter": "python",
   "pygments_lexer": "ipython2",
   "version": "2.7.12"
  }
 },
 "nbformat": 4,
 "nbformat_minor": 0
}
